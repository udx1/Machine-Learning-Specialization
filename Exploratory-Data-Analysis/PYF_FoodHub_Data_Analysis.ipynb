{
  "cells": [
    {
      "cell_type": "markdown",
      "metadata": {
        "id": "HnAlaR5Y2rc8"
      },
      "source": [
        "# Project Python Foundations: FoodHub Data Analysis"
      ]
    },
    {
      "cell_type": "markdown",
      "metadata": {
        "id": "N0e9ilAx2rc_"
      },
      "source": [
        "### Context\n",
        "\n",
        "The number of restaurants in New York is increasing day by day. Lots of students and busy professionals rely on those restaurants due to their hectic lifestyles. Online food delivery service is a great option for them. It provides them with good food from their favorite restaurants. A food aggregator company FoodHub offers access to multiple restaurants through a single smartphone app.\n",
        "\n",
        "The app allows the restaurants to receive a direct online order from a customer. The app assigns a delivery person from the company to pick up the order after it is confirmed by the restaurant. The delivery person then uses the map to reach the restaurant and waits for the food package. Once the food package is handed over to the delivery person, he/she confirms the pick-up in the app and travels to the customer's location to deliver the food. The delivery person confirms the drop-off in the app after delivering the food package to the customer. The customer can rate the order in the app. The food aggregator earns money by collecting a fixed margin of the delivery order from the restaurants.\n",
        "\n",
        "### Objective\n",
        "\n",
        "The food aggregator company has stored the data of the different orders made by the registered customers in their online portal. They want to analyze the data to get a fair idea about the demand of different restaurants which will help them in enhancing their customer experience. Suppose you are hired as a Data Scientist in this company and the Data Science team has shared some of the key questions that need to be answered. Perform the data analysis to find answers to these questions that will help the company to improve the business.\n",
        "\n",
        "### Data Description\n",
        "\n",
        "The data contains the different data related to a food order. The detailed data dictionary is given below.\n",
        "\n",
        "### Data Dictionary\n",
        "\n",
        "* order_id: Unique ID of the order\n",
        "* customer_id: ID of the customer who ordered the food\n",
        "* restaurant_name: Name of the restaurant\n",
        "* cuisine_type: Cuisine ordered by the customer\n",
        "* cost_of_the_order: Cost of the order\n",
        "* day_of_the_week: Indicates whether the order is placed on a weekday or weekend (The weekday is from Monday to Friday and the weekend is Saturday and Sunday)\n",
        "* rating: Rating given by the customer out of 5\n",
        "* food_preparation_time: Time (in minutes) taken by the restaurant to prepare the food. This is calculated by taking the difference between the timestamps of the restaurant's order confirmation and the delivery person's pick-up confirmation.\n",
        "* delivery_time: Time (in minutes) taken by the delivery person to deliver the food package. This is calculated by taking the difference between the timestamps of the delivery person's pick-up confirmation and drop-off information"
      ]
    },
    {
      "cell_type": "markdown",
      "metadata": {
        "id": "Ruz2EiJ32rdB"
      },
      "source": [
        "### **Please read the instructions carefully before starting the project.**\n",
        "This is a commented Jupyter IPython Notebook file in which all the instructions and tasks to be performed are mentioned. Read along carefully to complete the project.\n",
        "* Blanks '_______' are provided in the notebook that\n",
        "needs to be filled with an appropriate code to get the correct result. Please replace the blank with the right code snippet. With every '_______' blank, there is a comment that briefly describes what needs to be filled in the blank space.\n",
        "* Identify the task to be performed correctly, and only then proceed to write the required code.\n",
        "* Fill the code wherever asked by the commented lines like \"# write your code here\" or \"# complete the code\". Running incomplete code may throw an error.\n",
        "* Please run the codes in a sequential manner from the beginning to avoid any unnecessary errors.\n",
        "* You can the results/observations derived from the analysis here and use them to create your final presentation.\n"
      ]
    },
    {
      "cell_type": "markdown",
      "metadata": {
        "id": "enOodKS42rdB"
      },
      "source": [
        "### Let us start by importing the required libraries"
      ]
    },
    {
      "cell_type": "code",
      "execution_count": null,
      "metadata": {
        "id": "xk25d_4zX0bK"
      },
      "outputs": [],
      "source": [
        "# Installing the libraries with the specified version.\n",
        "!pip install numpy==1.25.2 pandas==1.5.3 matplotlib==3.7.1 seaborn==0.13.1 -q --user"
      ]
    },
    {
      "cell_type": "markdown",
      "source": [
        "**Note**:\n",
        "- After running the above cell, kindly restart the runtime (for Google Colab) or notebook kernel (for Jupyter Notebook), and run all cells sequentially from the next cell.\n",
        "- On executing the above line of code, you might see a warning regarding package dependencies. This error message can be ignored as the above code ensures that all necessary libraries and their dependencies are maintained to successfully execute the code in ***this notebook***."
      ],
      "metadata": {
        "id": "v9_I08o7_Hyo"
      }
    },
    {
      "cell_type": "code",
      "execution_count": null,
      "metadata": {
        "id": "p7FpluTK2rdC"
      },
      "outputs": [],
      "source": [
        "# Import libraries for data manipulation\n",
        "import numpy as np\n",
        "import pandas as pd\n",
        "\n",
        "# Import libraries for data visualization\n",
        "import matplotlib.pyplot as plt\n",
        "import seaborn as sns\n",
        "\n",
        "import plotly.express as px"
      ]
    },
    {
      "cell_type": "markdown",
      "metadata": {
        "id": "LHxIYWXP2rdD"
      },
      "source": [
        "### Understanding the structure of the data"
      ]
    },
    {
      "cell_type": "code",
      "execution_count": null,
      "metadata": {
        "id": "bTSFV3nfkOqH",
        "colab": {
          "base_uri": "https://localhost:8080/"
        },
        "outputId": "420f1bd5-648b-4069-8198-ce7ae889c007"
      },
      "outputs": [
        {
          "output_type": "stream",
          "name": "stdout",
          "text": [
            "Mounted at /content/drive\n"
          ]
        }
      ],
      "source": [
        "# uncomment and run the below code snippets if the dataset is present in the Google Drive\n",
        "from google.colab import drive\n",
        "drive.mount('/content/drive')"
      ]
    },
    {
      "cell_type": "code",
      "execution_count": null,
      "metadata": {
        "id": "nwlzFr-_2rdD",
        "scrolled": true
      },
      "outputs": [],
      "source": [
        "# Read the data\n",
        "df = pd.read_csv('/content/drive/My Drive/PGP-AIML/Projects/Project 01/foodhub_order.csv')"
      ]
    },
    {
      "cell_type": "code",
      "execution_count": null,
      "metadata": {
        "id": "XpyE1fL7Qmya",
        "colab": {
          "base_uri": "https://localhost:8080/",
          "height": 206
        },
        "outputId": "bc5ca59e-8f3b-4559-e469-cc3d55763a68"
      },
      "outputs": [
        {
          "output_type": "execute_result",
          "data": {
            "text/plain": [
              "   order_id  customer_id            restaurant_name cuisine_type  \\\n",
              "0   1477147       337525                    Hangawi       Korean   \n",
              "1   1477685       358141  Blue Ribbon Sushi Izakaya     Japanese   \n",
              "2   1477070        66393                Cafe Habana      Mexican   \n",
              "3   1477334       106968  Blue Ribbon Fried Chicken     American   \n",
              "4   1478249        76942           Dirty Bird to Go     American   \n",
              "\n",
              "   cost_of_the_order day_of_the_week     rating  food_preparation_time  \\\n",
              "0              30.75         Weekend  Not given                     25   \n",
              "1              12.08         Weekend  Not given                     25   \n",
              "2              12.23         Weekday          5                     23   \n",
              "3              29.20         Weekend          3                     25   \n",
              "4              11.59         Weekday          4                     25   \n",
              "\n",
              "   delivery_time  \n",
              "0             20  \n",
              "1             23  \n",
              "2             28  \n",
              "3             15  \n",
              "4             24  "
            ],
            "text/html": [
              "\n",
              "  <div id=\"df-7bc5aaf6-6523-4e9f-a16b-51efa03981cf\" class=\"colab-df-container\">\n",
              "    <div>\n",
              "<style scoped>\n",
              "    .dataframe tbody tr th:only-of-type {\n",
              "        vertical-align: middle;\n",
              "    }\n",
              "\n",
              "    .dataframe tbody tr th {\n",
              "        vertical-align: top;\n",
              "    }\n",
              "\n",
              "    .dataframe thead th {\n",
              "        text-align: right;\n",
              "    }\n",
              "</style>\n",
              "<table border=\"1\" class=\"dataframe\">\n",
              "  <thead>\n",
              "    <tr style=\"text-align: right;\">\n",
              "      <th></th>\n",
              "      <th>order_id</th>\n",
              "      <th>customer_id</th>\n",
              "      <th>restaurant_name</th>\n",
              "      <th>cuisine_type</th>\n",
              "      <th>cost_of_the_order</th>\n",
              "      <th>day_of_the_week</th>\n",
              "      <th>rating</th>\n",
              "      <th>food_preparation_time</th>\n",
              "      <th>delivery_time</th>\n",
              "    </tr>\n",
              "  </thead>\n",
              "  <tbody>\n",
              "    <tr>\n",
              "      <th>0</th>\n",
              "      <td>1477147</td>\n",
              "      <td>337525</td>\n",
              "      <td>Hangawi</td>\n",
              "      <td>Korean</td>\n",
              "      <td>30.75</td>\n",
              "      <td>Weekend</td>\n",
              "      <td>Not given</td>\n",
              "      <td>25</td>\n",
              "      <td>20</td>\n",
              "    </tr>\n",
              "    <tr>\n",
              "      <th>1</th>\n",
              "      <td>1477685</td>\n",
              "      <td>358141</td>\n",
              "      <td>Blue Ribbon Sushi Izakaya</td>\n",
              "      <td>Japanese</td>\n",
              "      <td>12.08</td>\n",
              "      <td>Weekend</td>\n",
              "      <td>Not given</td>\n",
              "      <td>25</td>\n",
              "      <td>23</td>\n",
              "    </tr>\n",
              "    <tr>\n",
              "      <th>2</th>\n",
              "      <td>1477070</td>\n",
              "      <td>66393</td>\n",
              "      <td>Cafe Habana</td>\n",
              "      <td>Mexican</td>\n",
              "      <td>12.23</td>\n",
              "      <td>Weekday</td>\n",
              "      <td>5</td>\n",
              "      <td>23</td>\n",
              "      <td>28</td>\n",
              "    </tr>\n",
              "    <tr>\n",
              "      <th>3</th>\n",
              "      <td>1477334</td>\n",
              "      <td>106968</td>\n",
              "      <td>Blue Ribbon Fried Chicken</td>\n",
              "      <td>American</td>\n",
              "      <td>29.20</td>\n",
              "      <td>Weekend</td>\n",
              "      <td>3</td>\n",
              "      <td>25</td>\n",
              "      <td>15</td>\n",
              "    </tr>\n",
              "    <tr>\n",
              "      <th>4</th>\n",
              "      <td>1478249</td>\n",
              "      <td>76942</td>\n",
              "      <td>Dirty Bird to Go</td>\n",
              "      <td>American</td>\n",
              "      <td>11.59</td>\n",
              "      <td>Weekday</td>\n",
              "      <td>4</td>\n",
              "      <td>25</td>\n",
              "      <td>24</td>\n",
              "    </tr>\n",
              "  </tbody>\n",
              "</table>\n",
              "</div>\n",
              "    <div class=\"colab-df-buttons\">\n",
              "\n",
              "  <div class=\"colab-df-container\">\n",
              "    <button class=\"colab-df-convert\" onclick=\"convertToInteractive('df-7bc5aaf6-6523-4e9f-a16b-51efa03981cf')\"\n",
              "            title=\"Convert this dataframe to an interactive table.\"\n",
              "            style=\"display:none;\">\n",
              "\n",
              "  <svg xmlns=\"http://www.w3.org/2000/svg\" height=\"24px\" viewBox=\"0 -960 960 960\">\n",
              "    <path d=\"M120-120v-720h720v720H120Zm60-500h600v-160H180v160Zm220 220h160v-160H400v160Zm0 220h160v-160H400v160ZM180-400h160v-160H180v160Zm440 0h160v-160H620v160ZM180-180h160v-160H180v160Zm440 0h160v-160H620v160Z\"/>\n",
              "  </svg>\n",
              "    </button>\n",
              "\n",
              "  <style>\n",
              "    .colab-df-container {\n",
              "      display:flex;\n",
              "      gap: 12px;\n",
              "    }\n",
              "\n",
              "    .colab-df-convert {\n",
              "      background-color: #E8F0FE;\n",
              "      border: none;\n",
              "      border-radius: 50%;\n",
              "      cursor: pointer;\n",
              "      display: none;\n",
              "      fill: #1967D2;\n",
              "      height: 32px;\n",
              "      padding: 0 0 0 0;\n",
              "      width: 32px;\n",
              "    }\n",
              "\n",
              "    .colab-df-convert:hover {\n",
              "      background-color: #E2EBFA;\n",
              "      box-shadow: 0px 1px 2px rgba(60, 64, 67, 0.3), 0px 1px 3px 1px rgba(60, 64, 67, 0.15);\n",
              "      fill: #174EA6;\n",
              "    }\n",
              "\n",
              "    .colab-df-buttons div {\n",
              "      margin-bottom: 4px;\n",
              "    }\n",
              "\n",
              "    [theme=dark] .colab-df-convert {\n",
              "      background-color: #3B4455;\n",
              "      fill: #D2E3FC;\n",
              "    }\n",
              "\n",
              "    [theme=dark] .colab-df-convert:hover {\n",
              "      background-color: #434B5C;\n",
              "      box-shadow: 0px 1px 3px 1px rgba(0, 0, 0, 0.15);\n",
              "      filter: drop-shadow(0px 1px 2px rgba(0, 0, 0, 0.3));\n",
              "      fill: #FFFFFF;\n",
              "    }\n",
              "  </style>\n",
              "\n",
              "    <script>\n",
              "      const buttonEl =\n",
              "        document.querySelector('#df-7bc5aaf6-6523-4e9f-a16b-51efa03981cf button.colab-df-convert');\n",
              "      buttonEl.style.display =\n",
              "        google.colab.kernel.accessAllowed ? 'block' : 'none';\n",
              "\n",
              "      async function convertToInteractive(key) {\n",
              "        const element = document.querySelector('#df-7bc5aaf6-6523-4e9f-a16b-51efa03981cf');\n",
              "        const dataTable =\n",
              "          await google.colab.kernel.invokeFunction('convertToInteractive',\n",
              "                                                    [key], {});\n",
              "        if (!dataTable) return;\n",
              "\n",
              "        const docLinkHtml = 'Like what you see? Visit the ' +\n",
              "          '<a target=\"_blank\" href=https://colab.research.google.com/notebooks/data_table.ipynb>data table notebook</a>'\n",
              "          + ' to learn more about interactive tables.';\n",
              "        element.innerHTML = '';\n",
              "        dataTable['output_type'] = 'display_data';\n",
              "        await google.colab.output.renderOutput(dataTable, element);\n",
              "        const docLink = document.createElement('div');\n",
              "        docLink.innerHTML = docLinkHtml;\n",
              "        element.appendChild(docLink);\n",
              "      }\n",
              "    </script>\n",
              "  </div>\n",
              "\n",
              "\n",
              "    <div id=\"df-3f0bd0dd-5ee4-4b2a-a6a3-77c7016239b1\">\n",
              "      <button class=\"colab-df-quickchart\" onclick=\"quickchart('df-3f0bd0dd-5ee4-4b2a-a6a3-77c7016239b1')\"\n",
              "                title=\"Suggest charts\"\n",
              "                style=\"display:none;\">\n",
              "\n",
              "<svg xmlns=\"http://www.w3.org/2000/svg\" height=\"24px\"viewBox=\"0 0 24 24\"\n",
              "     width=\"24px\">\n",
              "    <g>\n",
              "        <path d=\"M19 3H5c-1.1 0-2 .9-2 2v14c0 1.1.9 2 2 2h14c1.1 0 2-.9 2-2V5c0-1.1-.9-2-2-2zM9 17H7v-7h2v7zm4 0h-2V7h2v10zm4 0h-2v-4h2v4z\"/>\n",
              "    </g>\n",
              "</svg>\n",
              "      </button>\n",
              "\n",
              "<style>\n",
              "  .colab-df-quickchart {\n",
              "      --bg-color: #E8F0FE;\n",
              "      --fill-color: #1967D2;\n",
              "      --hover-bg-color: #E2EBFA;\n",
              "      --hover-fill-color: #174EA6;\n",
              "      --disabled-fill-color: #AAA;\n",
              "      --disabled-bg-color: #DDD;\n",
              "  }\n",
              "\n",
              "  [theme=dark] .colab-df-quickchart {\n",
              "      --bg-color: #3B4455;\n",
              "      --fill-color: #D2E3FC;\n",
              "      --hover-bg-color: #434B5C;\n",
              "      --hover-fill-color: #FFFFFF;\n",
              "      --disabled-bg-color: #3B4455;\n",
              "      --disabled-fill-color: #666;\n",
              "  }\n",
              "\n",
              "  .colab-df-quickchart {\n",
              "    background-color: var(--bg-color);\n",
              "    border: none;\n",
              "    border-radius: 50%;\n",
              "    cursor: pointer;\n",
              "    display: none;\n",
              "    fill: var(--fill-color);\n",
              "    height: 32px;\n",
              "    padding: 0;\n",
              "    width: 32px;\n",
              "  }\n",
              "\n",
              "  .colab-df-quickchart:hover {\n",
              "    background-color: var(--hover-bg-color);\n",
              "    box-shadow: 0 1px 2px rgba(60, 64, 67, 0.3), 0 1px 3px 1px rgba(60, 64, 67, 0.15);\n",
              "    fill: var(--button-hover-fill-color);\n",
              "  }\n",
              "\n",
              "  .colab-df-quickchart-complete:disabled,\n",
              "  .colab-df-quickchart-complete:disabled:hover {\n",
              "    background-color: var(--disabled-bg-color);\n",
              "    fill: var(--disabled-fill-color);\n",
              "    box-shadow: none;\n",
              "  }\n",
              "\n",
              "  .colab-df-spinner {\n",
              "    border: 2px solid var(--fill-color);\n",
              "    border-color: transparent;\n",
              "    border-bottom-color: var(--fill-color);\n",
              "    animation:\n",
              "      spin 1s steps(1) infinite;\n",
              "  }\n",
              "\n",
              "  @keyframes spin {\n",
              "    0% {\n",
              "      border-color: transparent;\n",
              "      border-bottom-color: var(--fill-color);\n",
              "      border-left-color: var(--fill-color);\n",
              "    }\n",
              "    20% {\n",
              "      border-color: transparent;\n",
              "      border-left-color: var(--fill-color);\n",
              "      border-top-color: var(--fill-color);\n",
              "    }\n",
              "    30% {\n",
              "      border-color: transparent;\n",
              "      border-left-color: var(--fill-color);\n",
              "      border-top-color: var(--fill-color);\n",
              "      border-right-color: var(--fill-color);\n",
              "    }\n",
              "    40% {\n",
              "      border-color: transparent;\n",
              "      border-right-color: var(--fill-color);\n",
              "      border-top-color: var(--fill-color);\n",
              "    }\n",
              "    60% {\n",
              "      border-color: transparent;\n",
              "      border-right-color: var(--fill-color);\n",
              "    }\n",
              "    80% {\n",
              "      border-color: transparent;\n",
              "      border-right-color: var(--fill-color);\n",
              "      border-bottom-color: var(--fill-color);\n",
              "    }\n",
              "    90% {\n",
              "      border-color: transparent;\n",
              "      border-bottom-color: var(--fill-color);\n",
              "    }\n",
              "  }\n",
              "</style>\n",
              "\n",
              "      <script>\n",
              "        async function quickchart(key) {\n",
              "          const quickchartButtonEl =\n",
              "            document.querySelector('#' + key + ' button');\n",
              "          quickchartButtonEl.disabled = true;  // To prevent multiple clicks.\n",
              "          quickchartButtonEl.classList.add('colab-df-spinner');\n",
              "          try {\n",
              "            const charts = await google.colab.kernel.invokeFunction(\n",
              "                'suggestCharts', [key], {});\n",
              "          } catch (error) {\n",
              "            console.error('Error during call to suggestCharts:', error);\n",
              "          }\n",
              "          quickchartButtonEl.classList.remove('colab-df-spinner');\n",
              "          quickchartButtonEl.classList.add('colab-df-quickchart-complete');\n",
              "        }\n",
              "        (() => {\n",
              "          let quickchartButtonEl =\n",
              "            document.querySelector('#df-3f0bd0dd-5ee4-4b2a-a6a3-77c7016239b1 button');\n",
              "          quickchartButtonEl.style.display =\n",
              "            google.colab.kernel.accessAllowed ? 'block' : 'none';\n",
              "        })();\n",
              "      </script>\n",
              "    </div>\n",
              "\n",
              "    </div>\n",
              "  </div>\n"
            ],
            "application/vnd.google.colaboratory.intrinsic+json": {
              "type": "dataframe",
              "variable_name": "df",
              "summary": "{\n  \"name\": \"df\",\n  \"rows\": 1898,\n  \"fields\": [\n    {\n      \"column\": \"order_id\",\n      \"properties\": {\n        \"dtype\": \"number\",\n        \"std\": 548,\n        \"min\": 1476547,\n        \"max\": 1478444,\n        \"num_unique_values\": 1898,\n        \"samples\": [\n          1477722,\n          1478319,\n          1477650\n        ],\n        \"semantic_type\": \"\",\n        \"description\": \"\"\n      }\n    },\n    {\n      \"column\": \"customer_id\",\n      \"properties\": {\n        \"dtype\": \"number\",\n        \"std\": 113698,\n        \"min\": 1311,\n        \"max\": 405334,\n        \"num_unique_values\": 1200,\n        \"samples\": [\n          351329,\n          49987,\n          345899\n        ],\n        \"semantic_type\": \"\",\n        \"description\": \"\"\n      }\n    },\n    {\n      \"column\": \"restaurant_name\",\n      \"properties\": {\n        \"dtype\": \"category\",\n        \"num_unique_values\": 178,\n        \"samples\": [\n          \"Tortaria\",\n          \"Osteria Morini\",\n          \"Philippe Chow\"\n        ],\n        \"semantic_type\": \"\",\n        \"description\": \"\"\n      }\n    },\n    {\n      \"column\": \"cuisine_type\",\n      \"properties\": {\n        \"dtype\": \"category\",\n        \"num_unique_values\": 14,\n        \"samples\": [\n          \"Thai\",\n          \"French\",\n          \"Korean\"\n        ],\n        \"semantic_type\": \"\",\n        \"description\": \"\"\n      }\n    },\n    {\n      \"column\": \"cost_of_the_order\",\n      \"properties\": {\n        \"dtype\": \"number\",\n        \"std\": 7.483812110049553,\n        \"min\": 4.47,\n        \"max\": 35.41,\n        \"num_unique_values\": 312,\n        \"samples\": [\n          21.29,\n          7.18,\n          13.34\n        ],\n        \"semantic_type\": \"\",\n        \"description\": \"\"\n      }\n    },\n    {\n      \"column\": \"day_of_the_week\",\n      \"properties\": {\n        \"dtype\": \"category\",\n        \"num_unique_values\": 2,\n        \"samples\": [\n          \"Weekday\",\n          \"Weekend\"\n        ],\n        \"semantic_type\": \"\",\n        \"description\": \"\"\n      }\n    },\n    {\n      \"column\": \"rating\",\n      \"properties\": {\n        \"dtype\": \"category\",\n        \"num_unique_values\": 4,\n        \"samples\": [\n          \"5\",\n          \"4\"\n        ],\n        \"semantic_type\": \"\",\n        \"description\": \"\"\n      }\n    },\n    {\n      \"column\": \"food_preparation_time\",\n      \"properties\": {\n        \"dtype\": \"number\",\n        \"std\": 4,\n        \"min\": 20,\n        \"max\": 35,\n        \"num_unique_values\": 16,\n        \"samples\": [\n          25,\n          23\n        ],\n        \"semantic_type\": \"\",\n        \"description\": \"\"\n      }\n    },\n    {\n      \"column\": \"delivery_time\",\n      \"properties\": {\n        \"dtype\": \"number\",\n        \"std\": 4,\n        \"min\": 15,\n        \"max\": 33,\n        \"num_unique_values\": 19,\n        \"samples\": [\n          20,\n          21\n        ],\n        \"semantic_type\": \"\",\n        \"description\": \"\"\n      }\n    }\n  ]\n}"
            }
          },
          "metadata": {},
          "execution_count": 4
        }
      ],
      "source": [
        "# Returns the first 5 rows\n",
        "df.head()"
      ]
    },
    {
      "cell_type": "markdown",
      "metadata": {
        "id": "AeR7rXZF2rdE"
      },
      "source": [
        "### **Question 1:** How many rows and columns are present in the data? [0.5 mark]"
      ]
    },
    {
      "cell_type": "code",
      "execution_count": null,
      "metadata": {
        "id": "xaLu_bAm2rdE",
        "colab": {
          "base_uri": "https://localhost:8080/"
        },
        "outputId": "e4bf3a43-60c8-446d-fd76-22e615b08fe9"
      },
      "outputs": [
        {
          "output_type": "execute_result",
          "data": {
            "text/plain": [
              "(1898, 9)"
            ]
          },
          "metadata": {},
          "execution_count": 6
        }
      ],
      "source": [
        "# Check the shape of the dataset\n",
        "df.shape"
      ]
    },
    {
      "cell_type": "markdown",
      "metadata": {
        "id": "-YJkCL112rdF"
      },
      "source": [
        "### **Question 2:** What are the datatypes of the different columns in the dataset? [0.5 mark]"
      ]
    },
    {
      "cell_type": "code",
      "execution_count": null,
      "metadata": {
        "id": "EUXmdNxe2rdF",
        "colab": {
          "base_uri": "https://localhost:8080/"
        },
        "outputId": "7acfa43e-1e39-4e6c-9662-42b89df4670d"
      },
      "outputs": [
        {
          "output_type": "stream",
          "name": "stdout",
          "text": [
            "<class 'pandas.core.frame.DataFrame'>\n",
            "RangeIndex: 1898 entries, 0 to 1897\n",
            "Data columns (total 9 columns):\n",
            " #   Column                 Non-Null Count  Dtype  \n",
            "---  ------                 --------------  -----  \n",
            " 0   order_id               1898 non-null   int64  \n",
            " 1   customer_id            1898 non-null   int64  \n",
            " 2   restaurant_name        1898 non-null   object \n",
            " 3   cuisine_type           1898 non-null   object \n",
            " 4   cost_of_the_order      1898 non-null   float64\n",
            " 5   day_of_the_week        1898 non-null   object \n",
            " 6   rating                 1898 non-null   object \n",
            " 7   food_preparation_time  1898 non-null   int64  \n",
            " 8   delivery_time          1898 non-null   int64  \n",
            "dtypes: float64(1), int64(4), object(4)\n",
            "memory usage: 133.6+ KB\n"
          ]
        }
      ],
      "source": [
        "df.info()"
      ]
    },
    {
      "cell_type": "markdown",
      "metadata": {
        "id": "Atn8lGeE2rdF"
      },
      "source": [
        "### **Question 3:** Are there any missing values in the data? If yes, treat them using an appropriate method.  [1 Mark]"
      ]
    },
    {
      "cell_type": "code",
      "execution_count": null,
      "metadata": {
        "id": "kZbMrwFC2rdG",
        "colab": {
          "base_uri": "https://localhost:8080/",
          "height": 366
        },
        "outputId": "ca765bb6-1eef-4c88-a99a-e4f7138726f1"
      },
      "outputs": [
        {
          "output_type": "execute_result",
          "data": {
            "text/plain": [
              "order_id                 0\n",
              "customer_id              0\n",
              "restaurant_name          0\n",
              "cuisine_type             0\n",
              "cost_of_the_order        0\n",
              "day_of_the_week          0\n",
              "rating                   0\n",
              "food_preparation_time    0\n",
              "delivery_time            0\n",
              "dtype: int64"
            ],
            "text/html": [
              "<div>\n",
              "<style scoped>\n",
              "    .dataframe tbody tr th:only-of-type {\n",
              "        vertical-align: middle;\n",
              "    }\n",
              "\n",
              "    .dataframe tbody tr th {\n",
              "        vertical-align: top;\n",
              "    }\n",
              "\n",
              "    .dataframe thead th {\n",
              "        text-align: right;\n",
              "    }\n",
              "</style>\n",
              "<table border=\"1\" class=\"dataframe\">\n",
              "  <thead>\n",
              "    <tr style=\"text-align: right;\">\n",
              "      <th></th>\n",
              "      <th>0</th>\n",
              "    </tr>\n",
              "  </thead>\n",
              "  <tbody>\n",
              "    <tr>\n",
              "      <th>order_id</th>\n",
              "      <td>0</td>\n",
              "    </tr>\n",
              "    <tr>\n",
              "      <th>customer_id</th>\n",
              "      <td>0</td>\n",
              "    </tr>\n",
              "    <tr>\n",
              "      <th>restaurant_name</th>\n",
              "      <td>0</td>\n",
              "    </tr>\n",
              "    <tr>\n",
              "      <th>cuisine_type</th>\n",
              "      <td>0</td>\n",
              "    </tr>\n",
              "    <tr>\n",
              "      <th>cost_of_the_order</th>\n",
              "      <td>0</td>\n",
              "    </tr>\n",
              "    <tr>\n",
              "      <th>day_of_the_week</th>\n",
              "      <td>0</td>\n",
              "    </tr>\n",
              "    <tr>\n",
              "      <th>rating</th>\n",
              "      <td>0</td>\n",
              "    </tr>\n",
              "    <tr>\n",
              "      <th>food_preparation_time</th>\n",
              "      <td>0</td>\n",
              "    </tr>\n",
              "    <tr>\n",
              "      <th>delivery_time</th>\n",
              "      <td>0</td>\n",
              "    </tr>\n",
              "  </tbody>\n",
              "</table>\n",
              "</div><br><label><b>dtype:</b> int64</label>"
            ]
          },
          "metadata": {},
          "execution_count": 8
        }
      ],
      "source": [
        "# Checking for missing values in the data\n",
        "df.isnull().sum()"
      ]
    },
    {
      "cell_type": "markdown",
      "metadata": {
        "id": "krjqvuKv2rdG"
      },
      "source": [
        "### **Question 4:** Check the statistical summary of the data. What is the minimum, average, and maximum time it takes for food to be prepared once an order is placed? [2 marks]"
      ]
    },
    {
      "cell_type": "code",
      "execution_count": null,
      "metadata": {
        "id": "MDZkL24f2rdG",
        "colab": {
          "base_uri": "https://localhost:8080/",
          "height": 206
        },
        "outputId": "c4504883-15bd-42f8-9338-df0f4f067c61"
      },
      "outputs": [
        {
          "output_type": "execute_result",
          "data": {
            "text/plain": [
              "                        count          mean            std         min  \\\n",
              "order_id               1898.0  1.477496e+06     548.049724  1476547.00   \n",
              "customer_id            1898.0  1.711685e+05  113698.139743     1311.00   \n",
              "cost_of_the_order      1898.0  1.649885e+01       7.483812        4.47   \n",
              "food_preparation_time  1898.0  2.737197e+01       4.632481       20.00   \n",
              "delivery_time          1898.0  2.416175e+01       4.972637       15.00   \n",
              "\n",
              "                              25%         50%           75%         max  \n",
              "order_id               1477021.25  1477495.50  1.477970e+06  1478444.00  \n",
              "customer_id              77787.75   128600.00  2.705250e+05   405334.00  \n",
              "cost_of_the_order           12.08       14.14  2.229750e+01       35.41  \n",
              "food_preparation_time       23.00       27.00  3.100000e+01       35.00  \n",
              "delivery_time               20.00       25.00  2.800000e+01       33.00  "
            ],
            "text/html": [
              "\n",
              "  <div id=\"df-79e00481-7cce-4e21-bbda-d8e3b0f97ead\" class=\"colab-df-container\">\n",
              "    <div>\n",
              "<style scoped>\n",
              "    .dataframe tbody tr th:only-of-type {\n",
              "        vertical-align: middle;\n",
              "    }\n",
              "\n",
              "    .dataframe tbody tr th {\n",
              "        vertical-align: top;\n",
              "    }\n",
              "\n",
              "    .dataframe thead th {\n",
              "        text-align: right;\n",
              "    }\n",
              "</style>\n",
              "<table border=\"1\" class=\"dataframe\">\n",
              "  <thead>\n",
              "    <tr style=\"text-align: right;\">\n",
              "      <th></th>\n",
              "      <th>count</th>\n",
              "      <th>mean</th>\n",
              "      <th>std</th>\n",
              "      <th>min</th>\n",
              "      <th>25%</th>\n",
              "      <th>50%</th>\n",
              "      <th>75%</th>\n",
              "      <th>max</th>\n",
              "    </tr>\n",
              "  </thead>\n",
              "  <tbody>\n",
              "    <tr>\n",
              "      <th>order_id</th>\n",
              "      <td>1898.0</td>\n",
              "      <td>1.477496e+06</td>\n",
              "      <td>548.049724</td>\n",
              "      <td>1476547.00</td>\n",
              "      <td>1477021.25</td>\n",
              "      <td>1477495.50</td>\n",
              "      <td>1.477970e+06</td>\n",
              "      <td>1478444.00</td>\n",
              "    </tr>\n",
              "    <tr>\n",
              "      <th>customer_id</th>\n",
              "      <td>1898.0</td>\n",
              "      <td>1.711685e+05</td>\n",
              "      <td>113698.139743</td>\n",
              "      <td>1311.00</td>\n",
              "      <td>77787.75</td>\n",
              "      <td>128600.00</td>\n",
              "      <td>2.705250e+05</td>\n",
              "      <td>405334.00</td>\n",
              "    </tr>\n",
              "    <tr>\n",
              "      <th>cost_of_the_order</th>\n",
              "      <td>1898.0</td>\n",
              "      <td>1.649885e+01</td>\n",
              "      <td>7.483812</td>\n",
              "      <td>4.47</td>\n",
              "      <td>12.08</td>\n",
              "      <td>14.14</td>\n",
              "      <td>2.229750e+01</td>\n",
              "      <td>35.41</td>\n",
              "    </tr>\n",
              "    <tr>\n",
              "      <th>food_preparation_time</th>\n",
              "      <td>1898.0</td>\n",
              "      <td>2.737197e+01</td>\n",
              "      <td>4.632481</td>\n",
              "      <td>20.00</td>\n",
              "      <td>23.00</td>\n",
              "      <td>27.00</td>\n",
              "      <td>3.100000e+01</td>\n",
              "      <td>35.00</td>\n",
              "    </tr>\n",
              "    <tr>\n",
              "      <th>delivery_time</th>\n",
              "      <td>1898.0</td>\n",
              "      <td>2.416175e+01</td>\n",
              "      <td>4.972637</td>\n",
              "      <td>15.00</td>\n",
              "      <td>20.00</td>\n",
              "      <td>25.00</td>\n",
              "      <td>2.800000e+01</td>\n",
              "      <td>33.00</td>\n",
              "    </tr>\n",
              "  </tbody>\n",
              "</table>\n",
              "</div>\n",
              "    <div class=\"colab-df-buttons\">\n",
              "\n",
              "  <div class=\"colab-df-container\">\n",
              "    <button class=\"colab-df-convert\" onclick=\"convertToInteractive('df-79e00481-7cce-4e21-bbda-d8e3b0f97ead')\"\n",
              "            title=\"Convert this dataframe to an interactive table.\"\n",
              "            style=\"display:none;\">\n",
              "\n",
              "  <svg xmlns=\"http://www.w3.org/2000/svg\" height=\"24px\" viewBox=\"0 -960 960 960\">\n",
              "    <path d=\"M120-120v-720h720v720H120Zm60-500h600v-160H180v160Zm220 220h160v-160H400v160Zm0 220h160v-160H400v160ZM180-400h160v-160H180v160Zm440 0h160v-160H620v160ZM180-180h160v-160H180v160Zm440 0h160v-160H620v160Z\"/>\n",
              "  </svg>\n",
              "    </button>\n",
              "\n",
              "  <style>\n",
              "    .colab-df-container {\n",
              "      display:flex;\n",
              "      gap: 12px;\n",
              "    }\n",
              "\n",
              "    .colab-df-convert {\n",
              "      background-color: #E8F0FE;\n",
              "      border: none;\n",
              "      border-radius: 50%;\n",
              "      cursor: pointer;\n",
              "      display: none;\n",
              "      fill: #1967D2;\n",
              "      height: 32px;\n",
              "      padding: 0 0 0 0;\n",
              "      width: 32px;\n",
              "    }\n",
              "\n",
              "    .colab-df-convert:hover {\n",
              "      background-color: #E2EBFA;\n",
              "      box-shadow: 0px 1px 2px rgba(60, 64, 67, 0.3), 0px 1px 3px 1px rgba(60, 64, 67, 0.15);\n",
              "      fill: #174EA6;\n",
              "    }\n",
              "\n",
              "    .colab-df-buttons div {\n",
              "      margin-bottom: 4px;\n",
              "    }\n",
              "\n",
              "    [theme=dark] .colab-df-convert {\n",
              "      background-color: #3B4455;\n",
              "      fill: #D2E3FC;\n",
              "    }\n",
              "\n",
              "    [theme=dark] .colab-df-convert:hover {\n",
              "      background-color: #434B5C;\n",
              "      box-shadow: 0px 1px 3px 1px rgba(0, 0, 0, 0.15);\n",
              "      filter: drop-shadow(0px 1px 2px rgba(0, 0, 0, 0.3));\n",
              "      fill: #FFFFFF;\n",
              "    }\n",
              "  </style>\n",
              "\n",
              "    <script>\n",
              "      const buttonEl =\n",
              "        document.querySelector('#df-79e00481-7cce-4e21-bbda-d8e3b0f97ead button.colab-df-convert');\n",
              "      buttonEl.style.display =\n",
              "        google.colab.kernel.accessAllowed ? 'block' : 'none';\n",
              "\n",
              "      async function convertToInteractive(key) {\n",
              "        const element = document.querySelector('#df-79e00481-7cce-4e21-bbda-d8e3b0f97ead');\n",
              "        const dataTable =\n",
              "          await google.colab.kernel.invokeFunction('convertToInteractive',\n",
              "                                                    [key], {});\n",
              "        if (!dataTable) return;\n",
              "\n",
              "        const docLinkHtml = 'Like what you see? Visit the ' +\n",
              "          '<a target=\"_blank\" href=https://colab.research.google.com/notebooks/data_table.ipynb>data table notebook</a>'\n",
              "          + ' to learn more about interactive tables.';\n",
              "        element.innerHTML = '';\n",
              "        dataTable['output_type'] = 'display_data';\n",
              "        await google.colab.output.renderOutput(dataTable, element);\n",
              "        const docLink = document.createElement('div');\n",
              "        docLink.innerHTML = docLinkHtml;\n",
              "        element.appendChild(docLink);\n",
              "      }\n",
              "    </script>\n",
              "  </div>\n",
              "\n",
              "\n",
              "    <div id=\"df-213328ce-791f-423d-aced-17e8779411c0\">\n",
              "      <button class=\"colab-df-quickchart\" onclick=\"quickchart('df-213328ce-791f-423d-aced-17e8779411c0')\"\n",
              "                title=\"Suggest charts\"\n",
              "                style=\"display:none;\">\n",
              "\n",
              "<svg xmlns=\"http://www.w3.org/2000/svg\" height=\"24px\"viewBox=\"0 0 24 24\"\n",
              "     width=\"24px\">\n",
              "    <g>\n",
              "        <path d=\"M19 3H5c-1.1 0-2 .9-2 2v14c0 1.1.9 2 2 2h14c1.1 0 2-.9 2-2V5c0-1.1-.9-2-2-2zM9 17H7v-7h2v7zm4 0h-2V7h2v10zm4 0h-2v-4h2v4z\"/>\n",
              "    </g>\n",
              "</svg>\n",
              "      </button>\n",
              "\n",
              "<style>\n",
              "  .colab-df-quickchart {\n",
              "      --bg-color: #E8F0FE;\n",
              "      --fill-color: #1967D2;\n",
              "      --hover-bg-color: #E2EBFA;\n",
              "      --hover-fill-color: #174EA6;\n",
              "      --disabled-fill-color: #AAA;\n",
              "      --disabled-bg-color: #DDD;\n",
              "  }\n",
              "\n",
              "  [theme=dark] .colab-df-quickchart {\n",
              "      --bg-color: #3B4455;\n",
              "      --fill-color: #D2E3FC;\n",
              "      --hover-bg-color: #434B5C;\n",
              "      --hover-fill-color: #FFFFFF;\n",
              "      --disabled-bg-color: #3B4455;\n",
              "      --disabled-fill-color: #666;\n",
              "  }\n",
              "\n",
              "  .colab-df-quickchart {\n",
              "    background-color: var(--bg-color);\n",
              "    border: none;\n",
              "    border-radius: 50%;\n",
              "    cursor: pointer;\n",
              "    display: none;\n",
              "    fill: var(--fill-color);\n",
              "    height: 32px;\n",
              "    padding: 0;\n",
              "    width: 32px;\n",
              "  }\n",
              "\n",
              "  .colab-df-quickchart:hover {\n",
              "    background-color: var(--hover-bg-color);\n",
              "    box-shadow: 0 1px 2px rgba(60, 64, 67, 0.3), 0 1px 3px 1px rgba(60, 64, 67, 0.15);\n",
              "    fill: var(--button-hover-fill-color);\n",
              "  }\n",
              "\n",
              "  .colab-df-quickchart-complete:disabled,\n",
              "  .colab-df-quickchart-complete:disabled:hover {\n",
              "    background-color: var(--disabled-bg-color);\n",
              "    fill: var(--disabled-fill-color);\n",
              "    box-shadow: none;\n",
              "  }\n",
              "\n",
              "  .colab-df-spinner {\n",
              "    border: 2px solid var(--fill-color);\n",
              "    border-color: transparent;\n",
              "    border-bottom-color: var(--fill-color);\n",
              "    animation:\n",
              "      spin 1s steps(1) infinite;\n",
              "  }\n",
              "\n",
              "  @keyframes spin {\n",
              "    0% {\n",
              "      border-color: transparent;\n",
              "      border-bottom-color: var(--fill-color);\n",
              "      border-left-color: var(--fill-color);\n",
              "    }\n",
              "    20% {\n",
              "      border-color: transparent;\n",
              "      border-left-color: var(--fill-color);\n",
              "      border-top-color: var(--fill-color);\n",
              "    }\n",
              "    30% {\n",
              "      border-color: transparent;\n",
              "      border-left-color: var(--fill-color);\n",
              "      border-top-color: var(--fill-color);\n",
              "      border-right-color: var(--fill-color);\n",
              "    }\n",
              "    40% {\n",
              "      border-color: transparent;\n",
              "      border-right-color: var(--fill-color);\n",
              "      border-top-color: var(--fill-color);\n",
              "    }\n",
              "    60% {\n",
              "      border-color: transparent;\n",
              "      border-right-color: var(--fill-color);\n",
              "    }\n",
              "    80% {\n",
              "      border-color: transparent;\n",
              "      border-right-color: var(--fill-color);\n",
              "      border-bottom-color: var(--fill-color);\n",
              "    }\n",
              "    90% {\n",
              "      border-color: transparent;\n",
              "      border-bottom-color: var(--fill-color);\n",
              "    }\n",
              "  }\n",
              "</style>\n",
              "\n",
              "      <script>\n",
              "        async function quickchart(key) {\n",
              "          const quickchartButtonEl =\n",
              "            document.querySelector('#' + key + ' button');\n",
              "          quickchartButtonEl.disabled = true;  // To prevent multiple clicks.\n",
              "          quickchartButtonEl.classList.add('colab-df-spinner');\n",
              "          try {\n",
              "            const charts = await google.colab.kernel.invokeFunction(\n",
              "                'suggestCharts', [key], {});\n",
              "          } catch (error) {\n",
              "            console.error('Error during call to suggestCharts:', error);\n",
              "          }\n",
              "          quickchartButtonEl.classList.remove('colab-df-spinner');\n",
              "          quickchartButtonEl.classList.add('colab-df-quickchart-complete');\n",
              "        }\n",
              "        (() => {\n",
              "          let quickchartButtonEl =\n",
              "            document.querySelector('#df-213328ce-791f-423d-aced-17e8779411c0 button');\n",
              "          quickchartButtonEl.style.display =\n",
              "            google.colab.kernel.accessAllowed ? 'block' : 'none';\n",
              "        })();\n",
              "      </script>\n",
              "    </div>\n",
              "\n",
              "    </div>\n",
              "  </div>\n"
            ],
            "application/vnd.google.colaboratory.intrinsic+json": {
              "type": "dataframe",
              "summary": "{\n  \"name\": \"df\",\n  \"rows\": 5,\n  \"fields\": [\n    {\n      \"column\": \"count\",\n      \"properties\": {\n        \"dtype\": \"number\",\n        \"std\": 0.0,\n        \"min\": 1898.0,\n        \"max\": 1898.0,\n        \"num_unique_values\": 1,\n        \"samples\": [\n          1898.0\n        ],\n        \"semantic_type\": \"\",\n        \"description\": \"\"\n      }\n    },\n    {\n      \"column\": \"mean\",\n      \"properties\": {\n        \"dtype\": \"number\",\n        \"std\": 645876.9529336845,\n        \"min\": 16.498851422550054,\n        \"max\": 1477495.5,\n        \"num_unique_values\": 5,\n        \"samples\": [\n          171168.478398314\n        ],\n        \"semantic_type\": \"\",\n        \"description\": \"\"\n      }\n    },\n    {\n      \"column\": \"std\",\n      \"properties\": {\n        \"dtype\": \"number\",\n        \"std\": 50784.71247265651,\n        \"min\": 4.63248077592887,\n        \"max\": 113698.13974303962,\n        \"num_unique_values\": 5,\n        \"samples\": [\n          113698.13974303962\n        ],\n        \"semantic_type\": \"\",\n        \"description\": \"\"\n      }\n    },\n    {\n      \"column\": \"min\",\n      \"properties\": {\n        \"dtype\": \"number\",\n        \"std\": 660181.1448777716,\n        \"min\": 4.47,\n        \"max\": 1476547.0,\n        \"num_unique_values\": 5,\n        \"samples\": [\n          1311.0\n        ],\n        \"semantic_type\": \"\",\n        \"description\": \"\"\n      }\n    },\n    {\n      \"column\": \"25%\",\n      \"properties\": {\n        \"dtype\": \"number\",\n        \"std\": 652710.1666554807,\n        \"min\": 12.08,\n        \"max\": 1477021.25,\n        \"num_unique_values\": 5,\n        \"samples\": [\n          77787.75\n        ],\n        \"semantic_type\": \"\",\n        \"description\": \"\"\n      }\n    },\n    {\n      \"column\": \"50%\",\n      \"properties\": {\n        \"dtype\": \"number\",\n        \"std\": 648764.1850689455,\n        \"min\": 14.14,\n        \"max\": 1477495.5,\n        \"num_unique_values\": 5,\n        \"samples\": [\n          128600.0\n        ],\n        \"semantic_type\": \"\",\n        \"description\": \"\"\n      }\n    },\n    {\n      \"column\": \"75%\",\n      \"properties\": {\n        \"dtype\": \"number\",\n        \"std\": 641497.2176487005,\n        \"min\": 22.2975,\n        \"max\": 1477969.75,\n        \"num_unique_values\": 5,\n        \"samples\": [\n          270525.0\n        ],\n        \"semantic_type\": \"\",\n        \"description\": \"\"\n      }\n    },\n    {\n      \"column\": \"max\",\n      \"properties\": {\n        \"dtype\": \"number\",\n        \"std\": 640369.1284858972,\n        \"min\": 33.0,\n        \"max\": 1478444.0,\n        \"num_unique_values\": 5,\n        \"samples\": [\n          405334.0\n        ],\n        \"semantic_type\": \"\",\n        \"description\": \"\"\n      }\n    }\n  ]\n}"
            }
          },
          "metadata": {},
          "execution_count": 10
        }
      ],
      "source": [
        "# Get the summary statistics of the numerical data\n",
        "df.describe().T"
      ]
    },
    {
      "cell_type": "markdown",
      "metadata": {
        "id": "LDlbXZWG2rdH"
      },
      "source": [
        "### **Question 5:** How many orders are not rated? [1 mark]"
      ]
    },
    {
      "cell_type": "code",
      "execution_count": null,
      "metadata": {
        "id": "RUJo1me22rdH",
        "colab": {
          "base_uri": "https://localhost:8080/",
          "height": 241
        },
        "outputId": "2ccfed6f-4a5e-4a23-c5b2-cf951e85f0e2"
      },
      "outputs": [
        {
          "output_type": "execute_result",
          "data": {
            "text/plain": [
              "rating\n",
              "Not given    736\n",
              "5            588\n",
              "4            386\n",
              "3            188\n",
              "Name: count, dtype: int64"
            ],
            "text/html": [
              "<div>\n",
              "<style scoped>\n",
              "    .dataframe tbody tr th:only-of-type {\n",
              "        vertical-align: middle;\n",
              "    }\n",
              "\n",
              "    .dataframe tbody tr th {\n",
              "        vertical-align: top;\n",
              "    }\n",
              "\n",
              "    .dataframe thead th {\n",
              "        text-align: right;\n",
              "    }\n",
              "</style>\n",
              "<table border=\"1\" class=\"dataframe\">\n",
              "  <thead>\n",
              "    <tr style=\"text-align: right;\">\n",
              "      <th></th>\n",
              "      <th>count</th>\n",
              "    </tr>\n",
              "    <tr>\n",
              "      <th>rating</th>\n",
              "      <th></th>\n",
              "    </tr>\n",
              "  </thead>\n",
              "  <tbody>\n",
              "    <tr>\n",
              "      <th>Not given</th>\n",
              "      <td>736</td>\n",
              "    </tr>\n",
              "    <tr>\n",
              "      <th>5</th>\n",
              "      <td>588</td>\n",
              "    </tr>\n",
              "    <tr>\n",
              "      <th>4</th>\n",
              "      <td>386</td>\n",
              "    </tr>\n",
              "    <tr>\n",
              "      <th>3</th>\n",
              "      <td>188</td>\n",
              "    </tr>\n",
              "  </tbody>\n",
              "</table>\n",
              "</div><br><label><b>dtype:</b> int64</label>"
            ]
          },
          "metadata": {},
          "execution_count": 11
        }
      ],
      "source": [
        "df['rating'].value_counts()"
      ]
    },
    {
      "cell_type": "markdown",
      "metadata": {
        "id": "LUh8hTiW2rdH"
      },
      "source": [
        "### Exploratory Data Analysis (EDA)"
      ]
    },
    {
      "cell_type": "markdown",
      "metadata": {
        "id": "2Dl2aL1W2rdI"
      },
      "source": [
        "### Univariate Analysis"
      ]
    },
    {
      "cell_type": "markdown",
      "metadata": {
        "id": "gxBiurJ-2rdI"
      },
      "source": [
        "### **Question 6:** Explore all the variables and provide observations on their distributions. (Generally, histograms, boxplots, countplots, etc. are used for univariate exploration.) [9 marks]"
      ]
    },
    {
      "cell_type": "markdown",
      "metadata": {
        "id": "TXEjEAXqbZmQ"
      },
      "source": [
        "#### Order ID"
      ]
    },
    {
      "cell_type": "code",
      "execution_count": null,
      "metadata": {
        "id": "cmmmjUyebZmQ",
        "colab": {
          "base_uri": "https://localhost:8080/"
        },
        "outputId": "5fe4c35c-6d48-43d0-eb3e-ccb6a9cedfa5"
      },
      "outputs": [
        {
          "output_type": "execute_result",
          "data": {
            "text/plain": [
              "1898"
            ]
          },
          "metadata": {},
          "execution_count": 10
        }
      ],
      "source": [
        "# check unique order ID\n",
        "df['order_id'].nunique()"
      ]
    },
    {
      "cell_type": "markdown",
      "metadata": {
        "id": "ts6l2h0abZmQ"
      },
      "source": [
        "#### Customer ID"
      ]
    },
    {
      "cell_type": "code",
      "execution_count": null,
      "metadata": {
        "id": "yZRW2FBSbZmQ",
        "colab": {
          "base_uri": "https://localhost:8080/"
        },
        "outputId": "d711732f-32ee-4fb3-c9b7-1968248bfa74"
      },
      "outputs": [
        {
          "output_type": "execute_result",
          "data": {
            "text/plain": [
              "1200"
            ]
          },
          "metadata": {},
          "execution_count": 12
        }
      ],
      "source": [
        "# check unique customer ID\n",
        "df['customer_id'].nunique()"
      ]
    },
    {
      "cell_type": "markdown",
      "metadata": {
        "id": "mgv5gIIEbZmR"
      },
      "source": [
        "#### Restaurant name"
      ]
    },
    {
      "cell_type": "code",
      "execution_count": null,
      "metadata": {
        "id": "GYGzUuzcbZmR",
        "colab": {
          "base_uri": "https://localhost:8080/"
        },
        "outputId": "eabb3ce6-a67b-45c6-cc32-02998bfc6d59"
      },
      "outputs": [
        {
          "output_type": "execute_result",
          "data": {
            "text/plain": [
              "178"
            ]
          },
          "metadata": {},
          "execution_count": 14
        }
      ],
      "source": [
        "# check unique Restaurant Name\n",
        "df['restaurant_name'].nunique()"
      ]
    },
    {
      "cell_type": "markdown",
      "metadata": {
        "id": "X7jR8GHN2rdK"
      },
      "source": [
        "#### Cuisine type"
      ]
    },
    {
      "cell_type": "code",
      "execution_count": null,
      "metadata": {
        "id": "uFd2adxc2rdK",
        "colab": {
          "base_uri": "https://localhost:8080/"
        },
        "outputId": "7b126c3d-0b3a-49dc-8570-bbfb0be9fff6"
      },
      "outputs": [
        {
          "output_type": "execute_result",
          "data": {
            "text/plain": [
              "14"
            ]
          },
          "metadata": {},
          "execution_count": 18
        }
      ],
      "source": [
        "# Check unique cuisine type\n",
        "df['cuisine_type'].nunique()"
      ]
    },
    {
      "cell_type": "code",
      "execution_count": null,
      "metadata": {
        "id": "4JHi590P2rdK",
        "scrolled": true,
        "colab": {
          "base_uri": "https://localhost:8080/",
          "height": 465
        },
        "outputId": "fa10e1ae-b533-4040-d68c-470836a38f84"
      },
      "outputs": [
        {
          "output_type": "display_data",
          "data": {
            "text/plain": [
              "<Figure size 1500x500 with 1 Axes>"
            ],
            "image/png": "[encoded data removed]"
          },
          "metadata": {}
        }
      ],
      "source": [
        "plt.figure(figsize = (15,5))\n",
        "ax = sns.countplot(data = df, x = 'cuisine_type') ## Create a countplot for cuisine type.\n",
        "# Annotate the bars with count values\n",
        "for p in ax.patches:\n",
        "    ax.annotate(f'{p.get_height()}',\n",
        "                (p.get_x() + p.get_width() / 2., p.get_height()),\n",
        "                ha='center', va='center',\n",
        "                xytext=(0, 5),\n",
        "                textcoords='offset points')\n",
        "plt.ylabel(\"Number of Orders\")\n",
        "plt.xlabel(\"Cuisine\")\n",
        "plt.show()"
      ]
    },
    {
      "cell_type": "code",
      "source": [
        "cuisine_count = df['cuisine_type'].value_counts().reset_index()\n",
        "cuisine_count.columns = ['Cuisine', 'Number of Orders']"
      ],
      "metadata": {
        "id": "ttyInmpFzXas"
      },
      "execution_count": null,
      "outputs": []
    },
    {
      "cell_type": "code",
      "source": [
        "fig = px.bar(cuisine_count, x='Cuisine', y='Number of Orders', text='Number of Orders', title='Number of Orders by Cuisine Type')\n",
        "fig.show()"
      ],
      "metadata": {
        "colab": {
          "base_uri": "https://localhost:8080/",
          "height": 542
        },
        "id": "ZQU0PxC31wd0",
        "outputId": "7145705f-3c90-4f4a-d13b-049dd8dbe883"
      },
      "execution_count": null,
      "outputs": [
        {
          "output_type": "display_data",
          "data": {
            "text/html": [
              "<html>\n",
              "<head><meta charset=\"utf-8\" /></head>\n",
              "<body>\n",
              "    <div>            <script src=\"https://cdnjs.cloudflare.com/ajax/libs/mathjax/2.7.5/MathJax.js?config=TeX-AMS-MML_SVG\"></script><script type=\"text/javascript\">if (window.MathJax && window.MathJax.Hub && window.MathJax.Hub.Config) {window.MathJax.Hub.Config({SVG: {font: \"STIX-Web\"}});}</script>                <script type=\"text/javascript\">window.PlotlyConfig = {MathJaxConfig: 'local'};</script>\n",
              "        <script charset=\"utf-8\" src=\"https://cdn.plot.ly/plotly-2.35.2.min.js\"></script>                <div id=\"afec1fa7-6ed9-431e-bd1b-dff2fcabe6e1\" class=\"plotly-graph-div\" style=\"height:525px; width:100%;\"></div>            <script type=\"text/javascript\">                                    window.PLOTLYENV=window.PLOTLYENV || {};                                    if (document.getElementById(\"afec1fa7-6ed9-431e-bd1b-dff2fcabe6e1\")) {                    Plotly.newPlot(                        \"afec1fa7-6ed9-431e-bd1b-dff2fcabe6e1\",                        [{\"alignmentgroup\":\"True\",\"hovertemplate\":\"Cuisine=%{x}\\u003cbr\\u003eNumber of Orders=%{text}\\u003cextra\\u003e\\u003c\\u002fextra\\u003e\",\"legendgroup\":\"\",\"marker\":{\"color\":\"#636efa\",\"pattern\":{\"shape\":\"\"}},\"name\":\"\",\"offsetgroup\":\"\",\"orientation\":\"v\",\"showlegend\":false,\"text\":[584.0,470.0,298.0,215.0,77.0,73.0,49.0,46.0,19.0,18.0,17.0,13.0,12.0,7.0],\"textposition\":\"auto\",\"x\":[\"American\",\"Japanese\",\"Italian\",\"Chinese\",\"Mexican\",\"Indian\",\"Middle Eastern\",\"Mediterranean\",\"Thai\",\"French\",\"Southern\",\"Korean\",\"Spanish\",\"Vietnamese\"],\"xaxis\":\"x\",\"y\":[584,470,298,215,77,73,49,46,19,18,17,13,12,7],\"yaxis\":\"y\",\"type\":\"bar\"}],                        {\"template\":{\"data\":{\"histogram2dcontour\":[{\"type\":\"histogram2dcontour\",\"colorbar\":{\"outlinewidth\":0,\"ticks\":\"\"},\"colorscale\":[[0.0,\"#0d0887\"],[0.1111111111111111,\"#46039f\"],[0.2222222222222222,\"#7201a8\"],[0.3333333333333333,\"#9c179e\"],[0.4444444444444444,\"#bd3786\"],[0.5555555555555556,\"#d8576b\"],[0.6666666666666666,\"#ed7953\"],[0.7777777777777778,\"#fb9f3a\"],[0.8888888888888888,\"#fdca26\"],[1.0,\"#f0f921\"]]}],\"choropleth\":[{\"type\":\"choropleth\",\"colorbar\":{\"outlinewidth\":0,\"ticks\":\"\"}}],\"histogram2d\":[{\"type\":\"histogram2d\",\"colorbar\":{\"outlinewidth\":0,\"ticks\":\"\"},\"colorscale\":[[0.0,\"#0d0887\"],[0.1111111111111111,\"#46039f\"],[0.2222222222222222,\"#7201a8\"],[0.3333333333333333,\"#9c179e\"],[0.4444444444444444,\"#bd3786\"],[0.5555555555555556,\"#d8576b\"],[0.6666666666666666,\"#ed7953\"],[0.7777777777777778,\"#fb9f3a\"],[0.8888888888888888,\"#fdca26\"],[1.0,\"#f0f921\"]]}],\"heatmap\":[{\"type\":\"heatmap\",\"colorbar\":{\"outlinewidth\":0,\"ticks\":\"\"},\"colorscale\":[[0.0,\"#0d0887\"],[0.1111111111111111,\"#46039f\"],[0.2222222222222222,\"#7201a8\"],[0.3333333333333333,\"#9c179e\"],[0.4444444444444444,\"#bd3786\"],[0.5555555555555556,\"#d8576b\"],[0.6666666666666666,\"#ed7953\"],[0.7777777777777778,\"#fb9f3a\"],[0.8888888888888888,\"#fdca26\"],[1.0,\"#f0f921\"]]}],\"heatmapgl\":[{\"type\":\"heatmapgl\",\"colorbar\":{\"outlinewidth\":0,\"ticks\":\"\"},\"colorscale\":[[0.0,\"#0d0887\"],[0.1111111111111111,\"#46039f\"],[0.2222222222222222,\"#7201a8\"],[0.3333333333333333,\"#9c179e\"],[0.4444444444444444,\"#bd3786\"],[0.5555555555555556,\"#d8576b\"],[0.6666666666666666,\"#ed7953\"],[0.7777777777777778,\"#fb9f3a\"],[0.8888888888888888,\"#fdca26\"],[1.0,\"#f0f921\"]]}],\"contourcarpet\":[{\"type\":\"contourcarpet\",\"colorbar\":{\"outlinewidth\":0,\"ticks\":\"\"}}],\"contour\":[{\"type\":\"contour\",\"colorbar\":{\"outlinewidth\":0,\"ticks\":\"\"},\"colorscale\":[[0.0,\"#0d0887\"],[0.1111111111111111,\"#46039f\"],[0.2222222222222222,\"#7201a8\"],[0.3333333333333333,\"#9c179e\"],[0.4444444444444444,\"#bd3786\"],[0.5555555555555556,\"#d8576b\"],[0.6666666666666666,\"#ed7953\"],[0.7777777777777778,\"#fb9f3a\"],[0.8888888888888888,\"#fdca26\"],[1.0,\"#f0f921\"]]}],\"surface\":[{\"type\":\"surface\",\"colorbar\":{\"outlinewidth\":0,\"ticks\":\"\"},\"colorscale\":[[0.0,\"#0d0887\"],[0.1111111111111111,\"#46039f\"],[0.2222222222222222,\"#7201a8\"],[0.3333333333333333,\"#9c179e\"],[0.4444444444444444,\"#bd3786\"],[0.5555555555555556,\"#d8576b\"],[0.6666666666666666,\"#ed7953\"],[0.7777777777777778,\"#fb9f3a\"],[0.8888888888888888,\"#fdca26\"],[1.0,\"#f0f921\"]]}],\"mesh3d\":[{\"type\":\"mesh3d\",\"colorbar\":{\"outlinewidth\":0,\"ticks\":\"\"}}],\"scatter\":[{\"fillpattern\":{\"fillmode\":\"overlay\",\"size\":10,\"solidity\":0.2},\"type\":\"scatter\"}],\"parcoords\":[{\"type\":\"parcoords\",\"line\":{\"colorbar\":{\"outlinewidth\":0,\"ticks\":\"\"}}}],\"scatterpolargl\":[{\"type\":\"scatterpolargl\",\"marker\":{\"colorbar\":{\"outlinewidth\":0,\"ticks\":\"\"}}}],\"bar\":[{\"error_x\":{\"color\":\"#2a3f5f\"},\"error_y\":{\"color\":\"#2a3f5f\"},\"marker\":{\"line\":{\"color\":\"#E5ECF6\",\"width\":0.5},\"pattern\":{\"fillmode\":\"overlay\",\"size\":10,\"solidity\":0.2}},\"type\":\"bar\"}],\"scattergeo\":[{\"type\":\"scattergeo\",\"marker\":{\"colorbar\":{\"outlinewidth\":0,\"ticks\":\"\"}}}],\"scatterpolar\":[{\"type\":\"scatterpolar\",\"marker\":{\"colorbar\":{\"outlinewidth\":0,\"ticks\":\"\"}}}],\"histogram\":[{\"marker\":{\"pattern\":{\"fillmode\":\"overlay\",\"size\":10,\"solidity\":0.2}},\"type\":\"histogram\"}],\"scattergl\":[{\"type\":\"scattergl\",\"marker\":{\"colorbar\":{\"outlinewidth\":0,\"ticks\":\"\"}}}],\"scatter3d\":[{\"type\":\"scatter3d\",\"line\":{\"colorbar\":{\"outlinewidth\":0,\"ticks\":\"\"}},\"marker\":{\"colorbar\":{\"outlinewidth\":0,\"ticks\":\"\"}}}],\"scattermapbox\":[{\"type\":\"scattermapbox\",\"marker\":{\"colorbar\":{\"outlinewidth\":0,\"ticks\":\"\"}}}],\"scatterternary\":[{\"type\":\"scatterternary\",\"marker\":{\"colorbar\":{\"outlinewidth\":0,\"ticks\":\"\"}}}],\"scattercarpet\":[{\"type\":\"scattercarpet\",\"marker\":{\"colorbar\":{\"outlinewidth\":0,\"ticks\":\"\"}}}],\"carpet\":[{\"aaxis\":{\"endlinecolor\":\"#2a3f5f\",\"gridcolor\":\"white\",\"linecolor\":\"white\",\"minorgridcolor\":\"white\",\"startlinecolor\":\"#2a3f5f\"},\"baxis\":{\"endlinecolor\":\"#2a3f5f\",\"gridcolor\":\"white\",\"linecolor\":\"white\",\"minorgridcolor\":\"white\",\"startlinecolor\":\"#2a3f5f\"},\"type\":\"carpet\"}],\"table\":[{\"cells\":{\"fill\":{\"color\":\"#EBF0F8\"},\"line\":{\"color\":\"white\"}},\"header\":{\"fill\":{\"color\":\"#C8D4E3\"},\"line\":{\"color\":\"white\"}},\"type\":\"table\"}],\"barpolar\":[{\"marker\":{\"line\":{\"color\":\"#E5ECF6\",\"width\":0.5},\"pattern\":{\"fillmode\":\"overlay\",\"size\":10,\"solidity\":0.2}},\"type\":\"barpolar\"}],\"pie\":[{\"automargin\":true,\"type\":\"pie\"}]},\"layout\":{\"autotypenumbers\":\"strict\",\"colorway\":[\"#636efa\",\"#EF553B\",\"#00cc96\",\"#ab63fa\",\"#FFA15A\",\"#19d3f3\",\"#FF6692\",\"#B6E880\",\"#FF97FF\",\"#FECB52\"],\"font\":{\"color\":\"#2a3f5f\"},\"hovermode\":\"closest\",\"hoverlabel\":{\"align\":\"left\"},\"paper_bgcolor\":\"white\",\"plot_bgcolor\":\"#E5ECF6\",\"polar\":{\"bgcolor\":\"#E5ECF6\",\"angularaxis\":{\"gridcolor\":\"white\",\"linecolor\":\"white\",\"ticks\":\"\"},\"radialaxis\":{\"gridcolor\":\"white\",\"linecolor\":\"white\",\"ticks\":\"\"}},\"ternary\":{\"bgcolor\":\"#E5ECF6\",\"aaxis\":{\"gridcolor\":\"white\",\"linecolor\":\"white\",\"ticks\":\"\"},\"baxis\":{\"gridcolor\":\"white\",\"linecolor\":\"white\",\"ticks\":\"\"},\"caxis\":{\"gridcolor\":\"white\",\"linecolor\":\"white\",\"ticks\":\"\"}},\"coloraxis\":{\"colorbar\":{\"outlinewidth\":0,\"ticks\":\"\"}},\"colorscale\":{\"sequential\":[[0.0,\"#0d0887\"],[0.1111111111111111,\"#46039f\"],[0.2222222222222222,\"#7201a8\"],[0.3333333333333333,\"#9c179e\"],[0.4444444444444444,\"#bd3786\"],[0.5555555555555556,\"#d8576b\"],[0.6666666666666666,\"#ed7953\"],[0.7777777777777778,\"#fb9f3a\"],[0.8888888888888888,\"#fdca26\"],[1.0,\"#f0f921\"]],\"sequentialminus\":[[0.0,\"#0d0887\"],[0.1111111111111111,\"#46039f\"],[0.2222222222222222,\"#7201a8\"],[0.3333333333333333,\"#9c179e\"],[0.4444444444444444,\"#bd3786\"],[0.5555555555555556,\"#d8576b\"],[0.6666666666666666,\"#ed7953\"],[0.7777777777777778,\"#fb9f3a\"],[0.8888888888888888,\"#fdca26\"],[1.0,\"#f0f921\"]],\"diverging\":[[0,\"#8e0152\"],[0.1,\"#c51b7d\"],[0.2,\"#de77ae\"],[0.3,\"#f1b6da\"],[0.4,\"#fde0ef\"],[0.5,\"#f7f7f7\"],[0.6,\"#e6f5d0\"],[0.7,\"#b8e186\"],[0.8,\"#7fbc41\"],[0.9,\"#4d9221\"],[1,\"#276419\"]]},\"xaxis\":{\"gridcolor\":\"white\",\"linecolor\":\"white\",\"ticks\":\"\",\"title\":{\"standoff\":15},\"zerolinecolor\":\"white\",\"automargin\":true,\"zerolinewidth\":2},\"yaxis\":{\"gridcolor\":\"white\",\"linecolor\":\"white\",\"ticks\":\"\",\"title\":{\"standoff\":15},\"zerolinecolor\":\"white\",\"automargin\":true,\"zerolinewidth\":2},\"scene\":{\"xaxis\":{\"backgroundcolor\":\"#E5ECF6\",\"gridcolor\":\"white\",\"linecolor\":\"white\",\"showbackground\":true,\"ticks\":\"\",\"zerolinecolor\":\"white\",\"gridwidth\":2},\"yaxis\":{\"backgroundcolor\":\"#E5ECF6\",\"gridcolor\":\"white\",\"linecolor\":\"white\",\"showbackground\":true,\"ticks\":\"\",\"zerolinecolor\":\"white\",\"gridwidth\":2},\"zaxis\":{\"backgroundcolor\":\"#E5ECF6\",\"gridcolor\":\"white\",\"linecolor\":\"white\",\"showbackground\":true,\"ticks\":\"\",\"zerolinecolor\":\"white\",\"gridwidth\":2}},\"shapedefaults\":{\"line\":{\"color\":\"#2a3f5f\"}},\"annotationdefaults\":{\"arrowcolor\":\"#2a3f5f\",\"arrowhead\":0,\"arrowwidth\":1},\"geo\":{\"bgcolor\":\"white\",\"landcolor\":\"#E5ECF6\",\"subunitcolor\":\"white\",\"showland\":true,\"showlakes\":true,\"lakecolor\":\"white\"},\"title\":{\"x\":0.05},\"mapbox\":{\"style\":\"light\"}}},\"xaxis\":{\"anchor\":\"y\",\"domain\":[0.0,1.0],\"title\":{\"text\":\"Cuisine\"}},\"yaxis\":{\"anchor\":\"x\",\"domain\":[0.0,1.0],\"title\":{\"text\":\"Number of Orders\"}},\"legend\":{\"tracegroupgap\":0},\"title\":{\"text\":\"Number of Orders by Cuisine Type\"},\"barmode\":\"relative\"},                        {\"responsive\": true}                    ).then(function(){\n",
              "                            \n",
              "var gd = document.getElementById('afec1fa7-6ed9-431e-bd1b-dff2fcabe6e1');\n",
              "var x = new MutationObserver(function (mutations, observer) {{\n",
              "        var display = window.getComputedStyle(gd).display;\n",
              "        if (!display || display === 'none') {{\n",
              "            console.log([gd, 'removed!']);\n",
              "            Plotly.purge(gd);\n",
              "            observer.disconnect();\n",
              "        }}\n",
              "}});\n",
              "\n",
              "// Listen for the removal of the full notebook cells\n",
              "var notebookContainer = gd.closest('#notebook-container');\n",
              "if (notebookContainer) {{\n",
              "    x.observe(notebookContainer, {childList: true});\n",
              "}}\n",
              "\n",
              "// Listen for the clearing of the current output cell\n",
              "var outputEl = gd.closest('.output');\n",
              "if (outputEl) {{\n",
              "    x.observe(outputEl, {childList: true});\n",
              "}}\n",
              "\n",
              "                        })                };                            </script>        </div>\n",
              "</body>\n",
              "</html>"
            ]
          },
          "metadata": {}
        }
      ]
    },
    {
      "cell_type": "markdown",
      "metadata": {
        "id": "fmWW_qb42rdL"
      },
      "source": [
        "#### Cost of the order"
      ]
    },
    {
      "cell_type": "code",
      "execution_count": null,
      "metadata": {
        "id": "kq1lIbf42rdL",
        "colab": {
          "base_uri": "https://localhost:8080/",
          "height": 883
        },
        "outputId": "bf727124-18a1-4600-80f1-3b00af2118ad"
      },
      "outputs": [
        {
          "output_type": "display_data",
          "data": {
            "text/plain": [
              "<Figure size 640x480 with 1 Axes>"
            ],
            "image/png": "[encoded data removed]"
          },
          "metadata": {}
        },
        {
          "output_type": "display_data",
          "data": {
            "text/plain": [
              "<Figure size 640x480 with 1 Axes>"
            ],
            "image/png": "[encoded data removed]"
          },
          "metadata": {}
        }
      ],
      "source": [
        "sns.histplot(data=df,x='cost_of_the_order') ## Histogram for the cost of order\n",
        "plt.show()\n",
        "sns.boxplot(data=df,x='cost_of_the_order') ## Boxplot for the cost of order\n",
        "plt.show()"
      ]
    },
    {
      "cell_type": "code",
      "source": [
        "fig = px.histogram(data_frame=df, x='cost_of_the_order', title='Histogram for cost_of_the_order')\n",
        "fig.show();\n",
        "fig = px.box(data_frame=df, x='cost_of_the_order', title='Boxplot for cost_of_the_order')\n",
        "fig.show()\n",
        "\n",
        "\n"
      ],
      "metadata": {
        "colab": {
          "base_uri": "https://localhost:8080/",
          "height": 1000
        },
        "id": "GtJU_1VU4GTY",
        "outputId": "20954f55-2093-45f4-ec6c-6acebe964f3d"
      },
      "execution_count": null,
      "outputs": [
        {
          "output_type": "display_data",
          "data": {
            "text/html": [
              "<html>\n",
              "<head><meta charset=\"utf-8\" /></head>\n",
              "<body>\n",
              "    <div>            <script src=\"https://cdnjs.cloudflare.com/ajax/libs/mathjax/2.7.5/MathJax.js?config=TeX-AMS-MML_SVG\"></script><script type=\"text/javascript\">if (window.MathJax && window.MathJax.Hub && window.MathJax.Hub.Config) {window.MathJax.Hub.Config({SVG: {font: \"STIX-Web\"}});}</script>                <script type=\"text/javascript\">window.PlotlyConfig = {MathJaxConfig: 'local'};</script>\n",
              "        <script charset=\"utf-8\" src=\"https://cdn.plot.ly/plotly-2.35.2.min.js\"></script>                <div id=\"40e1cd52-3981-4887-a598-21cbedf556f0\" class=\"plotly-graph-div\" style=\"height:525px; width:100%;\"></div>            <script type=\"text/javascript\">                                    window.PLOTLYENV=window.PLOTLYENV || {};                                    if (document.getElementById(\"40e1cd52-3981-4887-a598-21cbedf556f0\")) {                    Plotly.newPlot(                        \"40e1cd52-3981-4887-a598-21cbedf556f0\",                        [{\"alignmentgroup\":\"True\",\"bingroup\":\"x\",\"hovertemplate\":\"cost_of_the_order=%{x}\\u003cbr\\u003ecount=%{y}\\u003cextra\\u003e\\u003c\\u002fextra\\u003e\",\"legendgroup\":\"\",\"marker\":{\"color\":\"#636efa\",\"pattern\":{\"shape\":\"\"}},\"name\":\"\",\"offsetgroup\":\"\",\"orientation\":\"v\",\"showlegend\":false,\"x\":[30.75,12.08,12.23,29.2,11.59,25.22,6.07,5.97,16.44,7.18,5.92,8.1,24.3,11.3,12.13,16.2,16.98,33.03,14.12,16.2,24.2,15.91,29.1,8.92,15.86,29.1,21.88,14.02,9.17,12.18,31.33,29.05,8.39,9.12,29.1,15.47,16.01,24.3,29.83,19.89,19.35,33.22,24.25,16.44,22.75,6.74,29.05,13.78,19.89,16.93,21.88,29.39,20.23,29.1,22.75,14.12,14.6,12.23,14.02,6.79,24.25,33.03,31.38,8.34,33.03,24.2,12.46,15.86,14.55,32.93,16.98,8.0,13.05,29.05,5.67,16.93,29.29,16.15,22.75,13.34,9.75,6.69,4.75,12.56,21.2,19.31,16.3,13.05,25.27,14.79,5.72,16.15,33.03,16.2,9.22,16.39,12.18,24.2,17.03,6.79,21.83,31.29,11.83,24.3,22.26,20.47,12.18,15.81,22.36,8.68,21.83,16.3,12.9,29.15,13.05,22.36,31.29,7.86,16.1,16.98,12.95,11.69,12.13,12.32,12.13,12.18,14.99,6.74,24.3,10.38,6.79,25.27,14.99,29.05,9.65,29.2,5.77,32.93,12.13,12.08,11.59,9.56,24.2,29.34,11.16,24.25,29.2,14.07,19.35,16.1,22.8,15.23,33.03,12.95,16.49,29.05,31.33,16.01,14.07,8.83,33.03,16.25,22.36,16.83,8.0,16.01,16.01,10.24,19.4,19.35,13.97,13.0,13.05,8.49,22.8,20.18,19.59,19.4,17.03,16.11,14.6,12.27,22.26,6.79,14.12,29.15,12.18,25.22,13.39,9.02,29.15,13.0,15.33,14.55,31.43,33.03,15.91,12.18,19.35,19.35,29.35,15.28,12.23,9.6,12.95,8.88,15.96,15.47,12.23,8.05,8.54,29.15,7.23,19.69,12.13,16.49,12.08,9.27,24.25,5.67,14.12,33.03,8.97,8.88,12.13,11.64,31.43,13.15,14.02,9.41,9.07,14.07,14.46,6.7,14.07,19.45,13.97,12.22,29.25,17.03,16.05,17.08,11.3,32.98,29.15,13.0,13.73,12.23,16.25,24.2,14.31,19.4,14.12,14.7,15.52,8.97,29.2,11.64,11.64,19.4,29.1,14.02,6.11,12.23,12.18,24.2,12.18,17.03,22.26,19.45,21.93,15.76,9.46,12.61,22.85,12.18,12.61,12.13,12.13,8.54,19.35,12.18,22.8,12.13,19.45,12.13,12.18,12.13,12.56,24.3,29.15,16.06,24.3,9.6,19.4,29.1,12.18,21.39,24.25,32.93,14.07,8.25,19.4,12.18,14.94,14.26,8.54,12.18,29.1,12.56,9.17,16.2,14.12,5.72,21.34,6.79,12.18,12.18,6.11,14.16,5.68,12.27,20.18,14.02,16.2,15.57,14.45,8.15,29.25,8.78,15.96,8.59,15.62,13.0,12.23,25.22,5.87,24.2,19.45,12.18,6.01,21.93,5.92,24.2,15.76,6.11,5.72,19.4,8.49,32.93,12.23,9.17,11.69,24.2,9.85,25.22,22.75,6.84,24.3,19.35,12.13,9.02,12.18,9.17,19.4,6.69,5.82,12.08,15.76,33.03,24.25,12.13,5.72,7.96,14.02,14.07,21.83,29.15,22.26,5.82,29.1,13.39,9.7,22.36,12.13,6.07,24.3,8.78,24.25,20.18,4.85,6.06,6.84,13.05,5.92,12.13,12.18,29.15,8.1,7.23,12.66,12.23,9.07,6.02,14.12,21.93,16.15,7.08,32.93,12.13,15.57,29.15,15.47,12.37,16.49,24.3,14.84,25.27,17.08,22.31,12.08,12.61,13.1,12.13,8.25,16.39,14.75,12.66,9.07,16.15,29.29,20.47,11.59,24.35,16.44,5.92,14.12,5.92,13.0,21.83,16.15,12.23,24.3,29.05,15.76,8.1,12.18,25.17,20.23,9.12,12.18,20.23,24.25,16.2,9.12,9.75,31.38,24.3,19.35,14.16,9.26,32.98,12.18,9.55,6.74,14.07,14.02,5.92,12.46,29.2,15.76,9.22,8.88,13.92,29.34,22.36,5.77,12.13,6.69,15.57,4.66,19.35,8.78,9.17,29.1,5.77,24.25,9.41,29.15,15.57,11.59,16.3,12.18,12.08,17.03,8.54,6.74,32.93,12.18,12.23,14.94,12.95,25.17,13.87,24.3,14.16,25.17,31.43,13.0,24.2,12.66,6.84,15.86,9.75,7.61,29.05,22.31,15.72,25.22,24.3,8.35,22.85,29.15,19.35,32.93,14.21,15.86,15.28,12.13,22.36,5.68,29.15,22.8,19.45,15.52,25.27,32.93,24.2,24.2,14.65,12.08,5.77,4.71,8.78,12.23,12.23,29.15,13.1,22.26,12.56,13.05,13.92,21.39,29.25,12.18,12.18,12.66,12.18,8.63,12.18,14.12,16.93,6.79,29.2,14.02,25.17,12.61,13.68,11.93,13.97,14.02,8.1,12.18,35.41,8.78,16.25,6.64,15.86,17.03,24.2,8.25,12.08,12.13,16.49,6.79,10.72,19.35,8.73,9.65,16.78,12.61,24.25,11.16,20.18,32.93,15.86,12.13,13.87,14.12,24.25,14.07,5.58,13.63,15.52,8.73,25.27,29.54,9.22,15.33,12.13,14.02,8.39,12.13,16.49,9.22,19.35,22.8,29.49,16.93,29.1,15.04,11.59,31.43,18.24,4.47,8.98,29.39,15.71,29.1,8.39,8.93,13.0,16.06,6.69,16.1,6.69,9.51,12.08,5.82,9.41,14.07,22.8,12.23,15.91,9.61,8.0,12.08,12.08,14.12,21.93,15.91,7.38,21.39,29.25,13.19,15.57,19.45,25.17,19.35,12.61,12.13,12.08,12.08,9.51,4.85,14.07,29.1,25.22,31.33,17.03,12.23,6.07,10.82,9.51,8.73,12.23,32.98,19.35,19.45,6.26,12.61,13.1,14.07,15.57,13.05,16.44,8.54,12.13,33.03,5.92,32.98,16.25,29.1,12.08,8.25,8.2,22.36,16.44,24.3,8.63,9.02,12.08,15.76,21.88,5.77,32.98,29.1,14.12,11.59,9.75,12.18,15.57,24.25,31.38,15.76,24.25,29.1,12.08,12.13,15.86,14.07,24.25,13.73,12.18,29.05,32.98,6.69,24.3,7.33,9.12,12.13,32.98,14.65,31.33,9.65,12.95,21.34,19.4,6.69,12.13,15.91,5.77,12.23,12.23,12.18,11.64,22.26,14.07,16.49,9.65,12.23,12.18,12.13,12.95,19.4,29.1,29.15,31.43,16.15,8.97,15.28,10.24,29.1,12.9,29.05,19.35,12.71,24.3,12.08,29.25,13.05,25.22,12.95,16.06,29.05,5.63,19.4,25.17,25.22,14.84,6.69,22.36,15.28,8.2,22.31,12.23,12.18,12.61,14.12,14.07,12.18,17.07,12.18,8.83,14.31,25.22,14.65,12.71,21.88,12.95,8.63,21.83,5.48,22.36,12.13,12.18,12.18,12.18,22.12,33.03,16.1,22.26,19.45,15.77,14.7,14.07,13.73,12.61,8.34,12.18,29.15,24.25,12.32,15.96,6.45,24.3,12.56,22.31,15.52,6.74,6.02,6.74,11.79,29.05,19.35,11.98,11.69,16.44,20.32,14.02,9.07,5.92,15.52,22.31,28.57,24.25,12.08,22.07,21.29,16.49,25.27,11.64,12.61,13.0,31.43,25.17,9.12,31.43,29.05,31.33,24.25,12.37,24.25,29.05,5.63,9.51,15.76,11.64,12.13,14.99,12.18,12.66,12.08,15.52,20.18,31.43,12.18,8.05,14.41,12.23,13.0,24.2,14.75,5.77,13.0,29.05,12.23,29.88,20.23,4.8,14.84,24.25,12.18,10.14,12.13,14.12,11.3,32.93,24.2,8.44,24.25,31.43,9.46,15.81,12.18,29.25,6.84,12.66,12.18,33.03,16.3,12.95,25.27,6.74,21.88,32.98,16.98,11.59,12.18,24.2,16.54,9.27,24.3,12.18,12.13,29.1,12.37,12.13,18.24,12.13,12.08,6.79,12.13,29.49,13.05,15.77,22.26,9.02,7.71,14.65,22.31,5.72,6.69,29.78,16.01,15.96,14.07,24.25,14.84,22.85,20.23,14.6,15.52,8.98,19.4,13.0,5.82,16.06,5.82,13.05,9.22,8.35,25.17,29.05,8.49,6.74,24.2,12.18,19.4,14.07,31.86,12.56,14.07,5.82,19.98,14.07,14.12,12.42,12.13,19.45,12.18,6.69,13.97,5.72,13.1,6.07,12.56,14.07,12.52,21.93,25.27,22.75,12.18,15.38,12.66,25.17,24.25,14.02,31.33,9.7,33.03,24.2,16.15,21.93,9.41,14.12,14.55,33.03,13.0,25.17,5.97,13.0,12.66,14.12,8.3,17.03,14.02,24.2,16.01,25.22,19.45,12.08,24.25,16.98,13.0,13.24,29.39,11.59,12.13,24.2,15.86,12.95,15.86,14.84,5.77,22.8,29.25,22.36,22.26,8.01,16.3,31.43,12.13,8.05,19.4,19.35,16.15,16.05,24.25,9.07,13.05,12.13,24.35,16.01,5.82,16.15,29.68,12.18,12.56,16.1,21.93,5.77,6.02,6.74,11.59,33.03,33.03,5.72,29.15,14.07,6.64,9.6,9.32,25.22,16.93,16.44,14.41,12.13,22.26,24.3,12.27,12.23,14.6,14.94,16.54,11.64,11.69,6.74,9.22,5.77,21.93,9.02,22.8,12.51,14.07,5.34,29.1,6.4,14.12,12.18,19.45,11.59,9.22,12.13,15.76,29.49,19.35,31.43,19.4,11.69,19.3,7.61,8.3,25.17,12.08,12.71,12.18,29.35,25.27,8.54,29.15,17.85,16.1,14.07,15.57,16.44,16.06,6.74,14.07,12.13,8.54,11.59,31.43,16.11,9.41,29.05,5.87,12.18,12.13,16.2,5.97,12.23,14.12,6.74,19.4,12.13,14.16,12.13,31.38,22.85,32.93,19.4,8.1,9.02,9.12,6.69,16.88,16.3,9.27,15.86,12.23,12.13,17.03,13.77,6.01,29.25,16.1,5.73,6.07,15.23,9.17,29.15,29.05,33.03,8.83,6.74,17.03,25.22,9.17,12.18,12.18,15.57,12.13,14.6,11.84,14.07,33.03,8.1,12.18,5.72,15.67,12.18,16.2,6.79,12.61,32.93,14.79,24.2,6.69,12.23,6.74,16.06,12.23,22.8,12.18,9.17,14.07,14.84,6.69,14.07,14.12,6.69,13.58,33.18,29.1,24.25,29.05,6.55,24.3,19.4,20.52,29.39,13.78,14.12,19.4,19.4,6.84,22.8,19.4,14.12,28.62,29.25,9.65,15.71,12.13,15.18,22.36,12.13,12.13,31.43,20.18,16.3,14.07,6.69,24.2,6.69,9.56,8.54,24.2,8.1,19.35,13.68,13.97,9.75,6.74,11.84,16.05,12.23,32.93,14.21,29.1,15.57,12.13,29.15,11.98,29.3,14.02,32.93,14.07,25.17,16.06,24.25,12.13,13.05,12.23,12.18,29.1,12.81,24.3,14.79,29.3,8.93,12.23,16.1,12.08,24.25,12.18,14.07,15.52,12.13,29.44,8.63,5.67,12.18,12.37,19.35,32.98,8.1,11.11,12.56,25.27,12.13,9.41,9.51,25.27,12.56,15.57,19.35,29.1,12.23,14.5,25.22,24.35,21.29,9.46,14.02,15.96,19.4,12.37,12.13,21.93,6.02,19.35,22.02,8.0,29.1,12.95,16.1,5.73,8.1,16.98,8.34,24.25,29.2,14.55,24.2,12.13,19.45,9.75,19.98,11.88,6.69,21.29,11.64,32.93,12.56,14.07,33.03,12.95,12.27,12.18,12.08,12.18,12.22,12.95,29.1,15.23,15.81,15.96,16.25,8.54,29.1,6.74,31.38,22.75,16.93,32.98,5.82,22.26,15.57,33.32,21.34,31.43,9.22,9.55,8.59,14.02,16.15,8.97,9.22,8.97,14.12,19.35,20.52,18.43,9.27,12.47,29.15,12.18,9.51,12.18,12.13,6.79,12.08,13.92,6.84,25.27,9.17,24.3,16.2,20.13,19.35,14.02,22.36,12.08,12.18,12.27,6.64,31.33,6.06,24.2,15.77,29.05,15.96,5.72,5.67,24.2,11.79,8.73,21.93,24.2,22.26,14.5,12.23,20.57,16.05,25.27,7.38,13.78,22.85,12.13,12.9,29.49,15.76,29.25,5.82,21.88,9.51,15.09,24.2,29.25,16.44,24.3,6.06,12.18,12.08,19.45,9.65,19.74,12.18,14.55,6.07,15.91,16.98,25.22,32.93,12.08,29.05,24.3,18.04,9.22,29.2,29.15,12.32,19.35,29.1,29.2,13.68,11.88,14.12,16.06,14.02,24.2,8.2,24.25,25.27,5.97,22.36,24.3,12.13,19.4,12.23,8.54,24.2,8.59,31.67,24.3,29.05,12.13,12.23,16.44,5.05,22.75,16.98,12.13,12.08,12.23,29.05,8.68,29.2,24.2,29.05,9.17,13.0,11.69,13.0,29.25,7.03,16.11,14.8,19.45,8.83,29.1,29.1,29.49,9.07,21.93,16.05,16.98,12.13,12.13,12.66,21.34,14.94,12.13,12.23,29.1,17.08,14.02,14.5,6.69,12.13,12.17,15.77,12.18,12.18,16.1,6.4,9.41,12.08,8.54,24.25,7.28,6.01,16.1,11.59,29.15,5.77,6.79,5.92,5.77,15.72,31.38,19.35,12.08,15.13,29.25,24.25,12.13,12.23,15.81,5.77,9.17,12.47,25.22,33.03,29.44,15.96,12.13,4.75,21.83,6.84,6.74,16.54,29.29,12.23,17.08,12.13,12.61,24.2,7.81,22.85,24.2,14.12,12.23,14.12,24.35,16.74,9.85,9.31,17.03,12.08,12.13,8.39,6.64,9.22,31.33,22.36,20.13,13.1,22.31,14.94,16.15,25.27,9.7,29.1,9.17,9.51,6.02,15.72,21.25,29.1,24.2,9.17,11.69,25.22,31.87,9.22,12.18,16.44,13.1,12.13,12.13,15.57,14.02,24.25,6.69,24.3,24.25,19.45,9.65,12.66,5.72,19.02,16.06,29.15,12.13,19.45,21.83,21.83,29.05,12.56,29.15,12.13,12.23,14.55,34.19,19.45,14.6,5.53,10.82,32.93,19.45,29.15,19.35,14.6,11.59,29.15,29.05,22.46,16.01,11.59,25.22,22.75,7.33,15.81,8.1,16.01,29.73,10.43,32.93,31.33,10.14,13.05,16.2,14.46,19.5,14.5,13.0,25.27,12.08,12.18,29.1,12.61,12.18,8.63,9.02,9.51,29.05,14.02,29.05,16.06,24.3,12.13,9.27,4.9,31.43,9.12,15.33,12.13,16.15,6.74,7.38,6.69,12.47,6.79,12.13,12.18,24.25,22.75,24.3,13.05,15.57,12.95,22.75,24.3,14.02,24.2,6.74,14.02,14.07,12.18,12.95,15.37,7.67,8.3,12.18,29.44,12.56,12.18,14.12,25.22,13.05,12.08,24.2,12.47,5.87,15.47,24.3,15.96,24.2,29.35,8.63,16.44,24.25,14.12,7.91,19.4,21.34,13.19,9.75,8.2,24.2,13.53,12.13,9.56,5.72,9.46,15.91,29.1,12.18,20.13,33.37,29.15,17.03,22.31,31.33,24.2,31.43,29.3,6.02,19.6,6.84,16.49,12.23,5.77,24.3,12.37,19.4,12.23,29.1,12.13,25.27,11.59,13.48,25.27,20.71,24.2,24.2,20.61,13.05,15.76,7.66,10.86,22.26,31.38,29.05,7.81,16.98,29.15,24.3,13.1,25.22,32.93,25.27,12.95,31.43,15.62,5.87,8.83,24.2,29.3,24.3,25.22,12.61,29.1,21.83,9.27,15.37,12.18,12.08,32.93,22.31,15.18,16.01,29.1,12.18,12.08,12.13,12.56,22.36,33.37,12.18,12.23,12.18,5.77,16.3,11.64,15.91,16.49,14.12,7.95,9.7,15.52,16.2,24.3,12.61,22.26,9.07,7.86,12.23,21.39,16.93,14.41,8.05,19.35,16.98,11.64,29.15,12.18,24.25,19.45,16.11,31.43,25.27,12.13,20.86,8.54,31.43,19.4,12.23,6.69,29.59,22.31,12.56,12.23,13.53,8.1,5.92,12.13,13.97,12.23,16.98,9.27,31.43,29.05,14.5,5.82,16.2,8.68,15.67,5.82,29.15,22.31,12.18,25.22,12.18,19.45],\"xaxis\":\"x\",\"yaxis\":\"y\",\"type\":\"histogram\"}],                        {\"template\":{\"data\":{\"histogram2dcontour\":[{\"type\":\"histogram2dcontour\",\"colorbar\":{\"outlinewidth\":0,\"ticks\":\"\"},\"colorscale\":[[0.0,\"#0d0887\"],[0.1111111111111111,\"#46039f\"],[0.2222222222222222,\"#7201a8\"],[0.3333333333333333,\"#9c179e\"],[0.4444444444444444,\"#bd3786\"],[0.5555555555555556,\"#d8576b\"],[0.6666666666666666,\"#ed7953\"],[0.7777777777777778,\"#fb9f3a\"],[0.8888888888888888,\"#fdca26\"],[1.0,\"#f0f921\"]]}],\"choropleth\":[{\"type\":\"choropleth\",\"colorbar\":{\"outlinewidth\":0,\"ticks\":\"\"}}],\"histogram2d\":[{\"type\":\"histogram2d\",\"colorbar\":{\"outlinewidth\":0,\"ticks\":\"\"},\"colorscale\":[[0.0,\"#0d0887\"],[0.1111111111111111,\"#46039f\"],[0.2222222222222222,\"#7201a8\"],[0.3333333333333333,\"#9c179e\"],[0.4444444444444444,\"#bd3786\"],[0.5555555555555556,\"#d8576b\"],[0.6666666666666666,\"#ed7953\"],[0.7777777777777778,\"#fb9f3a\"],[0.8888888888888888,\"#fdca26\"],[1.0,\"#f0f921\"]]}],\"heatmap\":[{\"type\":\"heatmap\",\"colorbar\":{\"outlinewidth\":0,\"ticks\":\"\"},\"colorscale\":[[0.0,\"#0d0887\"],[0.1111111111111111,\"#46039f\"],[0.2222222222222222,\"#7201a8\"],[0.3333333333333333,\"#9c179e\"],[0.4444444444444444,\"#bd3786\"],[0.5555555555555556,\"#d8576b\"],[0.6666666666666666,\"#ed7953\"],[0.7777777777777778,\"#fb9f3a\"],[0.8888888888888888,\"#fdca26\"],[1.0,\"#f0f921\"]]}],\"heatmapgl\":[{\"type\":\"heatmapgl\",\"colorbar\":{\"outlinewidth\":0,\"ticks\":\"\"},\"colorscale\":[[0.0,\"#0d0887\"],[0.1111111111111111,\"#46039f\"],[0.2222222222222222,\"#7201a8\"],[0.3333333333333333,\"#9c179e\"],[0.4444444444444444,\"#bd3786\"],[0.5555555555555556,\"#d8576b\"],[0.6666666666666666,\"#ed7953\"],[0.7777777777777778,\"#fb9f3a\"],[0.8888888888888888,\"#fdca26\"],[1.0,\"#f0f921\"]]}],\"contourcarpet\":[{\"type\":\"contourcarpet\",\"colorbar\":{\"outlinewidth\":0,\"ticks\":\"\"}}],\"contour\":[{\"type\":\"contour\",\"colorbar\":{\"outlinewidth\":0,\"ticks\":\"\"},\"colorscale\":[[0.0,\"#0d0887\"],[0.1111111111111111,\"#46039f\"],[0.2222222222222222,\"#7201a8\"],[0.3333333333333333,\"#9c179e\"],[0.4444444444444444,\"#bd3786\"],[0.5555555555555556,\"#d8576b\"],[0.6666666666666666,\"#ed7953\"],[0.7777777777777778,\"#fb9f3a\"],[0.8888888888888888,\"#fdca26\"],[1.0,\"#f0f921\"]]}],\"surface\":[{\"type\":\"surface\",\"colorbar\":{\"outlinewidth\":0,\"ticks\":\"\"},\"colorscale\":[[0.0,\"#0d0887\"],[0.1111111111111111,\"#46039f\"],[0.2222222222222222,\"#7201a8\"],[0.3333333333333333,\"#9c179e\"],[0.4444444444444444,\"#bd3786\"],[0.5555555555555556,\"#d8576b\"],[0.6666666666666666,\"#ed7953\"],[0.7777777777777778,\"#fb9f3a\"],[0.8888888888888888,\"#fdca26\"],[1.0,\"#f0f921\"]]}],\"mesh3d\":[{\"type\":\"mesh3d\",\"colorbar\":{\"outlinewidth\":0,\"ticks\":\"\"}}],\"scatter\":[{\"fillpattern\":{\"fillmode\":\"overlay\",\"size\":10,\"solidity\":0.2},\"type\":\"scatter\"}],\"parcoords\":[{\"type\":\"parcoords\",\"line\":{\"colorbar\":{\"outlinewidth\":0,\"ticks\":\"\"}}}],\"scatterpolargl\":[{\"type\":\"scatterpolargl\",\"marker\":{\"colorbar\":{\"outlinewidth\":0,\"ticks\":\"\"}}}],\"bar\":[{\"error_x\":{\"color\":\"#2a3f5f\"},\"error_y\":{\"color\":\"#2a3f5f\"},\"marker\":{\"line\":{\"color\":\"#E5ECF6\",\"width\":0.5},\"pattern\":{\"fillmode\":\"overlay\",\"size\":10,\"solidity\":0.2}},\"type\":\"bar\"}],\"scattergeo\":[{\"type\":\"scattergeo\",\"marker\":{\"colorbar\":{\"outlinewidth\":0,\"ticks\":\"\"}}}],\"scatterpolar\":[{\"type\":\"scatterpolar\",\"marker\":{\"colorbar\":{\"outlinewidth\":0,\"ticks\":\"\"}}}],\"histogram\":[{\"marker\":{\"pattern\":{\"fillmode\":\"overlay\",\"size\":10,\"solidity\":0.2}},\"type\":\"histogram\"}],\"scattergl\":[{\"type\":\"scattergl\",\"marker\":{\"colorbar\":{\"outlinewidth\":0,\"ticks\":\"\"}}}],\"scatter3d\":[{\"type\":\"scatter3d\",\"line\":{\"colorbar\":{\"outlinewidth\":0,\"ticks\":\"\"}},\"marker\":{\"colorbar\":{\"outlinewidth\":0,\"ticks\":\"\"}}}],\"scattermapbox\":[{\"type\":\"scattermapbox\",\"marker\":{\"colorbar\":{\"outlinewidth\":0,\"ticks\":\"\"}}}],\"scatterternary\":[{\"type\":\"scatterternary\",\"marker\":{\"colorbar\":{\"outlinewidth\":0,\"ticks\":\"\"}}}],\"scattercarpet\":[{\"type\":\"scattercarpet\",\"marker\":{\"colorbar\":{\"outlinewidth\":0,\"ticks\":\"\"}}}],\"carpet\":[{\"aaxis\":{\"endlinecolor\":\"#2a3f5f\",\"gridcolor\":\"white\",\"linecolor\":\"white\",\"minorgridcolor\":\"white\",\"startlinecolor\":\"#2a3f5f\"},\"baxis\":{\"endlinecolor\":\"#2a3f5f\",\"gridcolor\":\"white\",\"linecolor\":\"white\",\"minorgridcolor\":\"white\",\"startlinecolor\":\"#2a3f5f\"},\"type\":\"carpet\"}],\"table\":[{\"cells\":{\"fill\":{\"color\":\"#EBF0F8\"},\"line\":{\"color\":\"white\"}},\"header\":{\"fill\":{\"color\":\"#C8D4E3\"},\"line\":{\"color\":\"white\"}},\"type\":\"table\"}],\"barpolar\":[{\"marker\":{\"line\":{\"color\":\"#E5ECF6\",\"width\":0.5},\"pattern\":{\"fillmode\":\"overlay\",\"size\":10,\"solidity\":0.2}},\"type\":\"barpolar\"}],\"pie\":[{\"automargin\":true,\"type\":\"pie\"}]},\"layout\":{\"autotypenumbers\":\"strict\",\"colorway\":[\"#636efa\",\"#EF553B\",\"#00cc96\",\"#ab63fa\",\"#FFA15A\",\"#19d3f3\",\"#FF6692\",\"#B6E880\",\"#FF97FF\",\"#FECB52\"],\"font\":{\"color\":\"#2a3f5f\"},\"hovermode\":\"closest\",\"hoverlabel\":{\"align\":\"left\"},\"paper_bgcolor\":\"white\",\"plot_bgcolor\":\"#E5ECF6\",\"polar\":{\"bgcolor\":\"#E5ECF6\",\"angularaxis\":{\"gridcolor\":\"white\",\"linecolor\":\"white\",\"ticks\":\"\"},\"radialaxis\":{\"gridcolor\":\"white\",\"linecolor\":\"white\",\"ticks\":\"\"}},\"ternary\":{\"bgcolor\":\"#E5ECF6\",\"aaxis\":{\"gridcolor\":\"white\",\"linecolor\":\"white\",\"ticks\":\"\"},\"baxis\":{\"gridcolor\":\"white\",\"linecolor\":\"white\",\"ticks\":\"\"},\"caxis\":{\"gridcolor\":\"white\",\"linecolor\":\"white\",\"ticks\":\"\"}},\"coloraxis\":{\"colorbar\":{\"outlinewidth\":0,\"ticks\":\"\"}},\"colorscale\":{\"sequential\":[[0.0,\"#0d0887\"],[0.1111111111111111,\"#46039f\"],[0.2222222222222222,\"#7201a8\"],[0.3333333333333333,\"#9c179e\"],[0.4444444444444444,\"#bd3786\"],[0.5555555555555556,\"#d8576b\"],[0.6666666666666666,\"#ed7953\"],[0.7777777777777778,\"#fb9f3a\"],[0.8888888888888888,\"#fdca26\"],[1.0,\"#f0f921\"]],\"sequentialminus\":[[0.0,\"#0d0887\"],[0.1111111111111111,\"#46039f\"],[0.2222222222222222,\"#7201a8\"],[0.3333333333333333,\"#9c179e\"],[0.4444444444444444,\"#bd3786\"],[0.5555555555555556,\"#d8576b\"],[0.6666666666666666,\"#ed7953\"],[0.7777777777777778,\"#fb9f3a\"],[0.8888888888888888,\"#fdca26\"],[1.0,\"#f0f921\"]],\"diverging\":[[0,\"#8e0152\"],[0.1,\"#c51b7d\"],[0.2,\"#de77ae\"],[0.3,\"#f1b6da\"],[0.4,\"#fde0ef\"],[0.5,\"#f7f7f7\"],[0.6,\"#e6f5d0\"],[0.7,\"#b8e186\"],[0.8,\"#7fbc41\"],[0.9,\"#4d9221\"],[1,\"#276419\"]]},\"xaxis\":{\"gridcolor\":\"white\",\"linecolor\":\"white\",\"ticks\":\"\",\"title\":{\"standoff\":15},\"zerolinecolor\":\"white\",\"automargin\":true,\"zerolinewidth\":2},\"yaxis\":{\"gridcolor\":\"white\",\"linecolor\":\"white\",\"ticks\":\"\",\"title\":{\"standoff\":15},\"zerolinecolor\":\"white\",\"automargin\":true,\"zerolinewidth\":2},\"scene\":{\"xaxis\":{\"backgroundcolor\":\"#E5ECF6\",\"gridcolor\":\"white\",\"linecolor\":\"white\",\"showbackground\":true,\"ticks\":\"\",\"zerolinecolor\":\"white\",\"gridwidth\":2},\"yaxis\":{\"backgroundcolor\":\"#E5ECF6\",\"gridcolor\":\"white\",\"linecolor\":\"white\",\"showbackground\":true,\"ticks\":\"\",\"zerolinecolor\":\"white\",\"gridwidth\":2},\"zaxis\":{\"backgroundcolor\":\"#E5ECF6\",\"gridcolor\":\"white\",\"linecolor\":\"white\",\"showbackground\":true,\"ticks\":\"\",\"zerolinecolor\":\"white\",\"gridwidth\":2}},\"shapedefaults\":{\"line\":{\"color\":\"#2a3f5f\"}},\"annotationdefaults\":{\"arrowcolor\":\"#2a3f5f\",\"arrowhead\":0,\"arrowwidth\":1},\"geo\":{\"bgcolor\":\"white\",\"landcolor\":\"#E5ECF6\",\"subunitcolor\":\"white\",\"showland\":true,\"showlakes\":true,\"lakecolor\":\"white\"},\"title\":{\"x\":0.05},\"mapbox\":{\"style\":\"light\"}}},\"xaxis\":{\"anchor\":\"y\",\"domain\":[0.0,1.0],\"title\":{\"text\":\"cost_of_the_order\"}},\"yaxis\":{\"anchor\":\"x\",\"domain\":[0.0,1.0],\"title\":{\"text\":\"count\"}},\"legend\":{\"tracegroupgap\":0},\"title\":{\"text\":\"Histogram for cost_of_the_order\"},\"barmode\":\"relative\"},                        {\"responsive\": true}                    ).then(function(){\n",
              "                            \n",
              "var gd = document.getElementById('40e1cd52-3981-4887-a598-21cbedf556f0');\n",
              "var x = new MutationObserver(function (mutations, observer) {{\n",
              "        var display = window.getComputedStyle(gd).display;\n",
              "        if (!display || display === 'none') {{\n",
              "            console.log([gd, 'removed!']);\n",
              "            Plotly.purge(gd);\n",
              "            observer.disconnect();\n",
              "        }}\n",
              "}});\n",
              "\n",
              "// Listen for the removal of the full notebook cells\n",
              "var notebookContainer = gd.closest('#notebook-container');\n",
              "if (notebookContainer) {{\n",
              "    x.observe(notebookContainer, {childList: true});\n",
              "}}\n",
              "\n",
              "// Listen for the clearing of the current output cell\n",
              "var outputEl = gd.closest('.output');\n",
              "if (outputEl) {{\n",
              "    x.observe(outputEl, {childList: true});\n",
              "}}\n",
              "\n",
              "                        })                };                            </script>        </div>\n",
              "</body>\n",
              "</html>"
            ]
          },
          "metadata": {}
        },
        {
          "output_type": "display_data",
          "data": {
            "text/html": [
              "<html>\n",
              "<head><meta charset=\"utf-8\" /></head>\n",
              "<body>\n",
              "    <div>            <script src=\"https://cdnjs.cloudflare.com/ajax/libs/mathjax/2.7.5/MathJax.js?config=TeX-AMS-MML_SVG\"></script><script type=\"text/javascript\">if (window.MathJax && window.MathJax.Hub && window.MathJax.Hub.Config) {window.MathJax.Hub.Config({SVG: {font: \"STIX-Web\"}});}</script>                <script type=\"text/javascript\">window.PlotlyConfig = {MathJaxConfig: 'local'};</script>\n",
              "        <script charset=\"utf-8\" src=\"https://cdn.plot.ly/plotly-2.35.2.min.js\"></script>                <div id=\"2b914739-49b8-4f8c-a3de-80469032a9b1\" class=\"plotly-graph-div\" style=\"height:525px; width:100%;\"></div>            <script type=\"text/javascript\">                                    window.PLOTLYENV=window.PLOTLYENV || {};                                    if (document.getElementById(\"2b914739-49b8-4f8c-a3de-80469032a9b1\")) {                    Plotly.newPlot(                        \"2b914739-49b8-4f8c-a3de-80469032a9b1\",                        [{\"alignmentgroup\":\"True\",\"hovertemplate\":\"cost_of_the_order=%{x}\\u003cextra\\u003e\\u003c\\u002fextra\\u003e\",\"legendgroup\":\"\",\"marker\":{\"color\":\"#636efa\"},\"name\":\"\",\"notched\":false,\"offsetgroup\":\"\",\"orientation\":\"h\",\"showlegend\":false,\"x\":[30.75,12.08,12.23,29.2,11.59,25.22,6.07,5.97,16.44,7.18,5.92,8.1,24.3,11.3,12.13,16.2,16.98,33.03,14.12,16.2,24.2,15.91,29.1,8.92,15.86,29.1,21.88,14.02,9.17,12.18,31.33,29.05,8.39,9.12,29.1,15.47,16.01,24.3,29.83,19.89,19.35,33.22,24.25,16.44,22.75,6.74,29.05,13.78,19.89,16.93,21.88,29.39,20.23,29.1,22.75,14.12,14.6,12.23,14.02,6.79,24.25,33.03,31.38,8.34,33.03,24.2,12.46,15.86,14.55,32.93,16.98,8.0,13.05,29.05,5.67,16.93,29.29,16.15,22.75,13.34,9.75,6.69,4.75,12.56,21.2,19.31,16.3,13.05,25.27,14.79,5.72,16.15,33.03,16.2,9.22,16.39,12.18,24.2,17.03,6.79,21.83,31.29,11.83,24.3,22.26,20.47,12.18,15.81,22.36,8.68,21.83,16.3,12.9,29.15,13.05,22.36,31.29,7.86,16.1,16.98,12.95,11.69,12.13,12.32,12.13,12.18,14.99,6.74,24.3,10.38,6.79,25.27,14.99,29.05,9.65,29.2,5.77,32.93,12.13,12.08,11.59,9.56,24.2,29.34,11.16,24.25,29.2,14.07,19.35,16.1,22.8,15.23,33.03,12.95,16.49,29.05,31.33,16.01,14.07,8.83,33.03,16.25,22.36,16.83,8.0,16.01,16.01,10.24,19.4,19.35,13.97,13.0,13.05,8.49,22.8,20.18,19.59,19.4,17.03,16.11,14.6,12.27,22.26,6.79,14.12,29.15,12.18,25.22,13.39,9.02,29.15,13.0,15.33,14.55,31.43,33.03,15.91,12.18,19.35,19.35,29.35,15.28,12.23,9.6,12.95,8.88,15.96,15.47,12.23,8.05,8.54,29.15,7.23,19.69,12.13,16.49,12.08,9.27,24.25,5.67,14.12,33.03,8.97,8.88,12.13,11.64,31.43,13.15,14.02,9.41,9.07,14.07,14.46,6.7,14.07,19.45,13.97,12.22,29.25,17.03,16.05,17.08,11.3,32.98,29.15,13.0,13.73,12.23,16.25,24.2,14.31,19.4,14.12,14.7,15.52,8.97,29.2,11.64,11.64,19.4,29.1,14.02,6.11,12.23,12.18,24.2,12.18,17.03,22.26,19.45,21.93,15.76,9.46,12.61,22.85,12.18,12.61,12.13,12.13,8.54,19.35,12.18,22.8,12.13,19.45,12.13,12.18,12.13,12.56,24.3,29.15,16.06,24.3,9.6,19.4,29.1,12.18,21.39,24.25,32.93,14.07,8.25,19.4,12.18,14.94,14.26,8.54,12.18,29.1,12.56,9.17,16.2,14.12,5.72,21.34,6.79,12.18,12.18,6.11,14.16,5.68,12.27,20.18,14.02,16.2,15.57,14.45,8.15,29.25,8.78,15.96,8.59,15.62,13.0,12.23,25.22,5.87,24.2,19.45,12.18,6.01,21.93,5.92,24.2,15.76,6.11,5.72,19.4,8.49,32.93,12.23,9.17,11.69,24.2,9.85,25.22,22.75,6.84,24.3,19.35,12.13,9.02,12.18,9.17,19.4,6.69,5.82,12.08,15.76,33.03,24.25,12.13,5.72,7.96,14.02,14.07,21.83,29.15,22.26,5.82,29.1,13.39,9.7,22.36,12.13,6.07,24.3,8.78,24.25,20.18,4.85,6.06,6.84,13.05,5.92,12.13,12.18,29.15,8.1,7.23,12.66,12.23,9.07,6.02,14.12,21.93,16.15,7.08,32.93,12.13,15.57,29.15,15.47,12.37,16.49,24.3,14.84,25.27,17.08,22.31,12.08,12.61,13.1,12.13,8.25,16.39,14.75,12.66,9.07,16.15,29.29,20.47,11.59,24.35,16.44,5.92,14.12,5.92,13.0,21.83,16.15,12.23,24.3,29.05,15.76,8.1,12.18,25.17,20.23,9.12,12.18,20.23,24.25,16.2,9.12,9.75,31.38,24.3,19.35,14.16,9.26,32.98,12.18,9.55,6.74,14.07,14.02,5.92,12.46,29.2,15.76,9.22,8.88,13.92,29.34,22.36,5.77,12.13,6.69,15.57,4.66,19.35,8.78,9.17,29.1,5.77,24.25,9.41,29.15,15.57,11.59,16.3,12.18,12.08,17.03,8.54,6.74,32.93,12.18,12.23,14.94,12.95,25.17,13.87,24.3,14.16,25.17,31.43,13.0,24.2,12.66,6.84,15.86,9.75,7.61,29.05,22.31,15.72,25.22,24.3,8.35,22.85,29.15,19.35,32.93,14.21,15.86,15.28,12.13,22.36,5.68,29.15,22.8,19.45,15.52,25.27,32.93,24.2,24.2,14.65,12.08,5.77,4.71,8.78,12.23,12.23,29.15,13.1,22.26,12.56,13.05,13.92,21.39,29.25,12.18,12.18,12.66,12.18,8.63,12.18,14.12,16.93,6.79,29.2,14.02,25.17,12.61,13.68,11.93,13.97,14.02,8.1,12.18,35.41,8.78,16.25,6.64,15.86,17.03,24.2,8.25,12.08,12.13,16.49,6.79,10.72,19.35,8.73,9.65,16.78,12.61,24.25,11.16,20.18,32.93,15.86,12.13,13.87,14.12,24.25,14.07,5.58,13.63,15.52,8.73,25.27,29.54,9.22,15.33,12.13,14.02,8.39,12.13,16.49,9.22,19.35,22.8,29.49,16.93,29.1,15.04,11.59,31.43,18.24,4.47,8.98,29.39,15.71,29.1,8.39,8.93,13.0,16.06,6.69,16.1,6.69,9.51,12.08,5.82,9.41,14.07,22.8,12.23,15.91,9.61,8.0,12.08,12.08,14.12,21.93,15.91,7.38,21.39,29.25,13.19,15.57,19.45,25.17,19.35,12.61,12.13,12.08,12.08,9.51,4.85,14.07,29.1,25.22,31.33,17.03,12.23,6.07,10.82,9.51,8.73,12.23,32.98,19.35,19.45,6.26,12.61,13.1,14.07,15.57,13.05,16.44,8.54,12.13,33.03,5.92,32.98,16.25,29.1,12.08,8.25,8.2,22.36,16.44,24.3,8.63,9.02,12.08,15.76,21.88,5.77,32.98,29.1,14.12,11.59,9.75,12.18,15.57,24.25,31.38,15.76,24.25,29.1,12.08,12.13,15.86,14.07,24.25,13.73,12.18,29.05,32.98,6.69,24.3,7.33,9.12,12.13,32.98,14.65,31.33,9.65,12.95,21.34,19.4,6.69,12.13,15.91,5.77,12.23,12.23,12.18,11.64,22.26,14.07,16.49,9.65,12.23,12.18,12.13,12.95,19.4,29.1,29.15,31.43,16.15,8.97,15.28,10.24,29.1,12.9,29.05,19.35,12.71,24.3,12.08,29.25,13.05,25.22,12.95,16.06,29.05,5.63,19.4,25.17,25.22,14.84,6.69,22.36,15.28,8.2,22.31,12.23,12.18,12.61,14.12,14.07,12.18,17.07,12.18,8.83,14.31,25.22,14.65,12.71,21.88,12.95,8.63,21.83,5.48,22.36,12.13,12.18,12.18,12.18,22.12,33.03,16.1,22.26,19.45,15.77,14.7,14.07,13.73,12.61,8.34,12.18,29.15,24.25,12.32,15.96,6.45,24.3,12.56,22.31,15.52,6.74,6.02,6.74,11.79,29.05,19.35,11.98,11.69,16.44,20.32,14.02,9.07,5.92,15.52,22.31,28.57,24.25,12.08,22.07,21.29,16.49,25.27,11.64,12.61,13.0,31.43,25.17,9.12,31.43,29.05,31.33,24.25,12.37,24.25,29.05,5.63,9.51,15.76,11.64,12.13,14.99,12.18,12.66,12.08,15.52,20.18,31.43,12.18,8.05,14.41,12.23,13.0,24.2,14.75,5.77,13.0,29.05,12.23,29.88,20.23,4.8,14.84,24.25,12.18,10.14,12.13,14.12,11.3,32.93,24.2,8.44,24.25,31.43,9.46,15.81,12.18,29.25,6.84,12.66,12.18,33.03,16.3,12.95,25.27,6.74,21.88,32.98,16.98,11.59,12.18,24.2,16.54,9.27,24.3,12.18,12.13,29.1,12.37,12.13,18.24,12.13,12.08,6.79,12.13,29.49,13.05,15.77,22.26,9.02,7.71,14.65,22.31,5.72,6.69,29.78,16.01,15.96,14.07,24.25,14.84,22.85,20.23,14.6,15.52,8.98,19.4,13.0,5.82,16.06,5.82,13.05,9.22,8.35,25.17,29.05,8.49,6.74,24.2,12.18,19.4,14.07,31.86,12.56,14.07,5.82,19.98,14.07,14.12,12.42,12.13,19.45,12.18,6.69,13.97,5.72,13.1,6.07,12.56,14.07,12.52,21.93,25.27,22.75,12.18,15.38,12.66,25.17,24.25,14.02,31.33,9.7,33.03,24.2,16.15,21.93,9.41,14.12,14.55,33.03,13.0,25.17,5.97,13.0,12.66,14.12,8.3,17.03,14.02,24.2,16.01,25.22,19.45,12.08,24.25,16.98,13.0,13.24,29.39,11.59,12.13,24.2,15.86,12.95,15.86,14.84,5.77,22.8,29.25,22.36,22.26,8.01,16.3,31.43,12.13,8.05,19.4,19.35,16.15,16.05,24.25,9.07,13.05,12.13,24.35,16.01,5.82,16.15,29.68,12.18,12.56,16.1,21.93,5.77,6.02,6.74,11.59,33.03,33.03,5.72,29.15,14.07,6.64,9.6,9.32,25.22,16.93,16.44,14.41,12.13,22.26,24.3,12.27,12.23,14.6,14.94,16.54,11.64,11.69,6.74,9.22,5.77,21.93,9.02,22.8,12.51,14.07,5.34,29.1,6.4,14.12,12.18,19.45,11.59,9.22,12.13,15.76,29.49,19.35,31.43,19.4,11.69,19.3,7.61,8.3,25.17,12.08,12.71,12.18,29.35,25.27,8.54,29.15,17.85,16.1,14.07,15.57,16.44,16.06,6.74,14.07,12.13,8.54,11.59,31.43,16.11,9.41,29.05,5.87,12.18,12.13,16.2,5.97,12.23,14.12,6.74,19.4,12.13,14.16,12.13,31.38,22.85,32.93,19.4,8.1,9.02,9.12,6.69,16.88,16.3,9.27,15.86,12.23,12.13,17.03,13.77,6.01,29.25,16.1,5.73,6.07,15.23,9.17,29.15,29.05,33.03,8.83,6.74,17.03,25.22,9.17,12.18,12.18,15.57,12.13,14.6,11.84,14.07,33.03,8.1,12.18,5.72,15.67,12.18,16.2,6.79,12.61,32.93,14.79,24.2,6.69,12.23,6.74,16.06,12.23,22.8,12.18,9.17,14.07,14.84,6.69,14.07,14.12,6.69,13.58,33.18,29.1,24.25,29.05,6.55,24.3,19.4,20.52,29.39,13.78,14.12,19.4,19.4,6.84,22.8,19.4,14.12,28.62,29.25,9.65,15.71,12.13,15.18,22.36,12.13,12.13,31.43,20.18,16.3,14.07,6.69,24.2,6.69,9.56,8.54,24.2,8.1,19.35,13.68,13.97,9.75,6.74,11.84,16.05,12.23,32.93,14.21,29.1,15.57,12.13,29.15,11.98,29.3,14.02,32.93,14.07,25.17,16.06,24.25,12.13,13.05,12.23,12.18,29.1,12.81,24.3,14.79,29.3,8.93,12.23,16.1,12.08,24.25,12.18,14.07,15.52,12.13,29.44,8.63,5.67,12.18,12.37,19.35,32.98,8.1,11.11,12.56,25.27,12.13,9.41,9.51,25.27,12.56,15.57,19.35,29.1,12.23,14.5,25.22,24.35,21.29,9.46,14.02,15.96,19.4,12.37,12.13,21.93,6.02,19.35,22.02,8.0,29.1,12.95,16.1,5.73,8.1,16.98,8.34,24.25,29.2,14.55,24.2,12.13,19.45,9.75,19.98,11.88,6.69,21.29,11.64,32.93,12.56,14.07,33.03,12.95,12.27,12.18,12.08,12.18,12.22,12.95,29.1,15.23,15.81,15.96,16.25,8.54,29.1,6.74,31.38,22.75,16.93,32.98,5.82,22.26,15.57,33.32,21.34,31.43,9.22,9.55,8.59,14.02,16.15,8.97,9.22,8.97,14.12,19.35,20.52,18.43,9.27,12.47,29.15,12.18,9.51,12.18,12.13,6.79,12.08,13.92,6.84,25.27,9.17,24.3,16.2,20.13,19.35,14.02,22.36,12.08,12.18,12.27,6.64,31.33,6.06,24.2,15.77,29.05,15.96,5.72,5.67,24.2,11.79,8.73,21.93,24.2,22.26,14.5,12.23,20.57,16.05,25.27,7.38,13.78,22.85,12.13,12.9,29.49,15.76,29.25,5.82,21.88,9.51,15.09,24.2,29.25,16.44,24.3,6.06,12.18,12.08,19.45,9.65,19.74,12.18,14.55,6.07,15.91,16.98,25.22,32.93,12.08,29.05,24.3,18.04,9.22,29.2,29.15,12.32,19.35,29.1,29.2,13.68,11.88,14.12,16.06,14.02,24.2,8.2,24.25,25.27,5.97,22.36,24.3,12.13,19.4,12.23,8.54,24.2,8.59,31.67,24.3,29.05,12.13,12.23,16.44,5.05,22.75,16.98,12.13,12.08,12.23,29.05,8.68,29.2,24.2,29.05,9.17,13.0,11.69,13.0,29.25,7.03,16.11,14.8,19.45,8.83,29.1,29.1,29.49,9.07,21.93,16.05,16.98,12.13,12.13,12.66,21.34,14.94,12.13,12.23,29.1,17.08,14.02,14.5,6.69,12.13,12.17,15.77,12.18,12.18,16.1,6.4,9.41,12.08,8.54,24.25,7.28,6.01,16.1,11.59,29.15,5.77,6.79,5.92,5.77,15.72,31.38,19.35,12.08,15.13,29.25,24.25,12.13,12.23,15.81,5.77,9.17,12.47,25.22,33.03,29.44,15.96,12.13,4.75,21.83,6.84,6.74,16.54,29.29,12.23,17.08,12.13,12.61,24.2,7.81,22.85,24.2,14.12,12.23,14.12,24.35,16.74,9.85,9.31,17.03,12.08,12.13,8.39,6.64,9.22,31.33,22.36,20.13,13.1,22.31,14.94,16.15,25.27,9.7,29.1,9.17,9.51,6.02,15.72,21.25,29.1,24.2,9.17,11.69,25.22,31.87,9.22,12.18,16.44,13.1,12.13,12.13,15.57,14.02,24.25,6.69,24.3,24.25,19.45,9.65,12.66,5.72,19.02,16.06,29.15,12.13,19.45,21.83,21.83,29.05,12.56,29.15,12.13,12.23,14.55,34.19,19.45,14.6,5.53,10.82,32.93,19.45,29.15,19.35,14.6,11.59,29.15,29.05,22.46,16.01,11.59,25.22,22.75,7.33,15.81,8.1,16.01,29.73,10.43,32.93,31.33,10.14,13.05,16.2,14.46,19.5,14.5,13.0,25.27,12.08,12.18,29.1,12.61,12.18,8.63,9.02,9.51,29.05,14.02,29.05,16.06,24.3,12.13,9.27,4.9,31.43,9.12,15.33,12.13,16.15,6.74,7.38,6.69,12.47,6.79,12.13,12.18,24.25,22.75,24.3,13.05,15.57,12.95,22.75,24.3,14.02,24.2,6.74,14.02,14.07,12.18,12.95,15.37,7.67,8.3,12.18,29.44,12.56,12.18,14.12,25.22,13.05,12.08,24.2,12.47,5.87,15.47,24.3,15.96,24.2,29.35,8.63,16.44,24.25,14.12,7.91,19.4,21.34,13.19,9.75,8.2,24.2,13.53,12.13,9.56,5.72,9.46,15.91,29.1,12.18,20.13,33.37,29.15,17.03,22.31,31.33,24.2,31.43,29.3,6.02,19.6,6.84,16.49,12.23,5.77,24.3,12.37,19.4,12.23,29.1,12.13,25.27,11.59,13.48,25.27,20.71,24.2,24.2,20.61,13.05,15.76,7.66,10.86,22.26,31.38,29.05,7.81,16.98,29.15,24.3,13.1,25.22,32.93,25.27,12.95,31.43,15.62,5.87,8.83,24.2,29.3,24.3,25.22,12.61,29.1,21.83,9.27,15.37,12.18,12.08,32.93,22.31,15.18,16.01,29.1,12.18,12.08,12.13,12.56,22.36,33.37,12.18,12.23,12.18,5.77,16.3,11.64,15.91,16.49,14.12,7.95,9.7,15.52,16.2,24.3,12.61,22.26,9.07,7.86,12.23,21.39,16.93,14.41,8.05,19.35,16.98,11.64,29.15,12.18,24.25,19.45,16.11,31.43,25.27,12.13,20.86,8.54,31.43,19.4,12.23,6.69,29.59,22.31,12.56,12.23,13.53,8.1,5.92,12.13,13.97,12.23,16.98,9.27,31.43,29.05,14.5,5.82,16.2,8.68,15.67,5.82,29.15,22.31,12.18,25.22,12.18,19.45],\"x0\":\" \",\"xaxis\":\"x\",\"y0\":\" \",\"yaxis\":\"y\",\"type\":\"box\"}],                        {\"template\":{\"data\":{\"histogram2dcontour\":[{\"type\":\"histogram2dcontour\",\"colorbar\":{\"outlinewidth\":0,\"ticks\":\"\"},\"colorscale\":[[0.0,\"#0d0887\"],[0.1111111111111111,\"#46039f\"],[0.2222222222222222,\"#7201a8\"],[0.3333333333333333,\"#9c179e\"],[0.4444444444444444,\"#bd3786\"],[0.5555555555555556,\"#d8576b\"],[0.6666666666666666,\"#ed7953\"],[0.7777777777777778,\"#fb9f3a\"],[0.8888888888888888,\"#fdca26\"],[1.0,\"#f0f921\"]]}],\"choropleth\":[{\"type\":\"choropleth\",\"colorbar\":{\"outlinewidth\":0,\"ticks\":\"\"}}],\"histogram2d\":[{\"type\":\"histogram2d\",\"colorbar\":{\"outlinewidth\":0,\"ticks\":\"\"},\"colorscale\":[[0.0,\"#0d0887\"],[0.1111111111111111,\"#46039f\"],[0.2222222222222222,\"#7201a8\"],[0.3333333333333333,\"#9c179e\"],[0.4444444444444444,\"#bd3786\"],[0.5555555555555556,\"#d8576b\"],[0.6666666666666666,\"#ed7953\"],[0.7777777777777778,\"#fb9f3a\"],[0.8888888888888888,\"#fdca26\"],[1.0,\"#f0f921\"]]}],\"heatmap\":[{\"type\":\"heatmap\",\"colorbar\":{\"outlinewidth\":0,\"ticks\":\"\"},\"colorscale\":[[0.0,\"#0d0887\"],[0.1111111111111111,\"#46039f\"],[0.2222222222222222,\"#7201a8\"],[0.3333333333333333,\"#9c179e\"],[0.4444444444444444,\"#bd3786\"],[0.5555555555555556,\"#d8576b\"],[0.6666666666666666,\"#ed7953\"],[0.7777777777777778,\"#fb9f3a\"],[0.8888888888888888,\"#fdca26\"],[1.0,\"#f0f921\"]]}],\"heatmapgl\":[{\"type\":\"heatmapgl\",\"colorbar\":{\"outlinewidth\":0,\"ticks\":\"\"},\"colorscale\":[[0.0,\"#0d0887\"],[0.1111111111111111,\"#46039f\"],[0.2222222222222222,\"#7201a8\"],[0.3333333333333333,\"#9c179e\"],[0.4444444444444444,\"#bd3786\"],[0.5555555555555556,\"#d8576b\"],[0.6666666666666666,\"#ed7953\"],[0.7777777777777778,\"#fb9f3a\"],[0.8888888888888888,\"#fdca26\"],[1.0,\"#f0f921\"]]}],\"contourcarpet\":[{\"type\":\"contourcarpet\",\"colorbar\":{\"outlinewidth\":0,\"ticks\":\"\"}}],\"contour\":[{\"type\":\"contour\",\"colorbar\":{\"outlinewidth\":0,\"ticks\":\"\"},\"colorscale\":[[0.0,\"#0d0887\"],[0.1111111111111111,\"#46039f\"],[0.2222222222222222,\"#7201a8\"],[0.3333333333333333,\"#9c179e\"],[0.4444444444444444,\"#bd3786\"],[0.5555555555555556,\"#d8576b\"],[0.6666666666666666,\"#ed7953\"],[0.7777777777777778,\"#fb9f3a\"],[0.8888888888888888,\"#fdca26\"],[1.0,\"#f0f921\"]]}],\"surface\":[{\"type\":\"surface\",\"colorbar\":{\"outlinewidth\":0,\"ticks\":\"\"},\"colorscale\":[[0.0,\"#0d0887\"],[0.1111111111111111,\"#46039f\"],[0.2222222222222222,\"#7201a8\"],[0.3333333333333333,\"#9c179e\"],[0.4444444444444444,\"#bd3786\"],[0.5555555555555556,\"#d8576b\"],[0.6666666666666666,\"#ed7953\"],[0.7777777777777778,\"#fb9f3a\"],[0.8888888888888888,\"#fdca26\"],[1.0,\"#f0f921\"]]}],\"mesh3d\":[{\"type\":\"mesh3d\",\"colorbar\":{\"outlinewidth\":0,\"ticks\":\"\"}}],\"scatter\":[{\"fillpattern\":{\"fillmode\":\"overlay\",\"size\":10,\"solidity\":0.2},\"type\":\"scatter\"}],\"parcoords\":[{\"type\":\"parcoords\",\"line\":{\"colorbar\":{\"outlinewidth\":0,\"ticks\":\"\"}}}],\"scatterpolargl\":[{\"type\":\"scatterpolargl\",\"marker\":{\"colorbar\":{\"outlinewidth\":0,\"ticks\":\"\"}}}],\"bar\":[{\"error_x\":{\"color\":\"#2a3f5f\"},\"error_y\":{\"color\":\"#2a3f5f\"},\"marker\":{\"line\":{\"color\":\"#E5ECF6\",\"width\":0.5},\"pattern\":{\"fillmode\":\"overlay\",\"size\":10,\"solidity\":0.2}},\"type\":\"bar\"}],\"scattergeo\":[{\"type\":\"scattergeo\",\"marker\":{\"colorbar\":{\"outlinewidth\":0,\"ticks\":\"\"}}}],\"scatterpolar\":[{\"type\":\"scatterpolar\",\"marker\":{\"colorbar\":{\"outlinewidth\":0,\"ticks\":\"\"}}}],\"histogram\":[{\"marker\":{\"pattern\":{\"fillmode\":\"overlay\",\"size\":10,\"solidity\":0.2}},\"type\":\"histogram\"}],\"scattergl\":[{\"type\":\"scattergl\",\"marker\":{\"colorbar\":{\"outlinewidth\":0,\"ticks\":\"\"}}}],\"scatter3d\":[{\"type\":\"scatter3d\",\"line\":{\"colorbar\":{\"outlinewidth\":0,\"ticks\":\"\"}},\"marker\":{\"colorbar\":{\"outlinewidth\":0,\"ticks\":\"\"}}}],\"scattermapbox\":[{\"type\":\"scattermapbox\",\"marker\":{\"colorbar\":{\"outlinewidth\":0,\"ticks\":\"\"}}}],\"scatterternary\":[{\"type\":\"scatterternary\",\"marker\":{\"colorbar\":{\"outlinewidth\":0,\"ticks\":\"\"}}}],\"scattercarpet\":[{\"type\":\"scattercarpet\",\"marker\":{\"colorbar\":{\"outlinewidth\":0,\"ticks\":\"\"}}}],\"carpet\":[{\"aaxis\":{\"endlinecolor\":\"#2a3f5f\",\"gridcolor\":\"white\",\"linecolor\":\"white\",\"minorgridcolor\":\"white\",\"startlinecolor\":\"#2a3f5f\"},\"baxis\":{\"endlinecolor\":\"#2a3f5f\",\"gridcolor\":\"white\",\"linecolor\":\"white\",\"minorgridcolor\":\"white\",\"startlinecolor\":\"#2a3f5f\"},\"type\":\"carpet\"}],\"table\":[{\"cells\":{\"fill\":{\"color\":\"#EBF0F8\"},\"line\":{\"color\":\"white\"}},\"header\":{\"fill\":{\"color\":\"#C8D4E3\"},\"line\":{\"color\":\"white\"}},\"type\":\"table\"}],\"barpolar\":[{\"marker\":{\"line\":{\"color\":\"#E5ECF6\",\"width\":0.5},\"pattern\":{\"fillmode\":\"overlay\",\"size\":10,\"solidity\":0.2}},\"type\":\"barpolar\"}],\"pie\":[{\"automargin\":true,\"type\":\"pie\"}]},\"layout\":{\"autotypenumbers\":\"strict\",\"colorway\":[\"#636efa\",\"#EF553B\",\"#00cc96\",\"#ab63fa\",\"#FFA15A\",\"#19d3f3\",\"#FF6692\",\"#B6E880\",\"#FF97FF\",\"#FECB52\"],\"font\":{\"color\":\"#2a3f5f\"},\"hovermode\":\"closest\",\"hoverlabel\":{\"align\":\"left\"},\"paper_bgcolor\":\"white\",\"plot_bgcolor\":\"#E5ECF6\",\"polar\":{\"bgcolor\":\"#E5ECF6\",\"angularaxis\":{\"gridcolor\":\"white\",\"linecolor\":\"white\",\"ticks\":\"\"},\"radialaxis\":{\"gridcolor\":\"white\",\"linecolor\":\"white\",\"ticks\":\"\"}},\"ternary\":{\"bgcolor\":\"#E5ECF6\",\"aaxis\":{\"gridcolor\":\"white\",\"linecolor\":\"white\",\"ticks\":\"\"},\"baxis\":{\"gridcolor\":\"white\",\"linecolor\":\"white\",\"ticks\":\"\"},\"caxis\":{\"gridcolor\":\"white\",\"linecolor\":\"white\",\"ticks\":\"\"}},\"coloraxis\":{\"colorbar\":{\"outlinewidth\":0,\"ticks\":\"\"}},\"colorscale\":{\"sequential\":[[0.0,\"#0d0887\"],[0.1111111111111111,\"#46039f\"],[0.2222222222222222,\"#7201a8\"],[0.3333333333333333,\"#9c179e\"],[0.4444444444444444,\"#bd3786\"],[0.5555555555555556,\"#d8576b\"],[0.6666666666666666,\"#ed7953\"],[0.7777777777777778,\"#fb9f3a\"],[0.8888888888888888,\"#fdca26\"],[1.0,\"#f0f921\"]],\"sequentialminus\":[[0.0,\"#0d0887\"],[0.1111111111111111,\"#46039f\"],[0.2222222222222222,\"#7201a8\"],[0.3333333333333333,\"#9c179e\"],[0.4444444444444444,\"#bd3786\"],[0.5555555555555556,\"#d8576b\"],[0.6666666666666666,\"#ed7953\"],[0.7777777777777778,\"#fb9f3a\"],[0.8888888888888888,\"#fdca26\"],[1.0,\"#f0f921\"]],\"diverging\":[[0,\"#8e0152\"],[0.1,\"#c51b7d\"],[0.2,\"#de77ae\"],[0.3,\"#f1b6da\"],[0.4,\"#fde0ef\"],[0.5,\"#f7f7f7\"],[0.6,\"#e6f5d0\"],[0.7,\"#b8e186\"],[0.8,\"#7fbc41\"],[0.9,\"#4d9221\"],[1,\"#276419\"]]},\"xaxis\":{\"gridcolor\":\"white\",\"linecolor\":\"white\",\"ticks\":\"\",\"title\":{\"standoff\":15},\"zerolinecolor\":\"white\",\"automargin\":true,\"zerolinewidth\":2},\"yaxis\":{\"gridcolor\":\"white\",\"linecolor\":\"white\",\"ticks\":\"\",\"title\":{\"standoff\":15},\"zerolinecolor\":\"white\",\"automargin\":true,\"zerolinewidth\":2},\"scene\":{\"xaxis\":{\"backgroundcolor\":\"#E5ECF6\",\"gridcolor\":\"white\",\"linecolor\":\"white\",\"showbackground\":true,\"ticks\":\"\",\"zerolinecolor\":\"white\",\"gridwidth\":2},\"yaxis\":{\"backgroundcolor\":\"#E5ECF6\",\"gridcolor\":\"white\",\"linecolor\":\"white\",\"showbackground\":true,\"ticks\":\"\",\"zerolinecolor\":\"white\",\"gridwidth\":2},\"zaxis\":{\"backgroundcolor\":\"#E5ECF6\",\"gridcolor\":\"white\",\"linecolor\":\"white\",\"showbackground\":true,\"ticks\":\"\",\"zerolinecolor\":\"white\",\"gridwidth\":2}},\"shapedefaults\":{\"line\":{\"color\":\"#2a3f5f\"}},\"annotationdefaults\":{\"arrowcolor\":\"#2a3f5f\",\"arrowhead\":0,\"arrowwidth\":1},\"geo\":{\"bgcolor\":\"white\",\"landcolor\":\"#E5ECF6\",\"subunitcolor\":\"white\",\"showland\":true,\"showlakes\":true,\"lakecolor\":\"white\"},\"title\":{\"x\":0.05},\"mapbox\":{\"style\":\"light\"}}},\"xaxis\":{\"anchor\":\"y\",\"domain\":[0.0,1.0],\"title\":{\"text\":\"cost_of_the_order\"}},\"yaxis\":{\"anchor\":\"x\",\"domain\":[0.0,1.0]},\"legend\":{\"tracegroupgap\":0},\"title\":{\"text\":\"Boxplot for cost_of_the_order\"},\"boxmode\":\"group\"},                        {\"responsive\": true}                    ).then(function(){\n",
              "                            \n",
              "var gd = document.getElementById('2b914739-49b8-4f8c-a3de-80469032a9b1');\n",
              "var x = new MutationObserver(function (mutations, observer) {{\n",
              "        var display = window.getComputedStyle(gd).display;\n",
              "        if (!display || display === 'none') {{\n",
              "            console.log([gd, 'removed!']);\n",
              "            Plotly.purge(gd);\n",
              "            observer.disconnect();\n",
              "        }}\n",
              "}});\n",
              "\n",
              "// Listen for the removal of the full notebook cells\n",
              "var notebookContainer = gd.closest('#notebook-container');\n",
              "if (notebookContainer) {{\n",
              "    x.observe(notebookContainer, {childList: true});\n",
              "}}\n",
              "\n",
              "// Listen for the clearing of the current output cell\n",
              "var outputEl = gd.closest('.output');\n",
              "if (outputEl) {{\n",
              "    x.observe(outputEl, {childList: true});\n",
              "}}\n",
              "\n",
              "                        })                };                            </script>        </div>\n",
              "</body>\n",
              "</html>"
            ]
          },
          "metadata": {}
        }
      ]
    },
    {
      "cell_type": "markdown",
      "metadata": {
        "id": "p34KqEqx2rdL"
      },
      "source": [
        "#### Day of the week"
      ]
    },
    {
      "cell_type": "code",
      "execution_count": null,
      "metadata": {
        "id": "KBMjgXjv2rdL",
        "colab": {
          "base_uri": "https://localhost:8080/"
        },
        "outputId": "5b0ec562-b5c4-459c-8849-a566a3d88df5"
      },
      "outputs": [
        {
          "output_type": "execute_result",
          "data": {
            "text/plain": [
              "array(['Weekend', 'Weekday'], dtype=object)"
            ]
          },
          "metadata": {},
          "execution_count": 21
        }
      ],
      "source": [
        "# # Check the unique values\n",
        "df['day_of_the_week'].unique()"
      ]
    },
    {
      "cell_type": "code",
      "execution_count": null,
      "metadata": {
        "id": "Q5jvwJkZ2rdL",
        "colab": {
          "base_uri": "https://localhost:8080/",
          "height": 468
        },
        "outputId": "f2f231c5-2fdd-4550-8c53-4cda6690a610"
      },
      "outputs": [
        {
          "output_type": "execute_result",
          "data": {
            "text/plain": [
              "<Axes: xlabel='day_of_the_week', ylabel='count'>"
            ]
          },
          "metadata": {},
          "execution_count": 24
        },
        {
          "output_type": "display_data",
          "data": {
            "text/plain": [
              "<Figure size 640x480 with 1 Axes>"
            ],
            "image/png": "[encoded data removed]"
          },
          "metadata": {}
        }
      ],
      "source": [
        "sns.countplot(data = df, x = 'day_of_the_week')"
      ]
    },
    {
      "cell_type": "code",
      "source": [
        "day_of_the_week_count = df['day_of_the_week'].value_counts().reset_index()\n",
        "day_of_the_week_count.columns = ['Day of the week', 'Count']\n",
        "\n",
        "fig = px.bar(data_frame=day_of_the_week_count, x='Day of the week', y='Count', text='Count', title='Orders by Day of the week')\n",
        "fig.show()"
      ],
      "metadata": {
        "colab": {
          "base_uri": "https://localhost:8080/",
          "height": 542
        },
        "id": "X0JlUqmD8MgJ",
        "outputId": "e5cdb7bb-d898-492c-c43c-185ab2e735ae"
      },
      "execution_count": null,
      "outputs": [
        {
          "output_type": "display_data",
          "data": {
            "text/html": [
              "<html>\n",
              "<head><meta charset=\"utf-8\" /></head>\n",
              "<body>\n",
              "    <div>            <script src=\"https://cdnjs.cloudflare.com/ajax/libs/mathjax/2.7.5/MathJax.js?config=TeX-AMS-MML_SVG\"></script><script type=\"text/javascript\">if (window.MathJax && window.MathJax.Hub && window.MathJax.Hub.Config) {window.MathJax.Hub.Config({SVG: {font: \"STIX-Web\"}});}</script>                <script type=\"text/javascript\">window.PlotlyConfig = {MathJaxConfig: 'local'};</script>\n",
              "        <script charset=\"utf-8\" src=\"https://cdn.plot.ly/plotly-2.35.2.min.js\"></script>                <div id=\"da571641-6b1f-4a44-85ab-9b9baf75adab\" class=\"plotly-graph-div\" style=\"height:525px; width:100%;\"></div>            <script type=\"text/javascript\">                                    window.PLOTLYENV=window.PLOTLYENV || {};                                    if (document.getElementById(\"da571641-6b1f-4a44-85ab-9b9baf75adab\")) {                    Plotly.newPlot(                        \"da571641-6b1f-4a44-85ab-9b9baf75adab\",                        [{\"alignmentgroup\":\"True\",\"hovertemplate\":\"Day of the week=%{x}\\u003cbr\\u003eCount=%{text}\\u003cextra\\u003e\\u003c\\u002fextra\\u003e\",\"legendgroup\":\"\",\"marker\":{\"color\":\"#636efa\",\"pattern\":{\"shape\":\"\"}},\"name\":\"\",\"offsetgroup\":\"\",\"orientation\":\"v\",\"showlegend\":false,\"text\":[1351.0,547.0],\"textposition\":\"auto\",\"x\":[\"Weekend\",\"Weekday\"],\"xaxis\":\"x\",\"y\":[1351,547],\"yaxis\":\"y\",\"type\":\"bar\"}],                        {\"template\":{\"data\":{\"histogram2dcontour\":[{\"type\":\"histogram2dcontour\",\"colorbar\":{\"outlinewidth\":0,\"ticks\":\"\"},\"colorscale\":[[0.0,\"#0d0887\"],[0.1111111111111111,\"#46039f\"],[0.2222222222222222,\"#7201a8\"],[0.3333333333333333,\"#9c179e\"],[0.4444444444444444,\"#bd3786\"],[0.5555555555555556,\"#d8576b\"],[0.6666666666666666,\"#ed7953\"],[0.7777777777777778,\"#fb9f3a\"],[0.8888888888888888,\"#fdca26\"],[1.0,\"#f0f921\"]]}],\"choropleth\":[{\"type\":\"choropleth\",\"colorbar\":{\"outlinewidth\":0,\"ticks\":\"\"}}],\"histogram2d\":[{\"type\":\"histogram2d\",\"colorbar\":{\"outlinewidth\":0,\"ticks\":\"\"},\"colorscale\":[[0.0,\"#0d0887\"],[0.1111111111111111,\"#46039f\"],[0.2222222222222222,\"#7201a8\"],[0.3333333333333333,\"#9c179e\"],[0.4444444444444444,\"#bd3786\"],[0.5555555555555556,\"#d8576b\"],[0.6666666666666666,\"#ed7953\"],[0.7777777777777778,\"#fb9f3a\"],[0.8888888888888888,\"#fdca26\"],[1.0,\"#f0f921\"]]}],\"heatmap\":[{\"type\":\"heatmap\",\"colorbar\":{\"outlinewidth\":0,\"ticks\":\"\"},\"colorscale\":[[0.0,\"#0d0887\"],[0.1111111111111111,\"#46039f\"],[0.2222222222222222,\"#7201a8\"],[0.3333333333333333,\"#9c179e\"],[0.4444444444444444,\"#bd3786\"],[0.5555555555555556,\"#d8576b\"],[0.6666666666666666,\"#ed7953\"],[0.7777777777777778,\"#fb9f3a\"],[0.8888888888888888,\"#fdca26\"],[1.0,\"#f0f921\"]]}],\"heatmapgl\":[{\"type\":\"heatmapgl\",\"colorbar\":{\"outlinewidth\":0,\"ticks\":\"\"},\"colorscale\":[[0.0,\"#0d0887\"],[0.1111111111111111,\"#46039f\"],[0.2222222222222222,\"#7201a8\"],[0.3333333333333333,\"#9c179e\"],[0.4444444444444444,\"#bd3786\"],[0.5555555555555556,\"#d8576b\"],[0.6666666666666666,\"#ed7953\"],[0.7777777777777778,\"#fb9f3a\"],[0.8888888888888888,\"#fdca26\"],[1.0,\"#f0f921\"]]}],\"contourcarpet\":[{\"type\":\"contourcarpet\",\"colorbar\":{\"outlinewidth\":0,\"ticks\":\"\"}}],\"contour\":[{\"type\":\"contour\",\"colorbar\":{\"outlinewidth\":0,\"ticks\":\"\"},\"colorscale\":[[0.0,\"#0d0887\"],[0.1111111111111111,\"#46039f\"],[0.2222222222222222,\"#7201a8\"],[0.3333333333333333,\"#9c179e\"],[0.4444444444444444,\"#bd3786\"],[0.5555555555555556,\"#d8576b\"],[0.6666666666666666,\"#ed7953\"],[0.7777777777777778,\"#fb9f3a\"],[0.8888888888888888,\"#fdca26\"],[1.0,\"#f0f921\"]]}],\"surface\":[{\"type\":\"surface\",\"colorbar\":{\"outlinewidth\":0,\"ticks\":\"\"},\"colorscale\":[[0.0,\"#0d0887\"],[0.1111111111111111,\"#46039f\"],[0.2222222222222222,\"#7201a8\"],[0.3333333333333333,\"#9c179e\"],[0.4444444444444444,\"#bd3786\"],[0.5555555555555556,\"#d8576b\"],[0.6666666666666666,\"#ed7953\"],[0.7777777777777778,\"#fb9f3a\"],[0.8888888888888888,\"#fdca26\"],[1.0,\"#f0f921\"]]}],\"mesh3d\":[{\"type\":\"mesh3d\",\"colorbar\":{\"outlinewidth\":0,\"ticks\":\"\"}}],\"scatter\":[{\"fillpattern\":{\"fillmode\":\"overlay\",\"size\":10,\"solidity\":0.2},\"type\":\"scatter\"}],\"parcoords\":[{\"type\":\"parcoords\",\"line\":{\"colorbar\":{\"outlinewidth\":0,\"ticks\":\"\"}}}],\"scatterpolargl\":[{\"type\":\"scatterpolargl\",\"marker\":{\"colorbar\":{\"outlinewidth\":0,\"ticks\":\"\"}}}],\"bar\":[{\"error_x\":{\"color\":\"#2a3f5f\"},\"error_y\":{\"color\":\"#2a3f5f\"},\"marker\":{\"line\":{\"color\":\"#E5ECF6\",\"width\":0.5},\"pattern\":{\"fillmode\":\"overlay\",\"size\":10,\"solidity\":0.2}},\"type\":\"bar\"}],\"scattergeo\":[{\"type\":\"scattergeo\",\"marker\":{\"colorbar\":{\"outlinewidth\":0,\"ticks\":\"\"}}}],\"scatterpolar\":[{\"type\":\"scatterpolar\",\"marker\":{\"colorbar\":{\"outlinewidth\":0,\"ticks\":\"\"}}}],\"histogram\":[{\"marker\":{\"pattern\":{\"fillmode\":\"overlay\",\"size\":10,\"solidity\":0.2}},\"type\":\"histogram\"}],\"scattergl\":[{\"type\":\"scattergl\",\"marker\":{\"colorbar\":{\"outlinewidth\":0,\"ticks\":\"\"}}}],\"scatter3d\":[{\"type\":\"scatter3d\",\"line\":{\"colorbar\":{\"outlinewidth\":0,\"ticks\":\"\"}},\"marker\":{\"colorbar\":{\"outlinewidth\":0,\"ticks\":\"\"}}}],\"scattermapbox\":[{\"type\":\"scattermapbox\",\"marker\":{\"colorbar\":{\"outlinewidth\":0,\"ticks\":\"\"}}}],\"scatterternary\":[{\"type\":\"scatterternary\",\"marker\":{\"colorbar\":{\"outlinewidth\":0,\"ticks\":\"\"}}}],\"scattercarpet\":[{\"type\":\"scattercarpet\",\"marker\":{\"colorbar\":{\"outlinewidth\":0,\"ticks\":\"\"}}}],\"carpet\":[{\"aaxis\":{\"endlinecolor\":\"#2a3f5f\",\"gridcolor\":\"white\",\"linecolor\":\"white\",\"minorgridcolor\":\"white\",\"startlinecolor\":\"#2a3f5f\"},\"baxis\":{\"endlinecolor\":\"#2a3f5f\",\"gridcolor\":\"white\",\"linecolor\":\"white\",\"minorgridcolor\":\"white\",\"startlinecolor\":\"#2a3f5f\"},\"type\":\"carpet\"}],\"table\":[{\"cells\":{\"fill\":{\"color\":\"#EBF0F8\"},\"line\":{\"color\":\"white\"}},\"header\":{\"fill\":{\"color\":\"#C8D4E3\"},\"line\":{\"color\":\"white\"}},\"type\":\"table\"}],\"barpolar\":[{\"marker\":{\"line\":{\"color\":\"#E5ECF6\",\"width\":0.5},\"pattern\":{\"fillmode\":\"overlay\",\"size\":10,\"solidity\":0.2}},\"type\":\"barpolar\"}],\"pie\":[{\"automargin\":true,\"type\":\"pie\"}]},\"layout\":{\"autotypenumbers\":\"strict\",\"colorway\":[\"#636efa\",\"#EF553B\",\"#00cc96\",\"#ab63fa\",\"#FFA15A\",\"#19d3f3\",\"#FF6692\",\"#B6E880\",\"#FF97FF\",\"#FECB52\"],\"font\":{\"color\":\"#2a3f5f\"},\"hovermode\":\"closest\",\"hoverlabel\":{\"align\":\"left\"},\"paper_bgcolor\":\"white\",\"plot_bgcolor\":\"#E5ECF6\",\"polar\":{\"bgcolor\":\"#E5ECF6\",\"angularaxis\":{\"gridcolor\":\"white\",\"linecolor\":\"white\",\"ticks\":\"\"},\"radialaxis\":{\"gridcolor\":\"white\",\"linecolor\":\"white\",\"ticks\":\"\"}},\"ternary\":{\"bgcolor\":\"#E5ECF6\",\"aaxis\":{\"gridcolor\":\"white\",\"linecolor\":\"white\",\"ticks\":\"\"},\"baxis\":{\"gridcolor\":\"white\",\"linecolor\":\"white\",\"ticks\":\"\"},\"caxis\":{\"gridcolor\":\"white\",\"linecolor\":\"white\",\"ticks\":\"\"}},\"coloraxis\":{\"colorbar\":{\"outlinewidth\":0,\"ticks\":\"\"}},\"colorscale\":{\"sequential\":[[0.0,\"#0d0887\"],[0.1111111111111111,\"#46039f\"],[0.2222222222222222,\"#7201a8\"],[0.3333333333333333,\"#9c179e\"],[0.4444444444444444,\"#bd3786\"],[0.5555555555555556,\"#d8576b\"],[0.6666666666666666,\"#ed7953\"],[0.7777777777777778,\"#fb9f3a\"],[0.8888888888888888,\"#fdca26\"],[1.0,\"#f0f921\"]],\"sequentialminus\":[[0.0,\"#0d0887\"],[0.1111111111111111,\"#46039f\"],[0.2222222222222222,\"#7201a8\"],[0.3333333333333333,\"#9c179e\"],[0.4444444444444444,\"#bd3786\"],[0.5555555555555556,\"#d8576b\"],[0.6666666666666666,\"#ed7953\"],[0.7777777777777778,\"#fb9f3a\"],[0.8888888888888888,\"#fdca26\"],[1.0,\"#f0f921\"]],\"diverging\":[[0,\"#8e0152\"],[0.1,\"#c51b7d\"],[0.2,\"#de77ae\"],[0.3,\"#f1b6da\"],[0.4,\"#fde0ef\"],[0.5,\"#f7f7f7\"],[0.6,\"#e6f5d0\"],[0.7,\"#b8e186\"],[0.8,\"#7fbc41\"],[0.9,\"#4d9221\"],[1,\"#276419\"]]},\"xaxis\":{\"gridcolor\":\"white\",\"linecolor\":\"white\",\"ticks\":\"\",\"title\":{\"standoff\":15},\"zerolinecolor\":\"white\",\"automargin\":true,\"zerolinewidth\":2},\"yaxis\":{\"gridcolor\":\"white\",\"linecolor\":\"white\",\"ticks\":\"\",\"title\":{\"standoff\":15},\"zerolinecolor\":\"white\",\"automargin\":true,\"zerolinewidth\":2},\"scene\":{\"xaxis\":{\"backgroundcolor\":\"#E5ECF6\",\"gridcolor\":\"white\",\"linecolor\":\"white\",\"showbackground\":true,\"ticks\":\"\",\"zerolinecolor\":\"white\",\"gridwidth\":2},\"yaxis\":{\"backgroundcolor\":\"#E5ECF6\",\"gridcolor\":\"white\",\"linecolor\":\"white\",\"showbackground\":true,\"ticks\":\"\",\"zerolinecolor\":\"white\",\"gridwidth\":2},\"zaxis\":{\"backgroundcolor\":\"#E5ECF6\",\"gridcolor\":\"white\",\"linecolor\":\"white\",\"showbackground\":true,\"ticks\":\"\",\"zerolinecolor\":\"white\",\"gridwidth\":2}},\"shapedefaults\":{\"line\":{\"color\":\"#2a3f5f\"}},\"annotationdefaults\":{\"arrowcolor\":\"#2a3f5f\",\"arrowhead\":0,\"arrowwidth\":1},\"geo\":{\"bgcolor\":\"white\",\"landcolor\":\"#E5ECF6\",\"subunitcolor\":\"white\",\"showland\":true,\"showlakes\":true,\"lakecolor\":\"white\"},\"title\":{\"x\":0.05},\"mapbox\":{\"style\":\"light\"}}},\"xaxis\":{\"anchor\":\"y\",\"domain\":[0.0,1.0],\"title\":{\"text\":\"Day of the week\"}},\"yaxis\":{\"anchor\":\"x\",\"domain\":[0.0,1.0],\"title\":{\"text\":\"Count\"}},\"legend\":{\"tracegroupgap\":0},\"title\":{\"text\":\"Orders by Day of the week\"},\"barmode\":\"relative\"},                        {\"responsive\": true}                    ).then(function(){\n",
              "                            \n",
              "var gd = document.getElementById('da571641-6b1f-4a44-85ab-9b9baf75adab');\n",
              "var x = new MutationObserver(function (mutations, observer) {{\n",
              "        var display = window.getComputedStyle(gd).display;\n",
              "        if (!display || display === 'none') {{\n",
              "            console.log([gd, 'removed!']);\n",
              "            Plotly.purge(gd);\n",
              "            observer.disconnect();\n",
              "        }}\n",
              "}});\n",
              "\n",
              "// Listen for the removal of the full notebook cells\n",
              "var notebookContainer = gd.closest('#notebook-container');\n",
              "if (notebookContainer) {{\n",
              "    x.observe(notebookContainer, {childList: true});\n",
              "}}\n",
              "\n",
              "// Listen for the clearing of the current output cell\n",
              "var outputEl = gd.closest('.output');\n",
              "if (outputEl) {{\n",
              "    x.observe(outputEl, {childList: true});\n",
              "}}\n",
              "\n",
              "                        })                };                            </script>        </div>\n",
              "</body>\n",
              "</html>"
            ]
          },
          "metadata": {}
        }
      ]
    },
    {
      "cell_type": "markdown",
      "source": [],
      "metadata": {
        "id": "RP_GQGlONC6z"
      }
    },
    {
      "cell_type": "code",
      "source": [
        "# Percentage of top 4 cuisine orders.\n",
        "(df[df['cuisine_type'].isin(['American', 'Japanese', 'Italian', 'Chinese'])]['order_id'].count()/df.shape[0]*100).round(2)"
      ],
      "metadata": {
        "colab": {
          "base_uri": "https://localhost:8080/"
        },
        "id": "lpgdAhY2MPs7",
        "outputId": "df1d5c68-d5fb-429c-cdfc-95a2dd0188dc"
      },
      "execution_count": null,
      "outputs": [
        {
          "output_type": "execute_result",
          "data": {
            "text/plain": [
              "np.float64(82.56)"
            ]
          },
          "metadata": {},
          "execution_count": 6
        }
      ]
    },
    {
      "cell_type": "code",
      "source": [
        "## Percentage of Weekend orders to total orders\n",
        "\n",
        "(df[df['day_of_the_week'].isin(['Weekend'])]['order_id'].count()/df.shape[0]*100).round(2)"
      ],
      "metadata": {
        "colab": {
          "base_uri": "https://localhost:8080/"
        },
        "id": "YuJBuM13OD6r",
        "outputId": "ad25b286-c909-4796-e37b-79e3892fc923"
      },
      "execution_count": null,
      "outputs": [
        {
          "output_type": "execute_result",
          "data": {
            "text/plain": [
              "np.float64(71.18)"
            ]
          },
          "metadata": {},
          "execution_count": 34
        }
      ]
    },
    {
      "cell_type": "code",
      "source": [
        "# Net revenue from top 4 cuisines.\n",
        "top_cuisine_data = df[df['cuisine_type'].isin(['American', 'Japanese', 'Italian', 'Chinese'])]\n",
        "\n",
        "def apply_rev1(x):\n",
        "  if x>20:\n",
        "    return x*0.25\n",
        "  elif x>5:\n",
        "    return x*.15\n",
        "  else:\n",
        "    return 0\n",
        "\n",
        "top_cuisine_data['cost_of_the_order'].apply(apply_rev1).sum()"
      ],
      "metadata": {
        "colab": {
          "base_uri": "https://localhost:8080/"
        },
        "id": "Y3mwImCaQs1w",
        "outputId": "72d36b36-cc28-43ea-a0be-7ef30ef79aae"
      },
      "execution_count": null,
      "outputs": [
        {
          "output_type": "execute_result",
          "data": {
            "text/plain": [
              "np.float64(5013.443499999999)"
            ]
          },
          "metadata": {},
          "execution_count": 47
        }
      ]
    },
    {
      "cell_type": "markdown",
      "metadata": {
        "id": "1oOW_lzO2rdL"
      },
      "source": [
        "#### Rating"
      ]
    },
    {
      "cell_type": "code",
      "execution_count": null,
      "metadata": {
        "id": "TNxjskCF2rdL",
        "scrolled": true,
        "colab": {
          "base_uri": "https://localhost:8080/"
        },
        "outputId": "1b335ad6-3d6d-4f3b-d2df-088805a4a681"
      },
      "outputs": [
        {
          "output_type": "execute_result",
          "data": {
            "text/plain": [
              "array(['Not given', '5', '3', '4'], dtype=object)"
            ]
          },
          "metadata": {},
          "execution_count": 26
        }
      ],
      "source": [
        "# Check the unique values\n",
        "df['rating'].unique()"
      ]
    },
    {
      "cell_type": "code",
      "source": [
        "#Check the percentage of each rating.\n",
        "(df['rating'].value_counts(normalize=True)*100).round(2)"
      ],
      "metadata": {
        "colab": {
          "base_uri": "https://localhost:8080/",
          "height": 241
        },
        "id": "DclREJVl-6qa",
        "outputId": "729b8ae3-4d7c-41f0-c2e1-d64342c37b5d"
      },
      "execution_count": null,
      "outputs": [
        {
          "output_type": "execute_result",
          "data": {
            "text/plain": [
              "rating\n",
              "Not given    38.78\n",
              "5            30.98\n",
              "4            20.34\n",
              "3             9.91\n",
              "Name: proportion, dtype: float64"
            ],
            "text/html": [
              "<div>\n",
              "<style scoped>\n",
              "    .dataframe tbody tr th:only-of-type {\n",
              "        vertical-align: middle;\n",
              "    }\n",
              "\n",
              "    .dataframe tbody tr th {\n",
              "        vertical-align: top;\n",
              "    }\n",
              "\n",
              "    .dataframe thead th {\n",
              "        text-align: right;\n",
              "    }\n",
              "</style>\n",
              "<table border=\"1\" class=\"dataframe\">\n",
              "  <thead>\n",
              "    <tr style=\"text-align: right;\">\n",
              "      <th></th>\n",
              "      <th>proportion</th>\n",
              "    </tr>\n",
              "    <tr>\n",
              "      <th>rating</th>\n",
              "      <th></th>\n",
              "    </tr>\n",
              "  </thead>\n",
              "  <tbody>\n",
              "    <tr>\n",
              "      <th>Not given</th>\n",
              "      <td>38.78</td>\n",
              "    </tr>\n",
              "    <tr>\n",
              "      <th>5</th>\n",
              "      <td>30.98</td>\n",
              "    </tr>\n",
              "    <tr>\n",
              "      <th>4</th>\n",
              "      <td>20.34</td>\n",
              "    </tr>\n",
              "    <tr>\n",
              "      <th>3</th>\n",
              "      <td>9.91</td>\n",
              "    </tr>\n",
              "  </tbody>\n",
              "</table>\n",
              "</div><br><label><b>dtype:</b> float64</label>"
            ]
          },
          "metadata": {},
          "execution_count": 29
        }
      ]
    },
    {
      "cell_type": "code",
      "source": [
        "#Check the percentage of each rating given (ie. excluding not-given).\n",
        "\n",
        "ratings_given = df[df['rating'] != 'Not given'].copy()\n",
        "ratings_given['rating'].astype(int)\n",
        "(ratings_given['rating'].value_counts(normalize=True)*100).round(2)\n"
      ],
      "metadata": {
        "colab": {
          "base_uri": "https://localhost:8080/",
          "height": 210
        },
        "id": "yzcdjRYP_Ope",
        "outputId": "5d833a77-3ef3-49a3-90d3-96c7f04b720d"
      },
      "execution_count": null,
      "outputs": [
        {
          "output_type": "execute_result",
          "data": {
            "text/plain": [
              "rating\n",
              "5    50.60\n",
              "4    33.22\n",
              "3    16.18\n",
              "Name: proportion, dtype: float64"
            ],
            "text/html": [
              "<div>\n",
              "<style scoped>\n",
              "    .dataframe tbody tr th:only-of-type {\n",
              "        vertical-align: middle;\n",
              "    }\n",
              "\n",
              "    .dataframe tbody tr th {\n",
              "        vertical-align: top;\n",
              "    }\n",
              "\n",
              "    .dataframe thead th {\n",
              "        text-align: right;\n",
              "    }\n",
              "</style>\n",
              "<table border=\"1\" class=\"dataframe\">\n",
              "  <thead>\n",
              "    <tr style=\"text-align: right;\">\n",
              "      <th></th>\n",
              "      <th>proportion</th>\n",
              "    </tr>\n",
              "    <tr>\n",
              "      <th>rating</th>\n",
              "      <th></th>\n",
              "    </tr>\n",
              "  </thead>\n",
              "  <tbody>\n",
              "    <tr>\n",
              "      <th>5</th>\n",
              "      <td>50.60</td>\n",
              "    </tr>\n",
              "    <tr>\n",
              "      <th>4</th>\n",
              "      <td>33.22</td>\n",
              "    </tr>\n",
              "    <tr>\n",
              "      <th>3</th>\n",
              "      <td>16.18</td>\n",
              "    </tr>\n",
              "  </tbody>\n",
              "</table>\n",
              "</div><br><label><b>dtype:</b> float64</label>"
            ]
          },
          "metadata": {},
          "execution_count": 30
        }
      ]
    },
    {
      "cell_type": "code",
      "execution_count": null,
      "metadata": {
        "id": "aP_djdHY2rdM",
        "scrolled": true,
        "colab": {
          "base_uri": "https://localhost:8080/",
          "height": 467
        },
        "outputId": "577ee58c-88c3-40c2-adf6-f890b6390257"
      },
      "outputs": [
        {
          "output_type": "execute_result",
          "data": {
            "text/plain": [
              "<Axes: xlabel='rating', ylabel='count'>"
            ]
          },
          "metadata": {},
          "execution_count": 33
        },
        {
          "output_type": "display_data",
          "data": {
            "text/plain": [
              "<Figure size 640x480 with 1 Axes>"
            ],
            "image/png": "[encoded data removed]"
          },
          "metadata": {}
        }
      ],
      "source": [
        " ## Plot bar graph for 'rating' column\n",
        "sns.countplot(data = df, x = 'rating')"
      ]
    },
    {
      "cell_type": "code",
      "source": [
        "rating_count = df['rating'].value_counts().reset_index()\n",
        "rating_count.columns = ['Rating', 'Count']\n",
        "\n",
        "fig = px.bar(data_frame=rating_count, x='Rating', y='Count', title='Customer ratings', text='Count')\n",
        "fig.show()"
      ],
      "metadata": {
        "colab": {
          "base_uri": "https://localhost:8080/",
          "height": 542
        },
        "id": "X1WKbMsS913T",
        "outputId": "79253a8b-c73c-45fe-c6c4-03b16f2df6c0"
      },
      "execution_count": null,
      "outputs": [
        {
          "output_type": "display_data",
          "data": {
            "text/html": [
              "<html>\n",
              "<head><meta charset=\"utf-8\" /></head>\n",
              "<body>\n",
              "    <div>            <script src=\"https://cdnjs.cloudflare.com/ajax/libs/mathjax/2.7.5/MathJax.js?config=TeX-AMS-MML_SVG\"></script><script type=\"text/javascript\">if (window.MathJax && window.MathJax.Hub && window.MathJax.Hub.Config) {window.MathJax.Hub.Config({SVG: {font: \"STIX-Web\"}});}</script>                <script type=\"text/javascript\">window.PlotlyConfig = {MathJaxConfig: 'local'};</script>\n",
              "        <script charset=\"utf-8\" src=\"https://cdn.plot.ly/plotly-2.35.2.min.js\"></script>                <div id=\"9dd2b632-1145-4efd-9a88-4e05c91a3430\" class=\"plotly-graph-div\" style=\"height:525px; width:100%;\"></div>            <script type=\"text/javascript\">                                    window.PLOTLYENV=window.PLOTLYENV || {};                                    if (document.getElementById(\"9dd2b632-1145-4efd-9a88-4e05c91a3430\")) {                    Plotly.newPlot(                        \"9dd2b632-1145-4efd-9a88-4e05c91a3430\",                        [{\"alignmentgroup\":\"True\",\"hovertemplate\":\"Rating=%{x}\\u003cbr\\u003eCount=%{text}\\u003cextra\\u003e\\u003c\\u002fextra\\u003e\",\"legendgroup\":\"\",\"marker\":{\"color\":\"#636efa\",\"pattern\":{\"shape\":\"\"}},\"name\":\"\",\"offsetgroup\":\"\",\"orientation\":\"v\",\"showlegend\":false,\"text\":[736.0,588.0,386.0,188.0],\"textposition\":\"auto\",\"x\":[\"Not given\",\"5\",\"4\",\"3\"],\"xaxis\":\"x\",\"y\":[736,588,386,188],\"yaxis\":\"y\",\"type\":\"bar\"}],                        {\"template\":{\"data\":{\"histogram2dcontour\":[{\"type\":\"histogram2dcontour\",\"colorbar\":{\"outlinewidth\":0,\"ticks\":\"\"},\"colorscale\":[[0.0,\"#0d0887\"],[0.1111111111111111,\"#46039f\"],[0.2222222222222222,\"#7201a8\"],[0.3333333333333333,\"#9c179e\"],[0.4444444444444444,\"#bd3786\"],[0.5555555555555556,\"#d8576b\"],[0.6666666666666666,\"#ed7953\"],[0.7777777777777778,\"#fb9f3a\"],[0.8888888888888888,\"#fdca26\"],[1.0,\"#f0f921\"]]}],\"choropleth\":[{\"type\":\"choropleth\",\"colorbar\":{\"outlinewidth\":0,\"ticks\":\"\"}}],\"histogram2d\":[{\"type\":\"histogram2d\",\"colorbar\":{\"outlinewidth\":0,\"ticks\":\"\"},\"colorscale\":[[0.0,\"#0d0887\"],[0.1111111111111111,\"#46039f\"],[0.2222222222222222,\"#7201a8\"],[0.3333333333333333,\"#9c179e\"],[0.4444444444444444,\"#bd3786\"],[0.5555555555555556,\"#d8576b\"],[0.6666666666666666,\"#ed7953\"],[0.7777777777777778,\"#fb9f3a\"],[0.8888888888888888,\"#fdca26\"],[1.0,\"#f0f921\"]]}],\"heatmap\":[{\"type\":\"heatmap\",\"colorbar\":{\"outlinewidth\":0,\"ticks\":\"\"},\"colorscale\":[[0.0,\"#0d0887\"],[0.1111111111111111,\"#46039f\"],[0.2222222222222222,\"#7201a8\"],[0.3333333333333333,\"#9c179e\"],[0.4444444444444444,\"#bd3786\"],[0.5555555555555556,\"#d8576b\"],[0.6666666666666666,\"#ed7953\"],[0.7777777777777778,\"#fb9f3a\"],[0.8888888888888888,\"#fdca26\"],[1.0,\"#f0f921\"]]}],\"heatmapgl\":[{\"type\":\"heatmapgl\",\"colorbar\":{\"outlinewidth\":0,\"ticks\":\"\"},\"colorscale\":[[0.0,\"#0d0887\"],[0.1111111111111111,\"#46039f\"],[0.2222222222222222,\"#7201a8\"],[0.3333333333333333,\"#9c179e\"],[0.4444444444444444,\"#bd3786\"],[0.5555555555555556,\"#d8576b\"],[0.6666666666666666,\"#ed7953\"],[0.7777777777777778,\"#fb9f3a\"],[0.8888888888888888,\"#fdca26\"],[1.0,\"#f0f921\"]]}],\"contourcarpet\":[{\"type\":\"contourcarpet\",\"colorbar\":{\"outlinewidth\":0,\"ticks\":\"\"}}],\"contour\":[{\"type\":\"contour\",\"colorbar\":{\"outlinewidth\":0,\"ticks\":\"\"},\"colorscale\":[[0.0,\"#0d0887\"],[0.1111111111111111,\"#46039f\"],[0.2222222222222222,\"#7201a8\"],[0.3333333333333333,\"#9c179e\"],[0.4444444444444444,\"#bd3786\"],[0.5555555555555556,\"#d8576b\"],[0.6666666666666666,\"#ed7953\"],[0.7777777777777778,\"#fb9f3a\"],[0.8888888888888888,\"#fdca26\"],[1.0,\"#f0f921\"]]}],\"surface\":[{\"type\":\"surface\",\"colorbar\":{\"outlinewidth\":0,\"ticks\":\"\"},\"colorscale\":[[0.0,\"#0d0887\"],[0.1111111111111111,\"#46039f\"],[0.2222222222222222,\"#7201a8\"],[0.3333333333333333,\"#9c179e\"],[0.4444444444444444,\"#bd3786\"],[0.5555555555555556,\"#d8576b\"],[0.6666666666666666,\"#ed7953\"],[0.7777777777777778,\"#fb9f3a\"],[0.8888888888888888,\"#fdca26\"],[1.0,\"#f0f921\"]]}],\"mesh3d\":[{\"type\":\"mesh3d\",\"colorbar\":{\"outlinewidth\":0,\"ticks\":\"\"}}],\"scatter\":[{\"fillpattern\":{\"fillmode\":\"overlay\",\"size\":10,\"solidity\":0.2},\"type\":\"scatter\"}],\"parcoords\":[{\"type\":\"parcoords\",\"line\":{\"colorbar\":{\"outlinewidth\":0,\"ticks\":\"\"}}}],\"scatterpolargl\":[{\"type\":\"scatterpolargl\",\"marker\":{\"colorbar\":{\"outlinewidth\":0,\"ticks\":\"\"}}}],\"bar\":[{\"error_x\":{\"color\":\"#2a3f5f\"},\"error_y\":{\"color\":\"#2a3f5f\"},\"marker\":{\"line\":{\"color\":\"#E5ECF6\",\"width\":0.5},\"pattern\":{\"fillmode\":\"overlay\",\"size\":10,\"solidity\":0.2}},\"type\":\"bar\"}],\"scattergeo\":[{\"type\":\"scattergeo\",\"marker\":{\"colorbar\":{\"outlinewidth\":0,\"ticks\":\"\"}}}],\"scatterpolar\":[{\"type\":\"scatterpolar\",\"marker\":{\"colorbar\":{\"outlinewidth\":0,\"ticks\":\"\"}}}],\"histogram\":[{\"marker\":{\"pattern\":{\"fillmode\":\"overlay\",\"size\":10,\"solidity\":0.2}},\"type\":\"histogram\"}],\"scattergl\":[{\"type\":\"scattergl\",\"marker\":{\"colorbar\":{\"outlinewidth\":0,\"ticks\":\"\"}}}],\"scatter3d\":[{\"type\":\"scatter3d\",\"line\":{\"colorbar\":{\"outlinewidth\":0,\"ticks\":\"\"}},\"marker\":{\"colorbar\":{\"outlinewidth\":0,\"ticks\":\"\"}}}],\"scattermapbox\":[{\"type\":\"scattermapbox\",\"marker\":{\"colorbar\":{\"outlinewidth\":0,\"ticks\":\"\"}}}],\"scatterternary\":[{\"type\":\"scatterternary\",\"marker\":{\"colorbar\":{\"outlinewidth\":0,\"ticks\":\"\"}}}],\"scattercarpet\":[{\"type\":\"scattercarpet\",\"marker\":{\"colorbar\":{\"outlinewidth\":0,\"ticks\":\"\"}}}],\"carpet\":[{\"aaxis\":{\"endlinecolor\":\"#2a3f5f\",\"gridcolor\":\"white\",\"linecolor\":\"white\",\"minorgridcolor\":\"white\",\"startlinecolor\":\"#2a3f5f\"},\"baxis\":{\"endlinecolor\":\"#2a3f5f\",\"gridcolor\":\"white\",\"linecolor\":\"white\",\"minorgridcolor\":\"white\",\"startlinecolor\":\"#2a3f5f\"},\"type\":\"carpet\"}],\"table\":[{\"cells\":{\"fill\":{\"color\":\"#EBF0F8\"},\"line\":{\"color\":\"white\"}},\"header\":{\"fill\":{\"color\":\"#C8D4E3\"},\"line\":{\"color\":\"white\"}},\"type\":\"table\"}],\"barpolar\":[{\"marker\":{\"line\":{\"color\":\"#E5ECF6\",\"width\":0.5},\"pattern\":{\"fillmode\":\"overlay\",\"size\":10,\"solidity\":0.2}},\"type\":\"barpolar\"}],\"pie\":[{\"automargin\":true,\"type\":\"pie\"}]},\"layout\":{\"autotypenumbers\":\"strict\",\"colorway\":[\"#636efa\",\"#EF553B\",\"#00cc96\",\"#ab63fa\",\"#FFA15A\",\"#19d3f3\",\"#FF6692\",\"#B6E880\",\"#FF97FF\",\"#FECB52\"],\"font\":{\"color\":\"#2a3f5f\"},\"hovermode\":\"closest\",\"hoverlabel\":{\"align\":\"left\"},\"paper_bgcolor\":\"white\",\"plot_bgcolor\":\"#E5ECF6\",\"polar\":{\"bgcolor\":\"#E5ECF6\",\"angularaxis\":{\"gridcolor\":\"white\",\"linecolor\":\"white\",\"ticks\":\"\"},\"radialaxis\":{\"gridcolor\":\"white\",\"linecolor\":\"white\",\"ticks\":\"\"}},\"ternary\":{\"bgcolor\":\"#E5ECF6\",\"aaxis\":{\"gridcolor\":\"white\",\"linecolor\":\"white\",\"ticks\":\"\"},\"baxis\":{\"gridcolor\":\"white\",\"linecolor\":\"white\",\"ticks\":\"\"},\"caxis\":{\"gridcolor\":\"white\",\"linecolor\":\"white\",\"ticks\":\"\"}},\"coloraxis\":{\"colorbar\":{\"outlinewidth\":0,\"ticks\":\"\"}},\"colorscale\":{\"sequential\":[[0.0,\"#0d0887\"],[0.1111111111111111,\"#46039f\"],[0.2222222222222222,\"#7201a8\"],[0.3333333333333333,\"#9c179e\"],[0.4444444444444444,\"#bd3786\"],[0.5555555555555556,\"#d8576b\"],[0.6666666666666666,\"#ed7953\"],[0.7777777777777778,\"#fb9f3a\"],[0.8888888888888888,\"#fdca26\"],[1.0,\"#f0f921\"]],\"sequentialminus\":[[0.0,\"#0d0887\"],[0.1111111111111111,\"#46039f\"],[0.2222222222222222,\"#7201a8\"],[0.3333333333333333,\"#9c179e\"],[0.4444444444444444,\"#bd3786\"],[0.5555555555555556,\"#d8576b\"],[0.6666666666666666,\"#ed7953\"],[0.7777777777777778,\"#fb9f3a\"],[0.8888888888888888,\"#fdca26\"],[1.0,\"#f0f921\"]],\"diverging\":[[0,\"#8e0152\"],[0.1,\"#c51b7d\"],[0.2,\"#de77ae\"],[0.3,\"#f1b6da\"],[0.4,\"#fde0ef\"],[0.5,\"#f7f7f7\"],[0.6,\"#e6f5d0\"],[0.7,\"#b8e186\"],[0.8,\"#7fbc41\"],[0.9,\"#4d9221\"],[1,\"#276419\"]]},\"xaxis\":{\"gridcolor\":\"white\",\"linecolor\":\"white\",\"ticks\":\"\",\"title\":{\"standoff\":15},\"zerolinecolor\":\"white\",\"automargin\":true,\"zerolinewidth\":2},\"yaxis\":{\"gridcolor\":\"white\",\"linecolor\":\"white\",\"ticks\":\"\",\"title\":{\"standoff\":15},\"zerolinecolor\":\"white\",\"automargin\":true,\"zerolinewidth\":2},\"scene\":{\"xaxis\":{\"backgroundcolor\":\"#E5ECF6\",\"gridcolor\":\"white\",\"linecolor\":\"white\",\"showbackground\":true,\"ticks\":\"\",\"zerolinecolor\":\"white\",\"gridwidth\":2},\"yaxis\":{\"backgroundcolor\":\"#E5ECF6\",\"gridcolor\":\"white\",\"linecolor\":\"white\",\"showbackground\":true,\"ticks\":\"\",\"zerolinecolor\":\"white\",\"gridwidth\":2},\"zaxis\":{\"backgroundcolor\":\"#E5ECF6\",\"gridcolor\":\"white\",\"linecolor\":\"white\",\"showbackground\":true,\"ticks\":\"\",\"zerolinecolor\":\"white\",\"gridwidth\":2}},\"shapedefaults\":{\"line\":{\"color\":\"#2a3f5f\"}},\"annotationdefaults\":{\"arrowcolor\":\"#2a3f5f\",\"arrowhead\":0,\"arrowwidth\":1},\"geo\":{\"bgcolor\":\"white\",\"landcolor\":\"#E5ECF6\",\"subunitcolor\":\"white\",\"showland\":true,\"showlakes\":true,\"lakecolor\":\"white\"},\"title\":{\"x\":0.05},\"mapbox\":{\"style\":\"light\"}}},\"xaxis\":{\"anchor\":\"y\",\"domain\":[0.0,1.0],\"title\":{\"text\":\"Rating\"}},\"yaxis\":{\"anchor\":\"x\",\"domain\":[0.0,1.0],\"title\":{\"text\":\"Count\"}},\"legend\":{\"tracegroupgap\":0},\"title\":{\"text\":\"Customer ratings\"},\"barmode\":\"relative\"},                        {\"responsive\": true}                    ).then(function(){\n",
              "                            \n",
              "var gd = document.getElementById('9dd2b632-1145-4efd-9a88-4e05c91a3430');\n",
              "var x = new MutationObserver(function (mutations, observer) {{\n",
              "        var display = window.getComputedStyle(gd).display;\n",
              "        if (!display || display === 'none') {{\n",
              "            console.log([gd, 'removed!']);\n",
              "            Plotly.purge(gd);\n",
              "            observer.disconnect();\n",
              "        }}\n",
              "}});\n",
              "\n",
              "// Listen for the removal of the full notebook cells\n",
              "var notebookContainer = gd.closest('#notebook-container');\n",
              "if (notebookContainer) {{\n",
              "    x.observe(notebookContainer, {childList: true});\n",
              "}}\n",
              "\n",
              "// Listen for the clearing of the current output cell\n",
              "var outputEl = gd.closest('.output');\n",
              "if (outputEl) {{\n",
              "    x.observe(outputEl, {childList: true});\n",
              "}}\n",
              "\n",
              "                        })                };                            </script>        </div>\n",
              "</body>\n",
              "</html>"
            ]
          },
          "metadata": {}
        }
      ]
    },
    {
      "cell_type": "code",
      "source": [
        "# Average rating by cusine?\n",
        "df.groupby('cuisine_type')['new_rating'].mean().sort_values(ascending=False)"
      ],
      "metadata": {
        "colab": {
          "base_uri": "https://localhost:8080/",
          "height": 311
        },
        "id": "qBu0O2-ZVA-7",
        "outputId": "25a73757-7ed1-49be-93b2-38d12e33f78e"
      },
      "execution_count": null,
      "outputs": [
        {
          "output_type": "error",
          "ename": "KeyError",
          "evalue": "'Column not found: new_rating'",
          "traceback": [
            "\u001b[0;31m---------------------------------------------------------------------------\u001b[0m",
            "\u001b[0;31mKeyError\u001b[0m                                  Traceback (most recent call last)",
            "\u001b[0;32m/tmp/ipython-input-1275277012.py\u001b[0m in \u001b[0;36m<cell line: 0>\u001b[0;34m()\u001b[0m\n\u001b[1;32m      1\u001b[0m \u001b[0;31m# Average rating by cusine?\u001b[0m\u001b[0;34m\u001b[0m\u001b[0;34m\u001b[0m\u001b[0m\n\u001b[0;32m----> 2\u001b[0;31m \u001b[0mdf\u001b[0m\u001b[0;34m.\u001b[0m\u001b[0mgroupby\u001b[0m\u001b[0;34m(\u001b[0m\u001b[0;34m'cuisine_type'\u001b[0m\u001b[0;34m)\u001b[0m\u001b[0;34m[\u001b[0m\u001b[0;34m'new_rating'\u001b[0m\u001b[0;34m]\u001b[0m\u001b[0;34m.\u001b[0m\u001b[0mmean\u001b[0m\u001b[0;34m(\u001b[0m\u001b[0;34m)\u001b[0m\u001b[0;34m.\u001b[0m\u001b[0msort_values\u001b[0m\u001b[0;34m(\u001b[0m\u001b[0mascending\u001b[0m\u001b[0;34m=\u001b[0m\u001b[0;32mFalse\u001b[0m\u001b[0;34m)\u001b[0m\u001b[0;34m\u001b[0m\u001b[0;34m\u001b[0m\u001b[0m\n\u001b[0m",
            "\u001b[0;32m/usr/local/lib/python3.12/dist-packages/pandas/core/groupby/generic.py\u001b[0m in \u001b[0;36m__getitem__\u001b[0;34m(self, key)\u001b[0m\n\u001b[1;32m   1949\u001b[0m                 \u001b[0;34m\"Use a list instead.\"\u001b[0m\u001b[0;34m\u001b[0m\u001b[0;34m\u001b[0m\u001b[0m\n\u001b[1;32m   1950\u001b[0m             )\n\u001b[0;32m-> 1951\u001b[0;31m         \u001b[0;32mreturn\u001b[0m \u001b[0msuper\u001b[0m\u001b[0;34m(\u001b[0m\u001b[0;34m)\u001b[0m\u001b[0;34m.\u001b[0m\u001b[0m__getitem__\u001b[0m\u001b[0;34m(\u001b[0m\u001b[0mkey\u001b[0m\u001b[0;34m)\u001b[0m\u001b[0;34m\u001b[0m\u001b[0;34m\u001b[0m\u001b[0m\n\u001b[0m\u001b[1;32m   1952\u001b[0m \u001b[0;34m\u001b[0m\u001b[0m\n\u001b[1;32m   1953\u001b[0m     \u001b[0;32mdef\u001b[0m \u001b[0m_gotitem\u001b[0m\u001b[0;34m(\u001b[0m\u001b[0mself\u001b[0m\u001b[0;34m,\u001b[0m \u001b[0mkey\u001b[0m\u001b[0;34m,\u001b[0m \u001b[0mndim\u001b[0m\u001b[0;34m:\u001b[0m \u001b[0mint\u001b[0m\u001b[0;34m,\u001b[0m \u001b[0msubset\u001b[0m\u001b[0;34m=\u001b[0m\u001b[0;32mNone\u001b[0m\u001b[0;34m)\u001b[0m\u001b[0;34m:\u001b[0m\u001b[0;34m\u001b[0m\u001b[0;34m\u001b[0m\u001b[0m\n",
            "\u001b[0;32m/usr/local/lib/python3.12/dist-packages/pandas/core/base.py\u001b[0m in \u001b[0;36m__getitem__\u001b[0;34m(self, key)\u001b[0m\n\u001b[1;32m    242\u001b[0m         \u001b[0;32melse\u001b[0m\u001b[0;34m:\u001b[0m\u001b[0;34m\u001b[0m\u001b[0;34m\u001b[0m\u001b[0m\n\u001b[1;32m    243\u001b[0m             \u001b[0;32mif\u001b[0m \u001b[0mkey\u001b[0m \u001b[0;32mnot\u001b[0m \u001b[0;32min\u001b[0m \u001b[0mself\u001b[0m\u001b[0;34m.\u001b[0m\u001b[0mobj\u001b[0m\u001b[0;34m:\u001b[0m\u001b[0;34m\u001b[0m\u001b[0;34m\u001b[0m\u001b[0m\n\u001b[0;32m--> 244\u001b[0;31m                 \u001b[0;32mraise\u001b[0m \u001b[0mKeyError\u001b[0m\u001b[0;34m(\u001b[0m\u001b[0;34mf\"Column not found: {key}\"\u001b[0m\u001b[0;34m)\u001b[0m\u001b[0;34m\u001b[0m\u001b[0;34m\u001b[0m\u001b[0m\n\u001b[0m\u001b[1;32m    245\u001b[0m             \u001b[0mndim\u001b[0m \u001b[0;34m=\u001b[0m \u001b[0mself\u001b[0m\u001b[0;34m.\u001b[0m\u001b[0mobj\u001b[0m\u001b[0;34m[\u001b[0m\u001b[0mkey\u001b[0m\u001b[0;34m]\u001b[0m\u001b[0;34m.\u001b[0m\u001b[0mndim\u001b[0m\u001b[0;34m\u001b[0m\u001b[0;34m\u001b[0m\u001b[0m\n\u001b[1;32m    246\u001b[0m             \u001b[0;32mreturn\u001b[0m \u001b[0mself\u001b[0m\u001b[0;34m.\u001b[0m\u001b[0m_gotitem\u001b[0m\u001b[0;34m(\u001b[0m\u001b[0mkey\u001b[0m\u001b[0;34m,\u001b[0m \u001b[0mndim\u001b[0m\u001b[0;34m=\u001b[0m\u001b[0mndim\u001b[0m\u001b[0;34m)\u001b[0m\u001b[0;34m\u001b[0m\u001b[0;34m\u001b[0m\u001b[0m\n",
            "\u001b[0;31mKeyError\u001b[0m: 'Column not found: new_rating'"
          ]
        }
      ]
    },
    {
      "cell_type": "markdown",
      "metadata": {
        "id": "OP1gYWnR2rdM"
      },
      "source": [
        "#### Food Preparation time"
      ]
    },
    {
      "cell_type": "code",
      "execution_count": null,
      "metadata": {
        "id": "TYiF3h3t2rdM",
        "scrolled": true,
        "colab": {
          "base_uri": "https://localhost:8080/",
          "height": 883
        },
        "outputId": "3d504867-6f7a-4b33-bdbe-26686d70c906"
      },
      "outputs": [
        {
          "output_type": "display_data",
          "data": {
            "text/plain": [
              "<Figure size 640x480 with 1 Axes>"
            ],
            "image/png": "[encoded data removed]"
          },
          "metadata": {}
        },
        {
          "output_type": "display_data",
          "data": {
            "text/plain": [
              "<Figure size 640x480 with 1 Axes>"
            ],
            "image/png": "[encoded data removed]"
          },
          "metadata": {}
        }
      ],
      "source": [
        "sns.histplot(data=df,x='food_preparation_time')\n",
        "plt.show()\n",
        "sns.boxplot(data=df,x='food_preparation_time')\n",
        "plt.show()"
      ]
    },
    {
      "cell_type": "code",
      "source": [
        "# Plotly graphs.\n",
        "food_prep_time_counts = df['food_preparation_time'].value_counts().reset_index().copy()\n",
        "food_prep_time_counts.columns = ['Food Preparation Time', 'Count']\n",
        "\n",
        "fig = px.bar(data_frame=food_prep_time_counts, x='Food Preparation Time', y='Count', text='Count')\n",
        "fig.show();\n",
        "fig = px.box(data_frame=df, x='food_preparation_time', title='Food Preparation Time')\n",
        "fig.show();"
      ],
      "metadata": {
        "colab": {
          "base_uri": "https://localhost:8080/",
          "height": 1000
        },
        "id": "Z7x7WarXPwPd",
        "outputId": "441ef84d-ae7b-4416-fc05-f156e3e9e5d7"
      },
      "execution_count": null,
      "outputs": [
        {
          "output_type": "display_data",
          "data": {
            "text/html": [
              "<html>\n",
              "<head><meta charset=\"utf-8\" /></head>\n",
              "<body>\n",
              "    <div>            <script src=\"https://cdnjs.cloudflare.com/ajax/libs/mathjax/2.7.5/MathJax.js?config=TeX-AMS-MML_SVG\"></script><script type=\"text/javascript\">if (window.MathJax && window.MathJax.Hub && window.MathJax.Hub.Config) {window.MathJax.Hub.Config({SVG: {font: \"STIX-Web\"}});}</script>                <script type=\"text/javascript\">window.PlotlyConfig = {MathJaxConfig: 'local'};</script>\n",
              "        <script charset=\"utf-8\" src=\"https://cdn.plot.ly/plotly-2.35.2.min.js\"></script>                <div id=\"2ab743fb-d5c6-4839-a632-d9cb1e7da6a4\" class=\"plotly-graph-div\" style=\"height:525px; width:100%;\"></div>            <script type=\"text/javascript\">                                    window.PLOTLYENV=window.PLOTLYENV || {};                                    if (document.getElementById(\"2ab743fb-d5c6-4839-a632-d9cb1e7da6a4\")) {                    Plotly.newPlot(                        \"2ab743fb-d5c6-4839-a632-d9cb1e7da6a4\",                        [{\"alignmentgroup\":\"True\",\"hovertemplate\":\"Food Preparation Time=%{x}\\u003cbr\\u003eCount=%{text}\\u003cextra\\u003e\\u003c\\u002fextra\\u003e\",\"legendgroup\":\"\",\"marker\":{\"color\":\"#636efa\",\"pattern\":{\"shape\":\"\"}},\"name\":\"\",\"offsetgroup\":\"\",\"orientation\":\"v\",\"showlegend\":false,\"text\":[135.0,123.0,123.0,123.0,121.0,121.0,119.0,119.0,118.0,117.0,116.0,115.0,113.0,113.0,113.0,109.0],\"textposition\":\"auto\",\"x\":[21,23,27,22,28,24,30,20,33,35,31,26,25,34,32,29],\"xaxis\":\"x\",\"y\":[135,123,123,123,121,121,119,119,118,117,116,115,113,113,113,109],\"yaxis\":\"y\",\"type\":\"bar\"}],                        {\"template\":{\"data\":{\"histogram2dcontour\":[{\"type\":\"histogram2dcontour\",\"colorbar\":{\"outlinewidth\":0,\"ticks\":\"\"},\"colorscale\":[[0.0,\"#0d0887\"],[0.1111111111111111,\"#46039f\"],[0.2222222222222222,\"#7201a8\"],[0.3333333333333333,\"#9c179e\"],[0.4444444444444444,\"#bd3786\"],[0.5555555555555556,\"#d8576b\"],[0.6666666666666666,\"#ed7953\"],[0.7777777777777778,\"#fb9f3a\"],[0.8888888888888888,\"#fdca26\"],[1.0,\"#f0f921\"]]}],\"choropleth\":[{\"type\":\"choropleth\",\"colorbar\":{\"outlinewidth\":0,\"ticks\":\"\"}}],\"histogram2d\":[{\"type\":\"histogram2d\",\"colorbar\":{\"outlinewidth\":0,\"ticks\":\"\"},\"colorscale\":[[0.0,\"#0d0887\"],[0.1111111111111111,\"#46039f\"],[0.2222222222222222,\"#7201a8\"],[0.3333333333333333,\"#9c179e\"],[0.4444444444444444,\"#bd3786\"],[0.5555555555555556,\"#d8576b\"],[0.6666666666666666,\"#ed7953\"],[0.7777777777777778,\"#fb9f3a\"],[0.8888888888888888,\"#fdca26\"],[1.0,\"#f0f921\"]]}],\"heatmap\":[{\"type\":\"heatmap\",\"colorbar\":{\"outlinewidth\":0,\"ticks\":\"\"},\"colorscale\":[[0.0,\"#0d0887\"],[0.1111111111111111,\"#46039f\"],[0.2222222222222222,\"#7201a8\"],[0.3333333333333333,\"#9c179e\"],[0.4444444444444444,\"#bd3786\"],[0.5555555555555556,\"#d8576b\"],[0.6666666666666666,\"#ed7953\"],[0.7777777777777778,\"#fb9f3a\"],[0.8888888888888888,\"#fdca26\"],[1.0,\"#f0f921\"]]}],\"heatmapgl\":[{\"type\":\"heatmapgl\",\"colorbar\":{\"outlinewidth\":0,\"ticks\":\"\"},\"colorscale\":[[0.0,\"#0d0887\"],[0.1111111111111111,\"#46039f\"],[0.2222222222222222,\"#7201a8\"],[0.3333333333333333,\"#9c179e\"],[0.4444444444444444,\"#bd3786\"],[0.5555555555555556,\"#d8576b\"],[0.6666666666666666,\"#ed7953\"],[0.7777777777777778,\"#fb9f3a\"],[0.8888888888888888,\"#fdca26\"],[1.0,\"#f0f921\"]]}],\"contourcarpet\":[{\"type\":\"contourcarpet\",\"colorbar\":{\"outlinewidth\":0,\"ticks\":\"\"}}],\"contour\":[{\"type\":\"contour\",\"colorbar\":{\"outlinewidth\":0,\"ticks\":\"\"},\"colorscale\":[[0.0,\"#0d0887\"],[0.1111111111111111,\"#46039f\"],[0.2222222222222222,\"#7201a8\"],[0.3333333333333333,\"#9c179e\"],[0.4444444444444444,\"#bd3786\"],[0.5555555555555556,\"#d8576b\"],[0.6666666666666666,\"#ed7953\"],[0.7777777777777778,\"#fb9f3a\"],[0.8888888888888888,\"#fdca26\"],[1.0,\"#f0f921\"]]}],\"surface\":[{\"type\":\"surface\",\"colorbar\":{\"outlinewidth\":0,\"ticks\":\"\"},\"colorscale\":[[0.0,\"#0d0887\"],[0.1111111111111111,\"#46039f\"],[0.2222222222222222,\"#7201a8\"],[0.3333333333333333,\"#9c179e\"],[0.4444444444444444,\"#bd3786\"],[0.5555555555555556,\"#d8576b\"],[0.6666666666666666,\"#ed7953\"],[0.7777777777777778,\"#fb9f3a\"],[0.8888888888888888,\"#fdca26\"],[1.0,\"#f0f921\"]]}],\"mesh3d\":[{\"type\":\"mesh3d\",\"colorbar\":{\"outlinewidth\":0,\"ticks\":\"\"}}],\"scatter\":[{\"fillpattern\":{\"fillmode\":\"overlay\",\"size\":10,\"solidity\":0.2},\"type\":\"scatter\"}],\"parcoords\":[{\"type\":\"parcoords\",\"line\":{\"colorbar\":{\"outlinewidth\":0,\"ticks\":\"\"}}}],\"scatterpolargl\":[{\"type\":\"scatterpolargl\",\"marker\":{\"colorbar\":{\"outlinewidth\":0,\"ticks\":\"\"}}}],\"bar\":[{\"error_x\":{\"color\":\"#2a3f5f\"},\"error_y\":{\"color\":\"#2a3f5f\"},\"marker\":{\"line\":{\"color\":\"#E5ECF6\",\"width\":0.5},\"pattern\":{\"fillmode\":\"overlay\",\"size\":10,\"solidity\":0.2}},\"type\":\"bar\"}],\"scattergeo\":[{\"type\":\"scattergeo\",\"marker\":{\"colorbar\":{\"outlinewidth\":0,\"ticks\":\"\"}}}],\"scatterpolar\":[{\"type\":\"scatterpolar\",\"marker\":{\"colorbar\":{\"outlinewidth\":0,\"ticks\":\"\"}}}],\"histogram\":[{\"marker\":{\"pattern\":{\"fillmode\":\"overlay\",\"size\":10,\"solidity\":0.2}},\"type\":\"histogram\"}],\"scattergl\":[{\"type\":\"scattergl\",\"marker\":{\"colorbar\":{\"outlinewidth\":0,\"ticks\":\"\"}}}],\"scatter3d\":[{\"type\":\"scatter3d\",\"line\":{\"colorbar\":{\"outlinewidth\":0,\"ticks\":\"\"}},\"marker\":{\"colorbar\":{\"outlinewidth\":0,\"ticks\":\"\"}}}],\"scattermapbox\":[{\"type\":\"scattermapbox\",\"marker\":{\"colorbar\":{\"outlinewidth\":0,\"ticks\":\"\"}}}],\"scatterternary\":[{\"type\":\"scatterternary\",\"marker\":{\"colorbar\":{\"outlinewidth\":0,\"ticks\":\"\"}}}],\"scattercarpet\":[{\"type\":\"scattercarpet\",\"marker\":{\"colorbar\":{\"outlinewidth\":0,\"ticks\":\"\"}}}],\"carpet\":[{\"aaxis\":{\"endlinecolor\":\"#2a3f5f\",\"gridcolor\":\"white\",\"linecolor\":\"white\",\"minorgridcolor\":\"white\",\"startlinecolor\":\"#2a3f5f\"},\"baxis\":{\"endlinecolor\":\"#2a3f5f\",\"gridcolor\":\"white\",\"linecolor\":\"white\",\"minorgridcolor\":\"white\",\"startlinecolor\":\"#2a3f5f\"},\"type\":\"carpet\"}],\"table\":[{\"cells\":{\"fill\":{\"color\":\"#EBF0F8\"},\"line\":{\"color\":\"white\"}},\"header\":{\"fill\":{\"color\":\"#C8D4E3\"},\"line\":{\"color\":\"white\"}},\"type\":\"table\"}],\"barpolar\":[{\"marker\":{\"line\":{\"color\":\"#E5ECF6\",\"width\":0.5},\"pattern\":{\"fillmode\":\"overlay\",\"size\":10,\"solidity\":0.2}},\"type\":\"barpolar\"}],\"pie\":[{\"automargin\":true,\"type\":\"pie\"}]},\"layout\":{\"autotypenumbers\":\"strict\",\"colorway\":[\"#636efa\",\"#EF553B\",\"#00cc96\",\"#ab63fa\",\"#FFA15A\",\"#19d3f3\",\"#FF6692\",\"#B6E880\",\"#FF97FF\",\"#FECB52\"],\"font\":{\"color\":\"#2a3f5f\"},\"hovermode\":\"closest\",\"hoverlabel\":{\"align\":\"left\"},\"paper_bgcolor\":\"white\",\"plot_bgcolor\":\"#E5ECF6\",\"polar\":{\"bgcolor\":\"#E5ECF6\",\"angularaxis\":{\"gridcolor\":\"white\",\"linecolor\":\"white\",\"ticks\":\"\"},\"radialaxis\":{\"gridcolor\":\"white\",\"linecolor\":\"white\",\"ticks\":\"\"}},\"ternary\":{\"bgcolor\":\"#E5ECF6\",\"aaxis\":{\"gridcolor\":\"white\",\"linecolor\":\"white\",\"ticks\":\"\"},\"baxis\":{\"gridcolor\":\"white\",\"linecolor\":\"white\",\"ticks\":\"\"},\"caxis\":{\"gridcolor\":\"white\",\"linecolor\":\"white\",\"ticks\":\"\"}},\"coloraxis\":{\"colorbar\":{\"outlinewidth\":0,\"ticks\":\"\"}},\"colorscale\":{\"sequential\":[[0.0,\"#0d0887\"],[0.1111111111111111,\"#46039f\"],[0.2222222222222222,\"#7201a8\"],[0.3333333333333333,\"#9c179e\"],[0.4444444444444444,\"#bd3786\"],[0.5555555555555556,\"#d8576b\"],[0.6666666666666666,\"#ed7953\"],[0.7777777777777778,\"#fb9f3a\"],[0.8888888888888888,\"#fdca26\"],[1.0,\"#f0f921\"]],\"sequentialminus\":[[0.0,\"#0d0887\"],[0.1111111111111111,\"#46039f\"],[0.2222222222222222,\"#7201a8\"],[0.3333333333333333,\"#9c179e\"],[0.4444444444444444,\"#bd3786\"],[0.5555555555555556,\"#d8576b\"],[0.6666666666666666,\"#ed7953\"],[0.7777777777777778,\"#fb9f3a\"],[0.8888888888888888,\"#fdca26\"],[1.0,\"#f0f921\"]],\"diverging\":[[0,\"#8e0152\"],[0.1,\"#c51b7d\"],[0.2,\"#de77ae\"],[0.3,\"#f1b6da\"],[0.4,\"#fde0ef\"],[0.5,\"#f7f7f7\"],[0.6,\"#e6f5d0\"],[0.7,\"#b8e186\"],[0.8,\"#7fbc41\"],[0.9,\"#4d9221\"],[1,\"#276419\"]]},\"xaxis\":{\"gridcolor\":\"white\",\"linecolor\":\"white\",\"ticks\":\"\",\"title\":{\"standoff\":15},\"zerolinecolor\":\"white\",\"automargin\":true,\"zerolinewidth\":2},\"yaxis\":{\"gridcolor\":\"white\",\"linecolor\":\"white\",\"ticks\":\"\",\"title\":{\"standoff\":15},\"zerolinecolor\":\"white\",\"automargin\":true,\"zerolinewidth\":2},\"scene\":{\"xaxis\":{\"backgroundcolor\":\"#E5ECF6\",\"gridcolor\":\"white\",\"linecolor\":\"white\",\"showbackground\":true,\"ticks\":\"\",\"zerolinecolor\":\"white\",\"gridwidth\":2},\"yaxis\":{\"backgroundcolor\":\"#E5ECF6\",\"gridcolor\":\"white\",\"linecolor\":\"white\",\"showbackground\":true,\"ticks\":\"\",\"zerolinecolor\":\"white\",\"gridwidth\":2},\"zaxis\":{\"backgroundcolor\":\"#E5ECF6\",\"gridcolor\":\"white\",\"linecolor\":\"white\",\"showbackground\":true,\"ticks\":\"\",\"zerolinecolor\":\"white\",\"gridwidth\":2}},\"shapedefaults\":{\"line\":{\"color\":\"#2a3f5f\"}},\"annotationdefaults\":{\"arrowcolor\":\"#2a3f5f\",\"arrowhead\":0,\"arrowwidth\":1},\"geo\":{\"bgcolor\":\"white\",\"landcolor\":\"#E5ECF6\",\"subunitcolor\":\"white\",\"showland\":true,\"showlakes\":true,\"lakecolor\":\"white\"},\"title\":{\"x\":0.05},\"mapbox\":{\"style\":\"light\"}}},\"xaxis\":{\"anchor\":\"y\",\"domain\":[0.0,1.0],\"title\":{\"text\":\"Food Preparation Time\"}},\"yaxis\":{\"anchor\":\"x\",\"domain\":[0.0,1.0],\"title\":{\"text\":\"Count\"}},\"legend\":{\"tracegroupgap\":0},\"margin\":{\"t\":60},\"barmode\":\"relative\"},                        {\"responsive\": true}                    ).then(function(){\n",
              "                            \n",
              "var gd = document.getElementById('2ab743fb-d5c6-4839-a632-d9cb1e7da6a4');\n",
              "var x = new MutationObserver(function (mutations, observer) {{\n",
              "        var display = window.getComputedStyle(gd).display;\n",
              "        if (!display || display === 'none') {{\n",
              "            console.log([gd, 'removed!']);\n",
              "            Plotly.purge(gd);\n",
              "            observer.disconnect();\n",
              "        }}\n",
              "}});\n",
              "\n",
              "// Listen for the removal of the full notebook cells\n",
              "var notebookContainer = gd.closest('#notebook-container');\n",
              "if (notebookContainer) {{\n",
              "    x.observe(notebookContainer, {childList: true});\n",
              "}}\n",
              "\n",
              "// Listen for the clearing of the current output cell\n",
              "var outputEl = gd.closest('.output');\n",
              "if (outputEl) {{\n",
              "    x.observe(outputEl, {childList: true});\n",
              "}}\n",
              "\n",
              "                        })                };                            </script>        </div>\n",
              "</body>\n",
              "</html>"
            ]
          },
          "metadata": {}
        },
        {
          "output_type": "display_data",
          "data": {
            "text/html": [
              "<html>\n",
              "<head><meta charset=\"utf-8\" /></head>\n",
              "<body>\n",
              "    <div>            <script src=\"https://cdnjs.cloudflare.com/ajax/libs/mathjax/2.7.5/MathJax.js?config=TeX-AMS-MML_SVG\"></script><script type=\"text/javascript\">if (window.MathJax && window.MathJax.Hub && window.MathJax.Hub.Config) {window.MathJax.Hub.Config({SVG: {font: \"STIX-Web\"}});}</script>                <script type=\"text/javascript\">window.PlotlyConfig = {MathJaxConfig: 'local'};</script>\n",
              "        <script charset=\"utf-8\" src=\"https://cdn.plot.ly/plotly-2.35.2.min.js\"></script>                <div id=\"e06ac10c-4ba8-4b7a-a976-d7dd2f947730\" class=\"plotly-graph-div\" style=\"height:525px; width:100%;\"></div>            <script type=\"text/javascript\">                                    window.PLOTLYENV=window.PLOTLYENV || {};                                    if (document.getElementById(\"e06ac10c-4ba8-4b7a-a976-d7dd2f947730\")) {                    Plotly.newPlot(                        \"e06ac10c-4ba8-4b7a-a976-d7dd2f947730\",                        [{\"alignmentgroup\":\"True\",\"hovertemplate\":\"food_preparation_time=%{x}\\u003cextra\\u003e\\u003c\\u002fextra\\u003e\",\"legendgroup\":\"\",\"marker\":{\"color\":\"#636efa\"},\"name\":\"\",\"notched\":false,\"offsetgroup\":\"\",\"orientation\":\"h\",\"showlegend\":false,\"x\":[25,25,23,25,25,20,28,33,21,29,34,23,23,24,23,33,30,21,25,35,21,25,21,33,32,20,24,24,21,20,28,35,35,34,30,32,23,31,20,27,21,23,22,33,30,29,22,34,27,33,21,27,22,22,35,31,24,25,20,33,28,33,23,22,22,22,24,29,34,24,22,27,28,31,23,30,20,20,31,34,33,21,35,22,34,27,20,33,24,35,31,24,26,31,31,27,29,29,26,33,30,22,26,30,28,26,28,20,26,34,23,20,31,23,31,30,26,22,33,31,26,21,26,31,22,25,34,26,20,24,33,34,29,22,25,31,29,26,30,29,25,21,21,32,22,32,22,25,35,23,30,30,29,27,32,25,33,26,26,31,35,30,28,26,27,29,23,22,32,34,29,21,34,24,33,29,24,25,22,30,32,26,35,26,35,34,26,27,30,31,34,24,24,20,24,29,26,27,35,24,26,30,24,35,20,27,30,33,22,25,28,28,21,26,34,31,30,34,33,21,21,33,33,27,30,27,35,30,20,25,33,35,34,20,24,29,34,24,21,34,35,28,24,34,33,23,21,33,29,28,23,28,31,30,21,25,27,26,21,25,28,24,27,21,31,24,27,28,30,31,22,24,25,23,23,22,26,33,20,24,29,22,35,32,34,31,24,22,24,24,31,30,27,23,28,21,27,23,34,33,20,26,26,23,32,28,32,25,30,31,25,32,23,24,35,20,22,33,26,22,31,20,32,26,27,30,27,26,21,23,23,32,27,21,24,32,31,25,28,29,33,24,21,32,30,30,20,30,33,32,20,25,30,27,26,32,32,20,35,27,22,24,20,26,28,25,34,28,32,34,24,30,33,25,28,33,32,20,32,30,31,20,30,30,22,23,22,22,22,30,28,32,24,33,30,30,23,20,33,29,27,31,21,27,27,30,26,25,28,20,34,23,31,30,31,20,20,30,22,28,26,32,24,28,30,31,30,23,20,30,30,32,21,33,24,33,32,34,29,30,35,28,21,24,35,32,34,23,32,28,26,31,33,32,29,26,26,34,21,30,33,34,22,35,21,26,29,34,35,32,33,25,34,34,27,33,27,22,27,31,34,33,34,27,23,33,23,30,31,29,26,26,25,21,24,27,31,35,34,33,33,20,31,28,35,22,31,30,20,28,35,21,34,34,23,21,22,23,26,32,29,32,29,23,21,24,28,33,34,35,26,22,25,21,20,20,34,28,31,26,29,27,23,22,34,21,20,22,21,32,24,29,35,33,35,26,21,24,21,26,21,30,21,26,25,31,28,20,24,28,20,35,33,21,25,27,23,29,21,23,34,20,27,30,32,30,29,30,25,27,21,29,24,23,21,30,29,31,26,22,35,35,25,30,35,27,34,30,23,35,24,20,33,22,29,27,33,34,33,31,35,24,25,21,28,20,23,27,29,27,28,32,35,20,28,21,25,24,27,32,28,32,26,31,26,24,21,27,33,25,32,24,28,23,22,33,28,27,31,32,34,30,23,35,20,34,24,23,30,35,32,30,34,24,21,26,30,23,28,31,34,26,22,35,31,32,34,28,25,35,23,27,20,25,21,31,20,33,21,28,21,31,26,26,23,22,27,28,26,23,22,24,34,35,30,30,26,22,21,33,33,29,35,29,28,25,26,33,26,29,34,35,32,24,30,27,25,32,24,26,26,28,24,25,35,33,33,33,24,34,21,26,25,25,27,27,20,20,23,24,24,22,22,25,24,26,22,32,27,27,23,35,32,31,21,32,32,33,31,21,25,32,20,34,33,21,28,29,26,27,33,27,25,20,27,28,30,24,28,28,33,20,27,27,31,25,29,25,32,31,31,25,33,29,30,21,22,26,21,27,29,25,29,28,30,28,20,21,20,32,29,20,32,35,23,21,21,30,30,23,35,31,33,23,22,27,35,33,35,27,34,24,25,34,31,23,27,28,35,21,23,28,27,35,27,29,33,23,30,24,23,24,30,33,22,24,32,28,28,23,22,26,35,25,32,28,21,20,20,22,35,35,32,21,20,32,35,34,22,31,20,31,22,35,20,30,22,20,32,35,27,22,29,22,23,32,34,21,22,28,23,20,24,23,34,22,21,22,32,32,27,21,26,22,31,35,22,32,22,34,29,24,23,35,33,22,33,22,31,24,33,30,32,26,30,30,22,24,22,28,31,28,27,22,23,22,29,32,28,34,25,35,34,30,34,31,25,23,25,28,26,25,27,32,31,23,25,33,24,21,23,25,22,30,25,21,24,20,29,25,34,22,31,31,22,25,30,28,34,28,30,33,27,31,27,35,35,27,27,32,25,29,33,23,24,23,26,25,26,23,31,27,34,32,34,30,35,25,27,30,23,34,23,26,24,30,24,34,34,35,22,25,34,30,26,29,26,27,20,22,22,32,33,30,22,35,32,24,26,20,21,30,32,25,25,24,22,25,34,35,32,33,20,27,27,34,21,31,23,33,35,23,28,21,34,27,20,23,24,23,26,20,29,21,34,23,28,30,24,28,34,20,29,21,24,29,20,29,27,29,27,28,20,23,34,23,27,23,20,29,31,24,34,25,24,20,27,24,33,21,31,35,35,25,24,35,28,26,28,21,30,20,25,29,31,26,33,28,23,22,20,25,35,33,20,25,26,25,28,31,25,35,33,35,34,26,23,27,25,31,29,32,21,27,27,35,22,26,20,26,23,29,20,21,29,34,32,34,24,20,25,34,30,30,35,34,24,21,26,26,26,35,25,26,23,25,29,23,21,34,31,30,27,29,24,33,27,35,33,21,21,22,20,27,20,30,21,32,26,21,22,27,34,22,23,20,27,31,34,23,35,29,28,27,20,25,29,21,33,27,21,28,25,31,20,23,22,35,24,29,22,31,20,34,35,30,22,23,32,33,27,34,29,21,28,26,30,26,22,23,33,33,33,24,21,31,26,32,25,28,27,21,28,30,33,32,24,34,22,21,35,27,33,28,29,32,27,24,24,23,31,24,29,21,28,35,21,27,34,23,22,23,29,21,29,28,32,24,28,23,25,27,32,35,29,27,35,22,21,24,25,32,21,34,30,32,31,21,35,32,26,28,31,26,30,30,33,29,20,21,21,28,20,32,30,32,20,33,21,26,22,30,21,31,34,23,22,21,23,27,21,33,35,21,28,25,35,24,33,27,35,33,22,33,22,26,24,25,34,24,22,27,27,21,34,24,32,21,27,22,21,22,34,27,24,23,28,29,32,21,31,29,20,20,27,26,20,22,25,28,34,29,21,20,21,25,25,29,35,26,28,29,20,20,32,29,33,28,30,35,23,21,31,30,25,32,30,33,23,28,31,25,28,34,31,30,32,24,25,32,28,35,34,28,32,25,29,33,31,26,23,29,21,32,27,35,29,24,20,29,25,32,27,26,35,33,21,32,22,23,22,31,28,28,22,24,20,33,26,34,29,29,23,27,21,33,29,23,30,25,22,34,22,25,26,24,20,23,26,23,22,25,20,23,24,33,20,21,28,34,21,31,24,30,31,21,25,28,23,31,21,22,30,34,30,30,29,31,20,23,28,22,30,32,27,32,35,35,34,33,33,28,21,31,24,26,30,22,24,31,21,21,22,26,35,30,26,27,24,20,27,28,20,29,35,21,26,31,28,25,25,27,27,24,31,33,27,28,31,22,30,27,22,20,20,23,30,29,23,23,24,25,31,27,28,33,25,24,23,34,26,31,32,29,20,21,21,22,21,28,25,34,23,20,28,32,35,26,26,21,28,26,32,29,31,25,20,20,21,35,30,35,24,32,29,20,22,28,29,33,33,27,26,31,24,33,25,22,30,30,33,21,28,21,32,29,25,23,32,28,22,25,26,22,29,32,34,23,31,29,29,23,34,30,30,28,28,33,32,35,20,34,22,29,24,24,33,33,32,30,24,28,31,28,34,32,26,22,22,25,31,31,31,23,20,35,29,35,22,26,29,33,24,22,31,27,22,32,32,21,35,29,30,34,35,23,35,28,26,33,33,23,24,34,32,20,25,29,26,24,31,26,31,23,27,20,35,29,20,34,32,27,33,28,33,31,26,24,35,31,21,32,27,25,23,29,22,29,31,31,20,28,35,25,30,22,21,29,35,32,20,32,29,34,23,29,30,25,31,26,31,32,24,35,24,24,21,34,26,26,21,20,21,28,29,29,20,28,23,20,27,33,35,33,31,35,23,23,27,20,28,28,25,29,25,24,35,34,30,35,31,28,23,35,35,32,20,28,27,28,35,27,30,24,31,27,34,26,21,33,20,22,29,31,31,31,23,28],\"x0\":\" \",\"xaxis\":\"x\",\"y0\":\" \",\"yaxis\":\"y\",\"type\":\"box\"}],                        {\"template\":{\"data\":{\"histogram2dcontour\":[{\"type\":\"histogram2dcontour\",\"colorbar\":{\"outlinewidth\":0,\"ticks\":\"\"},\"colorscale\":[[0.0,\"#0d0887\"],[0.1111111111111111,\"#46039f\"],[0.2222222222222222,\"#7201a8\"],[0.3333333333333333,\"#9c179e\"],[0.4444444444444444,\"#bd3786\"],[0.5555555555555556,\"#d8576b\"],[0.6666666666666666,\"#ed7953\"],[0.7777777777777778,\"#fb9f3a\"],[0.8888888888888888,\"#fdca26\"],[1.0,\"#f0f921\"]]}],\"choropleth\":[{\"type\":\"choropleth\",\"colorbar\":{\"outlinewidth\":0,\"ticks\":\"\"}}],\"histogram2d\":[{\"type\":\"histogram2d\",\"colorbar\":{\"outlinewidth\":0,\"ticks\":\"\"},\"colorscale\":[[0.0,\"#0d0887\"],[0.1111111111111111,\"#46039f\"],[0.2222222222222222,\"#7201a8\"],[0.3333333333333333,\"#9c179e\"],[0.4444444444444444,\"#bd3786\"],[0.5555555555555556,\"#d8576b\"],[0.6666666666666666,\"#ed7953\"],[0.7777777777777778,\"#fb9f3a\"],[0.8888888888888888,\"#fdca26\"],[1.0,\"#f0f921\"]]}],\"heatmap\":[{\"type\":\"heatmap\",\"colorbar\":{\"outlinewidth\":0,\"ticks\":\"\"},\"colorscale\":[[0.0,\"#0d0887\"],[0.1111111111111111,\"#46039f\"],[0.2222222222222222,\"#7201a8\"],[0.3333333333333333,\"#9c179e\"],[0.4444444444444444,\"#bd3786\"],[0.5555555555555556,\"#d8576b\"],[0.6666666666666666,\"#ed7953\"],[0.7777777777777778,\"#fb9f3a\"],[0.8888888888888888,\"#fdca26\"],[1.0,\"#f0f921\"]]}],\"heatmapgl\":[{\"type\":\"heatmapgl\",\"colorbar\":{\"outlinewidth\":0,\"ticks\":\"\"},\"colorscale\":[[0.0,\"#0d0887\"],[0.1111111111111111,\"#46039f\"],[0.2222222222222222,\"#7201a8\"],[0.3333333333333333,\"#9c179e\"],[0.4444444444444444,\"#bd3786\"],[0.5555555555555556,\"#d8576b\"],[0.6666666666666666,\"#ed7953\"],[0.7777777777777778,\"#fb9f3a\"],[0.8888888888888888,\"#fdca26\"],[1.0,\"#f0f921\"]]}],\"contourcarpet\":[{\"type\":\"contourcarpet\",\"colorbar\":{\"outlinewidth\":0,\"ticks\":\"\"}}],\"contour\":[{\"type\":\"contour\",\"colorbar\":{\"outlinewidth\":0,\"ticks\":\"\"},\"colorscale\":[[0.0,\"#0d0887\"],[0.1111111111111111,\"#46039f\"],[0.2222222222222222,\"#7201a8\"],[0.3333333333333333,\"#9c179e\"],[0.4444444444444444,\"#bd3786\"],[0.5555555555555556,\"#d8576b\"],[0.6666666666666666,\"#ed7953\"],[0.7777777777777778,\"#fb9f3a\"],[0.8888888888888888,\"#fdca26\"],[1.0,\"#f0f921\"]]}],\"surface\":[{\"type\":\"surface\",\"colorbar\":{\"outlinewidth\":0,\"ticks\":\"\"},\"colorscale\":[[0.0,\"#0d0887\"],[0.1111111111111111,\"#46039f\"],[0.2222222222222222,\"#7201a8\"],[0.3333333333333333,\"#9c179e\"],[0.4444444444444444,\"#bd3786\"],[0.5555555555555556,\"#d8576b\"],[0.6666666666666666,\"#ed7953\"],[0.7777777777777778,\"#fb9f3a\"],[0.8888888888888888,\"#fdca26\"],[1.0,\"#f0f921\"]]}],\"mesh3d\":[{\"type\":\"mesh3d\",\"colorbar\":{\"outlinewidth\":0,\"ticks\":\"\"}}],\"scatter\":[{\"fillpattern\":{\"fillmode\":\"overlay\",\"size\":10,\"solidity\":0.2},\"type\":\"scatter\"}],\"parcoords\":[{\"type\":\"parcoords\",\"line\":{\"colorbar\":{\"outlinewidth\":0,\"ticks\":\"\"}}}],\"scatterpolargl\":[{\"type\":\"scatterpolargl\",\"marker\":{\"colorbar\":{\"outlinewidth\":0,\"ticks\":\"\"}}}],\"bar\":[{\"error_x\":{\"color\":\"#2a3f5f\"},\"error_y\":{\"color\":\"#2a3f5f\"},\"marker\":{\"line\":{\"color\":\"#E5ECF6\",\"width\":0.5},\"pattern\":{\"fillmode\":\"overlay\",\"size\":10,\"solidity\":0.2}},\"type\":\"bar\"}],\"scattergeo\":[{\"type\":\"scattergeo\",\"marker\":{\"colorbar\":{\"outlinewidth\":0,\"ticks\":\"\"}}}],\"scatterpolar\":[{\"type\":\"scatterpolar\",\"marker\":{\"colorbar\":{\"outlinewidth\":0,\"ticks\":\"\"}}}],\"histogram\":[{\"marker\":{\"pattern\":{\"fillmode\":\"overlay\",\"size\":10,\"solidity\":0.2}},\"type\":\"histogram\"}],\"scattergl\":[{\"type\":\"scattergl\",\"marker\":{\"colorbar\":{\"outlinewidth\":0,\"ticks\":\"\"}}}],\"scatter3d\":[{\"type\":\"scatter3d\",\"line\":{\"colorbar\":{\"outlinewidth\":0,\"ticks\":\"\"}},\"marker\":{\"colorbar\":{\"outlinewidth\":0,\"ticks\":\"\"}}}],\"scattermapbox\":[{\"type\":\"scattermapbox\",\"marker\":{\"colorbar\":{\"outlinewidth\":0,\"ticks\":\"\"}}}],\"scatterternary\":[{\"type\":\"scatterternary\",\"marker\":{\"colorbar\":{\"outlinewidth\":0,\"ticks\":\"\"}}}],\"scattercarpet\":[{\"type\":\"scattercarpet\",\"marker\":{\"colorbar\":{\"outlinewidth\":0,\"ticks\":\"\"}}}],\"carpet\":[{\"aaxis\":{\"endlinecolor\":\"#2a3f5f\",\"gridcolor\":\"white\",\"linecolor\":\"white\",\"minorgridcolor\":\"white\",\"startlinecolor\":\"#2a3f5f\"},\"baxis\":{\"endlinecolor\":\"#2a3f5f\",\"gridcolor\":\"white\",\"linecolor\":\"white\",\"minorgridcolor\":\"white\",\"startlinecolor\":\"#2a3f5f\"},\"type\":\"carpet\"}],\"table\":[{\"cells\":{\"fill\":{\"color\":\"#EBF0F8\"},\"line\":{\"color\":\"white\"}},\"header\":{\"fill\":{\"color\":\"#C8D4E3\"},\"line\":{\"color\":\"white\"}},\"type\":\"table\"}],\"barpolar\":[{\"marker\":{\"line\":{\"color\":\"#E5ECF6\",\"width\":0.5},\"pattern\":{\"fillmode\":\"overlay\",\"size\":10,\"solidity\":0.2}},\"type\":\"barpolar\"}],\"pie\":[{\"automargin\":true,\"type\":\"pie\"}]},\"layout\":{\"autotypenumbers\":\"strict\",\"colorway\":[\"#636efa\",\"#EF553B\",\"#00cc96\",\"#ab63fa\",\"#FFA15A\",\"#19d3f3\",\"#FF6692\",\"#B6E880\",\"#FF97FF\",\"#FECB52\"],\"font\":{\"color\":\"#2a3f5f\"},\"hovermode\":\"closest\",\"hoverlabel\":{\"align\":\"left\"},\"paper_bgcolor\":\"white\",\"plot_bgcolor\":\"#E5ECF6\",\"polar\":{\"bgcolor\":\"#E5ECF6\",\"angularaxis\":{\"gridcolor\":\"white\",\"linecolor\":\"white\",\"ticks\":\"\"},\"radialaxis\":{\"gridcolor\":\"white\",\"linecolor\":\"white\",\"ticks\":\"\"}},\"ternary\":{\"bgcolor\":\"#E5ECF6\",\"aaxis\":{\"gridcolor\":\"white\",\"linecolor\":\"white\",\"ticks\":\"\"},\"baxis\":{\"gridcolor\":\"white\",\"linecolor\":\"white\",\"ticks\":\"\"},\"caxis\":{\"gridcolor\":\"white\",\"linecolor\":\"white\",\"ticks\":\"\"}},\"coloraxis\":{\"colorbar\":{\"outlinewidth\":0,\"ticks\":\"\"}},\"colorscale\":{\"sequential\":[[0.0,\"#0d0887\"],[0.1111111111111111,\"#46039f\"],[0.2222222222222222,\"#7201a8\"],[0.3333333333333333,\"#9c179e\"],[0.4444444444444444,\"#bd3786\"],[0.5555555555555556,\"#d8576b\"],[0.6666666666666666,\"#ed7953\"],[0.7777777777777778,\"#fb9f3a\"],[0.8888888888888888,\"#fdca26\"],[1.0,\"#f0f921\"]],\"sequentialminus\":[[0.0,\"#0d0887\"],[0.1111111111111111,\"#46039f\"],[0.2222222222222222,\"#7201a8\"],[0.3333333333333333,\"#9c179e\"],[0.4444444444444444,\"#bd3786\"],[0.5555555555555556,\"#d8576b\"],[0.6666666666666666,\"#ed7953\"],[0.7777777777777778,\"#fb9f3a\"],[0.8888888888888888,\"#fdca26\"],[1.0,\"#f0f921\"]],\"diverging\":[[0,\"#8e0152\"],[0.1,\"#c51b7d\"],[0.2,\"#de77ae\"],[0.3,\"#f1b6da\"],[0.4,\"#fde0ef\"],[0.5,\"#f7f7f7\"],[0.6,\"#e6f5d0\"],[0.7,\"#b8e186\"],[0.8,\"#7fbc41\"],[0.9,\"#4d9221\"],[1,\"#276419\"]]},\"xaxis\":{\"gridcolor\":\"white\",\"linecolor\":\"white\",\"ticks\":\"\",\"title\":{\"standoff\":15},\"zerolinecolor\":\"white\",\"automargin\":true,\"zerolinewidth\":2},\"yaxis\":{\"gridcolor\":\"white\",\"linecolor\":\"white\",\"ticks\":\"\",\"title\":{\"standoff\":15},\"zerolinecolor\":\"white\",\"automargin\":true,\"zerolinewidth\":2},\"scene\":{\"xaxis\":{\"backgroundcolor\":\"#E5ECF6\",\"gridcolor\":\"white\",\"linecolor\":\"white\",\"showbackground\":true,\"ticks\":\"\",\"zerolinecolor\":\"white\",\"gridwidth\":2},\"yaxis\":{\"backgroundcolor\":\"#E5ECF6\",\"gridcolor\":\"white\",\"linecolor\":\"white\",\"showbackground\":true,\"ticks\":\"\",\"zerolinecolor\":\"white\",\"gridwidth\":2},\"zaxis\":{\"backgroundcolor\":\"#E5ECF6\",\"gridcolor\":\"white\",\"linecolor\":\"white\",\"showbackground\":true,\"ticks\":\"\",\"zerolinecolor\":\"white\",\"gridwidth\":2}},\"shapedefaults\":{\"line\":{\"color\":\"#2a3f5f\"}},\"annotationdefaults\":{\"arrowcolor\":\"#2a3f5f\",\"arrowhead\":0,\"arrowwidth\":1},\"geo\":{\"bgcolor\":\"white\",\"landcolor\":\"#E5ECF6\",\"subunitcolor\":\"white\",\"showland\":true,\"showlakes\":true,\"lakecolor\":\"white\"},\"title\":{\"x\":0.05},\"mapbox\":{\"style\":\"light\"}}},\"xaxis\":{\"anchor\":\"y\",\"domain\":[0.0,1.0],\"title\":{\"text\":\"food_preparation_time\"}},\"yaxis\":{\"anchor\":\"x\",\"domain\":[0.0,1.0]},\"legend\":{\"tracegroupgap\":0},\"title\":{\"text\":\"Food Preparation Time\"},\"boxmode\":\"group\"},                        {\"responsive\": true}                    ).then(function(){\n",
              "                            \n",
              "var gd = document.getElementById('e06ac10c-4ba8-4b7a-a976-d7dd2f947730');\n",
              "var x = new MutationObserver(function (mutations, observer) {{\n",
              "        var display = window.getComputedStyle(gd).display;\n",
              "        if (!display || display === 'none') {{\n",
              "            console.log([gd, 'removed!']);\n",
              "            Plotly.purge(gd);\n",
              "            observer.disconnect();\n",
              "        }}\n",
              "}});\n",
              "\n",
              "// Listen for the removal of the full notebook cells\n",
              "var notebookContainer = gd.closest('#notebook-container');\n",
              "if (notebookContainer) {{\n",
              "    x.observe(notebookContainer, {childList: true});\n",
              "}}\n",
              "\n",
              "// Listen for the clearing of the current output cell\n",
              "var outputEl = gd.closest('.output');\n",
              "if (outputEl) {{\n",
              "    x.observe(outputEl, {childList: true});\n",
              "}}\n",
              "\n",
              "                        })                };                            </script>        </div>\n",
              "</body>\n",
              "</html>"
            ]
          },
          "metadata": {}
        }
      ]
    },
    {
      "cell_type": "markdown",
      "metadata": {
        "id": "ENW0PF5b2rdM"
      },
      "source": [
        "#### Delivery time"
      ]
    },
    {
      "cell_type": "code",
      "execution_count": null,
      "metadata": {
        "id": "_1ZcT_SM2rdM",
        "scrolled": true,
        "colab": {
          "base_uri": "https://localhost:8080/",
          "height": 883
        },
        "outputId": "155f16f6-8947-4827-d8ed-1234584c6ac9"
      },
      "outputs": [
        {
          "output_type": "display_data",
          "data": {
            "text/plain": [
              "<Figure size 640x480 with 1 Axes>"
            ],
            "image/png": "[encoded data removed]"
          },
          "metadata": {}
        },
        {
          "output_type": "display_data",
          "data": {
            "text/plain": [
              "<Figure size 640x480 with 1 Axes>"
            ],
            "image/png": "[encoded data removed]"
          },
          "metadata": {}
        }
      ],
      "source": [
        "#plot the histogram NS boxplot for the delivery time\n",
        "sns.histplot(data=df,x='delivery_time')\n",
        "plt.show()\n",
        "sns.boxplot(data=df,x='delivery_time')\n",
        "plt.show()"
      ]
    },
    {
      "cell_type": "code",
      "source": [
        "# Plotly graphs\n",
        "delivery_time_counts = df['delivery_time'].value_counts().reset_index().copy()\n",
        "delivery_time_counts.columns = ['Delivery Time', 'Count']\n",
        "\n",
        "fig = px.bar(data_frame=delivery_time_counts, x='Delivery Time', y='Count')\n",
        "fig.show()\n",
        "\n",
        "fig = px.box(data_frame=df, x='delivery_time')\n",
        "fig.show()"
      ],
      "metadata": {
        "colab": {
          "base_uri": "https://localhost:8080/",
          "height": 1000
        },
        "id": "m_szil1QV96g",
        "outputId": "ee69b690-5586-4023-cc9b-b2c632a979f4"
      },
      "execution_count": null,
      "outputs": [
        {
          "output_type": "display_data",
          "data": {
            "text/html": [
              "<html>\n",
              "<head><meta charset=\"utf-8\" /></head>\n",
              "<body>\n",
              "    <div>            <script src=\"https://cdnjs.cloudflare.com/ajax/libs/mathjax/2.7.5/MathJax.js?config=TeX-AMS-MML_SVG\"></script><script type=\"text/javascript\">if (window.MathJax && window.MathJax.Hub && window.MathJax.Hub.Config) {window.MathJax.Hub.Config({SVG: {font: \"STIX-Web\"}});}</script>                <script type=\"text/javascript\">window.PlotlyConfig = {MathJaxConfig: 'local'};</script>\n",
              "        <script charset=\"utf-8\" src=\"https://cdn.plot.ly/plotly-2.35.2.min.js\"></script>                <div id=\"7f38b503-fcc7-428d-8cd6-f1e8aa3518ed\" class=\"plotly-graph-div\" style=\"height:525px; width:100%;\"></div>            <script type=\"text/javascript\">                                    window.PLOTLYENV=window.PLOTLYENV || {};                                    if (document.getElementById(\"7f38b503-fcc7-428d-8cd6-f1e8aa3518ed\")) {                    Plotly.newPlot(                        \"7f38b503-fcc7-428d-8cd6-f1e8aa3518ed\",                        [{\"alignmentgroup\":\"True\",\"hovertemplate\":\"Delivery Time=%{x}\\u003cbr\\u003eCount=%{y}\\u003cextra\\u003e\\u003c\\u002fextra\\u003e\",\"legendgroup\":\"\",\"marker\":{\"color\":\"#636efa\",\"pattern\":{\"shape\":\"\"}},\"name\":\"\",\"offsetgroup\":\"\",\"orientation\":\"v\",\"showlegend\":false,\"textposition\":\"auto\",\"x\":[24,29,28,26,27,30,25,19,16,20,15,22,18,21,17,23,32,33,31],\"xaxis\":\"x\",\"y\":[162,148,148,141,138,133,120,90,90,88,87,85,83,81,78,77,59,49,41],\"yaxis\":\"y\",\"type\":\"bar\"}],                        {\"template\":{\"data\":{\"histogram2dcontour\":[{\"type\":\"histogram2dcontour\",\"colorbar\":{\"outlinewidth\":0,\"ticks\":\"\"},\"colorscale\":[[0.0,\"#0d0887\"],[0.1111111111111111,\"#46039f\"],[0.2222222222222222,\"#7201a8\"],[0.3333333333333333,\"#9c179e\"],[0.4444444444444444,\"#bd3786\"],[0.5555555555555556,\"#d8576b\"],[0.6666666666666666,\"#ed7953\"],[0.7777777777777778,\"#fb9f3a\"],[0.8888888888888888,\"#fdca26\"],[1.0,\"#f0f921\"]]}],\"choropleth\":[{\"type\":\"choropleth\",\"colorbar\":{\"outlinewidth\":0,\"ticks\":\"\"}}],\"histogram2d\":[{\"type\":\"histogram2d\",\"colorbar\":{\"outlinewidth\":0,\"ticks\":\"\"},\"colorscale\":[[0.0,\"#0d0887\"],[0.1111111111111111,\"#46039f\"],[0.2222222222222222,\"#7201a8\"],[0.3333333333333333,\"#9c179e\"],[0.4444444444444444,\"#bd3786\"],[0.5555555555555556,\"#d8576b\"],[0.6666666666666666,\"#ed7953\"],[0.7777777777777778,\"#fb9f3a\"],[0.8888888888888888,\"#fdca26\"],[1.0,\"#f0f921\"]]}],\"heatmap\":[{\"type\":\"heatmap\",\"colorbar\":{\"outlinewidth\":0,\"ticks\":\"\"},\"colorscale\":[[0.0,\"#0d0887\"],[0.1111111111111111,\"#46039f\"],[0.2222222222222222,\"#7201a8\"],[0.3333333333333333,\"#9c179e\"],[0.4444444444444444,\"#bd3786\"],[0.5555555555555556,\"#d8576b\"],[0.6666666666666666,\"#ed7953\"],[0.7777777777777778,\"#fb9f3a\"],[0.8888888888888888,\"#fdca26\"],[1.0,\"#f0f921\"]]}],\"heatmapgl\":[{\"type\":\"heatmapgl\",\"colorbar\":{\"outlinewidth\":0,\"ticks\":\"\"},\"colorscale\":[[0.0,\"#0d0887\"],[0.1111111111111111,\"#46039f\"],[0.2222222222222222,\"#7201a8\"],[0.3333333333333333,\"#9c179e\"],[0.4444444444444444,\"#bd3786\"],[0.5555555555555556,\"#d8576b\"],[0.6666666666666666,\"#ed7953\"],[0.7777777777777778,\"#fb9f3a\"],[0.8888888888888888,\"#fdca26\"],[1.0,\"#f0f921\"]]}],\"contourcarpet\":[{\"type\":\"contourcarpet\",\"colorbar\":{\"outlinewidth\":0,\"ticks\":\"\"}}],\"contour\":[{\"type\":\"contour\",\"colorbar\":{\"outlinewidth\":0,\"ticks\":\"\"},\"colorscale\":[[0.0,\"#0d0887\"],[0.1111111111111111,\"#46039f\"],[0.2222222222222222,\"#7201a8\"],[0.3333333333333333,\"#9c179e\"],[0.4444444444444444,\"#bd3786\"],[0.5555555555555556,\"#d8576b\"],[0.6666666666666666,\"#ed7953\"],[0.7777777777777778,\"#fb9f3a\"],[0.8888888888888888,\"#fdca26\"],[1.0,\"#f0f921\"]]}],\"surface\":[{\"type\":\"surface\",\"colorbar\":{\"outlinewidth\":0,\"ticks\":\"\"},\"colorscale\":[[0.0,\"#0d0887\"],[0.1111111111111111,\"#46039f\"],[0.2222222222222222,\"#7201a8\"],[0.3333333333333333,\"#9c179e\"],[0.4444444444444444,\"#bd3786\"],[0.5555555555555556,\"#d8576b\"],[0.6666666666666666,\"#ed7953\"],[0.7777777777777778,\"#fb9f3a\"],[0.8888888888888888,\"#fdca26\"],[1.0,\"#f0f921\"]]}],\"mesh3d\":[{\"type\":\"mesh3d\",\"colorbar\":{\"outlinewidth\":0,\"ticks\":\"\"}}],\"scatter\":[{\"fillpattern\":{\"fillmode\":\"overlay\",\"size\":10,\"solidity\":0.2},\"type\":\"scatter\"}],\"parcoords\":[{\"type\":\"parcoords\",\"line\":{\"colorbar\":{\"outlinewidth\":0,\"ticks\":\"\"}}}],\"scatterpolargl\":[{\"type\":\"scatterpolargl\",\"marker\":{\"colorbar\":{\"outlinewidth\":0,\"ticks\":\"\"}}}],\"bar\":[{\"error_x\":{\"color\":\"#2a3f5f\"},\"error_y\":{\"color\":\"#2a3f5f\"},\"marker\":{\"line\":{\"color\":\"#E5ECF6\",\"width\":0.5},\"pattern\":{\"fillmode\":\"overlay\",\"size\":10,\"solidity\":0.2}},\"type\":\"bar\"}],\"scattergeo\":[{\"type\":\"scattergeo\",\"marker\":{\"colorbar\":{\"outlinewidth\":0,\"ticks\":\"\"}}}],\"scatterpolar\":[{\"type\":\"scatterpolar\",\"marker\":{\"colorbar\":{\"outlinewidth\":0,\"ticks\":\"\"}}}],\"histogram\":[{\"marker\":{\"pattern\":{\"fillmode\":\"overlay\",\"size\":10,\"solidity\":0.2}},\"type\":\"histogram\"}],\"scattergl\":[{\"type\":\"scattergl\",\"marker\":{\"colorbar\":{\"outlinewidth\":0,\"ticks\":\"\"}}}],\"scatter3d\":[{\"type\":\"scatter3d\",\"line\":{\"colorbar\":{\"outlinewidth\":0,\"ticks\":\"\"}},\"marker\":{\"colorbar\":{\"outlinewidth\":0,\"ticks\":\"\"}}}],\"scattermapbox\":[{\"type\":\"scattermapbox\",\"marker\":{\"colorbar\":{\"outlinewidth\":0,\"ticks\":\"\"}}}],\"scatterternary\":[{\"type\":\"scatterternary\",\"marker\":{\"colorbar\":{\"outlinewidth\":0,\"ticks\":\"\"}}}],\"scattercarpet\":[{\"type\":\"scattercarpet\",\"marker\":{\"colorbar\":{\"outlinewidth\":0,\"ticks\":\"\"}}}],\"carpet\":[{\"aaxis\":{\"endlinecolor\":\"#2a3f5f\",\"gridcolor\":\"white\",\"linecolor\":\"white\",\"minorgridcolor\":\"white\",\"startlinecolor\":\"#2a3f5f\"},\"baxis\":{\"endlinecolor\":\"#2a3f5f\",\"gridcolor\":\"white\",\"linecolor\":\"white\",\"minorgridcolor\":\"white\",\"startlinecolor\":\"#2a3f5f\"},\"type\":\"carpet\"}],\"table\":[{\"cells\":{\"fill\":{\"color\":\"#EBF0F8\"},\"line\":{\"color\":\"white\"}},\"header\":{\"fill\":{\"color\":\"#C8D4E3\"},\"line\":{\"color\":\"white\"}},\"type\":\"table\"}],\"barpolar\":[{\"marker\":{\"line\":{\"color\":\"#E5ECF6\",\"width\":0.5},\"pattern\":{\"fillmode\":\"overlay\",\"size\":10,\"solidity\":0.2}},\"type\":\"barpolar\"}],\"pie\":[{\"automargin\":true,\"type\":\"pie\"}]},\"layout\":{\"autotypenumbers\":\"strict\",\"colorway\":[\"#636efa\",\"#EF553B\",\"#00cc96\",\"#ab63fa\",\"#FFA15A\",\"#19d3f3\",\"#FF6692\",\"#B6E880\",\"#FF97FF\",\"#FECB52\"],\"font\":{\"color\":\"#2a3f5f\"},\"hovermode\":\"closest\",\"hoverlabel\":{\"align\":\"left\"},\"paper_bgcolor\":\"white\",\"plot_bgcolor\":\"#E5ECF6\",\"polar\":{\"bgcolor\":\"#E5ECF6\",\"angularaxis\":{\"gridcolor\":\"white\",\"linecolor\":\"white\",\"ticks\":\"\"},\"radialaxis\":{\"gridcolor\":\"white\",\"linecolor\":\"white\",\"ticks\":\"\"}},\"ternary\":{\"bgcolor\":\"#E5ECF6\",\"aaxis\":{\"gridcolor\":\"white\",\"linecolor\":\"white\",\"ticks\":\"\"},\"baxis\":{\"gridcolor\":\"white\",\"linecolor\":\"white\",\"ticks\":\"\"},\"caxis\":{\"gridcolor\":\"white\",\"linecolor\":\"white\",\"ticks\":\"\"}},\"coloraxis\":{\"colorbar\":{\"outlinewidth\":0,\"ticks\":\"\"}},\"colorscale\":{\"sequential\":[[0.0,\"#0d0887\"],[0.1111111111111111,\"#46039f\"],[0.2222222222222222,\"#7201a8\"],[0.3333333333333333,\"#9c179e\"],[0.4444444444444444,\"#bd3786\"],[0.5555555555555556,\"#d8576b\"],[0.6666666666666666,\"#ed7953\"],[0.7777777777777778,\"#fb9f3a\"],[0.8888888888888888,\"#fdca26\"],[1.0,\"#f0f921\"]],\"sequentialminus\":[[0.0,\"#0d0887\"],[0.1111111111111111,\"#46039f\"],[0.2222222222222222,\"#7201a8\"],[0.3333333333333333,\"#9c179e\"],[0.4444444444444444,\"#bd3786\"],[0.5555555555555556,\"#d8576b\"],[0.6666666666666666,\"#ed7953\"],[0.7777777777777778,\"#fb9f3a\"],[0.8888888888888888,\"#fdca26\"],[1.0,\"#f0f921\"]],\"diverging\":[[0,\"#8e0152\"],[0.1,\"#c51b7d\"],[0.2,\"#de77ae\"],[0.3,\"#f1b6da\"],[0.4,\"#fde0ef\"],[0.5,\"#f7f7f7\"],[0.6,\"#e6f5d0\"],[0.7,\"#b8e186\"],[0.8,\"#7fbc41\"],[0.9,\"#4d9221\"],[1,\"#276419\"]]},\"xaxis\":{\"gridcolor\":\"white\",\"linecolor\":\"white\",\"ticks\":\"\",\"title\":{\"standoff\":15},\"zerolinecolor\":\"white\",\"automargin\":true,\"zerolinewidth\":2},\"yaxis\":{\"gridcolor\":\"white\",\"linecolor\":\"white\",\"ticks\":\"\",\"title\":{\"standoff\":15},\"zerolinecolor\":\"white\",\"automargin\":true,\"zerolinewidth\":2},\"scene\":{\"xaxis\":{\"backgroundcolor\":\"#E5ECF6\",\"gridcolor\":\"white\",\"linecolor\":\"white\",\"showbackground\":true,\"ticks\":\"\",\"zerolinecolor\":\"white\",\"gridwidth\":2},\"yaxis\":{\"backgroundcolor\":\"#E5ECF6\",\"gridcolor\":\"white\",\"linecolor\":\"white\",\"showbackground\":true,\"ticks\":\"\",\"zerolinecolor\":\"white\",\"gridwidth\":2},\"zaxis\":{\"backgroundcolor\":\"#E5ECF6\",\"gridcolor\":\"white\",\"linecolor\":\"white\",\"showbackground\":true,\"ticks\":\"\",\"zerolinecolor\":\"white\",\"gridwidth\":2}},\"shapedefaults\":{\"line\":{\"color\":\"#2a3f5f\"}},\"annotationdefaults\":{\"arrowcolor\":\"#2a3f5f\",\"arrowhead\":0,\"arrowwidth\":1},\"geo\":{\"bgcolor\":\"white\",\"landcolor\":\"#E5ECF6\",\"subunitcolor\":\"white\",\"showland\":true,\"showlakes\":true,\"lakecolor\":\"white\"},\"title\":{\"x\":0.05},\"mapbox\":{\"style\":\"light\"}}},\"xaxis\":{\"anchor\":\"y\",\"domain\":[0.0,1.0],\"title\":{\"text\":\"Delivery Time\"}},\"yaxis\":{\"anchor\":\"x\",\"domain\":[0.0,1.0],\"title\":{\"text\":\"Count\"}},\"legend\":{\"tracegroupgap\":0},\"margin\":{\"t\":60},\"barmode\":\"relative\"},                        {\"responsive\": true}                    ).then(function(){\n",
              "                            \n",
              "var gd = document.getElementById('7f38b503-fcc7-428d-8cd6-f1e8aa3518ed');\n",
              "var x = new MutationObserver(function (mutations, observer) {{\n",
              "        var display = window.getComputedStyle(gd).display;\n",
              "        if (!display || display === 'none') {{\n",
              "            console.log([gd, 'removed!']);\n",
              "            Plotly.purge(gd);\n",
              "            observer.disconnect();\n",
              "        }}\n",
              "}});\n",
              "\n",
              "// Listen for the removal of the full notebook cells\n",
              "var notebookContainer = gd.closest('#notebook-container');\n",
              "if (notebookContainer) {{\n",
              "    x.observe(notebookContainer, {childList: true});\n",
              "}}\n",
              "\n",
              "// Listen for the clearing of the current output cell\n",
              "var outputEl = gd.closest('.output');\n",
              "if (outputEl) {{\n",
              "    x.observe(outputEl, {childList: true});\n",
              "}}\n",
              "\n",
              "                        })                };                            </script>        </div>\n",
              "</body>\n",
              "</html>"
            ]
          },
          "metadata": {}
        },
        {
          "output_type": "display_data",
          "data": {
            "text/html": [
              "<html>\n",
              "<head><meta charset=\"utf-8\" /></head>\n",
              "<body>\n",
              "    <div>            <script src=\"https://cdnjs.cloudflare.com/ajax/libs/mathjax/2.7.5/MathJax.js?config=TeX-AMS-MML_SVG\"></script><script type=\"text/javascript\">if (window.MathJax && window.MathJax.Hub && window.MathJax.Hub.Config) {window.MathJax.Hub.Config({SVG: {font: \"STIX-Web\"}});}</script>                <script type=\"text/javascript\">window.PlotlyConfig = {MathJaxConfig: 'local'};</script>\n",
              "        <script charset=\"utf-8\" src=\"https://cdn.plot.ly/plotly-2.35.2.min.js\"></script>                <div id=\"c601c660-7781-4e5a-8de5-91a7e041980a\" class=\"plotly-graph-div\" style=\"height:525px; width:100%;\"></div>            <script type=\"text/javascript\">                                    window.PLOTLYENV=window.PLOTLYENV || {};                                    if (document.getElementById(\"c601c660-7781-4e5a-8de5-91a7e041980a\")) {                    Plotly.newPlot(                        \"c601c660-7781-4e5a-8de5-91a7e041980a\",                        [{\"alignmentgroup\":\"True\",\"hovertemplate\":\"delivery_time=%{x}\\u003cextra\\u003e\\u003c\\u002fextra\\u003e\",\"legendgroup\":\"\",\"marker\":{\"color\":\"#636efa\"},\"name\":\"\",\"notched\":false,\"offsetgroup\":\"\",\"orientation\":\"h\",\"showlegend\":false,\"x\":[20,23,28,15,24,24,21,30,26,26,28,22,17,23,30,25,16,22,24,26,24,20,30,16,29,29,27,16,24,29,25,24,24,18,26,26,31,29,32,19,18,19,15,22,20,23,30,24,24,21,19,28,20,23,29,15,24,33,30,28,21,20,27,26,32,32,20,23,22,23,21,23,27,16,31,25,18,29,30,27,25,32,28,18,16,28,24,27,24,15,24,30,22,18,32,22,27,29,30,25,27,33,21,20,25,30,25,26,27,27,22,28,28,27,24,16,32,33,27,32,28,24,15,19,27,24,24,30,23,29,28,28,21,28,26,24,24,28,20,20,24,17,26,25,28,24,25,28,19,29,19,19,25,18,22,26,23,16,21,33,21,24,18,20,29,22,27,25,28,24,25,15,27,16,33,19,19,19,29,26,24,29,16,15,19,20,24,22,22,15,24,32,29,28,17,15,26,25,33,28,24,29,24,28,25,23,21,16,22,27,29,25,18,17,22,27,18,30,26,31,24,31,19,24,29,27,23,30,28,16,16,16,17,17,26,19,28,20,15,20,32,15,24,16,25,26,28,27,15,21,17,20,28,27,29,26,30,21,18,23,33,30,25,26,23,24,17,19,26,32,25,22,25,28,19,28,27,21,22,29,24,27,20,15,27,25,18,21,26,22,28,17,29,26,17,22,18,24,28,30,32,26,27,28,25,24,30,28,28,17,28,27,32,26,23,25,29,18,21,24,30,30,26,21,27,24,29,17,19,26,22,31,32,24,19,28,20,15,24,22,16,20,25,22,26,27,21,18,32,25,27,22,21,19,17,24,16,30,18,28,27,29,18,19,29,32,27,26,24,24,23,19,26,29,15,17,15,17,17,30,27,16,29,26,32,15,26,28,24,26,22,18,18,29,32,26,31,16,22,18,30,28,32,29,27,18,22,23,27,26,28,30,32,28,28,27,28,16,26,27,26,17,28,29,15,18,16,20,24,28,24,24,15,29,27,30,18,30,30,20,22,33,33,29,29,16,29,30,18,28,33,29,21,23,33,30,24,21,23,23,26,21,18,25,22,21,22,25,28,22,31,24,26,23,29,25,29,26,27,20,25,18,33,29,28,28,25,32,19,27,24,23,30,26,22,25,29,19,32,21,31,30,25,28,16,16,15,19,18,29,24,24,25,30,26,23,15,28,16,29,23,17,30,28,16,30,28,22,16,21,18,17,21,19,23,20,29,17,15,33,24,21,15,26,25,21,29,18,21,28,22,27,29,17,15,25,15,27,22,30,29,25,30,30,26,29,21,20,21,29,27,18,23,29,15,23,15,26,27,23,33,18,25,28,30,26,29,28,18,29,17,22,20,25,19,24,26,30,27,21,29,30,24,18,17,30,28,32,15,20,15,31,27,28,33,20,33,24,21,23,25,29,28,16,26,20,33,26,31,30,18,22,19,28,24,16,29,30,28,30,28,27,25,16,30,30,24,27,15,27,15,29,18,21,28,28,28,26,15,24,19,19,32,21,21,24,28,20,15,32,20,17,20,27,19,26,28,26,18,26,22,22,27,18,30,23,25,16,18,30,25,31,16,28,29,30,32,30,29,27,30,16,19,24,23,21,26,25,23,32,26,20,24,20,24,26,19,23,28,15,25,26,27,27,27,15,31,21,22,26,30,16,25,16,20,28,28,15,20,27,15,18,17,19,29,23,26,16,30,28,30,26,30,16,16,28,24,27,21,19,29,21,25,31,18,23,17,28,25,21,19,27,19,23,22,30,24,32,27,21,22,21,27,24,32,21,31,19,32,24,29,15,28,19,25,17,16,28,27,28,28,27,18,27,29,17,25,24,30,28,22,26,32,20,24,27,33,25,30,16,27,26,27,27,24,18,22,25,16,26,25,29,26,24,17,28,28,29,29,18,17,33,17,28,32,30,28,15,21,19,29,16,26,26,22,24,27,25,28,27,24,28,21,26,16,26,23,29,28,21,22,30,25,26,29,17,22,20,28,24,31,16,19,29,25,25,18,17,26,24,31,16,23,17,25,19,29,27,33,18,27,23,29,30,25,21,22,21,26,25,26,23,33,28,30,30,20,30,27,30,17,17,31,23,25,26,16,27,22,15,29,29,17,32,27,23,32,17,18,23,15,26,30,33,19,19,21,29,24,23,17,28,27,27,25,27,25,21,22,30,25,17,26,21,18,29,15,24,30,17,19,33,29,30,30,25,25,20,29,28,29,18,24,26,30,27,23,26,31,33,19,32,26,31,26,16,15,21,27,15,23,21,15,18,20,15,32,15,15,23,25,21,26,25,19,33,29,19,19,25,24,24,30,30,30,30,30,22,26,26,30,24,20,22,21,25,29,18,26,30,30,20,15,31,28,16,22,33,21,26,28,30,26,16,26,27,30,20,22,26,25,24,24,26,18,20,19,19,24,30,29,16,18,33,26,16,20,18,15,29,24,23,32,20,17,18,27,27,15,27,26,27,31,15,33,18,24,32,24,24,29,21,23,22,27,17,30,19,25,29,21,26,32,17,26,33,16,17,29,30,15,18,28,20,25,22,21,19,31,16,15,19,20,29,18,28,22,15,28,27,30,25,33,30,25,29,28,26,18,32,20,16,24,24,19,25,27,25,25,17,24,24,21,29,31,29,17,25,19,16,17,22,16,32,27,29,22,27,30,22,16,17,30,27,24,26,15,27,24,27,24,20,21,17,29,16,24,15,28,29,26,33,20,28,19,23,28,25,32,17,24,26,24,20,24,21,20,15,26,16,15,25,20,30,30,21,20,24,27,24,32,27,22,25,33,33,30,26,26,27,20,16,17,16,15,29,27,15,16,26,24,18,25,27,17,16,18,23,33,25,29,30,29,17,17,17,27,16,26,27,16,28,26,23,16,24,33,24,15,29,20,30,22,27,27,22,25,24,17,23,24,17,25,27,20,25,27,27,30,22,27,25,15,29,16,20,28,22,16,27,29,25,22,29,19,32,18,24,17,31,20,19,22,27,24,27,21,27,16,26,17,28,25,28,29,30,29,15,28,32,17,24,25,21,24,27,33,28,20,28,20,19,20,28,26,30,21,29,33,28,23,23,27,27,27,18,30,29,26,28,33,21,21,28,26,29,16,20,16,25,31,19,29,26,28,29,24,24,16,28,20,23,30,21,24,18,30,15,30,30,18,27,24,25,16,27,24,29,26,27,31,18,30,18,17,29,20,27,28,22,30,25,24,27,19,20,16,28,23,30,24,29,24,25,24,24,15,21,25,28,29,26,33,27,19,28,15,16,32,26,20,25,31,22,28,17,25,32,26,28,19,29,26,27,22,26,22,21,27,22,24,20,18,17,27,25,24,27,24,26,29,22,28,24,33,15,23,29,33,24,24,19,27,30,20,15,24,24,19,23,24,19,25,24,16,29,21,24,26,25,27,25,16,19,23,16,28,15,27,26,24,29,17,22,19,26,24,16,29,22,28,26,16,29,25,29,15,20,20,23,26,25,29,30,29,22,26,20,27,24,17,30,18,24,19,30,19,18,15,29,25,22,30,20,26,16,32,20,19,25,23,24,25,24,21,24,29,28,24,28,24,30,19,27,28,19,28,20,15,22,28,19,25,17,19,19,19,27,31,28,31,28,26,28,22,29,28,23,20,19,20,25,24,29,28,18,18,15,28,18,29,15,26,24,25,30,20,15,30,29,16,15,26,29,21,28,29,29,32,30,21,32,32,26,25,30,31,23,23,26,24,31,23,21,24,24,29,17,28,29,33,23,25,28,30,15,16,18,25,29,18,21,28,16,18,29,33,28,27,30,22,23,24,22,26,19,33,26,29,29,32,17,25,29,29,32,29,21,29,23,24,22,20,18,28,29,28,18,30,18,31,31,31,25,22,20,32,27,24,16,15,24,33,23,15,20,20,27,27,15,31,26,16,23,24,26,30,30,15,22,19,30,32,29,29,23,26,26,24,29,25,26,29,24,33,20,24,20,28,15,27,19,27,28,30,29,20,26,29,32,24,26,26,20,19,16,15,25,17,32,27,30,30,25,32,29,16,18,18,30,27,28,31,28,32,23,17,21,29,19,24,19,21,17,31,24,24,19,18,19,16,16,30,28,30,32,26,16,30,22,31,28,17,30,27,17,17,33,27,28,30,21,17,23,30,19,29,18,20,25,33,26,19,30,18,15,20,22,30,27,26,22,28,26,25,28,23,24,15,26,20,28,24,30,29,23,26,29,23,26,24,17,25,28,19,33,31,28,31,15,27,18,19,23,24,29,25,30,26,30,22,28,21,17,19,24,31,24],\"x0\":\" \",\"xaxis\":\"x\",\"y0\":\" \",\"yaxis\":\"y\",\"type\":\"box\"}],                        {\"template\":{\"data\":{\"histogram2dcontour\":[{\"type\":\"histogram2dcontour\",\"colorbar\":{\"outlinewidth\":0,\"ticks\":\"\"},\"colorscale\":[[0.0,\"#0d0887\"],[0.1111111111111111,\"#46039f\"],[0.2222222222222222,\"#7201a8\"],[0.3333333333333333,\"#9c179e\"],[0.4444444444444444,\"#bd3786\"],[0.5555555555555556,\"#d8576b\"],[0.6666666666666666,\"#ed7953\"],[0.7777777777777778,\"#fb9f3a\"],[0.8888888888888888,\"#fdca26\"],[1.0,\"#f0f921\"]]}],\"choropleth\":[{\"type\":\"choropleth\",\"colorbar\":{\"outlinewidth\":0,\"ticks\":\"\"}}],\"histogram2d\":[{\"type\":\"histogram2d\",\"colorbar\":{\"outlinewidth\":0,\"ticks\":\"\"},\"colorscale\":[[0.0,\"#0d0887\"],[0.1111111111111111,\"#46039f\"],[0.2222222222222222,\"#7201a8\"],[0.3333333333333333,\"#9c179e\"],[0.4444444444444444,\"#bd3786\"],[0.5555555555555556,\"#d8576b\"],[0.6666666666666666,\"#ed7953\"],[0.7777777777777778,\"#fb9f3a\"],[0.8888888888888888,\"#fdca26\"],[1.0,\"#f0f921\"]]}],\"heatmap\":[{\"type\":\"heatmap\",\"colorbar\":{\"outlinewidth\":0,\"ticks\":\"\"},\"colorscale\":[[0.0,\"#0d0887\"],[0.1111111111111111,\"#46039f\"],[0.2222222222222222,\"#7201a8\"],[0.3333333333333333,\"#9c179e\"],[0.4444444444444444,\"#bd3786\"],[0.5555555555555556,\"#d8576b\"],[0.6666666666666666,\"#ed7953\"],[0.7777777777777778,\"#fb9f3a\"],[0.8888888888888888,\"#fdca26\"],[1.0,\"#f0f921\"]]}],\"heatmapgl\":[{\"type\":\"heatmapgl\",\"colorbar\":{\"outlinewidth\":0,\"ticks\":\"\"},\"colorscale\":[[0.0,\"#0d0887\"],[0.1111111111111111,\"#46039f\"],[0.2222222222222222,\"#7201a8\"],[0.3333333333333333,\"#9c179e\"],[0.4444444444444444,\"#bd3786\"],[0.5555555555555556,\"#d8576b\"],[0.6666666666666666,\"#ed7953\"],[0.7777777777777778,\"#fb9f3a\"],[0.8888888888888888,\"#fdca26\"],[1.0,\"#f0f921\"]]}],\"contourcarpet\":[{\"type\":\"contourcarpet\",\"colorbar\":{\"outlinewidth\":0,\"ticks\":\"\"}}],\"contour\":[{\"type\":\"contour\",\"colorbar\":{\"outlinewidth\":0,\"ticks\":\"\"},\"colorscale\":[[0.0,\"#0d0887\"],[0.1111111111111111,\"#46039f\"],[0.2222222222222222,\"#7201a8\"],[0.3333333333333333,\"#9c179e\"],[0.4444444444444444,\"#bd3786\"],[0.5555555555555556,\"#d8576b\"],[0.6666666666666666,\"#ed7953\"],[0.7777777777777778,\"#fb9f3a\"],[0.8888888888888888,\"#fdca26\"],[1.0,\"#f0f921\"]]}],\"surface\":[{\"type\":\"surface\",\"colorbar\":{\"outlinewidth\":0,\"ticks\":\"\"},\"colorscale\":[[0.0,\"#0d0887\"],[0.1111111111111111,\"#46039f\"],[0.2222222222222222,\"#7201a8\"],[0.3333333333333333,\"#9c179e\"],[0.4444444444444444,\"#bd3786\"],[0.5555555555555556,\"#d8576b\"],[0.6666666666666666,\"#ed7953\"],[0.7777777777777778,\"#fb9f3a\"],[0.8888888888888888,\"#fdca26\"],[1.0,\"#f0f921\"]]}],\"mesh3d\":[{\"type\":\"mesh3d\",\"colorbar\":{\"outlinewidth\":0,\"ticks\":\"\"}}],\"scatter\":[{\"fillpattern\":{\"fillmode\":\"overlay\",\"size\":10,\"solidity\":0.2},\"type\":\"scatter\"}],\"parcoords\":[{\"type\":\"parcoords\",\"line\":{\"colorbar\":{\"outlinewidth\":0,\"ticks\":\"\"}}}],\"scatterpolargl\":[{\"type\":\"scatterpolargl\",\"marker\":{\"colorbar\":{\"outlinewidth\":0,\"ticks\":\"\"}}}],\"bar\":[{\"error_x\":{\"color\":\"#2a3f5f\"},\"error_y\":{\"color\":\"#2a3f5f\"},\"marker\":{\"line\":{\"color\":\"#E5ECF6\",\"width\":0.5},\"pattern\":{\"fillmode\":\"overlay\",\"size\":10,\"solidity\":0.2}},\"type\":\"bar\"}],\"scattergeo\":[{\"type\":\"scattergeo\",\"marker\":{\"colorbar\":{\"outlinewidth\":0,\"ticks\":\"\"}}}],\"scatterpolar\":[{\"type\":\"scatterpolar\",\"marker\":{\"colorbar\":{\"outlinewidth\":0,\"ticks\":\"\"}}}],\"histogram\":[{\"marker\":{\"pattern\":{\"fillmode\":\"overlay\",\"size\":10,\"solidity\":0.2}},\"type\":\"histogram\"}],\"scattergl\":[{\"type\":\"scattergl\",\"marker\":{\"colorbar\":{\"outlinewidth\":0,\"ticks\":\"\"}}}],\"scatter3d\":[{\"type\":\"scatter3d\",\"line\":{\"colorbar\":{\"outlinewidth\":0,\"ticks\":\"\"}},\"marker\":{\"colorbar\":{\"outlinewidth\":0,\"ticks\":\"\"}}}],\"scattermapbox\":[{\"type\":\"scattermapbox\",\"marker\":{\"colorbar\":{\"outlinewidth\":0,\"ticks\":\"\"}}}],\"scatterternary\":[{\"type\":\"scatterternary\",\"marker\":{\"colorbar\":{\"outlinewidth\":0,\"ticks\":\"\"}}}],\"scattercarpet\":[{\"type\":\"scattercarpet\",\"marker\":{\"colorbar\":{\"outlinewidth\":0,\"ticks\":\"\"}}}],\"carpet\":[{\"aaxis\":{\"endlinecolor\":\"#2a3f5f\",\"gridcolor\":\"white\",\"linecolor\":\"white\",\"minorgridcolor\":\"white\",\"startlinecolor\":\"#2a3f5f\"},\"baxis\":{\"endlinecolor\":\"#2a3f5f\",\"gridcolor\":\"white\",\"linecolor\":\"white\",\"minorgridcolor\":\"white\",\"startlinecolor\":\"#2a3f5f\"},\"type\":\"carpet\"}],\"table\":[{\"cells\":{\"fill\":{\"color\":\"#EBF0F8\"},\"line\":{\"color\":\"white\"}},\"header\":{\"fill\":{\"color\":\"#C8D4E3\"},\"line\":{\"color\":\"white\"}},\"type\":\"table\"}],\"barpolar\":[{\"marker\":{\"line\":{\"color\":\"#E5ECF6\",\"width\":0.5},\"pattern\":{\"fillmode\":\"overlay\",\"size\":10,\"solidity\":0.2}},\"type\":\"barpolar\"}],\"pie\":[{\"automargin\":true,\"type\":\"pie\"}]},\"layout\":{\"autotypenumbers\":\"strict\",\"colorway\":[\"#636efa\",\"#EF553B\",\"#00cc96\",\"#ab63fa\",\"#FFA15A\",\"#19d3f3\",\"#FF6692\",\"#B6E880\",\"#FF97FF\",\"#FECB52\"],\"font\":{\"color\":\"#2a3f5f\"},\"hovermode\":\"closest\",\"hoverlabel\":{\"align\":\"left\"},\"paper_bgcolor\":\"white\",\"plot_bgcolor\":\"#E5ECF6\",\"polar\":{\"bgcolor\":\"#E5ECF6\",\"angularaxis\":{\"gridcolor\":\"white\",\"linecolor\":\"white\",\"ticks\":\"\"},\"radialaxis\":{\"gridcolor\":\"white\",\"linecolor\":\"white\",\"ticks\":\"\"}},\"ternary\":{\"bgcolor\":\"#E5ECF6\",\"aaxis\":{\"gridcolor\":\"white\",\"linecolor\":\"white\",\"ticks\":\"\"},\"baxis\":{\"gridcolor\":\"white\",\"linecolor\":\"white\",\"ticks\":\"\"},\"caxis\":{\"gridcolor\":\"white\",\"linecolor\":\"white\",\"ticks\":\"\"}},\"coloraxis\":{\"colorbar\":{\"outlinewidth\":0,\"ticks\":\"\"}},\"colorscale\":{\"sequential\":[[0.0,\"#0d0887\"],[0.1111111111111111,\"#46039f\"],[0.2222222222222222,\"#7201a8\"],[0.3333333333333333,\"#9c179e\"],[0.4444444444444444,\"#bd3786\"],[0.5555555555555556,\"#d8576b\"],[0.6666666666666666,\"#ed7953\"],[0.7777777777777778,\"#fb9f3a\"],[0.8888888888888888,\"#fdca26\"],[1.0,\"#f0f921\"]],\"sequentialminus\":[[0.0,\"#0d0887\"],[0.1111111111111111,\"#46039f\"],[0.2222222222222222,\"#7201a8\"],[0.3333333333333333,\"#9c179e\"],[0.4444444444444444,\"#bd3786\"],[0.5555555555555556,\"#d8576b\"],[0.6666666666666666,\"#ed7953\"],[0.7777777777777778,\"#fb9f3a\"],[0.8888888888888888,\"#fdca26\"],[1.0,\"#f0f921\"]],\"diverging\":[[0,\"#8e0152\"],[0.1,\"#c51b7d\"],[0.2,\"#de77ae\"],[0.3,\"#f1b6da\"],[0.4,\"#fde0ef\"],[0.5,\"#f7f7f7\"],[0.6,\"#e6f5d0\"],[0.7,\"#b8e186\"],[0.8,\"#7fbc41\"],[0.9,\"#4d9221\"],[1,\"#276419\"]]},\"xaxis\":{\"gridcolor\":\"white\",\"linecolor\":\"white\",\"ticks\":\"\",\"title\":{\"standoff\":15},\"zerolinecolor\":\"white\",\"automargin\":true,\"zerolinewidth\":2},\"yaxis\":{\"gridcolor\":\"white\",\"linecolor\":\"white\",\"ticks\":\"\",\"title\":{\"standoff\":15},\"zerolinecolor\":\"white\",\"automargin\":true,\"zerolinewidth\":2},\"scene\":{\"xaxis\":{\"backgroundcolor\":\"#E5ECF6\",\"gridcolor\":\"white\",\"linecolor\":\"white\",\"showbackground\":true,\"ticks\":\"\",\"zerolinecolor\":\"white\",\"gridwidth\":2},\"yaxis\":{\"backgroundcolor\":\"#E5ECF6\",\"gridcolor\":\"white\",\"linecolor\":\"white\",\"showbackground\":true,\"ticks\":\"\",\"zerolinecolor\":\"white\",\"gridwidth\":2},\"zaxis\":{\"backgroundcolor\":\"#E5ECF6\",\"gridcolor\":\"white\",\"linecolor\":\"white\",\"showbackground\":true,\"ticks\":\"\",\"zerolinecolor\":\"white\",\"gridwidth\":2}},\"shapedefaults\":{\"line\":{\"color\":\"#2a3f5f\"}},\"annotationdefaults\":{\"arrowcolor\":\"#2a3f5f\",\"arrowhead\":0,\"arrowwidth\":1},\"geo\":{\"bgcolor\":\"white\",\"landcolor\":\"#E5ECF6\",\"subunitcolor\":\"white\",\"showland\":true,\"showlakes\":true,\"lakecolor\":\"white\"},\"title\":{\"x\":0.05},\"mapbox\":{\"style\":\"light\"}}},\"xaxis\":{\"anchor\":\"y\",\"domain\":[0.0,1.0],\"title\":{\"text\":\"delivery_time\"}},\"yaxis\":{\"anchor\":\"x\",\"domain\":[0.0,1.0]},\"legend\":{\"tracegroupgap\":0},\"margin\":{\"t\":60},\"boxmode\":\"group\"},                        {\"responsive\": true}                    ).then(function(){\n",
              "                            \n",
              "var gd = document.getElementById('c601c660-7781-4e5a-8de5-91a7e041980a');\n",
              "var x = new MutationObserver(function (mutations, observer) {{\n",
              "        var display = window.getComputedStyle(gd).display;\n",
              "        if (!display || display === 'none') {{\n",
              "            console.log([gd, 'removed!']);\n",
              "            Plotly.purge(gd);\n",
              "            observer.disconnect();\n",
              "        }}\n",
              "}});\n",
              "\n",
              "// Listen for the removal of the full notebook cells\n",
              "var notebookContainer = gd.closest('#notebook-container');\n",
              "if (notebookContainer) {{\n",
              "    x.observe(notebookContainer, {childList: true});\n",
              "}}\n",
              "\n",
              "// Listen for the clearing of the current output cell\n",
              "var outputEl = gd.closest('.output');\n",
              "if (outputEl) {{\n",
              "    x.observe(outputEl, {childList: true});\n",
              "}}\n",
              "\n",
              "                        })                };                            </script>        </div>\n",
              "</body>\n",
              "</html>"
            ]
          },
          "metadata": {}
        }
      ]
    },
    {
      "cell_type": "markdown",
      "metadata": {
        "id": "HMwsI8f32rdM"
      },
      "source": [
        "### **Question 7:** Which are the top 5 restaurants in terms of the number of orders received? [1 mark]"
      ]
    },
    {
      "cell_type": "code",
      "execution_count": null,
      "metadata": {
        "id": "OLQISNlc2rdM",
        "colab": {
          "base_uri": "https://localhost:8080/",
          "height": 206
        },
        "outputId": "7bd6852d-af89-49ae-ab4d-bbb29e8705ec"
      },
      "outputs": [
        {
          "output_type": "execute_result",
          "data": {
            "text/plain": [
              "             restaurant_name  count\n",
              "0                Shake Shack    219\n",
              "1          The Meatball Shop    132\n",
              "2          Blue Ribbon Sushi    119\n",
              "3  Blue Ribbon Fried Chicken     96\n",
              "4                       Parm     68"
            ],
            "text/html": [
              "\n",
              "  <div id=\"df-9644f160-17ba-4772-85f1-3a8c34686592\" class=\"colab-df-container\">\n",
              "    <div>\n",
              "<style scoped>\n",
              "    .dataframe tbody tr th:only-of-type {\n",
              "        vertical-align: middle;\n",
              "    }\n",
              "\n",
              "    .dataframe tbody tr th {\n",
              "        vertical-align: top;\n",
              "    }\n",
              "\n",
              "    .dataframe thead th {\n",
              "        text-align: right;\n",
              "    }\n",
              "</style>\n",
              "<table border=\"1\" class=\"dataframe\">\n",
              "  <thead>\n",
              "    <tr style=\"text-align: right;\">\n",
              "      <th></th>\n",
              "      <th>restaurant_name</th>\n",
              "      <th>count</th>\n",
              "    </tr>\n",
              "  </thead>\n",
              "  <tbody>\n",
              "    <tr>\n",
              "      <th>0</th>\n",
              "      <td>Shake Shack</td>\n",
              "      <td>219</td>\n",
              "    </tr>\n",
              "    <tr>\n",
              "      <th>1</th>\n",
              "      <td>The Meatball Shop</td>\n",
              "      <td>132</td>\n",
              "    </tr>\n",
              "    <tr>\n",
              "      <th>2</th>\n",
              "      <td>Blue Ribbon Sushi</td>\n",
              "      <td>119</td>\n",
              "    </tr>\n",
              "    <tr>\n",
              "      <th>3</th>\n",
              "      <td>Blue Ribbon Fried Chicken</td>\n",
              "      <td>96</td>\n",
              "    </tr>\n",
              "    <tr>\n",
              "      <th>4</th>\n",
              "      <td>Parm</td>\n",
              "      <td>68</td>\n",
              "    </tr>\n",
              "  </tbody>\n",
              "</table>\n",
              "</div>\n",
              "    <div class=\"colab-df-buttons\">\n",
              "\n",
              "  <div class=\"colab-df-container\">\n",
              "    <button class=\"colab-df-convert\" onclick=\"convertToInteractive('df-9644f160-17ba-4772-85f1-3a8c34686592')\"\n",
              "            title=\"Convert this dataframe to an interactive table.\"\n",
              "            style=\"display:none;\">\n",
              "\n",
              "  <svg xmlns=\"http://www.w3.org/2000/svg\" height=\"24px\" viewBox=\"0 -960 960 960\">\n",
              "    <path d=\"M120-120v-720h720v720H120Zm60-500h600v-160H180v160Zm220 220h160v-160H400v160Zm0 220h160v-160H400v160ZM180-400h160v-160H180v160Zm440 0h160v-160H620v160ZM180-180h160v-160H180v160Zm440 0h160v-160H620v160Z\"/>\n",
              "  </svg>\n",
              "    </button>\n",
              "\n",
              "  <style>\n",
              "    .colab-df-container {\n",
              "      display:flex;\n",
              "      gap: 12px;\n",
              "    }\n",
              "\n",
              "    .colab-df-convert {\n",
              "      background-color: #E8F0FE;\n",
              "      border: none;\n",
              "      border-radius: 50%;\n",
              "      cursor: pointer;\n",
              "      display: none;\n",
              "      fill: #1967D2;\n",
              "      height: 32px;\n",
              "      padding: 0 0 0 0;\n",
              "      width: 32px;\n",
              "    }\n",
              "\n",
              "    .colab-df-convert:hover {\n",
              "      background-color: #E2EBFA;\n",
              "      box-shadow: 0px 1px 2px rgba(60, 64, 67, 0.3), 0px 1px 3px 1px rgba(60, 64, 67, 0.15);\n",
              "      fill: #174EA6;\n",
              "    }\n",
              "\n",
              "    .colab-df-buttons div {\n",
              "      margin-bottom: 4px;\n",
              "    }\n",
              "\n",
              "    [theme=dark] .colab-df-convert {\n",
              "      background-color: #3B4455;\n",
              "      fill: #D2E3FC;\n",
              "    }\n",
              "\n",
              "    [theme=dark] .colab-df-convert:hover {\n",
              "      background-color: #434B5C;\n",
              "      box-shadow: 0px 1px 3px 1px rgba(0, 0, 0, 0.15);\n",
              "      filter: drop-shadow(0px 1px 2px rgba(0, 0, 0, 0.3));\n",
              "      fill: #FFFFFF;\n",
              "    }\n",
              "  </style>\n",
              "\n",
              "    <script>\n",
              "      const buttonEl =\n",
              "        document.querySelector('#df-9644f160-17ba-4772-85f1-3a8c34686592 button.colab-df-convert');\n",
              "      buttonEl.style.display =\n",
              "        google.colab.kernel.accessAllowed ? 'block' : 'none';\n",
              "\n",
              "      async function convertToInteractive(key) {\n",
              "        const element = document.querySelector('#df-9644f160-17ba-4772-85f1-3a8c34686592');\n",
              "        const dataTable =\n",
              "          await google.colab.kernel.invokeFunction('convertToInteractive',\n",
              "                                                    [key], {});\n",
              "        if (!dataTable) return;\n",
              "\n",
              "        const docLinkHtml = 'Like what you see? Visit the ' +\n",
              "          '<a target=\"_blank\" href=https://colab.research.google.com/notebooks/data_table.ipynb>data table notebook</a>'\n",
              "          + ' to learn more about interactive tables.';\n",
              "        element.innerHTML = '';\n",
              "        dataTable['output_type'] = 'display_data';\n",
              "        await google.colab.output.renderOutput(dataTable, element);\n",
              "        const docLink = document.createElement('div');\n",
              "        docLink.innerHTML = docLinkHtml;\n",
              "        element.appendChild(docLink);\n",
              "      }\n",
              "    </script>\n",
              "  </div>\n",
              "\n",
              "\n",
              "    <div id=\"df-97f6127c-6760-4337-9dd6-66954ddddaae\">\n",
              "      <button class=\"colab-df-quickchart\" onclick=\"quickchart('df-97f6127c-6760-4337-9dd6-66954ddddaae')\"\n",
              "                title=\"Suggest charts\"\n",
              "                style=\"display:none;\">\n",
              "\n",
              "<svg xmlns=\"http://www.w3.org/2000/svg\" height=\"24px\"viewBox=\"0 0 24 24\"\n",
              "     width=\"24px\">\n",
              "    <g>\n",
              "        <path d=\"M19 3H5c-1.1 0-2 .9-2 2v14c0 1.1.9 2 2 2h14c1.1 0 2-.9 2-2V5c0-1.1-.9-2-2-2zM9 17H7v-7h2v7zm4 0h-2V7h2v10zm4 0h-2v-4h2v4z\"/>\n",
              "    </g>\n",
              "</svg>\n",
              "      </button>\n",
              "\n",
              "<style>\n",
              "  .colab-df-quickchart {\n",
              "      --bg-color: #E8F0FE;\n",
              "      --fill-color: #1967D2;\n",
              "      --hover-bg-color: #E2EBFA;\n",
              "      --hover-fill-color: #174EA6;\n",
              "      --disabled-fill-color: #AAA;\n",
              "      --disabled-bg-color: #DDD;\n",
              "  }\n",
              "\n",
              "  [theme=dark] .colab-df-quickchart {\n",
              "      --bg-color: #3B4455;\n",
              "      --fill-color: #D2E3FC;\n",
              "      --hover-bg-color: #434B5C;\n",
              "      --hover-fill-color: #FFFFFF;\n",
              "      --disabled-bg-color: #3B4455;\n",
              "      --disabled-fill-color: #666;\n",
              "  }\n",
              "\n",
              "  .colab-df-quickchart {\n",
              "    background-color: var(--bg-color);\n",
              "    border: none;\n",
              "    border-radius: 50%;\n",
              "    cursor: pointer;\n",
              "    display: none;\n",
              "    fill: var(--fill-color);\n",
              "    height: 32px;\n",
              "    padding: 0;\n",
              "    width: 32px;\n",
              "  }\n",
              "\n",
              "  .colab-df-quickchart:hover {\n",
              "    background-color: var(--hover-bg-color);\n",
              "    box-shadow: 0 1px 2px rgba(60, 64, 67, 0.3), 0 1px 3px 1px rgba(60, 64, 67, 0.15);\n",
              "    fill: var(--button-hover-fill-color);\n",
              "  }\n",
              "\n",
              "  .colab-df-quickchart-complete:disabled,\n",
              "  .colab-df-quickchart-complete:disabled:hover {\n",
              "    background-color: var(--disabled-bg-color);\n",
              "    fill: var(--disabled-fill-color);\n",
              "    box-shadow: none;\n",
              "  }\n",
              "\n",
              "  .colab-df-spinner {\n",
              "    border: 2px solid var(--fill-color);\n",
              "    border-color: transparent;\n",
              "    border-bottom-color: var(--fill-color);\n",
              "    animation:\n",
              "      spin 1s steps(1) infinite;\n",
              "  }\n",
              "\n",
              "  @keyframes spin {\n",
              "    0% {\n",
              "      border-color: transparent;\n",
              "      border-bottom-color: var(--fill-color);\n",
              "      border-left-color: var(--fill-color);\n",
              "    }\n",
              "    20% {\n",
              "      border-color: transparent;\n",
              "      border-left-color: var(--fill-color);\n",
              "      border-top-color: var(--fill-color);\n",
              "    }\n",
              "    30% {\n",
              "      border-color: transparent;\n",
              "      border-left-color: var(--fill-color);\n",
              "      border-top-color: var(--fill-color);\n",
              "      border-right-color: var(--fill-color);\n",
              "    }\n",
              "    40% {\n",
              "      border-color: transparent;\n",
              "      border-right-color: var(--fill-color);\n",
              "      border-top-color: var(--fill-color);\n",
              "    }\n",
              "    60% {\n",
              "      border-color: transparent;\n",
              "      border-right-color: var(--fill-color);\n",
              "    }\n",
              "    80% {\n",
              "      border-color: transparent;\n",
              "      border-right-color: var(--fill-color);\n",
              "      border-bottom-color: var(--fill-color);\n",
              "    }\n",
              "    90% {\n",
              "      border-color: transparent;\n",
              "      border-bottom-color: var(--fill-color);\n",
              "    }\n",
              "  }\n",
              "</style>\n",
              "\n",
              "      <script>\n",
              "        async function quickchart(key) {\n",
              "          const quickchartButtonEl =\n",
              "            document.querySelector('#' + key + ' button');\n",
              "          quickchartButtonEl.disabled = true;  // To prevent multiple clicks.\n",
              "          quickchartButtonEl.classList.add('colab-df-spinner');\n",
              "          try {\n",
              "            const charts = await google.colab.kernel.invokeFunction(\n",
              "                'suggestCharts', [key], {});\n",
              "          } catch (error) {\n",
              "            console.error('Error during call to suggestCharts:', error);\n",
              "          }\n",
              "          quickchartButtonEl.classList.remove('colab-df-spinner');\n",
              "          quickchartButtonEl.classList.add('colab-df-quickchart-complete');\n",
              "        }\n",
              "        (() => {\n",
              "          let quickchartButtonEl =\n",
              "            document.querySelector('#df-97f6127c-6760-4337-9dd6-66954ddddaae button');\n",
              "          quickchartButtonEl.style.display =\n",
              "            google.colab.kernel.accessAllowed ? 'block' : 'none';\n",
              "        })();\n",
              "      </script>\n",
              "    </div>\n",
              "\n",
              "    </div>\n",
              "  </div>\n"
            ],
            "application/vnd.google.colaboratory.intrinsic+json": {
              "type": "dataframe",
              "summary": "{\n  \"name\": \"df['restaurant_name']\",\n  \"rows\": 5,\n  \"fields\": [\n    {\n      \"column\": \"restaurant_name\",\n      \"properties\": {\n        \"dtype\": \"string\",\n        \"num_unique_values\": 5,\n        \"samples\": [\n          \"The Meatball Shop\",\n          \"Parm\",\n          \"Blue Ribbon Sushi\"\n        ],\n        \"semantic_type\": \"\",\n        \"description\": \"\"\n      }\n    },\n    {\n      \"column\": \"count\",\n      \"properties\": {\n        \"dtype\": \"number\",\n        \"std\": 56,\n        \"min\": 68,\n        \"max\": 219,\n        \"num_unique_values\": 5,\n        \"samples\": [\n          132,\n          68,\n          119\n        ],\n        \"semantic_type\": \"\",\n        \"description\": \"\"\n      }\n    }\n  ]\n}"
            }
          },
          "metadata": {},
          "execution_count": 38
        }
      ],
      "source": [
        "# Get top 5 restaurants with highest number of orders\n",
        "df['restaurant_name'].value_counts(ascending=False).reset_index()[:5]"
      ]
    },
    {
      "cell_type": "code",
      "source": [
        "df['restaurant_name'].value_counts(ascending=False).reset_index()[:5]['count'].sum()#/df.shape[0]"
      ],
      "metadata": {
        "colab": {
          "base_uri": "https://localhost:8080/"
        },
        "id": "VYdxeIi5-rDp",
        "outputId": "40b32df5-c241-4c0a-a4cf-53ef66ce1f43"
      },
      "execution_count": null,
      "outputs": [
        {
          "output_type": "execute_result",
          "data": {
            "text/plain": [
              "np.int64(634)"
            ]
          },
          "metadata": {},
          "execution_count": 39
        }
      ]
    },
    {
      "cell_type": "markdown",
      "source": [
        "#### The top 5 restaurants are\n",
        "* Shake Shack\n",
        "* The Meatball Shop\n",
        "* Blue Ribbon Sushi\n",
        "* Blue Ribbon Fried Chicken\n",
        "* Parm"
      ],
      "metadata": {
        "id": "ssx3_I-6ZELH"
      }
    },
    {
      "cell_type": "markdown",
      "metadata": {
        "id": "OV26KAC42rdN"
      },
      "source": [
        "### **Question 8:** Which is the most popular cuisine on weekends? [1 mark]"
      ]
    },
    {
      "cell_type": "code",
      "execution_count": null,
      "metadata": {
        "id": "BqL62Kuu2rdN",
        "colab": {
          "base_uri": "https://localhost:8080/",
          "height": 554
        },
        "outputId": "d4ee9ac5-2ace-4069-e714-2015a9d46af4"
      },
      "outputs": [
        {
          "output_type": "execute_result",
          "data": {
            "text/plain": [
              "cuisine_type\n",
              "American          415\n",
              "Japanese          335\n",
              "Italian           207\n",
              "Chinese           163\n",
              "Mexican            53\n",
              "Indian             49\n",
              "Middle Eastern     32\n",
              "Mediterranean      32\n",
              "Thai               15\n",
              "French             13\n",
              "Korean             11\n",
              "Southern           11\n",
              "Spanish            11\n",
              "Vietnamese          4\n",
              "Name: count, dtype: int64"
            ],
            "text/html": [
              "<div>\n",
              "<style scoped>\n",
              "    .dataframe tbody tr th:only-of-type {\n",
              "        vertical-align: middle;\n",
              "    }\n",
              "\n",
              "    .dataframe tbody tr th {\n",
              "        vertical-align: top;\n",
              "    }\n",
              "\n",
              "    .dataframe thead th {\n",
              "        text-align: right;\n",
              "    }\n",
              "</style>\n",
              "<table border=\"1\" class=\"dataframe\">\n",
              "  <thead>\n",
              "    <tr style=\"text-align: right;\">\n",
              "      <th></th>\n",
              "      <th>count</th>\n",
              "    </tr>\n",
              "    <tr>\n",
              "      <th>cuisine_type</th>\n",
              "      <th></th>\n",
              "    </tr>\n",
              "  </thead>\n",
              "  <tbody>\n",
              "    <tr>\n",
              "      <th>American</th>\n",
              "      <td>415</td>\n",
              "    </tr>\n",
              "    <tr>\n",
              "      <th>Japanese</th>\n",
              "      <td>335</td>\n",
              "    </tr>\n",
              "    <tr>\n",
              "      <th>Italian</th>\n",
              "      <td>207</td>\n",
              "    </tr>\n",
              "    <tr>\n",
              "      <th>Chinese</th>\n",
              "      <td>163</td>\n",
              "    </tr>\n",
              "    <tr>\n",
              "      <th>Mexican</th>\n",
              "      <td>53</td>\n",
              "    </tr>\n",
              "    <tr>\n",
              "      <th>Indian</th>\n",
              "      <td>49</td>\n",
              "    </tr>\n",
              "    <tr>\n",
              "      <th>Middle Eastern</th>\n",
              "      <td>32</td>\n",
              "    </tr>\n",
              "    <tr>\n",
              "      <th>Mediterranean</th>\n",
              "      <td>32</td>\n",
              "    </tr>\n",
              "    <tr>\n",
              "      <th>Thai</th>\n",
              "      <td>15</td>\n",
              "    </tr>\n",
              "    <tr>\n",
              "      <th>French</th>\n",
              "      <td>13</td>\n",
              "    </tr>\n",
              "    <tr>\n",
              "      <th>Korean</th>\n",
              "      <td>11</td>\n",
              "    </tr>\n",
              "    <tr>\n",
              "      <th>Southern</th>\n",
              "      <td>11</td>\n",
              "    </tr>\n",
              "    <tr>\n",
              "      <th>Spanish</th>\n",
              "      <td>11</td>\n",
              "    </tr>\n",
              "    <tr>\n",
              "      <th>Vietnamese</th>\n",
              "      <td>4</td>\n",
              "    </tr>\n",
              "  </tbody>\n",
              "</table>\n",
              "</div><br><label><b>dtype:</b> int64</label>"
            ]
          },
          "metadata": {},
          "execution_count": 41
        }
      ],
      "source": [
        "# Get most popular cuisine on weekends\n",
        "df_weekend = df[df['day_of_the_week'] == 'Weekend']\n",
        "df_weekend['cuisine_type'].value_counts()"
      ]
    },
    {
      "cell_type": "markdown",
      "metadata": {
        "id": "UPFNE6Da2rdN"
      },
      "source": [
        "### **Question 9:** What percentage of the orders cost more than 20 dollars? [2 marks]\n"
      ]
    },
    {
      "cell_type": "code",
      "execution_count": null,
      "metadata": {
        "id": "gHlH53rJ2rdN",
        "colab": {
          "base_uri": "https://localhost:8080/"
        },
        "outputId": "c8a11fd0-ee81-4706-80bb-5f4bc71058ab"
      },
      "outputs": [
        {
          "output_type": "stream",
          "name": "stdout",
          "text": [
            "The number of total orders that cost above 20 dollars is: 555\n",
            "Percentage of orders above 20 dollars: 29.24 %\n"
          ]
        }
      ],
      "source": [
        "# Get orders that cost above 20 dollars\n",
        "df_greater_than_20 = df[df['cost_of_the_order']>20]\n",
        "\n",
        "# Calculate the number of total orders where the cost is above 20 dollars\n",
        "print('The number of total orders that cost above 20 dollars is:', df_greater_than_20.shape[0])\n",
        "\n",
        "# Calculate percentage of such orders in the dataset\n",
        "percentage = (df_greater_than_20.shape[0] / df.shape[0]) * 100\n",
        "\n",
        "print(\"Percentage of orders above 20 dollars:\", round(percentage, 2), '%')"
      ]
    },
    {
      "cell_type": "markdown",
      "metadata": {
        "id": "rmOXTij42rdN"
      },
      "source": [
        "### **Question 10:** What is the mean order delivery time? [1 mark]"
      ]
    },
    {
      "cell_type": "code",
      "execution_count": null,
      "metadata": {
        "id": "733fsOoO2rdN",
        "colab": {
          "base_uri": "https://localhost:8080/"
        },
        "outputId": "42c52d92-4905-4a4a-bb18-f3ca074ef9e7"
      },
      "outputs": [
        {
          "output_type": "stream",
          "name": "stdout",
          "text": [
            "The mean delivery time for this dataset is 24.16 minutes\n"
          ]
        }
      ],
      "source": [
        "# Get the mean delivery time\n",
        "mean_del_time = df['delivery_time'].mean()\n",
        "\n",
        "print('The mean delivery time for this dataset is', round(mean_del_time, 2), 'minutes')"
      ]
    },
    {
      "cell_type": "markdown",
      "metadata": {
        "id": "7C_G-BEy2rdO"
      },
      "source": [
        "### **Question 11:** The company has decided to give 20% discount vouchers to the top 5 most frequent customers. Find the IDs of these customers and the number of orders they placed. [1 mark]"
      ]
    },
    {
      "cell_type": "code",
      "execution_count": null,
      "metadata": {
        "id": "U-husHb6F5lY",
        "colab": {
          "base_uri": "https://localhost:8080/",
          "height": 272
        },
        "outputId": "48067701-7dd6-4008-f77a-f004aea1aa85"
      },
      "outputs": [
        {
          "output_type": "execute_result",
          "data": {
            "text/plain": [
              "customer_id\n",
              "52832     13\n",
              "47440     10\n",
              "83287      9\n",
              "250494     8\n",
              "259341     7\n",
              "Name: count, dtype: int64"
            ],
            "text/html": [
              "<div>\n",
              "<style scoped>\n",
              "    .dataframe tbody tr th:only-of-type {\n",
              "        vertical-align: middle;\n",
              "    }\n",
              "\n",
              "    .dataframe tbody tr th {\n",
              "        vertical-align: top;\n",
              "    }\n",
              "\n",
              "    .dataframe thead th {\n",
              "        text-align: right;\n",
              "    }\n",
              "</style>\n",
              "<table border=\"1\" class=\"dataframe\">\n",
              "  <thead>\n",
              "    <tr style=\"text-align: right;\">\n",
              "      <th></th>\n",
              "      <th>count</th>\n",
              "    </tr>\n",
              "    <tr>\n",
              "      <th>customer_id</th>\n",
              "      <th></th>\n",
              "    </tr>\n",
              "  </thead>\n",
              "  <tbody>\n",
              "    <tr>\n",
              "      <th>52832</th>\n",
              "      <td>13</td>\n",
              "    </tr>\n",
              "    <tr>\n",
              "      <th>47440</th>\n",
              "      <td>10</td>\n",
              "    </tr>\n",
              "    <tr>\n",
              "      <th>83287</th>\n",
              "      <td>9</td>\n",
              "    </tr>\n",
              "    <tr>\n",
              "      <th>250494</th>\n",
              "      <td>8</td>\n",
              "    </tr>\n",
              "    <tr>\n",
              "      <th>259341</th>\n",
              "      <td>7</td>\n",
              "    </tr>\n",
              "  </tbody>\n",
              "</table>\n",
              "</div><br><label><b>dtype:</b> int64</label>"
            ]
          },
          "metadata": {},
          "execution_count": 45
        }
      ],
      "source": [
        "# Get the counts of  each customer_id\n",
        "df['customer_id'].value_counts().head(5)"
      ]
    },
    {
      "cell_type": "markdown",
      "metadata": {
        "id": "4ceeYAVy2rdO"
      },
      "source": [
        "### Multivariate Analysis"
      ]
    },
    {
      "cell_type": "markdown",
      "metadata": {
        "id": "h-gdOXrS2rdO"
      },
      "source": [
        "### **Question 12:** Perform a multivariate analysis to explore relationships between the important variables in the dataset. (It is a good idea to explore relations between numerical variables as well as relations between numerical and categorical variables) [10 marks]"
      ]
    },
    {
      "cell_type": "code",
      "source": [
        "numeric_cols = ['customer_id', 'order_id', 'food_preparation_time', 'delivery_time', 'cost_of_the_order']\n",
        "correlation_matrix = df.corr(numeric_only=True)\n",
        "\n",
        "fig = px.imshow(correlation_matrix, text_auto=True, title='Correlation matrix of FoodHub Order data', color_continuous_scale=\"Plasma\" )\n",
        "fig.update_layout(title_x=0.5)\n",
        "fig.show()\n"
      ],
      "metadata": {
        "colab": {
          "base_uri": "https://localhost:8080/",
          "height": 542
        },
        "id": "9Y7QIkpckoRp",
        "outputId": "47fcf13d-519c-46e4-c4a7-4c9096ca262d"
      },
      "execution_count": null,
      "outputs": [
        {
          "output_type": "display_data",
          "data": {
            "text/html": [
              "<html>\n",
              "<head><meta charset=\"utf-8\" /></head>\n",
              "<body>\n",
              "    <div>            <script src=\"https://cdnjs.cloudflare.com/ajax/libs/mathjax/2.7.5/MathJax.js?config=TeX-AMS-MML_SVG\"></script><script type=\"text/javascript\">if (window.MathJax && window.MathJax.Hub && window.MathJax.Hub.Config) {window.MathJax.Hub.Config({SVG: {font: \"STIX-Web\"}});}</script>                <script type=\"text/javascript\">window.PlotlyConfig = {MathJaxConfig: 'local'};</script>\n",
              "        <script charset=\"utf-8\" src=\"https://cdn.plot.ly/plotly-2.35.2.min.js\"></script>                <div id=\"3ef8eba4-4890-47eb-b56e-9f6c176ac82a\" class=\"plotly-graph-div\" style=\"height:525px; width:100%;\"></div>            <script type=\"text/javascript\">                                    window.PLOTLYENV=window.PLOTLYENV || {};                                    if (document.getElementById(\"3ef8eba4-4890-47eb-b56e-9f6c176ac82a\")) {                    Plotly.newPlot(                        \"3ef8eba4-4890-47eb-b56e-9f6c176ac82a\",                        [{\"coloraxis\":\"coloraxis\",\"name\":\"0\",\"texttemplate\":\"%{z}\",\"x\":[\"order_id\",\"customer_id\",\"cost_of_the_order\",\"food_preparation_time\",\"delivery_time\"],\"y\":[\"order_id\",\"customer_id\",\"cost_of_the_order\",\"food_preparation_time\",\"delivery_time\"],\"z\":[[1.0,-0.013960295220131296,0.021170581593851545,-0.007025513882192066,0.009689633061773194],[-0.013960295220131296,1.0,-0.0013215225866878356,-0.030329650147064145,-0.009885274887750855],[0.021170581593851545,-0.0013215225866878356,1.0,0.04152747282774483,-0.029949184900648983],[-0.007025513882192066,-0.030329650147064145,0.04152747282774483,1.0,0.011094287962086708],[0.009689633061773194,-0.009885274887750855,-0.029949184900648983,0.011094287962086708,1.0]],\"type\":\"heatmap\",\"xaxis\":\"x\",\"yaxis\":\"y\",\"hovertemplate\":\"x: %{x}\\u003cbr\\u003ey: %{y}\\u003cbr\\u003ecolor: %{z}\\u003cextra\\u003e\\u003c\\u002fextra\\u003e\"}],                        {\"template\":{\"data\":{\"histogram2dcontour\":[{\"type\":\"histogram2dcontour\",\"colorbar\":{\"outlinewidth\":0,\"ticks\":\"\"},\"colorscale\":[[0.0,\"#0d0887\"],[0.1111111111111111,\"#46039f\"],[0.2222222222222222,\"#7201a8\"],[0.3333333333333333,\"#9c179e\"],[0.4444444444444444,\"#bd3786\"],[0.5555555555555556,\"#d8576b\"],[0.6666666666666666,\"#ed7953\"],[0.7777777777777778,\"#fb9f3a\"],[0.8888888888888888,\"#fdca26\"],[1.0,\"#f0f921\"]]}],\"choropleth\":[{\"type\":\"choropleth\",\"colorbar\":{\"outlinewidth\":0,\"ticks\":\"\"}}],\"histogram2d\":[{\"type\":\"histogram2d\",\"colorbar\":{\"outlinewidth\":0,\"ticks\":\"\"},\"colorscale\":[[0.0,\"#0d0887\"],[0.1111111111111111,\"#46039f\"],[0.2222222222222222,\"#7201a8\"],[0.3333333333333333,\"#9c179e\"],[0.4444444444444444,\"#bd3786\"],[0.5555555555555556,\"#d8576b\"],[0.6666666666666666,\"#ed7953\"],[0.7777777777777778,\"#fb9f3a\"],[0.8888888888888888,\"#fdca26\"],[1.0,\"#f0f921\"]]}],\"heatmap\":[{\"type\":\"heatmap\",\"colorbar\":{\"outlinewidth\":0,\"ticks\":\"\"},\"colorscale\":[[0.0,\"#0d0887\"],[0.1111111111111111,\"#46039f\"],[0.2222222222222222,\"#7201a8\"],[0.3333333333333333,\"#9c179e\"],[0.4444444444444444,\"#bd3786\"],[0.5555555555555556,\"#d8576b\"],[0.6666666666666666,\"#ed7953\"],[0.7777777777777778,\"#fb9f3a\"],[0.8888888888888888,\"#fdca26\"],[1.0,\"#f0f921\"]]}],\"heatmapgl\":[{\"type\":\"heatmapgl\",\"colorbar\":{\"outlinewidth\":0,\"ticks\":\"\"},\"colorscale\":[[0.0,\"#0d0887\"],[0.1111111111111111,\"#46039f\"],[0.2222222222222222,\"#7201a8\"],[0.3333333333333333,\"#9c179e\"],[0.4444444444444444,\"#bd3786\"],[0.5555555555555556,\"#d8576b\"],[0.6666666666666666,\"#ed7953\"],[0.7777777777777778,\"#fb9f3a\"],[0.8888888888888888,\"#fdca26\"],[1.0,\"#f0f921\"]]}],\"contourcarpet\":[{\"type\":\"contourcarpet\",\"colorbar\":{\"outlinewidth\":0,\"ticks\":\"\"}}],\"contour\":[{\"type\":\"contour\",\"colorbar\":{\"outlinewidth\":0,\"ticks\":\"\"},\"colorscale\":[[0.0,\"#0d0887\"],[0.1111111111111111,\"#46039f\"],[0.2222222222222222,\"#7201a8\"],[0.3333333333333333,\"#9c179e\"],[0.4444444444444444,\"#bd3786\"],[0.5555555555555556,\"#d8576b\"],[0.6666666666666666,\"#ed7953\"],[0.7777777777777778,\"#fb9f3a\"],[0.8888888888888888,\"#fdca26\"],[1.0,\"#f0f921\"]]}],\"surface\":[{\"type\":\"surface\",\"colorbar\":{\"outlinewidth\":0,\"ticks\":\"\"},\"colorscale\":[[0.0,\"#0d0887\"],[0.1111111111111111,\"#46039f\"],[0.2222222222222222,\"#7201a8\"],[0.3333333333333333,\"#9c179e\"],[0.4444444444444444,\"#bd3786\"],[0.5555555555555556,\"#d8576b\"],[0.6666666666666666,\"#ed7953\"],[0.7777777777777778,\"#fb9f3a\"],[0.8888888888888888,\"#fdca26\"],[1.0,\"#f0f921\"]]}],\"mesh3d\":[{\"type\":\"mesh3d\",\"colorbar\":{\"outlinewidth\":0,\"ticks\":\"\"}}],\"scatter\":[{\"fillpattern\":{\"fillmode\":\"overlay\",\"size\":10,\"solidity\":0.2},\"type\":\"scatter\"}],\"parcoords\":[{\"type\":\"parcoords\",\"line\":{\"colorbar\":{\"outlinewidth\":0,\"ticks\":\"\"}}}],\"scatterpolargl\":[{\"type\":\"scatterpolargl\",\"marker\":{\"colorbar\":{\"outlinewidth\":0,\"ticks\":\"\"}}}],\"bar\":[{\"error_x\":{\"color\":\"#2a3f5f\"},\"error_y\":{\"color\":\"#2a3f5f\"},\"marker\":{\"line\":{\"color\":\"#E5ECF6\",\"width\":0.5},\"pattern\":{\"fillmode\":\"overlay\",\"size\":10,\"solidity\":0.2}},\"type\":\"bar\"}],\"scattergeo\":[{\"type\":\"scattergeo\",\"marker\":{\"colorbar\":{\"outlinewidth\":0,\"ticks\":\"\"}}}],\"scatterpolar\":[{\"type\":\"scatterpolar\",\"marker\":{\"colorbar\":{\"outlinewidth\":0,\"ticks\":\"\"}}}],\"histogram\":[{\"marker\":{\"pattern\":{\"fillmode\":\"overlay\",\"size\":10,\"solidity\":0.2}},\"type\":\"histogram\"}],\"scattergl\":[{\"type\":\"scattergl\",\"marker\":{\"colorbar\":{\"outlinewidth\":0,\"ticks\":\"\"}}}],\"scatter3d\":[{\"type\":\"scatter3d\",\"line\":{\"colorbar\":{\"outlinewidth\":0,\"ticks\":\"\"}},\"marker\":{\"colorbar\":{\"outlinewidth\":0,\"ticks\":\"\"}}}],\"scattermapbox\":[{\"type\":\"scattermapbox\",\"marker\":{\"colorbar\":{\"outlinewidth\":0,\"ticks\":\"\"}}}],\"scatterternary\":[{\"type\":\"scatterternary\",\"marker\":{\"colorbar\":{\"outlinewidth\":0,\"ticks\":\"\"}}}],\"scattercarpet\":[{\"type\":\"scattercarpet\",\"marker\":{\"colorbar\":{\"outlinewidth\":0,\"ticks\":\"\"}}}],\"carpet\":[{\"aaxis\":{\"endlinecolor\":\"#2a3f5f\",\"gridcolor\":\"white\",\"linecolor\":\"white\",\"minorgridcolor\":\"white\",\"startlinecolor\":\"#2a3f5f\"},\"baxis\":{\"endlinecolor\":\"#2a3f5f\",\"gridcolor\":\"white\",\"linecolor\":\"white\",\"minorgridcolor\":\"white\",\"startlinecolor\":\"#2a3f5f\"},\"type\":\"carpet\"}],\"table\":[{\"cells\":{\"fill\":{\"color\":\"#EBF0F8\"},\"line\":{\"color\":\"white\"}},\"header\":{\"fill\":{\"color\":\"#C8D4E3\"},\"line\":{\"color\":\"white\"}},\"type\":\"table\"}],\"barpolar\":[{\"marker\":{\"line\":{\"color\":\"#E5ECF6\",\"width\":0.5},\"pattern\":{\"fillmode\":\"overlay\",\"size\":10,\"solidity\":0.2}},\"type\":\"barpolar\"}],\"pie\":[{\"automargin\":true,\"type\":\"pie\"}]},\"layout\":{\"autotypenumbers\":\"strict\",\"colorway\":[\"#636efa\",\"#EF553B\",\"#00cc96\",\"#ab63fa\",\"#FFA15A\",\"#19d3f3\",\"#FF6692\",\"#B6E880\",\"#FF97FF\",\"#FECB52\"],\"font\":{\"color\":\"#2a3f5f\"},\"hovermode\":\"closest\",\"hoverlabel\":{\"align\":\"left\"},\"paper_bgcolor\":\"white\",\"plot_bgcolor\":\"#E5ECF6\",\"polar\":{\"bgcolor\":\"#E5ECF6\",\"angularaxis\":{\"gridcolor\":\"white\",\"linecolor\":\"white\",\"ticks\":\"\"},\"radialaxis\":{\"gridcolor\":\"white\",\"linecolor\":\"white\",\"ticks\":\"\"}},\"ternary\":{\"bgcolor\":\"#E5ECF6\",\"aaxis\":{\"gridcolor\":\"white\",\"linecolor\":\"white\",\"ticks\":\"\"},\"baxis\":{\"gridcolor\":\"white\",\"linecolor\":\"white\",\"ticks\":\"\"},\"caxis\":{\"gridcolor\":\"white\",\"linecolor\":\"white\",\"ticks\":\"\"}},\"coloraxis\":{\"colorbar\":{\"outlinewidth\":0,\"ticks\":\"\"}},\"colorscale\":{\"sequential\":[[0.0,\"#0d0887\"],[0.1111111111111111,\"#46039f\"],[0.2222222222222222,\"#7201a8\"],[0.3333333333333333,\"#9c179e\"],[0.4444444444444444,\"#bd3786\"],[0.5555555555555556,\"#d8576b\"],[0.6666666666666666,\"#ed7953\"],[0.7777777777777778,\"#fb9f3a\"],[0.8888888888888888,\"#fdca26\"],[1.0,\"#f0f921\"]],\"sequentialminus\":[[0.0,\"#0d0887\"],[0.1111111111111111,\"#46039f\"],[0.2222222222222222,\"#7201a8\"],[0.3333333333333333,\"#9c179e\"],[0.4444444444444444,\"#bd3786\"],[0.5555555555555556,\"#d8576b\"],[0.6666666666666666,\"#ed7953\"],[0.7777777777777778,\"#fb9f3a\"],[0.8888888888888888,\"#fdca26\"],[1.0,\"#f0f921\"]],\"diverging\":[[0,\"#8e0152\"],[0.1,\"#c51b7d\"],[0.2,\"#de77ae\"],[0.3,\"#f1b6da\"],[0.4,\"#fde0ef\"],[0.5,\"#f7f7f7\"],[0.6,\"#e6f5d0\"],[0.7,\"#b8e186\"],[0.8,\"#7fbc41\"],[0.9,\"#4d9221\"],[1,\"#276419\"]]},\"xaxis\":{\"gridcolor\":\"white\",\"linecolor\":\"white\",\"ticks\":\"\",\"title\":{\"standoff\":15},\"zerolinecolor\":\"white\",\"automargin\":true,\"zerolinewidth\":2},\"yaxis\":{\"gridcolor\":\"white\",\"linecolor\":\"white\",\"ticks\":\"\",\"title\":{\"standoff\":15},\"zerolinecolor\":\"white\",\"automargin\":true,\"zerolinewidth\":2},\"scene\":{\"xaxis\":{\"backgroundcolor\":\"#E5ECF6\",\"gridcolor\":\"white\",\"linecolor\":\"white\",\"showbackground\":true,\"ticks\":\"\",\"zerolinecolor\":\"white\",\"gridwidth\":2},\"yaxis\":{\"backgroundcolor\":\"#E5ECF6\",\"gridcolor\":\"white\",\"linecolor\":\"white\",\"showbackground\":true,\"ticks\":\"\",\"zerolinecolor\":\"white\",\"gridwidth\":2},\"zaxis\":{\"backgroundcolor\":\"#E5ECF6\",\"gridcolor\":\"white\",\"linecolor\":\"white\",\"showbackground\":true,\"ticks\":\"\",\"zerolinecolor\":\"white\",\"gridwidth\":2}},\"shapedefaults\":{\"line\":{\"color\":\"#2a3f5f\"}},\"annotationdefaults\":{\"arrowcolor\":\"#2a3f5f\",\"arrowhead\":0,\"arrowwidth\":1},\"geo\":{\"bgcolor\":\"white\",\"landcolor\":\"#E5ECF6\",\"subunitcolor\":\"white\",\"showland\":true,\"showlakes\":true,\"lakecolor\":\"white\"},\"title\":{\"x\":0.05},\"mapbox\":{\"style\":\"light\"}}},\"xaxis\":{\"anchor\":\"y\",\"domain\":[0.0,1.0],\"scaleanchor\":\"y\",\"constrain\":\"domain\"},\"yaxis\":{\"anchor\":\"x\",\"domain\":[0.0,1.0],\"autorange\":\"reversed\",\"constrain\":\"domain\"},\"coloraxis\":{\"colorscale\":[[0.0,\"#0d0887\"],[0.1111111111111111,\"#46039f\"],[0.2222222222222222,\"#7201a8\"],[0.3333333333333333,\"#9c179e\"],[0.4444444444444444,\"#bd3786\"],[0.5555555555555556,\"#d8576b\"],[0.6666666666666666,\"#ed7953\"],[0.7777777777777778,\"#fb9f3a\"],[0.8888888888888888,\"#fdca26\"],[1.0,\"#f0f921\"]]},\"title\":{\"text\":\"Correlation matrix of FoodHub Order data\",\"x\":0.5}},                        {\"responsive\": true}                    ).then(function(){\n",
              "                            \n",
              "var gd = document.getElementById('3ef8eba4-4890-47eb-b56e-9f6c176ac82a');\n",
              "var x = new MutationObserver(function (mutations, observer) {{\n",
              "        var display = window.getComputedStyle(gd).display;\n",
              "        if (!display || display === 'none') {{\n",
              "            console.log([gd, 'removed!']);\n",
              "            Plotly.purge(gd);\n",
              "            observer.disconnect();\n",
              "        }}\n",
              "}});\n",
              "\n",
              "// Listen for the removal of the full notebook cells\n",
              "var notebookContainer = gd.closest('#notebook-container');\n",
              "if (notebookContainer) {{\n",
              "    x.observe(notebookContainer, {childList: true});\n",
              "}}\n",
              "\n",
              "// Listen for the clearing of the current output cell\n",
              "var outputEl = gd.closest('.output');\n",
              "if (outputEl) {{\n",
              "    x.observe(outputEl, {childList: true});\n",
              "}}\n",
              "\n",
              "                        })                };                            </script>        </div>\n",
              "</body>\n",
              "</html>"
            ]
          },
          "metadata": {}
        }
      ]
    },
    {
      "cell_type": "markdown",
      "metadata": {
        "id": "sTYfSbdR2rdO"
      },
      "source": [
        "#### Cuisine vs Cost of the order"
      ]
    },
    {
      "cell_type": "code",
      "execution_count": null,
      "metadata": {
        "id": "wzJpBxZQ2rdP",
        "colab": {
          "base_uri": "https://localhost:8080/",
          "height": 701
        },
        "outputId": "79bcaf3a-4afc-454e-ea23-fc9e2838ee9a"
      },
      "outputs": [
        {
          "output_type": "display_data",
          "data": {
            "text/plain": [
              "<Figure size 1500x700 with 1 Axes>"
            ],
            "image/png": "[encoded data removed]"
          },
          "metadata": {}
        }
      ],
      "source": [
        "# Relationship between cost of the order and cuisine type\n",
        "plt.figure(figsize=(15,7))\n",
        "sns.boxplot(x = \"cuisine_type\", y = \"cost_of_the_order\", data = df, palette = 'PuBu', hue = \"cuisine_type\")\n",
        "plt.xticks(rotation = 60)\n",
        "plt.show()"
      ]
    },
    {
      "cell_type": "code",
      "source": [
        "fig = px.box(data_frame=df, x='cuisine_type', y='cost_of_the_order', title='Cusine Type vs Cost of the Order')\n",
        "fig.show()"
      ],
      "metadata": {
        "colab": {
          "base_uri": "https://localhost:8080/",
          "height": 542
        },
        "id": "6h0RV5u4uTaC",
        "outputId": "b464915f-72de-47e2-e2e9-58e363f9d07f"
      },
      "execution_count": null,
      "outputs": [
        {
          "output_type": "display_data",
          "data": {
            "text/html": [
              "<html>\n",
              "<head><meta charset=\"utf-8\" /></head>\n",
              "<body>\n",
              "    <div>            <script src=\"https://cdnjs.cloudflare.com/ajax/libs/mathjax/2.7.5/MathJax.js?config=TeX-AMS-MML_SVG\"></script><script type=\"text/javascript\">if (window.MathJax && window.MathJax.Hub && window.MathJax.Hub.Config) {window.MathJax.Hub.Config({SVG: {font: \"STIX-Web\"}});}</script>                <script type=\"text/javascript\">window.PlotlyConfig = {MathJaxConfig: 'local'};</script>\n",
              "        <script charset=\"utf-8\" src=\"https://cdn.plot.ly/plotly-2.35.2.min.js\"></script>                <div id=\"c1591a3f-9106-4810-a82a-1c0eb8648619\" class=\"plotly-graph-div\" style=\"height:525px; width:100%;\"></div>            <script type=\"text/javascript\">                                    window.PLOTLYENV=window.PLOTLYENV || {};                                    if (document.getElementById(\"c1591a3f-9106-4810-a82a-1c0eb8648619\")) {                    Plotly.newPlot(                        \"c1591a3f-9106-4810-a82a-1c0eb8648619\",                        [{\"alignmentgroup\":\"True\",\"hovertemplate\":\"cuisine_type=%{x}\\u003cbr\\u003ecost_of_the_order=%{y}\\u003cextra\\u003e\\u003c\\u002fextra\\u003e\",\"legendgroup\":\"\",\"marker\":{\"color\":\"#636efa\"},\"name\":\"\",\"notched\":false,\"offsetgroup\":\"\",\"orientation\":\"v\",\"showlegend\":false,\"x\":[\"Korean\",\"Japanese\",\"Mexican\",\"American\",\"American\",\"Indian\",\"Italian\",\"Mediterranean\",\"Indian\",\"Indian\",\"Chinese\",\"Mexican\",\"American\",\"Mediterranean\",\"American\",\"American\",\"Japanese\",\"Japanese\",\"Chinese\",\"Japanese\",\"American\",\"American\",\"American\",\"Mexican\",\"Middle Eastern\",\"Middle Eastern\",\"Italian\",\"Italian\",\"Italian\",\"Japanese\",\"Indian\",\"Thai\",\"American\",\"Japanese\",\"Italian\",\"Japanese\",\"Japanese\",\"Italian\",\"Japanese\",\"American\",\"Mexican\",\"Japanese\",\"Chinese\",\"American\",\"American\",\"Italian\",\"American\",\"American\",\"American\",\"Southern\",\"Italian\",\"American\",\"Japanese\",\"Chinese\",\"Mediterranean\",\"Mediterranean\",\"Japanese\",\"Chinese\",\"Chinese\",\"American\",\"American\",\"Japanese\",\"Mexican\",\"American\",\"American\",\"American\",\"Chinese\",\"Japanese\",\"Italian\",\"American\",\"American\",\"American\",\"Italian\",\"Japanese\",\"Indian\",\"Italian\",\"Japanese\",\"Indian\",\"Chinese\",\"Chinese\",\"American\",\"American\",\"American\",\"Mexican\",\"Italian\",\"Mexican\",\"Japanese\",\"Italian\",\"Japanese\",\"Southern\",\"American\",\"Indian\",\"Chinese\",\"Mexican\",\"Chinese\",\"American\",\"American\",\"American\",\"American\",\"Mexican\",\"Italian\",\"American\",\"Japanese\",\"American\",\"Italian\",\"Japanese\",\"Japanese\",\"Chinese\",\"Italian\",\"Japanese\",\"American\",\"American\",\"American\",\"Italian\",\"Thai\",\"Japanese\",\"American\",\"American\",\"Japanese\",\"Japanese\",\"Italian\",\"American\",\"American\",\"American\",\"French\",\"Japanese\",\"Italian\",\"Italian\",\"Chinese\",\"American\",\"Chinese\",\"Chinese\",\"Italian\",\"Chinese\",\"Japanese\",\"Italian\",\"Japanese\",\"Chinese\",\"Spanish\",\"American\",\"American\",\"Japanese\",\"Thai\",\"Japanese\",\"Italian\",\"American\",\"Japanese\",\"American\",\"Italian\",\"Chinese\",\"American\",\"Japanese\",\"American\",\"American\",\"American\",\"Japanese\",\"Chinese\",\"Japanese\",\"Indian\",\"Japanese\",\"Indian\",\"American\",\"Italian\",\"Indian\",\"Italian\",\"Japanese\",\"Chinese\",\"American\",\"Italian\",\"Thai\",\"Mediterranean\",\"Middle Eastern\",\"American\",\"Chinese\",\"Italian\",\"Mediterranean\",\"Chinese\",\"American\",\"Italian\",\"Southern\",\"Italian\",\"Japanese\",\"Indian\",\"Italian\",\"Chinese\",\"Italian\",\"Chinese\",\"Mexican\",\"American\",\"American\",\"Japanese\",\"Japanese\",\"American\",\"Japanese\",\"Japanese\",\"American\",\"Italian\",\"Japanese\",\"American\",\"Chinese\",\"Southern\",\"American\",\"Italian\",\"American\",\"Chinese\",\"American\",\"American\",\"Mediterranean\",\"American\",\"American\",\"Japanese\",\"Japanese\",\"Chinese\",\"French\",\"Italian\",\"American\",\"Mexican\",\"American\",\"Chinese\",\"Chinese\",\"Japanese\",\"Chinese\",\"Chinese\",\"Indian\",\"Japanese\",\"American\",\"Japanese\",\"Japanese\",\"American\",\"American\",\"Italian\",\"Italian\",\"American\",\"Chinese\",\"Japanese\",\"Indian\",\"Mexican\",\"Japanese\",\"Indian\",\"American\",\"Japanese\",\"Japanese\",\"Japanese\",\"American\",\"Southern\",\"Italian\",\"Italian\",\"Chinese\",\"American\",\"Italian\",\"Italian\",\"Japanese\",\"American\",\"Japanese\",\"French\",\"Japanese\",\"Chinese\",\"Chinese\",\"Japanese\",\"American\",\"Italian\",\"Japanese\",\"American\",\"American\",\"American\",\"Italian\",\"Italian\",\"Indian\",\"Italian\",\"Italian\",\"Thai\",\"American\",\"Middle Eastern\",\"Japanese\",\"American\",\"American\",\"Chinese\",\"Italian\",\"Chinese\",\"Italian\",\"Japanese\",\"American\",\"Italian\",\"American\",\"Japanese\",\"Chinese\",\"Japanese\",\"Japanese\",\"American\",\"Japanese\",\"French\",\"American\",\"Chinese\",\"Mexican\",\"Italian\",\"American\",\"Chinese\",\"Chinese\",\"American\",\"Chinese\",\"Chinese\",\"Korean\",\"American\",\"American\",\"Italian\",\"Chinese\",\"American\",\"Italian\",\"Italian\",\"Italian\",\"Japanese\",\"American\",\"American\",\"Indian\",\"American\",\"American\",\"American\",\"American\",\"Mexican\",\"Mexican\",\"American\",\"Italian\",\"Italian\",\"American\",\"Japanese\",\"American\",\"Mexican\",\"American\",\"American\",\"Italian\",\"Japanese\",\"Indian\",\"American\",\"Mexican\",\"Chinese\",\"Mexican\",\"Japanese\",\"Southern\",\"American\",\"American\",\"American\",\"Chinese\",\"Italian\",\"Middle Eastern\",\"Japanese\",\"Japanese\",\"Chinese\",\"American\",\"American\",\"American\",\"American\",\"Italian\",\"Italian\",\"Italian\",\"Japanese\",\"Chinese\",\"American\",\"Japanese\",\"Japanese\",\"Japanese\",\"American\",\"American\",\"Chinese\",\"Middle Eastern\",\"Mediterranean\",\"Thai\",\"Japanese\",\"American\",\"American\",\"American\",\"Japanese\",\"American\",\"American\",\"Vietnamese\",\"Japanese\",\"Indian\",\"Chinese\",\"Southern\",\"American\",\"Japanese\",\"American\",\"American\",\"Japanese\",\"Mexican\",\"Italian\",\"American\",\"American\",\"Japanese\",\"Italian\",\"Chinese\",\"Mexican\",\"Chinese\",\"American\",\"Japanese\",\"Chinese\",\"American\",\"American\",\"American\",\"American\",\"American\",\"Spanish\",\"Italian\",\"American\",\"Middle Eastern\",\"American\",\"American\",\"Mediterranean\",\"American\",\"Japanese\",\"American\",\"American\",\"Italian\",\"American\",\"American\",\"Indian\",\"American\",\"Italian\",\"Japanese\",\"Italian\",\"American\",\"Mexican\",\"Chinese\",\"Japanese\",\"Chinese\",\"American\",\"Japanese\",\"Chinese\",\"American\",\"Mediterranean\",\"Middle Eastern\",\"Japanese\",\"American\",\"Italian\",\"Indian\",\"Japanese\",\"American\",\"Italian\",\"American\",\"American\",\"Italian\",\"Italian\",\"Italian\",\"Mexican\",\"Middle Eastern\",\"American\",\"Japanese\",\"Japanese\",\"Middle Eastern\",\"American\",\"Indian\",\"Japanese\",\"American\",\"Japanese\",\"American\",\"American\",\"American\",\"Japanese\",\"American\",\"Italian\",\"Chinese\",\"Indian\",\"Japanese\",\"Japanese\",\"Japanese\",\"Korean\",\"Mexican\",\"Chinese\",\"Mexican\",\"Japanese\",\"Japanese\",\"Japanese\",\"Middle Eastern\",\"Italian\",\"American\",\"Chinese\",\"Japanese\",\"Japanese\",\"Italian\",\"American\",\"Mexican\",\"Japanese\",\"Chinese\",\"Italian\",\"Japanese\",\"American\",\"Chinese\",\"Italian\",\"Italian\",\"Chinese\",\"Italian\",\"Japanese\",\"Italian\",\"Mediterranean\",\"Chinese\",\"Indian\",\"Japanese\",\"Japanese\",\"Japanese\",\"Japanese\",\"Japanese\",\"American\",\"American\",\"Mediterranean\",\"Japanese\",\"American\",\"Chinese\",\"American\",\"American\",\"American\",\"American\",\"American\",\"Japanese\",\"Thai\",\"Mexican\",\"Italian\",\"Japanese\",\"Thai\",\"American\",\"Japanese\",\"Chinese\",\"American\",\"Japanese\",\"Italian\",\"Japanese\",\"Mediterranean\",\"Japanese\",\"Japanese\",\"Japanese\",\"Italian\",\"Italian\",\"American\",\"Japanese\",\"American\",\"Italian\",\"Chinese\",\"Japanese\",\"Italian\",\"American\",\"Italian\",\"American\",\"American\",\"Italian\",\"American\",\"American\",\"Japanese\",\"Chinese\",\"American\",\"American\",\"Mexican\",\"Italian\",\"Japanese\",\"Italian\",\"French\",\"Japanese\",\"American\",\"American\",\"Middle Eastern\",\"Chinese\",\"American\",\"Indian\",\"Japanese\",\"Japanese\",\"Italian\",\"Chinese\",\"Chinese\",\"Japanese\",\"Chinese\",\"Italian\",\"Japanese\",\"Thai\",\"Italian\",\"Japanese\",\"Mediterranean\",\"Mediterranean\",\"Italian\",\"American\",\"Japanese\",\"American\",\"Italian\",\"American\",\"American\",\"American\",\"Chinese\",\"Middle Eastern\",\"Japanese\",\"Japanese\",\"Italian\",\"Indian\",\"Japanese\",\"Chinese\",\"Mediterranean\",\"Chinese\",\"American\",\"Thai\",\"Japanese\",\"Italian\",\"Italian\",\"Japanese\",\"Italian\",\"Japanese\",\"Japanese\",\"Indian\",\"Chinese\",\"Chinese\",\"American\",\"American\",\"Chinese\",\"Indian\",\"American\",\"Indian\",\"Chinese\",\"American\",\"Chinese\",\"Italian\",\"Italian\",\"Italian\",\"Chinese\",\"American\",\"Middle Eastern\",\"Thai\",\"Chinese\",\"Japanese\",\"Southern\",\"American\",\"Japanese\",\"Chinese\",\"American\",\"American\",\"American\",\"American\",\"Japanese\",\"Chinese\",\"Mexican\",\"Mediterranean\",\"American\",\"Mediterranean\",\"Japanese\",\"Japanese\",\"Japanese\",\"Japanese\",\"Vietnamese\",\"Italian\",\"American\",\"Japanese\",\"Italian\",\"American\",\"Chinese\",\"American\",\"Italian\",\"American\",\"Middle Eastern\",\"Southern\",\"American\",\"Korean\",\"Mexican\",\"Chinese\",\"Italian\",\"American\",\"Chinese\",\"Japanese\",\"Mexican\",\"Mediterranean\",\"American\",\"Japanese\",\"Japanese\",\"American\",\"Mexican\",\"Spanish\",\"Italian\",\"American\",\"Korean\",\"Indian\",\"American\",\"Chinese\",\"American\",\"Japanese\",\"Italian\",\"Italian\",\"Chinese\",\"American\",\"American\",\"Chinese\",\"Italian\",\"American\",\"American\",\"Japanese\",\"Japanese\",\"Japanese\",\"American\",\"Italian\",\"Italian\",\"American\",\"Japanese\",\"Italian\",\"Mexican\",\"Chinese\",\"American\",\"Mexican\",\"Japanese\",\"Italian\",\"Japanese\",\"Japanese\",\"Japanese\",\"American\",\"Mediterranean\",\"American\",\"Chinese\",\"American\",\"Japanese\",\"American\",\"American\",\"Mexican\",\"American\",\"American\",\"American\",\"Japanese\",\"Italian\",\"Chinese\",\"American\",\"Japanese\",\"American\",\"Indian\",\"Japanese\",\"American\",\"Mexican\",\"Chinese\",\"Mexican\",\"Italian\",\"Italian\",\"Chinese\",\"American\",\"Japanese\",\"Italian\",\"Italian\",\"Chinese\",\"American\",\"American\",\"American\",\"Chinese\",\"Japanese\",\"Japanese\",\"American\",\"Italian\",\"Italian\",\"American\",\"Indian\",\"Vietnamese\",\"Korean\",\"Japanese\",\"Italian\",\"Italian\",\"Chinese\",\"Japanese\",\"Japanese\",\"Japanese\",\"Chinese\",\"Chinese\",\"Indian\",\"Japanese\",\"Middle Eastern\",\"Japanese\",\"American\",\"Chinese\",\"Japanese\",\"Italian\",\"Japanese\",\"Japanese\",\"Japanese\",\"American\",\"Middle Eastern\",\"Mexican\",\"American\",\"American\",\"Japanese\",\"American\",\"American\",\"American\",\"Italian\",\"American\",\"Southern\",\"Italian\",\"Italian\",\"Japanese\",\"Italian\",\"American\",\"Indian\",\"American\",\"American\",\"Italian\",\"Japanese\",\"Chinese\",\"Japanese\",\"Italian\",\"Japanese\",\"Japanese\",\"Japanese\",\"Japanese\",\"Japanese\",\"Italian\",\"Japanese\",\"Japanese\",\"American\",\"Chinese\",\"Italian\",\"Japanese\",\"American\",\"Italian\",\"American\",\"Japanese\",\"American\",\"Chinese\",\"American\",\"Japanese\",\"American\",\"Italian\",\"American\",\"Middle Eastern\",\"American\",\"American\",\"Japanese\",\"Italian\",\"Japanese\",\"Japanese\",\"American\",\"American\",\"American\",\"Chinese\",\"Southern\",\"Japanese\",\"Mexican\",\"Japanese\",\"American\",\"Japanese\",\"Japanese\",\"Japanese\",\"French\",\"Japanese\",\"Japanese\",\"Chinese\",\"Japanese\",\"Chinese\",\"Mediterranean\",\"American\",\"Mediterranean\",\"Italian\",\"American\",\"American\",\"Japanese\",\"American\",\"American\",\"American\",\"American\",\"Korean\",\"Italian\",\"American\",\"Indian\",\"Japanese\",\"Italian\",\"Mediterranean\",\"Japanese\",\"American\",\"American\",\"American\",\"Japanese\",\"American\",\"Chinese\",\"Japanese\",\"American\",\"Japanese\",\"Japanese\",\"American\",\"Mexican\",\"Italian\",\"Indian\",\"Japanese\",\"Japanese\",\"American\",\"Italian\",\"Italian\",\"Japanese\",\"Japanese\",\"Indian\",\"Japanese\",\"Japanese\",\"Chinese\",\"Japanese\",\"Italian\",\"Middle Eastern\",\"American\",\"American\",\"Italian\",\"Japanese\",\"Japanese\",\"American\",\"Chinese\",\"Chinese\",\"Italian\",\"Thai\",\"Chinese\",\"American\",\"American\",\"American\",\"Japanese\",\"Italian\",\"American\",\"Indian\",\"Chinese\",\"Japanese\",\"Italian\",\"American\",\"Middle Eastern\",\"Japanese\",\"Japanese\",\"Japanese\",\"Italian\",\"Indian\",\"American\",\"Italian\",\"Chinese\",\"Chinese\",\"Indian\",\"Japanese\",\"Chinese\",\"Japanese\",\"Mexican\",\"Middle Eastern\",\"Japanese\",\"American\",\"Japanese\",\"Indian\",\"Chinese\",\"Japanese\",\"Japanese\",\"Japanese\",\"Italian\",\"American\",\"Italian\",\"Japanese\",\"Chinese\",\"American\",\"Chinese\",\"American\",\"Middle Eastern\",\"Southern\",\"Japanese\",\"Japanese\",\"American\",\"Japanese\",\"Chinese\",\"American\",\"Chinese\",\"Chinese\",\"Japanese\",\"American\",\"American\",\"American\",\"American\",\"Japanese\",\"Chinese\",\"Japanese\",\"Italian\",\"American\",\"Mexican\",\"Mexican\",\"Mediterranean\",\"Japanese\",\"Thai\",\"American\",\"Italian\",\"American\",\"Chinese\",\"Chinese\",\"Japanese\",\"American\",\"Italian\",\"American\",\"Mediterranean\",\"Japanese\",\"Italian\",\"American\",\"American\",\"Italian\",\"Japanese\",\"Japanese\",\"Indian\",\"American\",\"American\",\"American\",\"American\",\"American\",\"American\",\"Japanese\",\"American\",\"Italian\",\"Japanese\",\"Japanese\",\"American\",\"American\",\"Middle Eastern\",\"Japanese\",\"Japanese\",\"Japanese\",\"American\",\"Italian\",\"American\",\"Southern\",\"Italian\",\"Japanese\",\"Japanese\",\"American\",\"Italian\",\"Japanese\",\"American\",\"Japanese\",\"Italian\",\"Japanese\",\"Japanese\",\"Chinese\",\"American\",\"Italian\",\"Indian\",\"Japanese\",\"American\",\"Mexican\",\"American\",\"Indian\",\"Italian\",\"American\",\"Mediterranean\",\"Italian\",\"Mexican\",\"Indian\",\"American\",\"American\",\"Japanese\",\"Japanese\",\"Italian\",\"Japanese\",\"Japanese\",\"Japanese\",\"Italian\",\"Japanese\",\"Italian\",\"Japanese\",\"Italian\",\"Indian\",\"Japanese\",\"Japanese\",\"Italian\",\"American\",\"Japanese\",\"American\",\"American\",\"Chinese\",\"Italian\",\"Middle Eastern\",\"Japanese\",\"Italian\",\"Japanese\",\"Mexican\",\"Italian\",\"Japanese\",\"Japanese\",\"Italian\",\"Japanese\",\"American\",\"Chinese\",\"American\",\"Japanese\",\"Indian\",\"Japanese\",\"American\",\"Japanese\",\"Middle Eastern\",\"American\",\"American\",\"Japanese\",\"Italian\",\"Indian\",\"American\",\"American\",\"Japanese\",\"American\",\"American\",\"Japanese\",\"Chinese\",\"American\",\"Chinese\",\"Middle Eastern\",\"American\",\"Japanese\",\"American\",\"Italian\",\"Italian\",\"Middle Eastern\",\"Indian\",\"American\",\"American\",\"Middle Eastern\",\"Japanese\",\"Italian\",\"Japanese\",\"Japanese\",\"Mexican\",\"American\",\"Indian\",\"Japanese\",\"American\",\"Japanese\",\"Japanese\",\"Chinese\",\"Italian\",\"Italian\",\"Chinese\",\"Japanese\",\"Italian\",\"Italian\",\"Italian\",\"American\",\"Chinese\",\"Chinese\",\"Japanese\",\"Japanese\",\"Indian\",\"American\",\"Italian\",\"Mexican\",\"Italian\",\"American\",\"Korean\",\"Italian\",\"American\",\"Mediterranean\",\"Japanese\",\"Japanese\",\"American\",\"Chinese\",\"Japanese\",\"Spanish\",\"Italian\",\"Japanese\",\"American\",\"Japanese\",\"Italian\",\"Chinese\",\"American\",\"American\",\"Japanese\",\"Mediterranean\",\"Japanese\",\"American\",\"Italian\",\"American\",\"American\",\"American\",\"Japanese\",\"Italian\",\"American\",\"American\",\"Japanese\",\"Japanese\",\"French\",\"American\",\"American\",\"Vietnamese\",\"Japanese\",\"Japanese\",\"Chinese\",\"American\",\"Chinese\",\"Italian\",\"Indian\",\"American\",\"Chinese\",\"Japanese\",\"American\",\"Japanese\",\"Japanese\",\"Mexican\",\"American\",\"Italian\",\"American\",\"American\",\"American\",\"Japanese\",\"Japanese\",\"Japanese\",\"American\",\"American\",\"Italian\",\"Vietnamese\",\"Japanese\",\"American\",\"American\",\"Japanese\",\"Japanese\",\"Japanese\",\"Italian\",\"Italian\",\"Southern\",\"Indian\",\"Japanese\",\"American\",\"Japanese\",\"Japanese\",\"American\",\"American\",\"American\",\"American\",\"Japanese\",\"Mediterranean\",\"Japanese\",\"American\",\"American\",\"Indian\",\"American\",\"American\",\"Italian\",\"Japanese\",\"Italian\",\"American\",\"Indian\",\"Chinese\",\"American\",\"Indian\",\"American\",\"Japanese\",\"Italian\",\"American\",\"Chinese\",\"Indian\",\"Japanese\",\"Chinese\",\"American\",\"Japanese\",\"American\",\"Italian\",\"Indian\",\"American\",\"Japanese\",\"American\",\"Middle Eastern\",\"Chinese\",\"Japanese\",\"Chinese\",\"American\",\"Middle Eastern\",\"Chinese\",\"Italian\",\"Mexican\",\"American\",\"Middle Eastern\",\"Japanese\",\"Japanese\",\"Indian\",\"Korean\",\"American\",\"Japanese\",\"American\",\"Mexican\",\"Japanese\",\"American\",\"Japanese\",\"American\",\"American\",\"American\",\"Japanese\",\"American\",\"American\",\"Japanese\",\"Italian\",\"American\",\"Vietnamese\",\"Japanese\",\"Thai\",\"American\",\"Italian\",\"Japanese\",\"American\",\"Italian\",\"American\",\"American\",\"Japanese\",\"Chinese\",\"American\",\"Middle Eastern\",\"Japanese\",\"American\",\"American\",\"American\",\"Italian\",\"Japanese\",\"Japanese\",\"Japanese\",\"Thai\",\"American\",\"Italian\",\"Japanese\",\"Japanese\",\"American\",\"Italian\",\"Italian\",\"Mediterranean\",\"American\",\"Middle Eastern\",\"Japanese\",\"American\",\"Japanese\",\"American\",\"American\",\"Spanish\",\"American\",\"Japanese\",\"American\",\"Thai\",\"Italian\",\"American\",\"Japanese\",\"Japanese\",\"Italian\",\"French\",\"Japanese\",\"Mexican\",\"French\",\"Japanese\",\"Japanese\",\"Japanese\",\"Japanese\",\"American\",\"Chinese\",\"Indian\",\"American\",\"Japanese\",\"Thai\",\"American\",\"Italian\",\"Japanese\",\"American\",\"Middle Eastern\",\"Mexican\",\"Japanese\",\"Chinese\",\"Chinese\",\"Southern\",\"American\",\"American\",\"Chinese\",\"Italian\",\"Middle Eastern\",\"American\",\"Indian\",\"Italian\",\"American\",\"Japanese\",\"American\",\"Japanese\",\"Mexican\",\"Japanese\",\"Chinese\",\"American\",\"Japanese\",\"Japanese\",\"Japanese\",\"Japanese\",\"Italian\",\"Mediterranean\",\"Italian\",\"American\",\"Japanese\",\"Mexican\",\"Mexican\",\"American\",\"American\",\"Japanese\",\"Japanese\",\"American\",\"American\",\"Chinese\",\"Chinese\",\"Japanese\",\"Japanese\",\"Japanese\",\"American\",\"American\",\"Chinese\",\"Japanese\",\"Italian\",\"Mexican\",\"American\",\"American\",\"Italian\",\"Mediterranean\",\"American\",\"American\",\"Chinese\",\"Italian\",\"Chinese\",\"Japanese\",\"American\",\"American\",\"Mexican\",\"American\",\"Chinese\",\"American\",\"American\",\"American\",\"American\",\"Chinese\",\"Japanese\",\"American\",\"American\",\"Italian\",\"Middle Eastern\",\"Chinese\",\"American\",\"Mediterranean\",\"Middle Eastern\",\"Thai\",\"Mexican\",\"Chinese\",\"American\",\"American\",\"Japanese\",\"American\",\"American\",\"Japanese\",\"Italian\",\"Japanese\",\"Japanese\",\"American\",\"Japanese\",\"Chinese\",\"American\",\"American\",\"French\",\"Chinese\",\"American\",\"Mexican\",\"Chinese\",\"Italian\",\"Italian\",\"Italian\",\"Japanese\",\"Italian\",\"American\",\"Italian\",\"Japanese\",\"Italian\",\"American\",\"Korean\",\"Chinese\",\"American\",\"American\",\"Spanish\",\"Japanese\",\"Japanese\",\"Italian\",\"Middle Eastern\",\"Italian\",\"Japanese\",\"Italian\",\"French\",\"Mexican\",\"Chinese\",\"Mexican\",\"Japanese\",\"American\",\"Italian\",\"Mexican\",\"Italian\",\"Japanese\",\"Korean\",\"Mexican\",\"American\",\"Japanese\",\"Middle Eastern\",\"American\",\"Chinese\",\"Mexican\",\"American\",\"Japanese\",\"Italian\",\"Italian\",\"French\",\"Italian\",\"Italian\",\"Japanese\",\"Japanese\",\"American\",\"American\",\"Indian\",\"Italian\",\"American\",\"Italian\",\"Japanese\",\"Japanese\",\"Mediterranean\",\"Spanish\",\"Italian\",\"Italian\",\"American\",\"Italian\",\"Italian\",\"Spanish\",\"Italian\",\"American\",\"American\",\"Chinese\",\"Japanese\",\"Chinese\",\"Japanese\",\"Italian\",\"Italian\",\"Spanish\",\"Japanese\",\"American\",\"Italian\",\"Italian\",\"Japanese\",\"American\",\"American\",\"Japanese\",\"Chinese\",\"American\",\"Mediterranean\",\"American\",\"American\",\"Thai\",\"Mediterranean\",\"American\",\"Japanese\",\"Italian\",\"Japanese\",\"Indian\",\"Japanese\",\"French\",\"Italian\",\"Italian\",\"Japanese\",\"Italian\",\"Japanese\",\"Chinese\",\"American\",\"American\",\"Italian\",\"Mexican\",\"American\",\"American\",\"American\",\"American\",\"Korean\",\"American\",\"Mexican\",\"Chinese\",\"Vietnamese\",\"Japanese\",\"American\",\"Spanish\",\"American\",\"Japanese\",\"Japanese\",\"Japanese\",\"Italian\",\"Mediterranean\",\"Indian\",\"Italian\",\"Chinese\",\"Japanese\",\"Chinese\",\"Chinese\",\"American\",\"American\",\"Italian\",\"Italian\",\"Chinese\",\"Japanese\",\"Japanese\",\"Japanese\",\"American\",\"Italian\",\"American\",\"Spanish\",\"American\",\"Middle Eastern\",\"Chinese\",\"American\",\"Italian\",\"Japanese\",\"Japanese\",\"Japanese\",\"American\",\"Japanese\",\"American\",\"American\",\"Chinese\",\"Italian\",\"American\",\"American\",\"Indian\",\"American\",\"Chinese\",\"American\",\"American\",\"American\",\"American\",\"Mexican\",\"American\",\"Chinese\",\"Japanese\",\"American\",\"French\",\"Mexican\",\"American\",\"Indian\",\"American\",\"American\",\"Chinese\",\"Japanese\",\"American\",\"Japanese\",\"American\",\"Italian\",\"Japanese\",\"Italian\",\"Indian\",\"Japanese\",\"American\",\"Italian\",\"American\",\"Middle Eastern\",\"Japanese\",\"American\",\"Chinese\",\"Japanese\",\"Middle Eastern\",\"Japanese\",\"American\",\"American\",\"Italian\",\"Japanese\",\"American\",\"Italian\",\"Japanese\",\"Japanese\",\"Chinese\",\"American\",\"Chinese\",\"American\",\"Italian\",\"American\",\"Japanese\",\"Japanese\",\"Japanese\",\"American\",\"Japanese\",\"American\",\"Italian\",\"American\",\"American\",\"Japanese\",\"Mediterranean\",\"American\",\"Middle Eastern\",\"Indian\",\"American\",\"Japanese\",\"Mexican\",\"American\",\"American\",\"American\",\"American\",\"Mexican\",\"Italian\",\"Italian\",\"Chinese\",\"Mediterranean\",\"Italian\",\"Japanese\",\"American\",\"Japanese\",\"Japanese\",\"American\",\"American\",\"Chinese\",\"Japanese\",\"American\",\"Japanese\",\"Italian\",\"American\",\"Japanese\",\"Italian\",\"Spanish\",\"Italian\",\"Japanese\",\"Chinese\",\"Japanese\",\"Italian\",\"Italian\",\"Japanese\",\"American\",\"Mediterranean\",\"Mediterranean\",\"Italian\",\"Indian\",\"Southern\",\"Italian\",\"Japanese\",\"American\",\"Italian\",\"Mexican\",\"Italian\",\"Italian\",\"Chinese\",\"Italian\",\"Japanese\",\"Japanese\",\"Italian\",\"American\",\"Chinese\",\"Japanese\",\"Chinese\",\"Chinese\",\"Mediterranean\",\"Italian\",\"Chinese\",\"Chinese\",\"Italian\",\"American\",\"Japanese\",\"Chinese\",\"Chinese\",\"American\",\"American\",\"American\",\"Middle Eastern\",\"Indian\",\"Indian\",\"Italian\",\"American\",\"French\",\"Chinese\",\"Japanese\",\"American\",\"Chinese\",\"American\",\"Chinese\",\"American\",\"Chinese\",\"Italian\",\"Italian\",\"Chinese\",\"American\",\"Indian\",\"Italian\",\"Chinese\",\"American\",\"American\",\"Japanese\",\"Italian\",\"Japanese\",\"American\",\"American\",\"Japanese\",\"American\",\"Japanese\",\"Chinese\",\"Japanese\",\"Indian\",\"Middle Eastern\",\"American\",\"Chinese\",\"Japanese\",\"American\",\"Chinese\",\"Chinese\",\"Middle Eastern\",\"American\",\"Mexican\",\"Japanese\",\"Middle Eastern\",\"French\",\"American\",\"Japanese\",\"American\",\"Japanese\",\"American\",\"Mediterranean\",\"Japanese\",\"Chinese\",\"Italian\",\"Japanese\",\"Japanese\",\"Chinese\",\"Japanese\",\"American\",\"American\",\"Middle Eastern\",\"American\",\"French\",\"Japanese\",\"American\",\"American\",\"American\",\"Middle Eastern\",\"Italian\",\"Italian\",\"American\",\"Mexican\",\"Italian\",\"American\",\"Mediterranean\",\"American\",\"Japanese\",\"American\",\"American\",\"Mexican\",\"Japanese\",\"American\",\"Mexican\",\"American\",\"Italian\",\"Chinese\",\"Japanese\",\"American\",\"Japanese\",\"American\",\"Japanese\",\"Japanese\",\"Chinese\",\"American\",\"Japanese\",\"Japanese\",\"American\",\"French\",\"Mexican\",\"Italian\",\"Japanese\",\"Indian\",\"Italian\",\"Chinese\",\"American\",\"Italian\",\"Japanese\",\"American\",\"Chinese\",\"Japanese\",\"Chinese\",\"Japanese\",\"Italian\",\"Japanese\",\"Italian\",\"American\",\"American\",\"Mediterranean\",\"Japanese\",\"Chinese\",\"American\",\"Italian\",\"Japanese\",\"Korean\",\"American\",\"Japanese\",\"American\",\"Japanese\",\"Italian\",\"Japanese\",\"Chinese\",\"Japanese\",\"Chinese\",\"American\",\"American\",\"Japanese\",\"American\",\"American\",\"American\",\"Southern\",\"Italian\",\"American\",\"Japanese\",\"Japanese\",\"American\",\"American\",\"American\",\"American\",\"American\",\"American\",\"American\",\"American\",\"Italian\",\"Chinese\",\"Japanese\",\"American\",\"Chinese\",\"Mexican\",\"American\",\"Japanese\",\"Mediterranean\",\"Japanese\"],\"x0\":\" \",\"xaxis\":\"x\",\"y\":[30.75,12.08,12.23,29.2,11.59,25.22,6.07,5.97,16.44,7.18,5.92,8.1,24.3,11.3,12.13,16.2,16.98,33.03,14.12,16.2,24.2,15.91,29.1,8.92,15.86,29.1,21.88,14.02,9.17,12.18,31.33,29.05,8.39,9.12,29.1,15.47,16.01,24.3,29.83,19.89,19.35,33.22,24.25,16.44,22.75,6.74,29.05,13.78,19.89,16.93,21.88,29.39,20.23,29.1,22.75,14.12,14.6,12.23,14.02,6.79,24.25,33.03,31.38,8.34,33.03,24.2,12.46,15.86,14.55,32.93,16.98,8.0,13.05,29.05,5.67,16.93,29.29,16.15,22.75,13.34,9.75,6.69,4.75,12.56,21.2,19.31,16.3,13.05,25.27,14.79,5.72,16.15,33.03,16.2,9.22,16.39,12.18,24.2,17.03,6.79,21.83,31.29,11.83,24.3,22.26,20.47,12.18,15.81,22.36,8.68,21.83,16.3,12.9,29.15,13.05,22.36,31.29,7.86,16.1,16.98,12.95,11.69,12.13,12.32,12.13,12.18,14.99,6.74,24.3,10.38,6.79,25.27,14.99,29.05,9.65,29.2,5.77,32.93,12.13,12.08,11.59,9.56,24.2,29.34,11.16,24.25,29.2,14.07,19.35,16.1,22.8,15.23,33.03,12.95,16.49,29.05,31.33,16.01,14.07,8.83,33.03,16.25,22.36,16.83,8.0,16.01,16.01,10.24,19.4,19.35,13.97,13.0,13.05,8.49,22.8,20.18,19.59,19.4,17.03,16.11,14.6,12.27,22.26,6.79,14.12,29.15,12.18,25.22,13.39,9.02,29.15,13.0,15.33,14.55,31.43,33.03,15.91,12.18,19.35,19.35,29.35,15.28,12.23,9.6,12.95,8.88,15.96,15.47,12.23,8.05,8.54,29.15,7.23,19.69,12.13,16.49,12.08,9.27,24.25,5.67,14.12,33.03,8.97,8.88,12.13,11.64,31.43,13.15,14.02,9.41,9.07,14.07,14.46,6.7,14.07,19.45,13.97,12.22,29.25,17.03,16.05,17.08,11.3,32.98,29.15,13.0,13.73,12.23,16.25,24.2,14.31,19.4,14.12,14.7,15.52,8.97,29.2,11.64,11.64,19.4,29.1,14.02,6.11,12.23,12.18,24.2,12.18,17.03,22.26,19.45,21.93,15.76,9.46,12.61,22.85,12.18,12.61,12.13,12.13,8.54,19.35,12.18,22.8,12.13,19.45,12.13,12.18,12.13,12.56,24.3,29.15,16.06,24.3,9.6,19.4,29.1,12.18,21.39,24.25,32.93,14.07,8.25,19.4,12.18,14.94,14.26,8.54,12.18,29.1,12.56,9.17,16.2,14.12,5.72,21.34,6.79,12.18,12.18,6.11,14.16,5.68,12.27,20.18,14.02,16.2,15.57,14.45,8.15,29.25,8.78,15.96,8.59,15.62,13.0,12.23,25.22,5.87,24.2,19.45,12.18,6.01,21.93,5.92,24.2,15.76,6.11,5.72,19.4,8.49,32.93,12.23,9.17,11.69,24.2,9.85,25.22,22.75,6.84,24.3,19.35,12.13,9.02,12.18,9.17,19.4,6.69,5.82,12.08,15.76,33.03,24.25,12.13,5.72,7.96,14.02,14.07,21.83,29.15,22.26,5.82,29.1,13.39,9.7,22.36,12.13,6.07,24.3,8.78,24.25,20.18,4.85,6.06,6.84,13.05,5.92,12.13,12.18,29.15,8.1,7.23,12.66,12.23,9.07,6.02,14.12,21.93,16.15,7.08,32.93,12.13,15.57,29.15,15.47,12.37,16.49,24.3,14.84,25.27,17.08,22.31,12.08,12.61,13.1,12.13,8.25,16.39,14.75,12.66,9.07,16.15,29.29,20.47,11.59,24.35,16.44,5.92,14.12,5.92,13.0,21.83,16.15,12.23,24.3,29.05,15.76,8.1,12.18,25.17,20.23,9.12,12.18,20.23,24.25,16.2,9.12,9.75,31.38,24.3,19.35,14.16,9.26,32.98,12.18,9.55,6.74,14.07,14.02,5.92,12.46,29.2,15.76,9.22,8.88,13.92,29.34,22.36,5.77,12.13,6.69,15.57,4.66,19.35,8.78,9.17,29.1,5.77,24.25,9.41,29.15,15.57,11.59,16.3,12.18,12.08,17.03,8.54,6.74,32.93,12.18,12.23,14.94,12.95,25.17,13.87,24.3,14.16,25.17,31.43,13.0,24.2,12.66,6.84,15.86,9.75,7.61,29.05,22.31,15.72,25.22,24.3,8.35,22.85,29.15,19.35,32.93,14.21,15.86,15.28,12.13,22.36,5.68,29.15,22.8,19.45,15.52,25.27,32.93,24.2,24.2,14.65,12.08,5.77,4.71,8.78,12.23,12.23,29.15,13.1,22.26,12.56,13.05,13.92,21.39,29.25,12.18,12.18,12.66,12.18,8.63,12.18,14.12,16.93,6.79,29.2,14.02,25.17,12.61,13.68,11.93,13.97,14.02,8.1,12.18,35.41,8.78,16.25,6.64,15.86,17.03,24.2,8.25,12.08,12.13,16.49,6.79,10.72,19.35,8.73,9.65,16.78,12.61,24.25,11.16,20.18,32.93,15.86,12.13,13.87,14.12,24.25,14.07,5.58,13.63,15.52,8.73,25.27,29.54,9.22,15.33,12.13,14.02,8.39,12.13,16.49,9.22,19.35,22.8,29.49,16.93,29.1,15.04,11.59,31.43,18.24,4.47,8.98,29.39,15.71,29.1,8.39,8.93,13.0,16.06,6.69,16.1,6.69,9.51,12.08,5.82,9.41,14.07,22.8,12.23,15.91,9.61,8.0,12.08,12.08,14.12,21.93,15.91,7.38,21.39,29.25,13.19,15.57,19.45,25.17,19.35,12.61,12.13,12.08,12.08,9.51,4.85,14.07,29.1,25.22,31.33,17.03,12.23,6.07,10.82,9.51,8.73,12.23,32.98,19.35,19.45,6.26,12.61,13.1,14.07,15.57,13.05,16.44,8.54,12.13,33.03,5.92,32.98,16.25,29.1,12.08,8.25,8.2,22.36,16.44,24.3,8.63,9.02,12.08,15.76,21.88,5.77,32.98,29.1,14.12,11.59,9.75,12.18,15.57,24.25,31.38,15.76,24.25,29.1,12.08,12.13,15.86,14.07,24.25,13.73,12.18,29.05,32.98,6.69,24.3,7.33,9.12,12.13,32.98,14.65,31.33,9.65,12.95,21.34,19.4,6.69,12.13,15.91,5.77,12.23,12.23,12.18,11.64,22.26,14.07,16.49,9.65,12.23,12.18,12.13,12.95,19.4,29.1,29.15,31.43,16.15,8.97,15.28,10.24,29.1,12.9,29.05,19.35,12.71,24.3,12.08,29.25,13.05,25.22,12.95,16.06,29.05,5.63,19.4,25.17,25.22,14.84,6.69,22.36,15.28,8.2,22.31,12.23,12.18,12.61,14.12,14.07,12.18,17.07,12.18,8.83,14.31,25.22,14.65,12.71,21.88,12.95,8.63,21.83,5.48,22.36,12.13,12.18,12.18,12.18,22.12,33.03,16.1,22.26,19.45,15.77,14.7,14.07,13.73,12.61,8.34,12.18,29.15,24.25,12.32,15.96,6.45,24.3,12.56,22.31,15.52,6.74,6.02,6.74,11.79,29.05,19.35,11.98,11.69,16.44,20.32,14.02,9.07,5.92,15.52,22.31,28.57,24.25,12.08,22.07,21.29,16.49,25.27,11.64,12.61,13.0,31.43,25.17,9.12,31.43,29.05,31.33,24.25,12.37,24.25,29.05,5.63,9.51,15.76,11.64,12.13,14.99,12.18,12.66,12.08,15.52,20.18,31.43,12.18,8.05,14.41,12.23,13.0,24.2,14.75,5.77,13.0,29.05,12.23,29.88,20.23,4.8,14.84,24.25,12.18,10.14,12.13,14.12,11.3,32.93,24.2,8.44,24.25,31.43,9.46,15.81,12.18,29.25,6.84,12.66,12.18,33.03,16.3,12.95,25.27,6.74,21.88,32.98,16.98,11.59,12.18,24.2,16.54,9.27,24.3,12.18,12.13,29.1,12.37,12.13,18.24,12.13,12.08,6.79,12.13,29.49,13.05,15.77,22.26,9.02,7.71,14.65,22.31,5.72,6.69,29.78,16.01,15.96,14.07,24.25,14.84,22.85,20.23,14.6,15.52,8.98,19.4,13.0,5.82,16.06,5.82,13.05,9.22,8.35,25.17,29.05,8.49,6.74,24.2,12.18,19.4,14.07,31.86,12.56,14.07,5.82,19.98,14.07,14.12,12.42,12.13,19.45,12.18,6.69,13.97,5.72,13.1,6.07,12.56,14.07,12.52,21.93,25.27,22.75,12.18,15.38,12.66,25.17,24.25,14.02,31.33,9.7,33.03,24.2,16.15,21.93,9.41,14.12,14.55,33.03,13.0,25.17,5.97,13.0,12.66,14.12,8.3,17.03,14.02,24.2,16.01,25.22,19.45,12.08,24.25,16.98,13.0,13.24,29.39,11.59,12.13,24.2,15.86,12.95,15.86,14.84,5.77,22.8,29.25,22.36,22.26,8.01,16.3,31.43,12.13,8.05,19.4,19.35,16.15,16.05,24.25,9.07,13.05,12.13,24.35,16.01,5.82,16.15,29.68,12.18,12.56,16.1,21.93,5.77,6.02,6.74,11.59,33.03,33.03,5.72,29.15,14.07,6.64,9.6,9.32,25.22,16.93,16.44,14.41,12.13,22.26,24.3,12.27,12.23,14.6,14.94,16.54,11.64,11.69,6.74,9.22,5.77,21.93,9.02,22.8,12.51,14.07,5.34,29.1,6.4,14.12,12.18,19.45,11.59,9.22,12.13,15.76,29.49,19.35,31.43,19.4,11.69,19.3,7.61,8.3,25.17,12.08,12.71,12.18,29.35,25.27,8.54,29.15,17.85,16.1,14.07,15.57,16.44,16.06,6.74,14.07,12.13,8.54,11.59,31.43,16.11,9.41,29.05,5.87,12.18,12.13,16.2,5.97,12.23,14.12,6.74,19.4,12.13,14.16,12.13,31.38,22.85,32.93,19.4,8.1,9.02,9.12,6.69,16.88,16.3,9.27,15.86,12.23,12.13,17.03,13.77,6.01,29.25,16.1,5.73,6.07,15.23,9.17,29.15,29.05,33.03,8.83,6.74,17.03,25.22,9.17,12.18,12.18,15.57,12.13,14.6,11.84,14.07,33.03,8.1,12.18,5.72,15.67,12.18,16.2,6.79,12.61,32.93,14.79,24.2,6.69,12.23,6.74,16.06,12.23,22.8,12.18,9.17,14.07,14.84,6.69,14.07,14.12,6.69,13.58,33.18,29.1,24.25,29.05,6.55,24.3,19.4,20.52,29.39,13.78,14.12,19.4,19.4,6.84,22.8,19.4,14.12,28.62,29.25,9.65,15.71,12.13,15.18,22.36,12.13,12.13,31.43,20.18,16.3,14.07,6.69,24.2,6.69,9.56,8.54,24.2,8.1,19.35,13.68,13.97,9.75,6.74,11.84,16.05,12.23,32.93,14.21,29.1,15.57,12.13,29.15,11.98,29.3,14.02,32.93,14.07,25.17,16.06,24.25,12.13,13.05,12.23,12.18,29.1,12.81,24.3,14.79,29.3,8.93,12.23,16.1,12.08,24.25,12.18,14.07,15.52,12.13,29.44,8.63,5.67,12.18,12.37,19.35,32.98,8.1,11.11,12.56,25.27,12.13,9.41,9.51,25.27,12.56,15.57,19.35,29.1,12.23,14.5,25.22,24.35,21.29,9.46,14.02,15.96,19.4,12.37,12.13,21.93,6.02,19.35,22.02,8.0,29.1,12.95,16.1,5.73,8.1,16.98,8.34,24.25,29.2,14.55,24.2,12.13,19.45,9.75,19.98,11.88,6.69,21.29,11.64,32.93,12.56,14.07,33.03,12.95,12.27,12.18,12.08,12.18,12.22,12.95,29.1,15.23,15.81,15.96,16.25,8.54,29.1,6.74,31.38,22.75,16.93,32.98,5.82,22.26,15.57,33.32,21.34,31.43,9.22,9.55,8.59,14.02,16.15,8.97,9.22,8.97,14.12,19.35,20.52,18.43,9.27,12.47,29.15,12.18,9.51,12.18,12.13,6.79,12.08,13.92,6.84,25.27,9.17,24.3,16.2,20.13,19.35,14.02,22.36,12.08,12.18,12.27,6.64,31.33,6.06,24.2,15.77,29.05,15.96,5.72,5.67,24.2,11.79,8.73,21.93,24.2,22.26,14.5,12.23,20.57,16.05,25.27,7.38,13.78,22.85,12.13,12.9,29.49,15.76,29.25,5.82,21.88,9.51,15.09,24.2,29.25,16.44,24.3,6.06,12.18,12.08,19.45,9.65,19.74,12.18,14.55,6.07,15.91,16.98,25.22,32.93,12.08,29.05,24.3,18.04,9.22,29.2,29.15,12.32,19.35,29.1,29.2,13.68,11.88,14.12,16.06,14.02,24.2,8.2,24.25,25.27,5.97,22.36,24.3,12.13,19.4,12.23,8.54,24.2,8.59,31.67,24.3,29.05,12.13,12.23,16.44,5.05,22.75,16.98,12.13,12.08,12.23,29.05,8.68,29.2,24.2,29.05,9.17,13.0,11.69,13.0,29.25,7.03,16.11,14.8,19.45,8.83,29.1,29.1,29.49,9.07,21.93,16.05,16.98,12.13,12.13,12.66,21.34,14.94,12.13,12.23,29.1,17.08,14.02,14.5,6.69,12.13,12.17,15.77,12.18,12.18,16.1,6.4,9.41,12.08,8.54,24.25,7.28,6.01,16.1,11.59,29.15,5.77,6.79,5.92,5.77,15.72,31.38,19.35,12.08,15.13,29.25,24.25,12.13,12.23,15.81,5.77,9.17,12.47,25.22,33.03,29.44,15.96,12.13,4.75,21.83,6.84,6.74,16.54,29.29,12.23,17.08,12.13,12.61,24.2,7.81,22.85,24.2,14.12,12.23,14.12,24.35,16.74,9.85,9.31,17.03,12.08,12.13,8.39,6.64,9.22,31.33,22.36,20.13,13.1,22.31,14.94,16.15,25.27,9.7,29.1,9.17,9.51,6.02,15.72,21.25,29.1,24.2,9.17,11.69,25.22,31.87,9.22,12.18,16.44,13.1,12.13,12.13,15.57,14.02,24.25,6.69,24.3,24.25,19.45,9.65,12.66,5.72,19.02,16.06,29.15,12.13,19.45,21.83,21.83,29.05,12.56,29.15,12.13,12.23,14.55,34.19,19.45,14.6,5.53,10.82,32.93,19.45,29.15,19.35,14.6,11.59,29.15,29.05,22.46,16.01,11.59,25.22,22.75,7.33,15.81,8.1,16.01,29.73,10.43,32.93,31.33,10.14,13.05,16.2,14.46,19.5,14.5,13.0,25.27,12.08,12.18,29.1,12.61,12.18,8.63,9.02,9.51,29.05,14.02,29.05,16.06,24.3,12.13,9.27,4.9,31.43,9.12,15.33,12.13,16.15,6.74,7.38,6.69,12.47,6.79,12.13,12.18,24.25,22.75,24.3,13.05,15.57,12.95,22.75,24.3,14.02,24.2,6.74,14.02,14.07,12.18,12.95,15.37,7.67,8.3,12.18,29.44,12.56,12.18,14.12,25.22,13.05,12.08,24.2,12.47,5.87,15.47,24.3,15.96,24.2,29.35,8.63,16.44,24.25,14.12,7.91,19.4,21.34,13.19,9.75,8.2,24.2,13.53,12.13,9.56,5.72,9.46,15.91,29.1,12.18,20.13,33.37,29.15,17.03,22.31,31.33,24.2,31.43,29.3,6.02,19.6,6.84,16.49,12.23,5.77,24.3,12.37,19.4,12.23,29.1,12.13,25.27,11.59,13.48,25.27,20.71,24.2,24.2,20.61,13.05,15.76,7.66,10.86,22.26,31.38,29.05,7.81,16.98,29.15,24.3,13.1,25.22,32.93,25.27,12.95,31.43,15.62,5.87,8.83,24.2,29.3,24.3,25.22,12.61,29.1,21.83,9.27,15.37,12.18,12.08,32.93,22.31,15.18,16.01,29.1,12.18,12.08,12.13,12.56,22.36,33.37,12.18,12.23,12.18,5.77,16.3,11.64,15.91,16.49,14.12,7.95,9.7,15.52,16.2,24.3,12.61,22.26,9.07,7.86,12.23,21.39,16.93,14.41,8.05,19.35,16.98,11.64,29.15,12.18,24.25,19.45,16.11,31.43,25.27,12.13,20.86,8.54,31.43,19.4,12.23,6.69,29.59,22.31,12.56,12.23,13.53,8.1,5.92,12.13,13.97,12.23,16.98,9.27,31.43,29.05,14.5,5.82,16.2,8.68,15.67,5.82,29.15,22.31,12.18,25.22,12.18,19.45],\"y0\":\" \",\"yaxis\":\"y\",\"type\":\"box\"}],                        {\"template\":{\"data\":{\"histogram2dcontour\":[{\"type\":\"histogram2dcontour\",\"colorbar\":{\"outlinewidth\":0,\"ticks\":\"\"},\"colorscale\":[[0.0,\"#0d0887\"],[0.1111111111111111,\"#46039f\"],[0.2222222222222222,\"#7201a8\"],[0.3333333333333333,\"#9c179e\"],[0.4444444444444444,\"#bd3786\"],[0.5555555555555556,\"#d8576b\"],[0.6666666666666666,\"#ed7953\"],[0.7777777777777778,\"#fb9f3a\"],[0.8888888888888888,\"#fdca26\"],[1.0,\"#f0f921\"]]}],\"choropleth\":[{\"type\":\"choropleth\",\"colorbar\":{\"outlinewidth\":0,\"ticks\":\"\"}}],\"histogram2d\":[{\"type\":\"histogram2d\",\"colorbar\":{\"outlinewidth\":0,\"ticks\":\"\"},\"colorscale\":[[0.0,\"#0d0887\"],[0.1111111111111111,\"#46039f\"],[0.2222222222222222,\"#7201a8\"],[0.3333333333333333,\"#9c179e\"],[0.4444444444444444,\"#bd3786\"],[0.5555555555555556,\"#d8576b\"],[0.6666666666666666,\"#ed7953\"],[0.7777777777777778,\"#fb9f3a\"],[0.8888888888888888,\"#fdca26\"],[1.0,\"#f0f921\"]]}],\"heatmap\":[{\"type\":\"heatmap\",\"colorbar\":{\"outlinewidth\":0,\"ticks\":\"\"},\"colorscale\":[[0.0,\"#0d0887\"],[0.1111111111111111,\"#46039f\"],[0.2222222222222222,\"#7201a8\"],[0.3333333333333333,\"#9c179e\"],[0.4444444444444444,\"#bd3786\"],[0.5555555555555556,\"#d8576b\"],[0.6666666666666666,\"#ed7953\"],[0.7777777777777778,\"#fb9f3a\"],[0.8888888888888888,\"#fdca26\"],[1.0,\"#f0f921\"]]}],\"heatmapgl\":[{\"type\":\"heatmapgl\",\"colorbar\":{\"outlinewidth\":0,\"ticks\":\"\"},\"colorscale\":[[0.0,\"#0d0887\"],[0.1111111111111111,\"#46039f\"],[0.2222222222222222,\"#7201a8\"],[0.3333333333333333,\"#9c179e\"],[0.4444444444444444,\"#bd3786\"],[0.5555555555555556,\"#d8576b\"],[0.6666666666666666,\"#ed7953\"],[0.7777777777777778,\"#fb9f3a\"],[0.8888888888888888,\"#fdca26\"],[1.0,\"#f0f921\"]]}],\"contourcarpet\":[{\"type\":\"contourcarpet\",\"colorbar\":{\"outlinewidth\":0,\"ticks\":\"\"}}],\"contour\":[{\"type\":\"contour\",\"colorbar\":{\"outlinewidth\":0,\"ticks\":\"\"},\"colorscale\":[[0.0,\"#0d0887\"],[0.1111111111111111,\"#46039f\"],[0.2222222222222222,\"#7201a8\"],[0.3333333333333333,\"#9c179e\"],[0.4444444444444444,\"#bd3786\"],[0.5555555555555556,\"#d8576b\"],[0.6666666666666666,\"#ed7953\"],[0.7777777777777778,\"#fb9f3a\"],[0.8888888888888888,\"#fdca26\"],[1.0,\"#f0f921\"]]}],\"surface\":[{\"type\":\"surface\",\"colorbar\":{\"outlinewidth\":0,\"ticks\":\"\"},\"colorscale\":[[0.0,\"#0d0887\"],[0.1111111111111111,\"#46039f\"],[0.2222222222222222,\"#7201a8\"],[0.3333333333333333,\"#9c179e\"],[0.4444444444444444,\"#bd3786\"],[0.5555555555555556,\"#d8576b\"],[0.6666666666666666,\"#ed7953\"],[0.7777777777777778,\"#fb9f3a\"],[0.8888888888888888,\"#fdca26\"],[1.0,\"#f0f921\"]]}],\"mesh3d\":[{\"type\":\"mesh3d\",\"colorbar\":{\"outlinewidth\":0,\"ticks\":\"\"}}],\"scatter\":[{\"fillpattern\":{\"fillmode\":\"overlay\",\"size\":10,\"solidity\":0.2},\"type\":\"scatter\"}],\"parcoords\":[{\"type\":\"parcoords\",\"line\":{\"colorbar\":{\"outlinewidth\":0,\"ticks\":\"\"}}}],\"scatterpolargl\":[{\"type\":\"scatterpolargl\",\"marker\":{\"colorbar\":{\"outlinewidth\":0,\"ticks\":\"\"}}}],\"bar\":[{\"error_x\":{\"color\":\"#2a3f5f\"},\"error_y\":{\"color\":\"#2a3f5f\"},\"marker\":{\"line\":{\"color\":\"#E5ECF6\",\"width\":0.5},\"pattern\":{\"fillmode\":\"overlay\",\"size\":10,\"solidity\":0.2}},\"type\":\"bar\"}],\"scattergeo\":[{\"type\":\"scattergeo\",\"marker\":{\"colorbar\":{\"outlinewidth\":0,\"ticks\":\"\"}}}],\"scatterpolar\":[{\"type\":\"scatterpolar\",\"marker\":{\"colorbar\":{\"outlinewidth\":0,\"ticks\":\"\"}}}],\"histogram\":[{\"marker\":{\"pattern\":{\"fillmode\":\"overlay\",\"size\":10,\"solidity\":0.2}},\"type\":\"histogram\"}],\"scattergl\":[{\"type\":\"scattergl\",\"marker\":{\"colorbar\":{\"outlinewidth\":0,\"ticks\":\"\"}}}],\"scatter3d\":[{\"type\":\"scatter3d\",\"line\":{\"colorbar\":{\"outlinewidth\":0,\"ticks\":\"\"}},\"marker\":{\"colorbar\":{\"outlinewidth\":0,\"ticks\":\"\"}}}],\"scattermapbox\":[{\"type\":\"scattermapbox\",\"marker\":{\"colorbar\":{\"outlinewidth\":0,\"ticks\":\"\"}}}],\"scatterternary\":[{\"type\":\"scatterternary\",\"marker\":{\"colorbar\":{\"outlinewidth\":0,\"ticks\":\"\"}}}],\"scattercarpet\":[{\"type\":\"scattercarpet\",\"marker\":{\"colorbar\":{\"outlinewidth\":0,\"ticks\":\"\"}}}],\"carpet\":[{\"aaxis\":{\"endlinecolor\":\"#2a3f5f\",\"gridcolor\":\"white\",\"linecolor\":\"white\",\"minorgridcolor\":\"white\",\"startlinecolor\":\"#2a3f5f\"},\"baxis\":{\"endlinecolor\":\"#2a3f5f\",\"gridcolor\":\"white\",\"linecolor\":\"white\",\"minorgridcolor\":\"white\",\"startlinecolor\":\"#2a3f5f\"},\"type\":\"carpet\"}],\"table\":[{\"cells\":{\"fill\":{\"color\":\"#EBF0F8\"},\"line\":{\"color\":\"white\"}},\"header\":{\"fill\":{\"color\":\"#C8D4E3\"},\"line\":{\"color\":\"white\"}},\"type\":\"table\"}],\"barpolar\":[{\"marker\":{\"line\":{\"color\":\"#E5ECF6\",\"width\":0.5},\"pattern\":{\"fillmode\":\"overlay\",\"size\":10,\"solidity\":0.2}},\"type\":\"barpolar\"}],\"pie\":[{\"automargin\":true,\"type\":\"pie\"}]},\"layout\":{\"autotypenumbers\":\"strict\",\"colorway\":[\"#636efa\",\"#EF553B\",\"#00cc96\",\"#ab63fa\",\"#FFA15A\",\"#19d3f3\",\"#FF6692\",\"#B6E880\",\"#FF97FF\",\"#FECB52\"],\"font\":{\"color\":\"#2a3f5f\"},\"hovermode\":\"closest\",\"hoverlabel\":{\"align\":\"left\"},\"paper_bgcolor\":\"white\",\"plot_bgcolor\":\"#E5ECF6\",\"polar\":{\"bgcolor\":\"#E5ECF6\",\"angularaxis\":{\"gridcolor\":\"white\",\"linecolor\":\"white\",\"ticks\":\"\"},\"radialaxis\":{\"gridcolor\":\"white\",\"linecolor\":\"white\",\"ticks\":\"\"}},\"ternary\":{\"bgcolor\":\"#E5ECF6\",\"aaxis\":{\"gridcolor\":\"white\",\"linecolor\":\"white\",\"ticks\":\"\"},\"baxis\":{\"gridcolor\":\"white\",\"linecolor\":\"white\",\"ticks\":\"\"},\"caxis\":{\"gridcolor\":\"white\",\"linecolor\":\"white\",\"ticks\":\"\"}},\"coloraxis\":{\"colorbar\":{\"outlinewidth\":0,\"ticks\":\"\"}},\"colorscale\":{\"sequential\":[[0.0,\"#0d0887\"],[0.1111111111111111,\"#46039f\"],[0.2222222222222222,\"#7201a8\"],[0.3333333333333333,\"#9c179e\"],[0.4444444444444444,\"#bd3786\"],[0.5555555555555556,\"#d8576b\"],[0.6666666666666666,\"#ed7953\"],[0.7777777777777778,\"#fb9f3a\"],[0.8888888888888888,\"#fdca26\"],[1.0,\"#f0f921\"]],\"sequentialminus\":[[0.0,\"#0d0887\"],[0.1111111111111111,\"#46039f\"],[0.2222222222222222,\"#7201a8\"],[0.3333333333333333,\"#9c179e\"],[0.4444444444444444,\"#bd3786\"],[0.5555555555555556,\"#d8576b\"],[0.6666666666666666,\"#ed7953\"],[0.7777777777777778,\"#fb9f3a\"],[0.8888888888888888,\"#fdca26\"],[1.0,\"#f0f921\"]],\"diverging\":[[0,\"#8e0152\"],[0.1,\"#c51b7d\"],[0.2,\"#de77ae\"],[0.3,\"#f1b6da\"],[0.4,\"#fde0ef\"],[0.5,\"#f7f7f7\"],[0.6,\"#e6f5d0\"],[0.7,\"#b8e186\"],[0.8,\"#7fbc41\"],[0.9,\"#4d9221\"],[1,\"#276419\"]]},\"xaxis\":{\"gridcolor\":\"white\",\"linecolor\":\"white\",\"ticks\":\"\",\"title\":{\"standoff\":15},\"zerolinecolor\":\"white\",\"automargin\":true,\"zerolinewidth\":2},\"yaxis\":{\"gridcolor\":\"white\",\"linecolor\":\"white\",\"ticks\":\"\",\"title\":{\"standoff\":15},\"zerolinecolor\":\"white\",\"automargin\":true,\"zerolinewidth\":2},\"scene\":{\"xaxis\":{\"backgroundcolor\":\"#E5ECF6\",\"gridcolor\":\"white\",\"linecolor\":\"white\",\"showbackground\":true,\"ticks\":\"\",\"zerolinecolor\":\"white\",\"gridwidth\":2},\"yaxis\":{\"backgroundcolor\":\"#E5ECF6\",\"gridcolor\":\"white\",\"linecolor\":\"white\",\"showbackground\":true,\"ticks\":\"\",\"zerolinecolor\":\"white\",\"gridwidth\":2},\"zaxis\":{\"backgroundcolor\":\"#E5ECF6\",\"gridcolor\":\"white\",\"linecolor\":\"white\",\"showbackground\":true,\"ticks\":\"\",\"zerolinecolor\":\"white\",\"gridwidth\":2}},\"shapedefaults\":{\"line\":{\"color\":\"#2a3f5f\"}},\"annotationdefaults\":{\"arrowcolor\":\"#2a3f5f\",\"arrowhead\":0,\"arrowwidth\":1},\"geo\":{\"bgcolor\":\"white\",\"landcolor\":\"#E5ECF6\",\"subunitcolor\":\"white\",\"showland\":true,\"showlakes\":true,\"lakecolor\":\"white\"},\"title\":{\"x\":0.05},\"mapbox\":{\"style\":\"light\"}}},\"xaxis\":{\"anchor\":\"y\",\"domain\":[0.0,1.0],\"title\":{\"text\":\"cuisine_type\"}},\"yaxis\":{\"anchor\":\"x\",\"domain\":[0.0,1.0],\"title\":{\"text\":\"cost_of_the_order\"}},\"legend\":{\"tracegroupgap\":0},\"title\":{\"text\":\"Cusine Type vs Cost of the Order\"},\"boxmode\":\"group\"},                        {\"responsive\": true}                    ).then(function(){\n",
              "                            \n",
              "var gd = document.getElementById('c1591a3f-9106-4810-a82a-1c0eb8648619');\n",
              "var x = new MutationObserver(function (mutations, observer) {{\n",
              "        var display = window.getComputedStyle(gd).display;\n",
              "        if (!display || display === 'none') {{\n",
              "            console.log([gd, 'removed!']);\n",
              "            Plotly.purge(gd);\n",
              "            observer.disconnect();\n",
              "        }}\n",
              "}});\n",
              "\n",
              "// Listen for the removal of the full notebook cells\n",
              "var notebookContainer = gd.closest('#notebook-container');\n",
              "if (notebookContainer) {{\n",
              "    x.observe(notebookContainer, {childList: true});\n",
              "}}\n",
              "\n",
              "// Listen for the clearing of the current output cell\n",
              "var outputEl = gd.closest('.output');\n",
              "if (outputEl) {{\n",
              "    x.observe(outputEl, {childList: true});\n",
              "}}\n",
              "\n",
              "                        })                };                            </script>        </div>\n",
              "</body>\n",
              "</html>"
            ]
          },
          "metadata": {}
        }
      ]
    },
    {
      "cell_type": "markdown",
      "metadata": {
        "id": "cmf4oTiB2rdQ"
      },
      "source": [
        "#### Cuisine vs Food Preparation time"
      ]
    },
    {
      "cell_type": "code",
      "execution_count": null,
      "metadata": {
        "id": "cfeDWTgN2rdQ",
        "scrolled": true,
        "colab": {
          "base_uri": "https://localhost:8080/",
          "height": 701
        },
        "outputId": "1bbd7314-9db2-42c1-f6f7-99da892abd17"
      },
      "outputs": [
        {
          "output_type": "display_data",
          "data": {
            "text/plain": [
              "<Figure size 1500x700 with 1 Axes>"
            ],
            "image/png": "[encoded data removed]"
          },
          "metadata": {}
        }
      ],
      "source": [
        "# Relationship between food preparation time and cuisine type\n",
        "plt.figure(figsize=(15,7))\n",
        "sns.boxplot(data=df, x='cuisine_type', y='food_preparation_time')  ## Complete the code to visualize the relationship between food preparation time and cuisine type using boxplot\n",
        "plt.xticks(rotation = 60)\n",
        "plt.show()"
      ]
    },
    {
      "cell_type": "code",
      "source": [
        "fig = px.box(data_frame=df, x='cuisine_type', y='food_preparation_time', title='Food Preparation Time by Cuisine Type')\n",
        "fig.update_layout(title_x=0.5)\n",
        "fig.show();"
      ],
      "metadata": {
        "colab": {
          "base_uri": "https://localhost:8080/",
          "height": 542
        },
        "id": "X3JB9X66y4th",
        "outputId": "b087cf9e-524e-44a0-a8e0-428e97e798b9"
      },
      "execution_count": null,
      "outputs": [
        {
          "output_type": "display_data",
          "data": {
            "text/html": [
              "<html>\n",
              "<head><meta charset=\"utf-8\" /></head>\n",
              "<body>\n",
              "    <div>            <script src=\"https://cdnjs.cloudflare.com/ajax/libs/mathjax/2.7.5/MathJax.js?config=TeX-AMS-MML_SVG\"></script><script type=\"text/javascript\">if (window.MathJax && window.MathJax.Hub && window.MathJax.Hub.Config) {window.MathJax.Hub.Config({SVG: {font: \"STIX-Web\"}});}</script>                <script type=\"text/javascript\">window.PlotlyConfig = {MathJaxConfig: 'local'};</script>\n",
              "        <script charset=\"utf-8\" src=\"https://cdn.plot.ly/plotly-2.35.2.min.js\"></script>                <div id=\"a037424e-85b2-4cbc-90b5-a78adbcf811a\" class=\"plotly-graph-div\" style=\"height:525px; width:100%;\"></div>            <script type=\"text/javascript\">                                    window.PLOTLYENV=window.PLOTLYENV || {};                                    if (document.getElementById(\"a037424e-85b2-4cbc-90b5-a78adbcf811a\")) {                    Plotly.newPlot(                        \"a037424e-85b2-4cbc-90b5-a78adbcf811a\",                        [{\"alignmentgroup\":\"True\",\"hovertemplate\":\"cuisine_type=%{x}\\u003cbr\\u003efood_preparation_time=%{y}\\u003cextra\\u003e\\u003c\\u002fextra\\u003e\",\"legendgroup\":\"\",\"marker\":{\"color\":\"#636efa\"},\"name\":\"\",\"notched\":false,\"offsetgroup\":\"\",\"orientation\":\"v\",\"showlegend\":false,\"x\":[\"Korean\",\"Japanese\",\"Mexican\",\"American\",\"American\",\"Indian\",\"Italian\",\"Mediterranean\",\"Indian\",\"Indian\",\"Chinese\",\"Mexican\",\"American\",\"Mediterranean\",\"American\",\"American\",\"Japanese\",\"Japanese\",\"Chinese\",\"Japanese\",\"American\",\"American\",\"American\",\"Mexican\",\"Middle Eastern\",\"Middle Eastern\",\"Italian\",\"Italian\",\"Italian\",\"Japanese\",\"Indian\",\"Thai\",\"American\",\"Japanese\",\"Italian\",\"Japanese\",\"Japanese\",\"Italian\",\"Japanese\",\"American\",\"Mexican\",\"Japanese\",\"Chinese\",\"American\",\"American\",\"Italian\",\"American\",\"American\",\"American\",\"Southern\",\"Italian\",\"American\",\"Japanese\",\"Chinese\",\"Mediterranean\",\"Mediterranean\",\"Japanese\",\"Chinese\",\"Chinese\",\"American\",\"American\",\"Japanese\",\"Mexican\",\"American\",\"American\",\"American\",\"Chinese\",\"Japanese\",\"Italian\",\"American\",\"American\",\"American\",\"Italian\",\"Japanese\",\"Indian\",\"Italian\",\"Japanese\",\"Indian\",\"Chinese\",\"Chinese\",\"American\",\"American\",\"American\",\"Mexican\",\"Italian\",\"Mexican\",\"Japanese\",\"Italian\",\"Japanese\",\"Southern\",\"American\",\"Indian\",\"Chinese\",\"Mexican\",\"Chinese\",\"American\",\"American\",\"American\",\"American\",\"Mexican\",\"Italian\",\"American\",\"Japanese\",\"American\",\"Italian\",\"Japanese\",\"Japanese\",\"Chinese\",\"Italian\",\"Japanese\",\"American\",\"American\",\"American\",\"Italian\",\"Thai\",\"Japanese\",\"American\",\"American\",\"Japanese\",\"Japanese\",\"Italian\",\"American\",\"American\",\"American\",\"French\",\"Japanese\",\"Italian\",\"Italian\",\"Chinese\",\"American\",\"Chinese\",\"Chinese\",\"Italian\",\"Chinese\",\"Japanese\",\"Italian\",\"Japanese\",\"Chinese\",\"Spanish\",\"American\",\"American\",\"Japanese\",\"Thai\",\"Japanese\",\"Italian\",\"American\",\"Japanese\",\"American\",\"Italian\",\"Chinese\",\"American\",\"Japanese\",\"American\",\"American\",\"American\",\"Japanese\",\"Chinese\",\"Japanese\",\"Indian\",\"Japanese\",\"Indian\",\"American\",\"Italian\",\"Indian\",\"Italian\",\"Japanese\",\"Chinese\",\"American\",\"Italian\",\"Thai\",\"Mediterranean\",\"Middle Eastern\",\"American\",\"Chinese\",\"Italian\",\"Mediterranean\",\"Chinese\",\"American\",\"Italian\",\"Southern\",\"Italian\",\"Japanese\",\"Indian\",\"Italian\",\"Chinese\",\"Italian\",\"Chinese\",\"Mexican\",\"American\",\"American\",\"Japanese\",\"Japanese\",\"American\",\"Japanese\",\"Japanese\",\"American\",\"Italian\",\"Japanese\",\"American\",\"Chinese\",\"Southern\",\"American\",\"Italian\",\"American\",\"Chinese\",\"American\",\"American\",\"Mediterranean\",\"American\",\"American\",\"Japanese\",\"Japanese\",\"Chinese\",\"French\",\"Italian\",\"American\",\"Mexican\",\"American\",\"Chinese\",\"Chinese\",\"Japanese\",\"Chinese\",\"Chinese\",\"Indian\",\"Japanese\",\"American\",\"Japanese\",\"Japanese\",\"American\",\"American\",\"Italian\",\"Italian\",\"American\",\"Chinese\",\"Japanese\",\"Indian\",\"Mexican\",\"Japanese\",\"Indian\",\"American\",\"Japanese\",\"Japanese\",\"Japanese\",\"American\",\"Southern\",\"Italian\",\"Italian\",\"Chinese\",\"American\",\"Italian\",\"Italian\",\"Japanese\",\"American\",\"Japanese\",\"French\",\"Japanese\",\"Chinese\",\"Chinese\",\"Japanese\",\"American\",\"Italian\",\"Japanese\",\"American\",\"American\",\"American\",\"Italian\",\"Italian\",\"Indian\",\"Italian\",\"Italian\",\"Thai\",\"American\",\"Middle Eastern\",\"Japanese\",\"American\",\"American\",\"Chinese\",\"Italian\",\"Chinese\",\"Italian\",\"Japanese\",\"American\",\"Italian\",\"American\",\"Japanese\",\"Chinese\",\"Japanese\",\"Japanese\",\"American\",\"Japanese\",\"French\",\"American\",\"Chinese\",\"Mexican\",\"Italian\",\"American\",\"Chinese\",\"Chinese\",\"American\",\"Chinese\",\"Chinese\",\"Korean\",\"American\",\"American\",\"Italian\",\"Chinese\",\"American\",\"Italian\",\"Italian\",\"Italian\",\"Japanese\",\"American\",\"American\",\"Indian\",\"American\",\"American\",\"American\",\"American\",\"Mexican\",\"Mexican\",\"American\",\"Italian\",\"Italian\",\"American\",\"Japanese\",\"American\",\"Mexican\",\"American\",\"American\",\"Italian\",\"Japanese\",\"Indian\",\"American\",\"Mexican\",\"Chinese\",\"Mexican\",\"Japanese\",\"Southern\",\"American\",\"American\",\"American\",\"Chinese\",\"Italian\",\"Middle Eastern\",\"Japanese\",\"Japanese\",\"Chinese\",\"American\",\"American\",\"American\",\"American\",\"Italian\",\"Italian\",\"Italian\",\"Japanese\",\"Chinese\",\"American\",\"Japanese\",\"Japanese\",\"Japanese\",\"American\",\"American\",\"Chinese\",\"Middle Eastern\",\"Mediterranean\",\"Thai\",\"Japanese\",\"American\",\"American\",\"American\",\"Japanese\",\"American\",\"American\",\"Vietnamese\",\"Japanese\",\"Indian\",\"Chinese\",\"Southern\",\"American\",\"Japanese\",\"American\",\"American\",\"Japanese\",\"Mexican\",\"Italian\",\"American\",\"American\",\"Japanese\",\"Italian\",\"Chinese\",\"Mexican\",\"Chinese\",\"American\",\"Japanese\",\"Chinese\",\"American\",\"American\",\"American\",\"American\",\"American\",\"Spanish\",\"Italian\",\"American\",\"Middle Eastern\",\"American\",\"American\",\"Mediterranean\",\"American\",\"Japanese\",\"American\",\"American\",\"Italian\",\"American\",\"American\",\"Indian\",\"American\",\"Italian\",\"Japanese\",\"Italian\",\"American\",\"Mexican\",\"Chinese\",\"Japanese\",\"Chinese\",\"American\",\"Japanese\",\"Chinese\",\"American\",\"Mediterranean\",\"Middle Eastern\",\"Japanese\",\"American\",\"Italian\",\"Indian\",\"Japanese\",\"American\",\"Italian\",\"American\",\"American\",\"Italian\",\"Italian\",\"Italian\",\"Mexican\",\"Middle Eastern\",\"American\",\"Japanese\",\"Japanese\",\"Middle Eastern\",\"American\",\"Indian\",\"Japanese\",\"American\",\"Japanese\",\"American\",\"American\",\"American\",\"Japanese\",\"American\",\"Italian\",\"Chinese\",\"Indian\",\"Japanese\",\"Japanese\",\"Japanese\",\"Korean\",\"Mexican\",\"Chinese\",\"Mexican\",\"Japanese\",\"Japanese\",\"Japanese\",\"Middle Eastern\",\"Italian\",\"American\",\"Chinese\",\"Japanese\",\"Japanese\",\"Italian\",\"American\",\"Mexican\",\"Japanese\",\"Chinese\",\"Italian\",\"Japanese\",\"American\",\"Chinese\",\"Italian\",\"Italian\",\"Chinese\",\"Italian\",\"Japanese\",\"Italian\",\"Mediterranean\",\"Chinese\",\"Indian\",\"Japanese\",\"Japanese\",\"Japanese\",\"Japanese\",\"Japanese\",\"American\",\"American\",\"Mediterranean\",\"Japanese\",\"American\",\"Chinese\",\"American\",\"American\",\"American\",\"American\",\"American\",\"Japanese\",\"Thai\",\"Mexican\",\"Italian\",\"Japanese\",\"Thai\",\"American\",\"Japanese\",\"Chinese\",\"American\",\"Japanese\",\"Italian\",\"Japanese\",\"Mediterranean\",\"Japanese\",\"Japanese\",\"Japanese\",\"Italian\",\"Italian\",\"American\",\"Japanese\",\"American\",\"Italian\",\"Chinese\",\"Japanese\",\"Italian\",\"American\",\"Italian\",\"American\",\"American\",\"Italian\",\"American\",\"American\",\"Japanese\",\"Chinese\",\"American\",\"American\",\"Mexican\",\"Italian\",\"Japanese\",\"Italian\",\"French\",\"Japanese\",\"American\",\"American\",\"Middle Eastern\",\"Chinese\",\"American\",\"Indian\",\"Japanese\",\"Japanese\",\"Italian\",\"Chinese\",\"Chinese\",\"Japanese\",\"Chinese\",\"Italian\",\"Japanese\",\"Thai\",\"Italian\",\"Japanese\",\"Mediterranean\",\"Mediterranean\",\"Italian\",\"American\",\"Japanese\",\"American\",\"Italian\",\"American\",\"American\",\"American\",\"Chinese\",\"Middle Eastern\",\"Japanese\",\"Japanese\",\"Italian\",\"Indian\",\"Japanese\",\"Chinese\",\"Mediterranean\",\"Chinese\",\"American\",\"Thai\",\"Japanese\",\"Italian\",\"Italian\",\"Japanese\",\"Italian\",\"Japanese\",\"Japanese\",\"Indian\",\"Chinese\",\"Chinese\",\"American\",\"American\",\"Chinese\",\"Indian\",\"American\",\"Indian\",\"Chinese\",\"American\",\"Chinese\",\"Italian\",\"Italian\",\"Italian\",\"Chinese\",\"American\",\"Middle Eastern\",\"Thai\",\"Chinese\",\"Japanese\",\"Southern\",\"American\",\"Japanese\",\"Chinese\",\"American\",\"American\",\"American\",\"American\",\"Japanese\",\"Chinese\",\"Mexican\",\"Mediterranean\",\"American\",\"Mediterranean\",\"Japanese\",\"Japanese\",\"Japanese\",\"Japanese\",\"Vietnamese\",\"Italian\",\"American\",\"Japanese\",\"Italian\",\"American\",\"Chinese\",\"American\",\"Italian\",\"American\",\"Middle Eastern\",\"Southern\",\"American\",\"Korean\",\"Mexican\",\"Chinese\",\"Italian\",\"American\",\"Chinese\",\"Japanese\",\"Mexican\",\"Mediterranean\",\"American\",\"Japanese\",\"Japanese\",\"American\",\"Mexican\",\"Spanish\",\"Italian\",\"American\",\"Korean\",\"Indian\",\"American\",\"Chinese\",\"American\",\"Japanese\",\"Italian\",\"Italian\",\"Chinese\",\"American\",\"American\",\"Chinese\",\"Italian\",\"American\",\"American\",\"Japanese\",\"Japanese\",\"Japanese\",\"American\",\"Italian\",\"Italian\",\"American\",\"Japanese\",\"Italian\",\"Mexican\",\"Chinese\",\"American\",\"Mexican\",\"Japanese\",\"Italian\",\"Japanese\",\"Japanese\",\"Japanese\",\"American\",\"Mediterranean\",\"American\",\"Chinese\",\"American\",\"Japanese\",\"American\",\"American\",\"Mexican\",\"American\",\"American\",\"American\",\"Japanese\",\"Italian\",\"Chinese\",\"American\",\"Japanese\",\"American\",\"Indian\",\"Japanese\",\"American\",\"Mexican\",\"Chinese\",\"Mexican\",\"Italian\",\"Italian\",\"Chinese\",\"American\",\"Japanese\",\"Italian\",\"Italian\",\"Chinese\",\"American\",\"American\",\"American\",\"Chinese\",\"Japanese\",\"Japanese\",\"American\",\"Italian\",\"Italian\",\"American\",\"Indian\",\"Vietnamese\",\"Korean\",\"Japanese\",\"Italian\",\"Italian\",\"Chinese\",\"Japanese\",\"Japanese\",\"Japanese\",\"Chinese\",\"Chinese\",\"Indian\",\"Japanese\",\"Middle Eastern\",\"Japanese\",\"American\",\"Chinese\",\"Japanese\",\"Italian\",\"Japanese\",\"Japanese\",\"Japanese\",\"American\",\"Middle Eastern\",\"Mexican\",\"American\",\"American\",\"Japanese\",\"American\",\"American\",\"American\",\"Italian\",\"American\",\"Southern\",\"Italian\",\"Italian\",\"Japanese\",\"Italian\",\"American\",\"Indian\",\"American\",\"American\",\"Italian\",\"Japanese\",\"Chinese\",\"Japanese\",\"Italian\",\"Japanese\",\"Japanese\",\"Japanese\",\"Japanese\",\"Japanese\",\"Italian\",\"Japanese\",\"Japanese\",\"American\",\"Chinese\",\"Italian\",\"Japanese\",\"American\",\"Italian\",\"American\",\"Japanese\",\"American\",\"Chinese\",\"American\",\"Japanese\",\"American\",\"Italian\",\"American\",\"Middle Eastern\",\"American\",\"American\",\"Japanese\",\"Italian\",\"Japanese\",\"Japanese\",\"American\",\"American\",\"American\",\"Chinese\",\"Southern\",\"Japanese\",\"Mexican\",\"Japanese\",\"American\",\"Japanese\",\"Japanese\",\"Japanese\",\"French\",\"Japanese\",\"Japanese\",\"Chinese\",\"Japanese\",\"Chinese\",\"Mediterranean\",\"American\",\"Mediterranean\",\"Italian\",\"American\",\"American\",\"Japanese\",\"American\",\"American\",\"American\",\"American\",\"Korean\",\"Italian\",\"American\",\"Indian\",\"Japanese\",\"Italian\",\"Mediterranean\",\"Japanese\",\"American\",\"American\",\"American\",\"Japanese\",\"American\",\"Chinese\",\"Japanese\",\"American\",\"Japanese\",\"Japanese\",\"American\",\"Mexican\",\"Italian\",\"Indian\",\"Japanese\",\"Japanese\",\"American\",\"Italian\",\"Italian\",\"Japanese\",\"Japanese\",\"Indian\",\"Japanese\",\"Japanese\",\"Chinese\",\"Japanese\",\"Italian\",\"Middle Eastern\",\"American\",\"American\",\"Italian\",\"Japanese\",\"Japanese\",\"American\",\"Chinese\",\"Chinese\",\"Italian\",\"Thai\",\"Chinese\",\"American\",\"American\",\"American\",\"Japanese\",\"Italian\",\"American\",\"Indian\",\"Chinese\",\"Japanese\",\"Italian\",\"American\",\"Middle Eastern\",\"Japanese\",\"Japanese\",\"Japanese\",\"Italian\",\"Indian\",\"American\",\"Italian\",\"Chinese\",\"Chinese\",\"Indian\",\"Japanese\",\"Chinese\",\"Japanese\",\"Mexican\",\"Middle Eastern\",\"Japanese\",\"American\",\"Japanese\",\"Indian\",\"Chinese\",\"Japanese\",\"Japanese\",\"Japanese\",\"Italian\",\"American\",\"Italian\",\"Japanese\",\"Chinese\",\"American\",\"Chinese\",\"American\",\"Middle Eastern\",\"Southern\",\"Japanese\",\"Japanese\",\"American\",\"Japanese\",\"Chinese\",\"American\",\"Chinese\",\"Chinese\",\"Japanese\",\"American\",\"American\",\"American\",\"American\",\"Japanese\",\"Chinese\",\"Japanese\",\"Italian\",\"American\",\"Mexican\",\"Mexican\",\"Mediterranean\",\"Japanese\",\"Thai\",\"American\",\"Italian\",\"American\",\"Chinese\",\"Chinese\",\"Japanese\",\"American\",\"Italian\",\"American\",\"Mediterranean\",\"Japanese\",\"Italian\",\"American\",\"American\",\"Italian\",\"Japanese\",\"Japanese\",\"Indian\",\"American\",\"American\",\"American\",\"American\",\"American\",\"American\",\"Japanese\",\"American\",\"Italian\",\"Japanese\",\"Japanese\",\"American\",\"American\",\"Middle Eastern\",\"Japanese\",\"Japanese\",\"Japanese\",\"American\",\"Italian\",\"American\",\"Southern\",\"Italian\",\"Japanese\",\"Japanese\",\"American\",\"Italian\",\"Japanese\",\"American\",\"Japanese\",\"Italian\",\"Japanese\",\"Japanese\",\"Chinese\",\"American\",\"Italian\",\"Indian\",\"Japanese\",\"American\",\"Mexican\",\"American\",\"Indian\",\"Italian\",\"American\",\"Mediterranean\",\"Italian\",\"Mexican\",\"Indian\",\"American\",\"American\",\"Japanese\",\"Japanese\",\"Italian\",\"Japanese\",\"Japanese\",\"Japanese\",\"Italian\",\"Japanese\",\"Italian\",\"Japanese\",\"Italian\",\"Indian\",\"Japanese\",\"Japanese\",\"Italian\",\"American\",\"Japanese\",\"American\",\"American\",\"Chinese\",\"Italian\",\"Middle Eastern\",\"Japanese\",\"Italian\",\"Japanese\",\"Mexican\",\"Italian\",\"Japanese\",\"Japanese\",\"Italian\",\"Japanese\",\"American\",\"Chinese\",\"American\",\"Japanese\",\"Indian\",\"Japanese\",\"American\",\"Japanese\",\"Middle Eastern\",\"American\",\"American\",\"Japanese\",\"Italian\",\"Indian\",\"American\",\"American\",\"Japanese\",\"American\",\"American\",\"Japanese\",\"Chinese\",\"American\",\"Chinese\",\"Middle Eastern\",\"American\",\"Japanese\",\"American\",\"Italian\",\"Italian\",\"Middle Eastern\",\"Indian\",\"American\",\"American\",\"Middle Eastern\",\"Japanese\",\"Italian\",\"Japanese\",\"Japanese\",\"Mexican\",\"American\",\"Indian\",\"Japanese\",\"American\",\"Japanese\",\"Japanese\",\"Chinese\",\"Italian\",\"Italian\",\"Chinese\",\"Japanese\",\"Italian\",\"Italian\",\"Italian\",\"American\",\"Chinese\",\"Chinese\",\"Japanese\",\"Japanese\",\"Indian\",\"American\",\"Italian\",\"Mexican\",\"Italian\",\"American\",\"Korean\",\"Italian\",\"American\",\"Mediterranean\",\"Japanese\",\"Japanese\",\"American\",\"Chinese\",\"Japanese\",\"Spanish\",\"Italian\",\"Japanese\",\"American\",\"Japanese\",\"Italian\",\"Chinese\",\"American\",\"American\",\"Japanese\",\"Mediterranean\",\"Japanese\",\"American\",\"Italian\",\"American\",\"American\",\"American\",\"Japanese\",\"Italian\",\"American\",\"American\",\"Japanese\",\"Japanese\",\"French\",\"American\",\"American\",\"Vietnamese\",\"Japanese\",\"Japanese\",\"Chinese\",\"American\",\"Chinese\",\"Italian\",\"Indian\",\"American\",\"Chinese\",\"Japanese\",\"American\",\"Japanese\",\"Japanese\",\"Mexican\",\"American\",\"Italian\",\"American\",\"American\",\"American\",\"Japanese\",\"Japanese\",\"Japanese\",\"American\",\"American\",\"Italian\",\"Vietnamese\",\"Japanese\",\"American\",\"American\",\"Japanese\",\"Japanese\",\"Japanese\",\"Italian\",\"Italian\",\"Southern\",\"Indian\",\"Japanese\",\"American\",\"Japanese\",\"Japanese\",\"American\",\"American\",\"American\",\"American\",\"Japanese\",\"Mediterranean\",\"Japanese\",\"American\",\"American\",\"Indian\",\"American\",\"American\",\"Italian\",\"Japanese\",\"Italian\",\"American\",\"Indian\",\"Chinese\",\"American\",\"Indian\",\"American\",\"Japanese\",\"Italian\",\"American\",\"Chinese\",\"Indian\",\"Japanese\",\"Chinese\",\"American\",\"Japanese\",\"American\",\"Italian\",\"Indian\",\"American\",\"Japanese\",\"American\",\"Middle Eastern\",\"Chinese\",\"Japanese\",\"Chinese\",\"American\",\"Middle Eastern\",\"Chinese\",\"Italian\",\"Mexican\",\"American\",\"Middle Eastern\",\"Japanese\",\"Japanese\",\"Indian\",\"Korean\",\"American\",\"Japanese\",\"American\",\"Mexican\",\"Japanese\",\"American\",\"Japanese\",\"American\",\"American\",\"American\",\"Japanese\",\"American\",\"American\",\"Japanese\",\"Italian\",\"American\",\"Vietnamese\",\"Japanese\",\"Thai\",\"American\",\"Italian\",\"Japanese\",\"American\",\"Italian\",\"American\",\"American\",\"Japanese\",\"Chinese\",\"American\",\"Middle Eastern\",\"Japanese\",\"American\",\"American\",\"American\",\"Italian\",\"Japanese\",\"Japanese\",\"Japanese\",\"Thai\",\"American\",\"Italian\",\"Japanese\",\"Japanese\",\"American\",\"Italian\",\"Italian\",\"Mediterranean\",\"American\",\"Middle Eastern\",\"Japanese\",\"American\",\"Japanese\",\"American\",\"American\",\"Spanish\",\"American\",\"Japanese\",\"American\",\"Thai\",\"Italian\",\"American\",\"Japanese\",\"Japanese\",\"Italian\",\"French\",\"Japanese\",\"Mexican\",\"French\",\"Japanese\",\"Japanese\",\"Japanese\",\"Japanese\",\"American\",\"Chinese\",\"Indian\",\"American\",\"Japanese\",\"Thai\",\"American\",\"Italian\",\"Japanese\",\"American\",\"Middle Eastern\",\"Mexican\",\"Japanese\",\"Chinese\",\"Chinese\",\"Southern\",\"American\",\"American\",\"Chinese\",\"Italian\",\"Middle Eastern\",\"American\",\"Indian\",\"Italian\",\"American\",\"Japanese\",\"American\",\"Japanese\",\"Mexican\",\"Japanese\",\"Chinese\",\"American\",\"Japanese\",\"Japanese\",\"Japanese\",\"Japanese\",\"Italian\",\"Mediterranean\",\"Italian\",\"American\",\"Japanese\",\"Mexican\",\"Mexican\",\"American\",\"American\",\"Japanese\",\"Japanese\",\"American\",\"American\",\"Chinese\",\"Chinese\",\"Japanese\",\"Japanese\",\"Japanese\",\"American\",\"American\",\"Chinese\",\"Japanese\",\"Italian\",\"Mexican\",\"American\",\"American\",\"Italian\",\"Mediterranean\",\"American\",\"American\",\"Chinese\",\"Italian\",\"Chinese\",\"Japanese\",\"American\",\"American\",\"Mexican\",\"American\",\"Chinese\",\"American\",\"American\",\"American\",\"American\",\"Chinese\",\"Japanese\",\"American\",\"American\",\"Italian\",\"Middle Eastern\",\"Chinese\",\"American\",\"Mediterranean\",\"Middle Eastern\",\"Thai\",\"Mexican\",\"Chinese\",\"American\",\"American\",\"Japanese\",\"American\",\"American\",\"Japanese\",\"Italian\",\"Japanese\",\"Japanese\",\"American\",\"Japanese\",\"Chinese\",\"American\",\"American\",\"French\",\"Chinese\",\"American\",\"Mexican\",\"Chinese\",\"Italian\",\"Italian\",\"Italian\",\"Japanese\",\"Italian\",\"American\",\"Italian\",\"Japanese\",\"Italian\",\"American\",\"Korean\",\"Chinese\",\"American\",\"American\",\"Spanish\",\"Japanese\",\"Japanese\",\"Italian\",\"Middle Eastern\",\"Italian\",\"Japanese\",\"Italian\",\"French\",\"Mexican\",\"Chinese\",\"Mexican\",\"Japanese\",\"American\",\"Italian\",\"Mexican\",\"Italian\",\"Japanese\",\"Korean\",\"Mexican\",\"American\",\"Japanese\",\"Middle Eastern\",\"American\",\"Chinese\",\"Mexican\",\"American\",\"Japanese\",\"Italian\",\"Italian\",\"French\",\"Italian\",\"Italian\",\"Japanese\",\"Japanese\",\"American\",\"American\",\"Indian\",\"Italian\",\"American\",\"Italian\",\"Japanese\",\"Japanese\",\"Mediterranean\",\"Spanish\",\"Italian\",\"Italian\",\"American\",\"Italian\",\"Italian\",\"Spanish\",\"Italian\",\"American\",\"American\",\"Chinese\",\"Japanese\",\"Chinese\",\"Japanese\",\"Italian\",\"Italian\",\"Spanish\",\"Japanese\",\"American\",\"Italian\",\"Italian\",\"Japanese\",\"American\",\"American\",\"Japanese\",\"Chinese\",\"American\",\"Mediterranean\",\"American\",\"American\",\"Thai\",\"Mediterranean\",\"American\",\"Japanese\",\"Italian\",\"Japanese\",\"Indian\",\"Japanese\",\"French\",\"Italian\",\"Italian\",\"Japanese\",\"Italian\",\"Japanese\",\"Chinese\",\"American\",\"American\",\"Italian\",\"Mexican\",\"American\",\"American\",\"American\",\"American\",\"Korean\",\"American\",\"Mexican\",\"Chinese\",\"Vietnamese\",\"Japanese\",\"American\",\"Spanish\",\"American\",\"Japanese\",\"Japanese\",\"Japanese\",\"Italian\",\"Mediterranean\",\"Indian\",\"Italian\",\"Chinese\",\"Japanese\",\"Chinese\",\"Chinese\",\"American\",\"American\",\"Italian\",\"Italian\",\"Chinese\",\"Japanese\",\"Japanese\",\"Japanese\",\"American\",\"Italian\",\"American\",\"Spanish\",\"American\",\"Middle Eastern\",\"Chinese\",\"American\",\"Italian\",\"Japanese\",\"Japanese\",\"Japanese\",\"American\",\"Japanese\",\"American\",\"American\",\"Chinese\",\"Italian\",\"American\",\"American\",\"Indian\",\"American\",\"Chinese\",\"American\",\"American\",\"American\",\"American\",\"Mexican\",\"American\",\"Chinese\",\"Japanese\",\"American\",\"French\",\"Mexican\",\"American\",\"Indian\",\"American\",\"American\",\"Chinese\",\"Japanese\",\"American\",\"Japanese\",\"American\",\"Italian\",\"Japanese\",\"Italian\",\"Indian\",\"Japanese\",\"American\",\"Italian\",\"American\",\"Middle Eastern\",\"Japanese\",\"American\",\"Chinese\",\"Japanese\",\"Middle Eastern\",\"Japanese\",\"American\",\"American\",\"Italian\",\"Japanese\",\"American\",\"Italian\",\"Japanese\",\"Japanese\",\"Chinese\",\"American\",\"Chinese\",\"American\",\"Italian\",\"American\",\"Japanese\",\"Japanese\",\"Japanese\",\"American\",\"Japanese\",\"American\",\"Italian\",\"American\",\"American\",\"Japanese\",\"Mediterranean\",\"American\",\"Middle Eastern\",\"Indian\",\"American\",\"Japanese\",\"Mexican\",\"American\",\"American\",\"American\",\"American\",\"Mexican\",\"Italian\",\"Italian\",\"Chinese\",\"Mediterranean\",\"Italian\",\"Japanese\",\"American\",\"Japanese\",\"Japanese\",\"American\",\"American\",\"Chinese\",\"Japanese\",\"American\",\"Japanese\",\"Italian\",\"American\",\"Japanese\",\"Italian\",\"Spanish\",\"Italian\",\"Japanese\",\"Chinese\",\"Japanese\",\"Italian\",\"Italian\",\"Japanese\",\"American\",\"Mediterranean\",\"Mediterranean\",\"Italian\",\"Indian\",\"Southern\",\"Italian\",\"Japanese\",\"American\",\"Italian\",\"Mexican\",\"Italian\",\"Italian\",\"Chinese\",\"Italian\",\"Japanese\",\"Japanese\",\"Italian\",\"American\",\"Chinese\",\"Japanese\",\"Chinese\",\"Chinese\",\"Mediterranean\",\"Italian\",\"Chinese\",\"Chinese\",\"Italian\",\"American\",\"Japanese\",\"Chinese\",\"Chinese\",\"American\",\"American\",\"American\",\"Middle Eastern\",\"Indian\",\"Indian\",\"Italian\",\"American\",\"French\",\"Chinese\",\"Japanese\",\"American\",\"Chinese\",\"American\",\"Chinese\",\"American\",\"Chinese\",\"Italian\",\"Italian\",\"Chinese\",\"American\",\"Indian\",\"Italian\",\"Chinese\",\"American\",\"American\",\"Japanese\",\"Italian\",\"Japanese\",\"American\",\"American\",\"Japanese\",\"American\",\"Japanese\",\"Chinese\",\"Japanese\",\"Indian\",\"Middle Eastern\",\"American\",\"Chinese\",\"Japanese\",\"American\",\"Chinese\",\"Chinese\",\"Middle Eastern\",\"American\",\"Mexican\",\"Japanese\",\"Middle Eastern\",\"French\",\"American\",\"Japanese\",\"American\",\"Japanese\",\"American\",\"Mediterranean\",\"Japanese\",\"Chinese\",\"Italian\",\"Japanese\",\"Japanese\",\"Chinese\",\"Japanese\",\"American\",\"American\",\"Middle Eastern\",\"American\",\"French\",\"Japanese\",\"American\",\"American\",\"American\",\"Middle Eastern\",\"Italian\",\"Italian\",\"American\",\"Mexican\",\"Italian\",\"American\",\"Mediterranean\",\"American\",\"Japanese\",\"American\",\"American\",\"Mexican\",\"Japanese\",\"American\",\"Mexican\",\"American\",\"Italian\",\"Chinese\",\"Japanese\",\"American\",\"Japanese\",\"American\",\"Japanese\",\"Japanese\",\"Chinese\",\"American\",\"Japanese\",\"Japanese\",\"American\",\"French\",\"Mexican\",\"Italian\",\"Japanese\",\"Indian\",\"Italian\",\"Chinese\",\"American\",\"Italian\",\"Japanese\",\"American\",\"Chinese\",\"Japanese\",\"Chinese\",\"Japanese\",\"Italian\",\"Japanese\",\"Italian\",\"American\",\"American\",\"Mediterranean\",\"Japanese\",\"Chinese\",\"American\",\"Italian\",\"Japanese\",\"Korean\",\"American\",\"Japanese\",\"American\",\"Japanese\",\"Italian\",\"Japanese\",\"Chinese\",\"Japanese\",\"Chinese\",\"American\",\"American\",\"Japanese\",\"American\",\"American\",\"American\",\"Southern\",\"Italian\",\"American\",\"Japanese\",\"Japanese\",\"American\",\"American\",\"American\",\"American\",\"American\",\"American\",\"American\",\"American\",\"Italian\",\"Chinese\",\"Japanese\",\"American\",\"Chinese\",\"Mexican\",\"American\",\"Japanese\",\"Mediterranean\",\"Japanese\"],\"x0\":\" \",\"xaxis\":\"x\",\"y\":[25,25,23,25,25,20,28,33,21,29,34,23,23,24,23,33,30,21,25,35,21,25,21,33,32,20,24,24,21,20,28,35,35,34,30,32,23,31,20,27,21,23,22,33,30,29,22,34,27,33,21,27,22,22,35,31,24,25,20,33,28,33,23,22,22,22,24,29,34,24,22,27,28,31,23,30,20,20,31,34,33,21,35,22,34,27,20,33,24,35,31,24,26,31,31,27,29,29,26,33,30,22,26,30,28,26,28,20,26,34,23,20,31,23,31,30,26,22,33,31,26,21,26,31,22,25,34,26,20,24,33,34,29,22,25,31,29,26,30,29,25,21,21,32,22,32,22,25,35,23,30,30,29,27,32,25,33,26,26,31,35,30,28,26,27,29,23,22,32,34,29,21,34,24,33,29,24,25,22,30,32,26,35,26,35,34,26,27,30,31,34,24,24,20,24,29,26,27,35,24,26,30,24,35,20,27,30,33,22,25,28,28,21,26,34,31,30,34,33,21,21,33,33,27,30,27,35,30,20,25,33,35,34,20,24,29,34,24,21,34,35,28,24,34,33,23,21,33,29,28,23,28,31,30,21,25,27,26,21,25,28,24,27,21,31,24,27,28,30,31,22,24,25,23,23,22,26,33,20,24,29,22,35,32,34,31,24,22,24,24,31,30,27,23,28,21,27,23,34,33,20,26,26,23,32,28,32,25,30,31,25,32,23,24,35,20,22,33,26,22,31,20,32,26,27,30,27,26,21,23,23,32,27,21,24,32,31,25,28,29,33,24,21,32,30,30,20,30,33,32,20,25,30,27,26,32,32,20,35,27,22,24,20,26,28,25,34,28,32,34,24,30,33,25,28,33,32,20,32,30,31,20,30,30,22,23,22,22,22,30,28,32,24,33,30,30,23,20,33,29,27,31,21,27,27,30,26,25,28,20,34,23,31,30,31,20,20,30,22,28,26,32,24,28,30,31,30,23,20,30,30,32,21,33,24,33,32,34,29,30,35,28,21,24,35,32,34,23,32,28,26,31,33,32,29,26,26,34,21,30,33,34,22,35,21,26,29,34,35,32,33,25,34,34,27,33,27,22,27,31,34,33,34,27,23,33,23,30,31,29,26,26,25,21,24,27,31,35,34,33,33,20,31,28,35,22,31,30,20,28,35,21,34,34,23,21,22,23,26,32,29,32,29,23,21,24,28,33,34,35,26,22,25,21,20,20,34,28,31,26,29,27,23,22,34,21,20,22,21,32,24,29,35,33,35,26,21,24,21,26,21,30,21,26,25,31,28,20,24,28,20,35,33,21,25,27,23,29,21,23,34,20,27,30,32,30,29,30,25,27,21,29,24,23,21,30,29,31,26,22,35,35,25,30,35,27,34,30,23,35,24,20,33,22,29,27,33,34,33,31,35,24,25,21,28,20,23,27,29,27,28,32,35,20,28,21,25,24,27,32,28,32,26,31,26,24,21,27,33,25,32,24,28,23,22,33,28,27,31,32,34,30,23,35,20,34,24,23,30,35,32,30,34,24,21,26,30,23,28,31,34,26,22,35,31,32,34,28,25,35,23,27,20,25,21,31,20,33,21,28,21,31,26,26,23,22,27,28,26,23,22,24,34,35,30,30,26,22,21,33,33,29,35,29,28,25,26,33,26,29,34,35,32,24,30,27,25,32,24,26,26,28,24,25,35,33,33,33,24,34,21,26,25,25,27,27,20,20,23,24,24,22,22,25,24,26,22,32,27,27,23,35,32,31,21,32,32,33,31,21,25,32,20,34,33,21,28,29,26,27,33,27,25,20,27,28,30,24,28,28,33,20,27,27,31,25,29,25,32,31,31,25,33,29,30,21,22,26,21,27,29,25,29,28,30,28,20,21,20,32,29,20,32,35,23,21,21,30,30,23,35,31,33,23,22,27,35,33,35,27,34,24,25,34,31,23,27,28,35,21,23,28,27,35,27,29,33,23,30,24,23,24,30,33,22,24,32,28,28,23,22,26,35,25,32,28,21,20,20,22,35,35,32,21,20,32,35,34,22,31,20,31,22,35,20,30,22,20,32,35,27,22,29,22,23,32,34,21,22,28,23,20,24,23,34,22,21,22,32,32,27,21,26,22,31,35,22,32,22,34,29,24,23,35,33,22,33,22,31,24,33,30,32,26,30,30,22,24,22,28,31,28,27,22,23,22,29,32,28,34,25,35,34,30,34,31,25,23,25,28,26,25,27,32,31,23,25,33,24,21,23,25,22,30,25,21,24,20,29,25,34,22,31,31,22,25,30,28,34,28,30,33,27,31,27,35,35,27,27,32,25,29,33,23,24,23,26,25,26,23,31,27,34,32,34,30,35,25,27,30,23,34,23,26,24,30,24,34,34,35,22,25,34,30,26,29,26,27,20,22,22,32,33,30,22,35,32,24,26,20,21,30,32,25,25,24,22,25,34,35,32,33,20,27,27,34,21,31,23,33,35,23,28,21,34,27,20,23,24,23,26,20,29,21,34,23,28,30,24,28,34,20,29,21,24,29,20,29,27,29,27,28,20,23,34,23,27,23,20,29,31,24,34,25,24,20,27,24,33,21,31,35,35,25,24,35,28,26,28,21,30,20,25,29,31,26,33,28,23,22,20,25,35,33,20,25,26,25,28,31,25,35,33,35,34,26,23,27,25,31,29,32,21,27,27,35,22,26,20,26,23,29,20,21,29,34,32,34,24,20,25,34,30,30,35,34,24,21,26,26,26,35,25,26,23,25,29,23,21,34,31,30,27,29,24,33,27,35,33,21,21,22,20,27,20,30,21,32,26,21,22,27,34,22,23,20,27,31,34,23,35,29,28,27,20,25,29,21,33,27,21,28,25,31,20,23,22,35,24,29,22,31,20,34,35,30,22,23,32,33,27,34,29,21,28,26,30,26,22,23,33,33,33,24,21,31,26,32,25,28,27,21,28,30,33,32,24,34,22,21,35,27,33,28,29,32,27,24,24,23,31,24,29,21,28,35,21,27,34,23,22,23,29,21,29,28,32,24,28,23,25,27,32,35,29,27,35,22,21,24,25,32,21,34,30,32,31,21,35,32,26,28,31,26,30,30,33,29,20,21,21,28,20,32,30,32,20,33,21,26,22,30,21,31,34,23,22,21,23,27,21,33,35,21,28,25,35,24,33,27,35,33,22,33,22,26,24,25,34,24,22,27,27,21,34,24,32,21,27,22,21,22,34,27,24,23,28,29,32,21,31,29,20,20,27,26,20,22,25,28,34,29,21,20,21,25,25,29,35,26,28,29,20,20,32,29,33,28,30,35,23,21,31,30,25,32,30,33,23,28,31,25,28,34,31,30,32,24,25,32,28,35,34,28,32,25,29,33,31,26,23,29,21,32,27,35,29,24,20,29,25,32,27,26,35,33,21,32,22,23,22,31,28,28,22,24,20,33,26,34,29,29,23,27,21,33,29,23,30,25,22,34,22,25,26,24,20,23,26,23,22,25,20,23,24,33,20,21,28,34,21,31,24,30,31,21,25,28,23,31,21,22,30,34,30,30,29,31,20,23,28,22,30,32,27,32,35,35,34,33,33,28,21,31,24,26,30,22,24,31,21,21,22,26,35,30,26,27,24,20,27,28,20,29,35,21,26,31,28,25,25,27,27,24,31,33,27,28,31,22,30,27,22,20,20,23,30,29,23,23,24,25,31,27,28,33,25,24,23,34,26,31,32,29,20,21,21,22,21,28,25,34,23,20,28,32,35,26,26,21,28,26,32,29,31,25,20,20,21,35,30,35,24,32,29,20,22,28,29,33,33,27,26,31,24,33,25,22,30,30,33,21,28,21,32,29,25,23,32,28,22,25,26,22,29,32,34,23,31,29,29,23,34,30,30,28,28,33,32,35,20,34,22,29,24,24,33,33,32,30,24,28,31,28,34,32,26,22,22,25,31,31,31,23,20,35,29,35,22,26,29,33,24,22,31,27,22,32,32,21,35,29,30,34,35,23,35,28,26,33,33,23,24,34,32,20,25,29,26,24,31,26,31,23,27,20,35,29,20,34,32,27,33,28,33,31,26,24,35,31,21,32,27,25,23,29,22,29,31,31,20,28,35,25,30,22,21,29,35,32,20,32,29,34,23,29,30,25,31,26,31,32,24,35,24,24,21,34,26,26,21,20,21,28,29,29,20,28,23,20,27,33,35,33,31,35,23,23,27,20,28,28,25,29,25,24,35,34,30,35,31,28,23,35,35,32,20,28,27,28,35,27,30,24,31,27,34,26,21,33,20,22,29,31,31,31,23,28],\"y0\":\" \",\"yaxis\":\"y\",\"type\":\"box\"}],                        {\"template\":{\"data\":{\"histogram2dcontour\":[{\"type\":\"histogram2dcontour\",\"colorbar\":{\"outlinewidth\":0,\"ticks\":\"\"},\"colorscale\":[[0.0,\"#0d0887\"],[0.1111111111111111,\"#46039f\"],[0.2222222222222222,\"#7201a8\"],[0.3333333333333333,\"#9c179e\"],[0.4444444444444444,\"#bd3786\"],[0.5555555555555556,\"#d8576b\"],[0.6666666666666666,\"#ed7953\"],[0.7777777777777778,\"#fb9f3a\"],[0.8888888888888888,\"#fdca26\"],[1.0,\"#f0f921\"]]}],\"choropleth\":[{\"type\":\"choropleth\",\"colorbar\":{\"outlinewidth\":0,\"ticks\":\"\"}}],\"histogram2d\":[{\"type\":\"histogram2d\",\"colorbar\":{\"outlinewidth\":0,\"ticks\":\"\"},\"colorscale\":[[0.0,\"#0d0887\"],[0.1111111111111111,\"#46039f\"],[0.2222222222222222,\"#7201a8\"],[0.3333333333333333,\"#9c179e\"],[0.4444444444444444,\"#bd3786\"],[0.5555555555555556,\"#d8576b\"],[0.6666666666666666,\"#ed7953\"],[0.7777777777777778,\"#fb9f3a\"],[0.8888888888888888,\"#fdca26\"],[1.0,\"#f0f921\"]]}],\"heatmap\":[{\"type\":\"heatmap\",\"colorbar\":{\"outlinewidth\":0,\"ticks\":\"\"},\"colorscale\":[[0.0,\"#0d0887\"],[0.1111111111111111,\"#46039f\"],[0.2222222222222222,\"#7201a8\"],[0.3333333333333333,\"#9c179e\"],[0.4444444444444444,\"#bd3786\"],[0.5555555555555556,\"#d8576b\"],[0.6666666666666666,\"#ed7953\"],[0.7777777777777778,\"#fb9f3a\"],[0.8888888888888888,\"#fdca26\"],[1.0,\"#f0f921\"]]}],\"heatmapgl\":[{\"type\":\"heatmapgl\",\"colorbar\":{\"outlinewidth\":0,\"ticks\":\"\"},\"colorscale\":[[0.0,\"#0d0887\"],[0.1111111111111111,\"#46039f\"],[0.2222222222222222,\"#7201a8\"],[0.3333333333333333,\"#9c179e\"],[0.4444444444444444,\"#bd3786\"],[0.5555555555555556,\"#d8576b\"],[0.6666666666666666,\"#ed7953\"],[0.7777777777777778,\"#fb9f3a\"],[0.8888888888888888,\"#fdca26\"],[1.0,\"#f0f921\"]]}],\"contourcarpet\":[{\"type\":\"contourcarpet\",\"colorbar\":{\"outlinewidth\":0,\"ticks\":\"\"}}],\"contour\":[{\"type\":\"contour\",\"colorbar\":{\"outlinewidth\":0,\"ticks\":\"\"},\"colorscale\":[[0.0,\"#0d0887\"],[0.1111111111111111,\"#46039f\"],[0.2222222222222222,\"#7201a8\"],[0.3333333333333333,\"#9c179e\"],[0.4444444444444444,\"#bd3786\"],[0.5555555555555556,\"#d8576b\"],[0.6666666666666666,\"#ed7953\"],[0.7777777777777778,\"#fb9f3a\"],[0.8888888888888888,\"#fdca26\"],[1.0,\"#f0f921\"]]}],\"surface\":[{\"type\":\"surface\",\"colorbar\":{\"outlinewidth\":0,\"ticks\":\"\"},\"colorscale\":[[0.0,\"#0d0887\"],[0.1111111111111111,\"#46039f\"],[0.2222222222222222,\"#7201a8\"],[0.3333333333333333,\"#9c179e\"],[0.4444444444444444,\"#bd3786\"],[0.5555555555555556,\"#d8576b\"],[0.6666666666666666,\"#ed7953\"],[0.7777777777777778,\"#fb9f3a\"],[0.8888888888888888,\"#fdca26\"],[1.0,\"#f0f921\"]]}],\"mesh3d\":[{\"type\":\"mesh3d\",\"colorbar\":{\"outlinewidth\":0,\"ticks\":\"\"}}],\"scatter\":[{\"fillpattern\":{\"fillmode\":\"overlay\",\"size\":10,\"solidity\":0.2},\"type\":\"scatter\"}],\"parcoords\":[{\"type\":\"parcoords\",\"line\":{\"colorbar\":{\"outlinewidth\":0,\"ticks\":\"\"}}}],\"scatterpolargl\":[{\"type\":\"scatterpolargl\",\"marker\":{\"colorbar\":{\"outlinewidth\":0,\"ticks\":\"\"}}}],\"bar\":[{\"error_x\":{\"color\":\"#2a3f5f\"},\"error_y\":{\"color\":\"#2a3f5f\"},\"marker\":{\"line\":{\"color\":\"#E5ECF6\",\"width\":0.5},\"pattern\":{\"fillmode\":\"overlay\",\"size\":10,\"solidity\":0.2}},\"type\":\"bar\"}],\"scattergeo\":[{\"type\":\"scattergeo\",\"marker\":{\"colorbar\":{\"outlinewidth\":0,\"ticks\":\"\"}}}],\"scatterpolar\":[{\"type\":\"scatterpolar\",\"marker\":{\"colorbar\":{\"outlinewidth\":0,\"ticks\":\"\"}}}],\"histogram\":[{\"marker\":{\"pattern\":{\"fillmode\":\"overlay\",\"size\":10,\"solidity\":0.2}},\"type\":\"histogram\"}],\"scattergl\":[{\"type\":\"scattergl\",\"marker\":{\"colorbar\":{\"outlinewidth\":0,\"ticks\":\"\"}}}],\"scatter3d\":[{\"type\":\"scatter3d\",\"line\":{\"colorbar\":{\"outlinewidth\":0,\"ticks\":\"\"}},\"marker\":{\"colorbar\":{\"outlinewidth\":0,\"ticks\":\"\"}}}],\"scattermapbox\":[{\"type\":\"scattermapbox\",\"marker\":{\"colorbar\":{\"outlinewidth\":0,\"ticks\":\"\"}}}],\"scatterternary\":[{\"type\":\"scatterternary\",\"marker\":{\"colorbar\":{\"outlinewidth\":0,\"ticks\":\"\"}}}],\"scattercarpet\":[{\"type\":\"scattercarpet\",\"marker\":{\"colorbar\":{\"outlinewidth\":0,\"ticks\":\"\"}}}],\"carpet\":[{\"aaxis\":{\"endlinecolor\":\"#2a3f5f\",\"gridcolor\":\"white\",\"linecolor\":\"white\",\"minorgridcolor\":\"white\",\"startlinecolor\":\"#2a3f5f\"},\"baxis\":{\"endlinecolor\":\"#2a3f5f\",\"gridcolor\":\"white\",\"linecolor\":\"white\",\"minorgridcolor\":\"white\",\"startlinecolor\":\"#2a3f5f\"},\"type\":\"carpet\"}],\"table\":[{\"cells\":{\"fill\":{\"color\":\"#EBF0F8\"},\"line\":{\"color\":\"white\"}},\"header\":{\"fill\":{\"color\":\"#C8D4E3\"},\"line\":{\"color\":\"white\"}},\"type\":\"table\"}],\"barpolar\":[{\"marker\":{\"line\":{\"color\":\"#E5ECF6\",\"width\":0.5},\"pattern\":{\"fillmode\":\"overlay\",\"size\":10,\"solidity\":0.2}},\"type\":\"barpolar\"}],\"pie\":[{\"automargin\":true,\"type\":\"pie\"}]},\"layout\":{\"autotypenumbers\":\"strict\",\"colorway\":[\"#636efa\",\"#EF553B\",\"#00cc96\",\"#ab63fa\",\"#FFA15A\",\"#19d3f3\",\"#FF6692\",\"#B6E880\",\"#FF97FF\",\"#FECB52\"],\"font\":{\"color\":\"#2a3f5f\"},\"hovermode\":\"closest\",\"hoverlabel\":{\"align\":\"left\"},\"paper_bgcolor\":\"white\",\"plot_bgcolor\":\"#E5ECF6\",\"polar\":{\"bgcolor\":\"#E5ECF6\",\"angularaxis\":{\"gridcolor\":\"white\",\"linecolor\":\"white\",\"ticks\":\"\"},\"radialaxis\":{\"gridcolor\":\"white\",\"linecolor\":\"white\",\"ticks\":\"\"}},\"ternary\":{\"bgcolor\":\"#E5ECF6\",\"aaxis\":{\"gridcolor\":\"white\",\"linecolor\":\"white\",\"ticks\":\"\"},\"baxis\":{\"gridcolor\":\"white\",\"linecolor\":\"white\",\"ticks\":\"\"},\"caxis\":{\"gridcolor\":\"white\",\"linecolor\":\"white\",\"ticks\":\"\"}},\"coloraxis\":{\"colorbar\":{\"outlinewidth\":0,\"ticks\":\"\"}},\"colorscale\":{\"sequential\":[[0.0,\"#0d0887\"],[0.1111111111111111,\"#46039f\"],[0.2222222222222222,\"#7201a8\"],[0.3333333333333333,\"#9c179e\"],[0.4444444444444444,\"#bd3786\"],[0.5555555555555556,\"#d8576b\"],[0.6666666666666666,\"#ed7953\"],[0.7777777777777778,\"#fb9f3a\"],[0.8888888888888888,\"#fdca26\"],[1.0,\"#f0f921\"]],\"sequentialminus\":[[0.0,\"#0d0887\"],[0.1111111111111111,\"#46039f\"],[0.2222222222222222,\"#7201a8\"],[0.3333333333333333,\"#9c179e\"],[0.4444444444444444,\"#bd3786\"],[0.5555555555555556,\"#d8576b\"],[0.6666666666666666,\"#ed7953\"],[0.7777777777777778,\"#fb9f3a\"],[0.8888888888888888,\"#fdca26\"],[1.0,\"#f0f921\"]],\"diverging\":[[0,\"#8e0152\"],[0.1,\"#c51b7d\"],[0.2,\"#de77ae\"],[0.3,\"#f1b6da\"],[0.4,\"#fde0ef\"],[0.5,\"#f7f7f7\"],[0.6,\"#e6f5d0\"],[0.7,\"#b8e186\"],[0.8,\"#7fbc41\"],[0.9,\"#4d9221\"],[1,\"#276419\"]]},\"xaxis\":{\"gridcolor\":\"white\",\"linecolor\":\"white\",\"ticks\":\"\",\"title\":{\"standoff\":15},\"zerolinecolor\":\"white\",\"automargin\":true,\"zerolinewidth\":2},\"yaxis\":{\"gridcolor\":\"white\",\"linecolor\":\"white\",\"ticks\":\"\",\"title\":{\"standoff\":15},\"zerolinecolor\":\"white\",\"automargin\":true,\"zerolinewidth\":2},\"scene\":{\"xaxis\":{\"backgroundcolor\":\"#E5ECF6\",\"gridcolor\":\"white\",\"linecolor\":\"white\",\"showbackground\":true,\"ticks\":\"\",\"zerolinecolor\":\"white\",\"gridwidth\":2},\"yaxis\":{\"backgroundcolor\":\"#E5ECF6\",\"gridcolor\":\"white\",\"linecolor\":\"white\",\"showbackground\":true,\"ticks\":\"\",\"zerolinecolor\":\"white\",\"gridwidth\":2},\"zaxis\":{\"backgroundcolor\":\"#E5ECF6\",\"gridcolor\":\"white\",\"linecolor\":\"white\",\"showbackground\":true,\"ticks\":\"\",\"zerolinecolor\":\"white\",\"gridwidth\":2}},\"shapedefaults\":{\"line\":{\"color\":\"#2a3f5f\"}},\"annotationdefaults\":{\"arrowcolor\":\"#2a3f5f\",\"arrowhead\":0,\"arrowwidth\":1},\"geo\":{\"bgcolor\":\"white\",\"landcolor\":\"#E5ECF6\",\"subunitcolor\":\"white\",\"showland\":true,\"showlakes\":true,\"lakecolor\":\"white\"},\"title\":{\"x\":0.05},\"mapbox\":{\"style\":\"light\"}}},\"xaxis\":{\"anchor\":\"y\",\"domain\":[0.0,1.0],\"title\":{\"text\":\"cuisine_type\"}},\"yaxis\":{\"anchor\":\"x\",\"domain\":[0.0,1.0],\"title\":{\"text\":\"food_preparation_time\"}},\"legend\":{\"tracegroupgap\":0},\"title\":{\"text\":\"Food Preparation Time by Cuisine Type\",\"x\":0.5},\"boxmode\":\"group\"},                        {\"responsive\": true}                    ).then(function(){\n",
              "                            \n",
              "var gd = document.getElementById('a037424e-85b2-4cbc-90b5-a78adbcf811a');\n",
              "var x = new MutationObserver(function (mutations, observer) {{\n",
              "        var display = window.getComputedStyle(gd).display;\n",
              "        if (!display || display === 'none') {{\n",
              "            console.log([gd, 'removed!']);\n",
              "            Plotly.purge(gd);\n",
              "            observer.disconnect();\n",
              "        }}\n",
              "}});\n",
              "\n",
              "// Listen for the removal of the full notebook cells\n",
              "var notebookContainer = gd.closest('#notebook-container');\n",
              "if (notebookContainer) {{\n",
              "    x.observe(notebookContainer, {childList: true});\n",
              "}}\n",
              "\n",
              "// Listen for the clearing of the current output cell\n",
              "var outputEl = gd.closest('.output');\n",
              "if (outputEl) {{\n",
              "    x.observe(outputEl, {childList: true});\n",
              "}}\n",
              "\n",
              "                        })                };                            </script>        </div>\n",
              "</body>\n",
              "</html>"
            ]
          },
          "metadata": {}
        }
      ]
    },
    {
      "cell_type": "markdown",
      "metadata": {
        "id": "28L5vjZw2rdQ"
      },
      "source": [
        "#### Day of the Week vs Delivery time"
      ]
    },
    {
      "cell_type": "code",
      "execution_count": null,
      "metadata": {
        "id": "fG3QyQ452rdQ",
        "scrolled": true,
        "colab": {
          "base_uri": "https://localhost:8080/",
          "height": 661
        },
        "outputId": "90412111-ebb6-45b6-922f-bcd5048a0c03"
      },
      "outputs": [
        {
          "output_type": "display_data",
          "data": {
            "text/plain": [
              "<Figure size 1500x700 with 1 Axes>"
            ],
            "image/png": "[encoded data removed]"
          },
          "metadata": {}
        }
      ],
      "source": [
        "# Relationship between day of the week and delivery time\n",
        "plt.figure(figsize=(15,7))\n",
        "sns.boxplot(data=df, x='day_of_the_week', y='delivery_time')  ## Complete the code to visualize the relationship between day of the week and delivery time using boxplot\n",
        "plt.title('Day of the week vs Delivery time')\n",
        "plt.show()"
      ]
    },
    {
      "cell_type": "code",
      "source": [
        "# Pyplot graphs.\n",
        "\n",
        "fig = px.box(data_frame=df, x='day_of_the_week', y='delivery_time', title='Day of the week vs Delivery time')\n",
        "fig.update_layout(title_x=0.5)\n",
        "fig.show()\n"
      ],
      "metadata": {
        "colab": {
          "base_uri": "https://localhost:8080/",
          "height": 542
        },
        "id": "zogpsQe75W9K",
        "outputId": "02c77d19-a128-4b5b-f667-a5ab2976fe12"
      },
      "execution_count": null,
      "outputs": [
        {
          "output_type": "display_data",
          "data": {
            "text/html": [
              "<html>\n",
              "<head><meta charset=\"utf-8\" /></head>\n",
              "<body>\n",
              "    <div>            <script src=\"https://cdnjs.cloudflare.com/ajax/libs/mathjax/2.7.5/MathJax.js?config=TeX-AMS-MML_SVG\"></script><script type=\"text/javascript\">if (window.MathJax && window.MathJax.Hub && window.MathJax.Hub.Config) {window.MathJax.Hub.Config({SVG: {font: \"STIX-Web\"}});}</script>                <script type=\"text/javascript\">window.PlotlyConfig = {MathJaxConfig: 'local'};</script>\n",
              "        <script charset=\"utf-8\" src=\"https://cdn.plot.ly/plotly-2.35.2.min.js\"></script>                <div id=\"c664021a-24bd-4029-88d0-87ecf3887a95\" class=\"plotly-graph-div\" style=\"height:525px; width:100%;\"></div>            <script type=\"text/javascript\">                                    window.PLOTLYENV=window.PLOTLYENV || {};                                    if (document.getElementById(\"c664021a-24bd-4029-88d0-87ecf3887a95\")) {                    Plotly.newPlot(                        \"c664021a-24bd-4029-88d0-87ecf3887a95\",                        [{\"alignmentgroup\":\"True\",\"hovertemplate\":\"day_of_the_week=%{x}\\u003cbr\\u003edelivery_time=%{y}\\u003cextra\\u003e\\u003c\\u002fextra\\u003e\",\"legendgroup\":\"\",\"marker\":{\"color\":\"#636efa\"},\"name\":\"\",\"notched\":false,\"offsetgroup\":\"\",\"orientation\":\"v\",\"showlegend\":false,\"x\":[\"Weekend\",\"Weekend\",\"Weekday\",\"Weekend\",\"Weekday\",\"Weekday\",\"Weekend\",\"Weekday\",\"Weekday\",\"Weekday\",\"Weekday\",\"Weekend\",\"Weekend\",\"Weekend\",\"Weekday\",\"Weekend\",\"Weekend\",\"Weekend\",\"Weekend\",\"Weekend\",\"Weekend\",\"Weekend\",\"Weekday\",\"Weekend\",\"Weekday\",\"Weekday\",\"Weekday\",\"Weekend\",\"Weekend\",\"Weekday\",\"Weekend\",\"Weekend\",\"Weekday\",\"Weekend\",\"Weekend\",\"Weekend\",\"Weekday\",\"Weekday\",\"Weekday\",\"Weekend\",\"Weekend\",\"Weekend\",\"Weekend\",\"Weekend\",\"Weekend\",\"Weekend\",\"Weekend\",\"Weekend\",\"Weekday\",\"Weekend\",\"Weekend\",\"Weekend\",\"Weekend\",\"Weekend\",\"Weekend\",\"Weekend\",\"Weekday\",\"Weekday\",\"Weekend\",\"Weekday\",\"Weekend\",\"Weekend\",\"Weekend\",\"Weekday\",\"Weekday\",\"Weekday\",\"Weekend\",\"Weekend\",\"Weekend\",\"Weekend\",\"Weekend\",\"Weekend\",\"Weekend\",\"Weekend\",\"Weekday\",\"Weekend\",\"Weekend\",\"Weekend\",\"Weekend\",\"Weekend\",\"Weekend\",\"Weekday\",\"Weekday\",\"Weekend\",\"Weekend\",\"Weekend\",\"Weekday\",\"Weekday\",\"Weekday\",\"Weekend\",\"Weekday\",\"Weekend\",\"Weekend\",\"Weekend\",\"Weekday\",\"Weekend\",\"Weekday\",\"Weekday\",\"Weekend\",\"Weekday\",\"Weekend\",\"Weekday\",\"Weekend\",\"Weekend\",\"Weekend\",\"Weekend\",\"Weekend\",\"Weekend\",\"Weekend\",\"Weekend\",\"Weekend\",\"Weekday\",\"Weekday\",\"Weekday\",\"Weekday\",\"Weekend\",\"Weekday\",\"Weekday\",\"Weekend\",\"Weekday\",\"Weekend\",\"Weekend\",\"Weekend\",\"Weekend\",\"Weekend\",\"Weekday\",\"Weekend\",\"Weekend\",\"Weekend\",\"Weekend\",\"Weekend\",\"Weekend\",\"Weekend\",\"Weekend\",\"Weekend\",\"Weekend\",\"Weekday\",\"Weekday\",\"Weekend\",\"Weekend\",\"Weekday\",\"Weekend\",\"Weekend\",\"Weekday\",\"Weekday\",\"Weekday\",\"Weekend\",\"Weekend\",\"Weekend\",\"Weekend\",\"Weekend\",\"Weekend\",\"Weekend\",\"Weekend\",\"Weekend\",\"Weekend\",\"Weekend\",\"Weekend\",\"Weekend\",\"Weekday\",\"Weekend\",\"Weekday\",\"Weekend\",\"Weekend\",\"Weekday\",\"Weekend\",\"Weekday\",\"Weekday\",\"Weekday\",\"Weekend\",\"Weekend\",\"Weekend\",\"Weekend\",\"Weekend\",\"Weekday\",\"Weekend\",\"Weekend\",\"Weekend\",\"Weekday\",\"Weekend\",\"Weekday\",\"Weekday\",\"Weekend\",\"Weekend\",\"Weekend\",\"Weekend\",\"Weekday\",\"Weekend\",\"Weekend\",\"Weekend\",\"Weekend\",\"Weekday\",\"Weekday\",\"Weekend\",\"Weekend\",\"Weekend\",\"Weekend\",\"Weekend\",\"Weekday\",\"Weekend\",\"Weekend\",\"Weekday\",\"Weekday\",\"Weekday\",\"Weekend\",\"Weekend\",\"Weekend\",\"Weekend\",\"Weekend\",\"Weekday\",\"Weekday\",\"Weekday\",\"Weekend\",\"Weekend\",\"Weekend\",\"Weekday\",\"Weekend\",\"Weekend\",\"Weekend\",\"Weekday\",\"Weekend\",\"Weekday\",\"Weekend\",\"Weekday\",\"Weekday\",\"Weekend\",\"Weekend\",\"Weekend\",\"Weekend\",\"Weekend\",\"Weekend\",\"Weekend\",\"Weekend\",\"Weekend\",\"Weekday\",\"Weekend\",\"Weekday\",\"Weekend\",\"Weekend\",\"Weekend\",\"Weekday\",\"Weekend\",\"Weekday\",\"Weekend\",\"Weekend\",\"Weekday\",\"Weekend\",\"Weekend\",\"Weekend\",\"Weekend\",\"Weekend\",\"Weekend\",\"Weekday\",\"Weekend\",\"Weekend\",\"Weekend\",\"Weekday\",\"Weekend\",\"Weekend\",\"Weekend\",\"Weekday\",\"Weekday\",\"Weekend\",\"Weekend\",\"Weekend\",\"Weekend\",\"Weekend\",\"Weekend\",\"Weekday\",\"Weekday\",\"Weekday\",\"Weekend\",\"Weekday\",\"Weekday\",\"Weekend\",\"Weekend\",\"Weekday\",\"Weekend\",\"Weekend\",\"Weekday\",\"Weekday\",\"Weekend\",\"Weekend\",\"Weekend\",\"Weekday\",\"Weekend\",\"Weekend\",\"Weekend\",\"Weekend\",\"Weekend\",\"Weekday\",\"Weekend\",\"Weekend\",\"Weekend\",\"Weekend\",\"Weekend\",\"Weekend\",\"Weekend\",\"Weekend\",\"Weekend\",\"Weekday\",\"Weekend\",\"Weekday\",\"Weekend\",\"Weekend\",\"Weekend\",\"Weekend\",\"Weekend\",\"Weekend\",\"Weekend\",\"Weekend\",\"Weekend\",\"Weekday\",\"Weekend\",\"Weekend\",\"Weekend\",\"Weekend\",\"Weekend\",\"Weekend\",\"Weekday\",\"Weekend\",\"Weekday\",\"Weekend\",\"Weekend\",\"Weekday\",\"Weekend\",\"Weekend\",\"Weekend\",\"Weekend\",\"Weekend\",\"Weekend\",\"Weekday\",\"Weekday\",\"Weekday\",\"Weekend\",\"Weekday\",\"Weekend\",\"Weekend\",\"Weekday\",\"Weekend\",\"Weekend\",\"Weekend\",\"Weekend\",\"Weekend\",\"Weekend\",\"Weekend\",\"Weekend\",\"Weekend\",\"Weekday\",\"Weekend\",\"Weekend\",\"Weekend\",\"Weekend\",\"Weekend\",\"Weekend\",\"Weekday\",\"Weekend\",\"Weekend\",\"Weekend\",\"Weekend\",\"Weekday\",\"Weekday\",\"Weekend\",\"Weekend\",\"Weekend\",\"Weekday\",\"Weekend\",\"Weekend\",\"Weekend\",\"Weekend\",\"Weekend\",\"Weekend\",\"Weekend\",\"Weekend\",\"Weekend\",\"Weekend\",\"Weekend\",\"Weekend\",\"Weekend\",\"Weekend\",\"Weekend\",\"Weekend\",\"Weekend\",\"Weekend\",\"Weekday\",\"Weekend\",\"Weekend\",\"Weekend\",\"Weekday\",\"Weekday\",\"Weekend\",\"Weekend\",\"Weekend\",\"Weekend\",\"Weekday\",\"Weekday\",\"Weekday\",\"Weekend\",\"Weekend\",\"Weekend\",\"Weekend\",\"Weekend\",\"Weekday\",\"Weekday\",\"Weekend\",\"Weekend\",\"Weekend\",\"Weekend\",\"Weekday\",\"Weekend\",\"Weekend\",\"Weekend\",\"Weekday\",\"Weekend\",\"Weekday\",\"Weekday\",\"Weekend\",\"Weekend\",\"Weekday\",\"Weekday\",\"Weekday\",\"Weekend\",\"Weekday\",\"Weekend\",\"Weekend\",\"Weekend\",\"Weekend\",\"Weekend\",\"Weekend\",\"Weekend\",\"Weekday\",\"Weekday\",\"Weekend\",\"Weekday\",\"Weekend\",\"Weekday\",\"Weekend\",\"Weekday\",\"Weekend\",\"Weekend\",\"Weekend\",\"Weekday\",\"Weekday\",\"Weekend\",\"Weekend\",\"Weekend\",\"Weekend\",\"Weekend\",\"Weekend\",\"Weekday\",\"Weekday\",\"Weekday\",\"Weekend\",\"Weekend\",\"Weekday\",\"Weekend\",\"Weekend\",\"Weekend\",\"Weekend\",\"Weekend\",\"Weekend\",\"Weekend\",\"Weekend\",\"Weekend\",\"Weekend\",\"Weekend\",\"Weekend\",\"Weekday\",\"Weekend\",\"Weekend\",\"Weekday\",\"Weekday\",\"Weekend\",\"Weekend\",\"Weekend\",\"Weekend\",\"Weekend\",\"Weekend\",\"Weekend\",\"Weekend\",\"Weekend\",\"Weekend\",\"Weekday\",\"Weekend\",\"Weekend\",\"Weekend\",\"Weekend\",\"Weekday\",\"Weekend\",\"Weekend\",\"Weekend\",\"Weekend\",\"Weekday\",\"Weekday\",\"Weekend\",\"Weekday\",\"Weekend\",\"Weekend\",\"Weekday\",\"Weekend\",\"Weekday\",\"Weekday\",\"Weekday\",\"Weekend\",\"Weekend\",\"Weekend\",\"Weekend\",\"Weekend\",\"Weekend\",\"Weekend\",\"Weekend\",\"Weekday\",\"Weekend\",\"Weekday\",\"Weekend\",\"Weekend\",\"Weekend\",\"Weekend\",\"Weekend\",\"Weekend\",\"Weekend\",\"Weekend\",\"Weekend\",\"Weekday\",\"Weekend\",\"Weekend\",\"Weekday\",\"Weekend\",\"Weekend\",\"Weekend\",\"Weekend\",\"Weekend\",\"Weekend\",\"Weekend\",\"Weekend\",\"Weekend\",\"Weekend\",\"Weekend\",\"Weekend\",\"Weekday\",\"Weekend\",\"Weekend\",\"Weekend\",\"Weekend\",\"Weekend\",\"Weekend\",\"Weekday\",\"Weekend\",\"Weekend\",\"Weekday\",\"Weekend\",\"Weekend\",\"Weekend\",\"Weekend\",\"Weekend\",\"Weekend\",\"Weekend\",\"Weekend\",\"Weekend\",\"Weekend\",\"Weekend\",\"Weekend\",\"Weekend\",\"Weekend\",\"Weekday\",\"Weekend\",\"Weekend\",\"Weekend\",\"Weekend\",\"Weekend\",\"Weekday\",\"Weekend\",\"Weekend\",\"Weekday\",\"Weekend\",\"Weekend\",\"Weekend\",\"Weekday\",\"Weekday\",\"Weekend\",\"Weekday\",\"Weekend\",\"Weekend\",\"Weekend\",\"Weekend\",\"Weekday\",\"Weekend\",\"Weekend\",\"Weekend\",\"Weekend\",\"Weekend\",\"Weekend\",\"Weekend\",\"Weekday\",\"Weekend\",\"Weekday\",\"Weekend\",\"Weekday\",\"Weekday\",\"Weekend\",\"Weekday\",\"Weekend\",\"Weekend\",\"Weekend\",\"Weekend\",\"Weekend\",\"Weekend\",\"Weekday\",\"Weekend\",\"Weekend\",\"Weekend\",\"Weekday\",\"Weekend\",\"Weekend\",\"Weekday\",\"Weekend\",\"Weekday\",\"Weekend\",\"Weekend\",\"Weekend\",\"Weekend\",\"Weekend\",\"Weekday\",\"Weekend\",\"Weekend\",\"Weekend\",\"Weekday\",\"Weekday\",\"Weekday\",\"Weekend\",\"Weekend\",\"Weekend\",\"Weekend\",\"Weekday\",\"Weekend\",\"Weekend\",\"Weekend\",\"Weekend\",\"Weekday\",\"Weekend\",\"Weekday\",\"Weekday\",\"Weekday\",\"Weekend\",\"Weekend\",\"Weekend\",\"Weekend\",\"Weekday\",\"Weekend\",\"Weekend\",\"Weekend\",\"Weekday\",\"Weekend\",\"Weekend\",\"Weekday\",\"Weekend\",\"Weekday\",\"Weekend\",\"Weekend\",\"Weekend\",\"Weekend\",\"Weekend\",\"Weekday\",\"Weekend\",\"Weekend\",\"Weekday\",\"Weekend\",\"Weekend\",\"Weekend\",\"Weekday\",\"Weekend\",\"Weekend\",\"Weekend\",\"Weekday\",\"Weekend\",\"Weekday\",\"Weekend\",\"Weekday\",\"Weekend\",\"Weekday\",\"Weekend\",\"Weekend\",\"Weekend\",\"Weekend\",\"Weekend\",\"Weekend\",\"Weekend\",\"Weekend\",\"Weekend\",\"Weekend\",\"Weekday\",\"Weekday\",\"Weekend\",\"Weekday\",\"Weekend\",\"Weekend\",\"Weekday\",\"Weekday\",\"Weekend\",\"Weekday\",\"Weekend\",\"Weekend\",\"Weekend\",\"Weekend\",\"Weekend\",\"Weekend\",\"Weekday\",\"Weekend\",\"Weekend\",\"Weekday\",\"Weekend\",\"Weekend\",\"Weekend\",\"Weekend\",\"Weekday\",\"Weekday\",\"Weekend\",\"Weekend\",\"Weekend\",\"Weekend\",\"Weekend\",\"Weekday\",\"Weekend\",\"Weekday\",\"Weekend\",\"Weekend\",\"Weekday\",\"Weekend\",\"Weekend\",\"Weekday\",\"Weekend\",\"Weekend\",\"Weekday\",\"Weekend\",\"Weekend\",\"Weekend\",\"Weekday\",\"Weekend\",\"Weekend\",\"Weekday\",\"Weekend\",\"Weekend\",\"Weekend\",\"Weekend\",\"Weekend\",\"Weekend\",\"Weekend\",\"Weekend\",\"Weekend\",\"Weekday\",\"Weekend\",\"Weekday\",\"Weekend\",\"Weekend\",\"Weekend\",\"Weekend\",\"Weekday\",\"Weekday\",\"Weekend\",\"Weekend\",\"Weekday\",\"Weekend\",\"Weekday\",\"Weekday\",\"Weekend\",\"Weekend\",\"Weekend\",\"Weekend\",\"Weekend\",\"Weekend\",\"Weekend\",\"Weekend\",\"Weekend\",\"Weekend\",\"Weekend\",\"Weekend\",\"Weekend\",\"Weekday\",\"Weekday\",\"Weekend\",\"Weekend\",\"Weekend\",\"Weekend\",\"Weekday\",\"Weekday\",\"Weekend\",\"Weekday\",\"Weekend\",\"Weekday\",\"Weekend\",\"Weekday\",\"Weekend\",\"Weekend\",\"Weekend\",\"Weekend\",\"Weekend\",\"Weekend\",\"Weekday\",\"Weekend\",\"Weekday\",\"Weekend\",\"Weekend\",\"Weekend\",\"Weekend\",\"Weekend\",\"Weekend\",\"Weekday\",\"Weekday\",\"Weekday\",\"Weekday\",\"Weekend\",\"Weekend\",\"Weekday\",\"Weekend\",\"Weekday\",\"Weekend\",\"Weekday\",\"Weekend\",\"Weekend\",\"Weekend\",\"Weekend\",\"Weekend\",\"Weekday\",\"Weekday\",\"Weekend\",\"Weekend\",\"Weekend\",\"Weekday\",\"Weekend\",\"Weekend\",\"Weekday\",\"Weekend\",\"Weekend\",\"Weekend\",\"Weekend\",\"Weekday\",\"Weekday\",\"Weekend\",\"Weekday\",\"Weekend\",\"Weekend\",\"Weekday\",\"Weekend\",\"Weekend\",\"Weekday\",\"Weekend\",\"Weekend\",\"Weekend\",\"Weekend\",\"Weekend\",\"Weekday\",\"Weekend\",\"Weekend\",\"Weekend\",\"Weekend\",\"Weekday\",\"Weekend\",\"Weekday\",\"Weekend\",\"Weekend\",\"Weekend\",\"Weekend\",\"Weekend\",\"Weekend\",\"Weekend\",\"Weekend\",\"Weekend\",\"Weekend\",\"Weekend\",\"Weekend\",\"Weekend\",\"Weekday\",\"Weekend\",\"Weekday\",\"Weekend\",\"Weekend\",\"Weekend\",\"Weekend\",\"Weekend\",\"Weekday\",\"Weekday\",\"Weekend\",\"Weekend\",\"Weekend\",\"Weekend\",\"Weekday\",\"Weekend\",\"Weekend\",\"Weekday\",\"Weekend\",\"Weekday\",\"Weekend\",\"Weekend\",\"Weekend\",\"Weekend\",\"Weekend\",\"Weekend\",\"Weekend\",\"Weekday\",\"Weekend\",\"Weekday\",\"Weekend\",\"Weekend\",\"Weekend\",\"Weekend\",\"Weekend\",\"Weekend\",\"Weekend\",\"Weekend\",\"Weekend\",\"Weekday\",\"Weekend\",\"Weekday\",\"Weekend\",\"Weekend\",\"Weekday\",\"Weekend\",\"Weekday\",\"Weekend\",\"Weekday\",\"Weekend\",\"Weekend\",\"Weekday\",\"Weekend\",\"Weekend\",\"Weekend\",\"Weekend\",\"Weekend\",\"Weekend\",\"Weekend\",\"Weekend\",\"Weekday\",\"Weekend\",\"Weekday\",\"Weekend\",\"Weekend\",\"Weekday\",\"Weekend\",\"Weekend\",\"Weekend\",\"Weekend\",\"Weekday\",\"Weekend\",\"Weekday\",\"Weekend\",\"Weekend\",\"Weekend\",\"Weekday\",\"Weekend\",\"Weekend\",\"Weekend\",\"Weekend\",\"Weekend\",\"Weekend\",\"Weekend\",\"Weekday\",\"Weekend\",\"Weekend\",\"Weekend\",\"Weekday\",\"Weekend\",\"Weekend\",\"Weekend\",\"Weekend\",\"Weekend\",\"Weekend\",\"Weekend\",\"Weekend\",\"Weekend\",\"Weekend\",\"Weekend\",\"Weekday\",\"Weekend\",\"Weekend\",\"Weekday\",\"Weekend\",\"Weekday\",\"Weekend\",\"Weekend\",\"Weekday\",\"Weekend\",\"Weekend\",\"Weekday\",\"Weekday\",\"Weekend\",\"Weekday\",\"Weekend\",\"Weekday\",\"Weekday\",\"Weekday\",\"Weekend\",\"Weekday\",\"Weekend\",\"Weekday\",\"Weekend\",\"Weekend\",\"Weekend\",\"Weekend\",\"Weekday\",\"Weekend\",\"Weekend\",\"Weekend\",\"Weekend\",\"Weekend\",\"Weekend\",\"Weekend\",\"Weekday\",\"Weekend\",\"Weekend\",\"Weekend\",\"Weekend\",\"Weekend\",\"Weekend\",\"Weekend\",\"Weekend\",\"Weekday\",\"Weekday\",\"Weekend\",\"Weekend\",\"Weekend\",\"Weekend\",\"Weekday\",\"Weekday\",\"Weekday\",\"Weekend\",\"Weekend\",\"Weekday\",\"Weekend\",\"Weekend\",\"Weekend\",\"Weekend\",\"Weekday\",\"Weekend\",\"Weekend\",\"Weekend\",\"Weekend\",\"Weekday\",\"Weekend\",\"Weekend\",\"Weekday\",\"Weekend\",\"Weekend\",\"Weekend\",\"Weekday\",\"Weekday\",\"Weekend\",\"Weekend\",\"Weekday\",\"Weekend\",\"Weekday\",\"Weekday\",\"Weekday\",\"Weekday\",\"Weekend\",\"Weekend\",\"Weekend\",\"Weekend\",\"Weekend\",\"Weekend\",\"Weekend\",\"Weekend\",\"Weekday\",\"Weekend\",\"Weekday\",\"Weekend\",\"Weekend\",\"Weekend\",\"Weekend\",\"Weekday\",\"Weekend\",\"Weekday\",\"Weekend\",\"Weekend\",\"Weekday\",\"Weekend\",\"Weekend\",\"Weekend\",\"Weekend\",\"Weekend\",\"Weekday\",\"Weekday\",\"Weekend\",\"Weekday\",\"Weekend\",\"Weekend\",\"Weekend\",\"Weekday\",\"Weekend\",\"Weekend\",\"Weekend\",\"Weekend\",\"Weekday\",\"Weekday\",\"Weekend\",\"Weekday\",\"Weekend\",\"Weekend\",\"Weekday\",\"Weekend\",\"Weekend\",\"Weekend\",\"Weekend\",\"Weekend\",\"Weekend\",\"Weekend\",\"Weekend\",\"Weekend\",\"Weekend\",\"Weekend\",\"Weekend\",\"Weekend\",\"Weekend\",\"Weekday\",\"Weekend\",\"Weekday\",\"Weekday\",\"Weekend\",\"Weekend\",\"Weekend\",\"Weekend\",\"Weekend\",\"Weekend\",\"Weekend\",\"Weekend\",\"Weekday\",\"Weekend\",\"Weekend\",\"Weekend\",\"Weekday\",\"Weekend\",\"Weekend\",\"Weekend\",\"Weekend\",\"Weekend\",\"Weekend\",\"Weekday\",\"Weekend\",\"Weekend\",\"Weekday\",\"Weekend\",\"Weekend\",\"Weekday\",\"Weekday\",\"Weekday\",\"Weekend\",\"Weekend\",\"Weekend\",\"Weekend\",\"Weekend\",\"Weekday\",\"Weekend\",\"Weekend\",\"Weekend\",\"Weekday\",\"Weekend\",\"Weekday\",\"Weekend\",\"Weekday\",\"Weekend\",\"Weekend\",\"Weekend\",\"Weekend\",\"Weekend\",\"Weekend\",\"Weekday\",\"Weekday\",\"Weekend\",\"Weekday\",\"Weekend\",\"Weekend\",\"Weekend\",\"Weekend\",\"Weekend\",\"Weekday\",\"Weekday\",\"Weekend\",\"Weekend\",\"Weekday\",\"Weekend\",\"Weekend\",\"Weekend\",\"Weekend\",\"Weekday\",\"Weekend\",\"Weekend\",\"Weekend\",\"Weekend\",\"Weekend\",\"Weekday\",\"Weekend\",\"Weekday\",\"Weekend\",\"Weekend\",\"Weekend\",\"Weekend\",\"Weekend\",\"Weekend\",\"Weekend\",\"Weekend\",\"Weekday\",\"Weekend\",\"Weekday\",\"Weekend\",\"Weekend\",\"Weekend\",\"Weekend\",\"Weekday\",\"Weekend\",\"Weekday\",\"Weekend\",\"Weekday\",\"Weekend\",\"Weekend\",\"Weekend\",\"Weekday\",\"Weekend\",\"Weekend\",\"Weekend\",\"Weekday\",\"Weekend\",\"Weekend\",\"Weekend\",\"Weekend\",\"Weekend\",\"Weekday\",\"Weekend\",\"Weekend\",\"Weekend\",\"Weekend\",\"Weekend\",\"Weekday\",\"Weekend\",\"Weekend\",\"Weekend\",\"Weekday\",\"Weekday\",\"Weekend\",\"Weekday\",\"Weekend\",\"Weekend\",\"Weekend\",\"Weekend\",\"Weekend\",\"Weekend\",\"Weekend\",\"Weekday\",\"Weekend\",\"Weekend\",\"Weekend\",\"Weekday\",\"Weekday\",\"Weekend\",\"Weekend\",\"Weekday\",\"Weekend\",\"Weekend\",\"Weekend\",\"Weekend\",\"Weekday\",\"Weekend\",\"Weekday\",\"Weekday\",\"Weekend\",\"Weekend\",\"Weekend\",\"Weekend\",\"Weekday\",\"Weekend\",\"Weekday\",\"Weekend\",\"Weekend\",\"Weekend\",\"Weekend\",\"Weekend\",\"Weekend\",\"Weekday\",\"Weekday\",\"Weekend\",\"Weekend\",\"Weekend\",\"Weekend\",\"Weekday\",\"Weekend\",\"Weekend\",\"Weekday\",\"Weekend\",\"Weekday\",\"Weekend\",\"Weekend\",\"Weekend\",\"Weekend\",\"Weekend\",\"Weekday\",\"Weekday\",\"Weekend\",\"Weekend\",\"Weekday\",\"Weekend\",\"Weekend\",\"Weekend\",\"Weekday\",\"Weekend\",\"Weekend\",\"Weekday\",\"Weekend\",\"Weekend\",\"Weekday\",\"Weekend\",\"Weekend\",\"Weekday\",\"Weekend\",\"Weekend\",\"Weekend\",\"Weekend\",\"Weekend\",\"Weekday\",\"Weekend\",\"Weekday\",\"Weekend\",\"Weekday\",\"Weekend\",\"Weekend\",\"Weekend\",\"Weekday\",\"Weekday\",\"Weekday\",\"Weekend\",\"Weekend\",\"Weekend\",\"Weekend\",\"Weekend\",\"Weekend\",\"Weekday\",\"Weekend\",\"Weekend\",\"Weekday\",\"Weekday\",\"Weekend\",\"Weekend\",\"Weekday\",\"Weekend\",\"Weekend\",\"Weekend\",\"Weekend\",\"Weekend\",\"Weekday\",\"Weekday\",\"Weekend\",\"Weekend\",\"Weekend\",\"Weekend\",\"Weekend\",\"Weekend\",\"Weekend\",\"Weekend\",\"Weekday\",\"Weekend\",\"Weekday\",\"Weekday\",\"Weekend\",\"Weekend\",\"Weekend\",\"Weekend\",\"Weekend\",\"Weekday\",\"Weekend\",\"Weekend\",\"Weekday\",\"Weekday\",\"Weekend\",\"Weekday\",\"Weekend\",\"Weekend\",\"Weekend\",\"Weekend\",\"Weekend\",\"Weekend\",\"Weekend\",\"Weekend\",\"Weekend\",\"Weekday\",\"Weekend\",\"Weekend\",\"Weekend\",\"Weekend\",\"Weekend\",\"Weekend\",\"Weekday\",\"Weekend\",\"Weekend\",\"Weekend\",\"Weekend\",\"Weekend\",\"Weekend\",\"Weekend\",\"Weekend\",\"Weekday\",\"Weekend\",\"Weekday\",\"Weekday\",\"Weekend\",\"Weekday\",\"Weekend\",\"Weekday\",\"Weekend\",\"Weekday\",\"Weekend\",\"Weekend\",\"Weekday\",\"Weekday\",\"Weekday\",\"Weekend\",\"Weekend\",\"Weekend\",\"Weekend\",\"Weekday\",\"Weekend\",\"Weekend\",\"Weekday\",\"Weekend\",\"Weekend\",\"Weekend\",\"Weekday\",\"Weekend\",\"Weekend\",\"Weekend\",\"Weekend\",\"Weekend\",\"Weekend\",\"Weekday\",\"Weekend\",\"Weekday\",\"Weekend\",\"Weekend\",\"Weekend\",\"Weekend\",\"Weekend\",\"Weekend\",\"Weekend\",\"Weekday\",\"Weekend\",\"Weekend\",\"Weekday\",\"Weekend\",\"Weekend\",\"Weekend\",\"Weekend\",\"Weekend\",\"Weekday\",\"Weekday\",\"Weekend\",\"Weekday\",\"Weekday\",\"Weekend\",\"Weekend\",\"Weekend\",\"Weekday\",\"Weekday\",\"Weekend\",\"Weekend\",\"Weekend\",\"Weekend\",\"Weekend\",\"Weekday\",\"Weekend\",\"Weekend\",\"Weekend\",\"Weekend\",\"Weekend\",\"Weekend\",\"Weekend\",\"Weekend\",\"Weekend\",\"Weekend\",\"Weekend\",\"Weekday\",\"Weekday\",\"Weekend\",\"Weekday\",\"Weekend\",\"Weekend\",\"Weekend\",\"Weekend\",\"Weekday\",\"Weekday\",\"Weekend\",\"Weekend\",\"Weekend\",\"Weekday\",\"Weekend\",\"Weekend\",\"Weekend\",\"Weekday\",\"Weekend\",\"Weekend\",\"Weekend\",\"Weekend\",\"Weekend\",\"Weekend\",\"Weekend\",\"Weekend\",\"Weekend\",\"Weekend\",\"Weekend\",\"Weekend\",\"Weekday\",\"Weekend\",\"Weekday\",\"Weekend\",\"Weekday\",\"Weekday\",\"Weekday\",\"Weekend\",\"Weekend\",\"Weekend\",\"Weekend\",\"Weekend\",\"Weekend\",\"Weekend\",\"Weekday\",\"Weekend\",\"Weekday\",\"Weekend\",\"Weekend\",\"Weekend\",\"Weekday\",\"Weekday\",\"Weekend\",\"Weekday\",\"Weekend\",\"Weekend\",\"Weekend\",\"Weekend\",\"Weekend\",\"Weekend\",\"Weekend\",\"Weekend\",\"Weekend\",\"Weekend\",\"Weekend\",\"Weekday\",\"Weekday\",\"Weekday\",\"Weekday\",\"Weekday\",\"Weekend\",\"Weekday\",\"Weekend\",\"Weekend\",\"Weekday\",\"Weekend\",\"Weekend\",\"Weekend\",\"Weekend\",\"Weekend\",\"Weekday\",\"Weekend\",\"Weekend\",\"Weekend\",\"Weekday\",\"Weekend\",\"Weekend\",\"Weekend\",\"Weekend\",\"Weekend\",\"Weekend\",\"Weekday\",\"Weekend\",\"Weekend\",\"Weekend\",\"Weekend\",\"Weekend\",\"Weekend\",\"Weekday\",\"Weekend\",\"Weekday\",\"Weekday\",\"Weekend\",\"Weekday\",\"Weekend\",\"Weekend\",\"Weekend\",\"Weekend\",\"Weekend\",\"Weekend\",\"Weekend\",\"Weekend\",\"Weekend\",\"Weekend\",\"Weekend\",\"Weekend\",\"Weekend\",\"Weekday\",\"Weekend\",\"Weekend\",\"Weekend\",\"Weekend\",\"Weekend\",\"Weekday\",\"Weekday\",\"Weekday\",\"Weekend\",\"Weekday\",\"Weekend\",\"Weekend\",\"Weekday\",\"Weekday\",\"Weekend\",\"Weekend\",\"Weekend\",\"Weekend\",\"Weekend\",\"Weekend\",\"Weekday\",\"Weekend\",\"Weekend\",\"Weekend\",\"Weekend\",\"Weekend\",\"Weekend\",\"Weekend\",\"Weekend\",\"Weekday\",\"Weekend\",\"Weekday\",\"Weekday\",\"Weekend\",\"Weekend\",\"Weekday\",\"Weekday\",\"Weekend\",\"Weekend\",\"Weekday\",\"Weekend\",\"Weekend\",\"Weekend\",\"Weekend\",\"Weekday\",\"Weekday\",\"Weekday\",\"Weekend\",\"Weekday\",\"Weekday\",\"Weekday\",\"Weekday\",\"Weekend\",\"Weekday\",\"Weekend\",\"Weekend\",\"Weekday\",\"Weekend\",\"Weekday\",\"Weekend\",\"Weekend\",\"Weekday\",\"Weekend\",\"Weekday\",\"Weekend\",\"Weekend\",\"Weekday\",\"Weekday\",\"Weekend\",\"Weekday\",\"Weekend\",\"Weekday\",\"Weekend\",\"Weekend\",\"Weekend\",\"Weekend\",\"Weekday\",\"Weekend\",\"Weekend\",\"Weekday\",\"Weekend\",\"Weekend\",\"Weekend\",\"Weekday\",\"Weekend\",\"Weekend\",\"Weekday\",\"Weekend\",\"Weekend\",\"Weekend\",\"Weekend\",\"Weekday\",\"Weekend\",\"Weekday\",\"Weekend\",\"Weekend\",\"Weekend\",\"Weekday\",\"Weekend\",\"Weekend\",\"Weekend\",\"Weekday\",\"Weekday\",\"Weekend\",\"Weekend\",\"Weekend\",\"Weekend\",\"Weekday\",\"Weekend\",\"Weekend\",\"Weekend\",\"Weekend\",\"Weekday\",\"Weekday\",\"Weekend\",\"Weekday\",\"Weekend\",\"Weekday\",\"Weekday\",\"Weekday\",\"Weekend\",\"Weekend\",\"Weekend\",\"Weekday\",\"Weekend\",\"Weekend\",\"Weekend\",\"Weekend\",\"Weekend\",\"Weekday\",\"Weekend\",\"Weekend\",\"Weekend\",\"Weekend\",\"Weekend\",\"Weekday\",\"Weekend\",\"Weekday\",\"Weekend\",\"Weekend\",\"Weekend\",\"Weekday\",\"Weekend\",\"Weekday\",\"Weekend\",\"Weekend\",\"Weekend\",\"Weekend\",\"Weekday\",\"Weekday\",\"Weekday\",\"Weekend\",\"Weekend\",\"Weekday\",\"Weekend\",\"Weekday\",\"Weekend\",\"Weekend\",\"Weekday\",\"Weekend\",\"Weekend\",\"Weekday\",\"Weekend\",\"Weekday\",\"Weekend\",\"Weekday\",\"Weekend\",\"Weekend\",\"Weekend\",\"Weekday\",\"Weekday\",\"Weekday\",\"Weekend\",\"Weekend\",\"Weekend\",\"Weekday\",\"Weekday\",\"Weekend\",\"Weekday\",\"Weekend\",\"Weekend\",\"Weekend\",\"Weekend\",\"Weekend\",\"Weekend\",\"Weekend\",\"Weekday\",\"Weekend\",\"Weekday\",\"Weekday\",\"Weekday\",\"Weekday\",\"Weekend\",\"Weekend\",\"Weekend\",\"Weekend\",\"Weekend\",\"Weekend\",\"Weekday\",\"Weekday\",\"Weekday\",\"Weekday\",\"Weekend\",\"Weekend\",\"Weekend\",\"Weekday\",\"Weekend\",\"Weekend\",\"Weekend\",\"Weekend\",\"Weekend\",\"Weekday\",\"Weekday\",\"Weekend\",\"Weekend\",\"Weekend\",\"Weekend\",\"Weekend\",\"Weekend\",\"Weekend\",\"Weekday\",\"Weekend\",\"Weekday\",\"Weekday\",\"Weekend\",\"Weekend\",\"Weekend\",\"Weekday\",\"Weekend\",\"Weekend\",\"Weekday\",\"Weekday\",\"Weekend\",\"Weekend\",\"Weekday\",\"Weekend\",\"Weekend\",\"Weekend\",\"Weekend\",\"Weekend\",\"Weekend\",\"Weekday\",\"Weekend\",\"Weekend\",\"Weekend\",\"Weekend\",\"Weekend\",\"Weekday\",\"Weekday\",\"Weekend\",\"Weekend\",\"Weekend\",\"Weekend\",\"Weekend\",\"Weekend\",\"Weekday\",\"Weekday\",\"Weekday\",\"Weekend\",\"Weekend\",\"Weekend\",\"Weekend\",\"Weekday\",\"Weekend\",\"Weekend\",\"Weekend\",\"Weekday\",\"Weekend\",\"Weekday\",\"Weekday\",\"Weekend\",\"Weekend\",\"Weekend\",\"Weekend\",\"Weekend\",\"Weekend\",\"Weekday\",\"Weekday\",\"Weekend\",\"Weekend\",\"Weekend\",\"Weekend\",\"Weekday\",\"Weekday\",\"Weekday\",\"Weekday\",\"Weekend\",\"Weekend\",\"Weekend\",\"Weekend\",\"Weekend\",\"Weekend\",\"Weekday\",\"Weekend\",\"Weekend\",\"Weekend\",\"Weekday\",\"Weekend\",\"Weekend\",\"Weekend\",\"Weekend\",\"Weekend\",\"Weekday\",\"Weekday\",\"Weekend\"],\"x0\":\" \",\"xaxis\":\"x\",\"y\":[20,23,28,15,24,24,21,30,26,26,28,22,17,23,30,25,16,22,24,26,24,20,30,16,29,29,27,16,24,29,25,24,24,18,26,26,31,29,32,19,18,19,15,22,20,23,30,24,24,21,19,28,20,23,29,15,24,33,30,28,21,20,27,26,32,32,20,23,22,23,21,23,27,16,31,25,18,29,30,27,25,32,28,18,16,28,24,27,24,15,24,30,22,18,32,22,27,29,30,25,27,33,21,20,25,30,25,26,27,27,22,28,28,27,24,16,32,33,27,32,28,24,15,19,27,24,24,30,23,29,28,28,21,28,26,24,24,28,20,20,24,17,26,25,28,24,25,28,19,29,19,19,25,18,22,26,23,16,21,33,21,24,18,20,29,22,27,25,28,24,25,15,27,16,33,19,19,19,29,26,24,29,16,15,19,20,24,22,22,15,24,32,29,28,17,15,26,25,33,28,24,29,24,28,25,23,21,16,22,27,29,25,18,17,22,27,18,30,26,31,24,31,19,24,29,27,23,30,28,16,16,16,17,17,26,19,28,20,15,20,32,15,24,16,25,26,28,27,15,21,17,20,28,27,29,26,30,21,18,23,33,30,25,26,23,24,17,19,26,32,25,22,25,28,19,28,27,21,22,29,24,27,20,15,27,25,18,21,26,22,28,17,29,26,17,22,18,24,28,30,32,26,27,28,25,24,30,28,28,17,28,27,32,26,23,25,29,18,21,24,30,30,26,21,27,24,29,17,19,26,22,31,32,24,19,28,20,15,24,22,16,20,25,22,26,27,21,18,32,25,27,22,21,19,17,24,16,30,18,28,27,29,18,19,29,32,27,26,24,24,23,19,26,29,15,17,15,17,17,30,27,16,29,26,32,15,26,28,24,26,22,18,18,29,32,26,31,16,22,18,30,28,32,29,27,18,22,23,27,26,28,30,32,28,28,27,28,16,26,27,26,17,28,29,15,18,16,20,24,28,24,24,15,29,27,30,18,30,30,20,22,33,33,29,29,16,29,30,18,28,33,29,21,23,33,30,24,21,23,23,26,21,18,25,22,21,22,25,28,22,31,24,26,23,29,25,29,26,27,20,25,18,33,29,28,28,25,32,19,27,24,23,30,26,22,25,29,19,32,21,31,30,25,28,16,16,15,19,18,29,24,24,25,30,26,23,15,28,16,29,23,17,30,28,16,30,28,22,16,21,18,17,21,19,23,20,29,17,15,33,24,21,15,26,25,21,29,18,21,28,22,27,29,17,15,25,15,27,22,30,29,25,30,30,26,29,21,20,21,29,27,18,23,29,15,23,15,26,27,23,33,18,25,28,30,26,29,28,18,29,17,22,20,25,19,24,26,30,27,21,29,30,24,18,17,30,28,32,15,20,15,31,27,28,33,20,33,24,21,23,25,29,28,16,26,20,33,26,31,30,18,22,19,28,24,16,29,30,28,30,28,27,25,16,30,30,24,27,15,27,15,29,18,21,28,28,28,26,15,24,19,19,32,21,21,24,28,20,15,32,20,17,20,27,19,26,28,26,18,26,22,22,27,18,30,23,25,16,18,30,25,31,16,28,29,30,32,30,29,27,30,16,19,24,23,21,26,25,23,32,26,20,24,20,24,26,19,23,28,15,25,26,27,27,27,15,31,21,22,26,30,16,25,16,20,28,28,15,20,27,15,18,17,19,29,23,26,16,30,28,30,26,30,16,16,28,24,27,21,19,29,21,25,31,18,23,17,28,25,21,19,27,19,23,22,30,24,32,27,21,22,21,27,24,32,21,31,19,32,24,29,15,28,19,25,17,16,28,27,28,28,27,18,27,29,17,25,24,30,28,22,26,32,20,24,27,33,25,30,16,27,26,27,27,24,18,22,25,16,26,25,29,26,24,17,28,28,29,29,18,17,33,17,28,32,30,28,15,21,19,29,16,26,26,22,24,27,25,28,27,24,28,21,26,16,26,23,29,28,21,22,30,25,26,29,17,22,20,28,24,31,16,19,29,25,25,18,17,26,24,31,16,23,17,25,19,29,27,33,18,27,23,29,30,25,21,22,21,26,25,26,23,33,28,30,30,20,30,27,30,17,17,31,23,25,26,16,27,22,15,29,29,17,32,27,23,32,17,18,23,15,26,30,33,19,19,21,29,24,23,17,28,27,27,25,27,25,21,22,30,25,17,26,21,18,29,15,24,30,17,19,33,29,30,30,25,25,20,29,28,29,18,24,26,30,27,23,26,31,33,19,32,26,31,26,16,15,21,27,15,23,21,15,18,20,15,32,15,15,23,25,21,26,25,19,33,29,19,19,25,24,24,30,30,30,30,30,22,26,26,30,24,20,22,21,25,29,18,26,30,30,20,15,31,28,16,22,33,21,26,28,30,26,16,26,27,30,20,22,26,25,24,24,26,18,20,19,19,24,30,29,16,18,33,26,16,20,18,15,29,24,23,32,20,17,18,27,27,15,27,26,27,31,15,33,18,24,32,24,24,29,21,23,22,27,17,30,19,25,29,21,26,32,17,26,33,16,17,29,30,15,18,28,20,25,22,21,19,31,16,15,19,20,29,18,28,22,15,28,27,30,25,33,30,25,29,28,26,18,32,20,16,24,24,19,25,27,25,25,17,24,24,21,29,31,29,17,25,19,16,17,22,16,32,27,29,22,27,30,22,16,17,30,27,24,26,15,27,24,27,24,20,21,17,29,16,24,15,28,29,26,33,20,28,19,23,28,25,32,17,24,26,24,20,24,21,20,15,26,16,15,25,20,30,30,21,20,24,27,24,32,27,22,25,33,33,30,26,26,27,20,16,17,16,15,29,27,15,16,26,24,18,25,27,17,16,18,23,33,25,29,30,29,17,17,17,27,16,26,27,16,28,26,23,16,24,33,24,15,29,20,30,22,27,27,22,25,24,17,23,24,17,25,27,20,25,27,27,30,22,27,25,15,29,16,20,28,22,16,27,29,25,22,29,19,32,18,24,17,31,20,19,22,27,24,27,21,27,16,26,17,28,25,28,29,30,29,15,28,32,17,24,25,21,24,27,33,28,20,28,20,19,20,28,26,30,21,29,33,28,23,23,27,27,27,18,30,29,26,28,33,21,21,28,26,29,16,20,16,25,31,19,29,26,28,29,24,24,16,28,20,23,30,21,24,18,30,15,30,30,18,27,24,25,16,27,24,29,26,27,31,18,30,18,17,29,20,27,28,22,30,25,24,27,19,20,16,28,23,30,24,29,24,25,24,24,15,21,25,28,29,26,33,27,19,28,15,16,32,26,20,25,31,22,28,17,25,32,26,28,19,29,26,27,22,26,22,21,27,22,24,20,18,17,27,25,24,27,24,26,29,22,28,24,33,15,23,29,33,24,24,19,27,30,20,15,24,24,19,23,24,19,25,24,16,29,21,24,26,25,27,25,16,19,23,16,28,15,27,26,24,29,17,22,19,26,24,16,29,22,28,26,16,29,25,29,15,20,20,23,26,25,29,30,29,22,26,20,27,24,17,30,18,24,19,30,19,18,15,29,25,22,30,20,26,16,32,20,19,25,23,24,25,24,21,24,29,28,24,28,24,30,19,27,28,19,28,20,15,22,28,19,25,17,19,19,19,27,31,28,31,28,26,28,22,29,28,23,20,19,20,25,24,29,28,18,18,15,28,18,29,15,26,24,25,30,20,15,30,29,16,15,26,29,21,28,29,29,32,30,21,32,32,26,25,30,31,23,23,26,24,31,23,21,24,24,29,17,28,29,33,23,25,28,30,15,16,18,25,29,18,21,28,16,18,29,33,28,27,30,22,23,24,22,26,19,33,26,29,29,32,17,25,29,29,32,29,21,29,23,24,22,20,18,28,29,28,18,30,18,31,31,31,25,22,20,32,27,24,16,15,24,33,23,15,20,20,27,27,15,31,26,16,23,24,26,30,30,15,22,19,30,32,29,29,23,26,26,24,29,25,26,29,24,33,20,24,20,28,15,27,19,27,28,30,29,20,26,29,32,24,26,26,20,19,16,15,25,17,32,27,30,30,25,32,29,16,18,18,30,27,28,31,28,32,23,17,21,29,19,24,19,21,17,31,24,24,19,18,19,16,16,30,28,30,32,26,16,30,22,31,28,17,30,27,17,17,33,27,28,30,21,17,23,30,19,29,18,20,25,33,26,19,30,18,15,20,22,30,27,26,22,28,26,25,28,23,24,15,26,20,28,24,30,29,23,26,29,23,26,24,17,25,28,19,33,31,28,31,15,27,18,19,23,24,29,25,30,26,30,22,28,21,17,19,24,31,24],\"y0\":\" \",\"yaxis\":\"y\",\"type\":\"box\"}],                        {\"template\":{\"data\":{\"histogram2dcontour\":[{\"type\":\"histogram2dcontour\",\"colorbar\":{\"outlinewidth\":0,\"ticks\":\"\"},\"colorscale\":[[0.0,\"#0d0887\"],[0.1111111111111111,\"#46039f\"],[0.2222222222222222,\"#7201a8\"],[0.3333333333333333,\"#9c179e\"],[0.4444444444444444,\"#bd3786\"],[0.5555555555555556,\"#d8576b\"],[0.6666666666666666,\"#ed7953\"],[0.7777777777777778,\"#fb9f3a\"],[0.8888888888888888,\"#fdca26\"],[1.0,\"#f0f921\"]]}],\"choropleth\":[{\"type\":\"choropleth\",\"colorbar\":{\"outlinewidth\":0,\"ticks\":\"\"}}],\"histogram2d\":[{\"type\":\"histogram2d\",\"colorbar\":{\"outlinewidth\":0,\"ticks\":\"\"},\"colorscale\":[[0.0,\"#0d0887\"],[0.1111111111111111,\"#46039f\"],[0.2222222222222222,\"#7201a8\"],[0.3333333333333333,\"#9c179e\"],[0.4444444444444444,\"#bd3786\"],[0.5555555555555556,\"#d8576b\"],[0.6666666666666666,\"#ed7953\"],[0.7777777777777778,\"#fb9f3a\"],[0.8888888888888888,\"#fdca26\"],[1.0,\"#f0f921\"]]}],\"heatmap\":[{\"type\":\"heatmap\",\"colorbar\":{\"outlinewidth\":0,\"ticks\":\"\"},\"colorscale\":[[0.0,\"#0d0887\"],[0.1111111111111111,\"#46039f\"],[0.2222222222222222,\"#7201a8\"],[0.3333333333333333,\"#9c179e\"],[0.4444444444444444,\"#bd3786\"],[0.5555555555555556,\"#d8576b\"],[0.6666666666666666,\"#ed7953\"],[0.7777777777777778,\"#fb9f3a\"],[0.8888888888888888,\"#fdca26\"],[1.0,\"#f0f921\"]]}],\"heatmapgl\":[{\"type\":\"heatmapgl\",\"colorbar\":{\"outlinewidth\":0,\"ticks\":\"\"},\"colorscale\":[[0.0,\"#0d0887\"],[0.1111111111111111,\"#46039f\"],[0.2222222222222222,\"#7201a8\"],[0.3333333333333333,\"#9c179e\"],[0.4444444444444444,\"#bd3786\"],[0.5555555555555556,\"#d8576b\"],[0.6666666666666666,\"#ed7953\"],[0.7777777777777778,\"#fb9f3a\"],[0.8888888888888888,\"#fdca26\"],[1.0,\"#f0f921\"]]}],\"contourcarpet\":[{\"type\":\"contourcarpet\",\"colorbar\":{\"outlinewidth\":0,\"ticks\":\"\"}}],\"contour\":[{\"type\":\"contour\",\"colorbar\":{\"outlinewidth\":0,\"ticks\":\"\"},\"colorscale\":[[0.0,\"#0d0887\"],[0.1111111111111111,\"#46039f\"],[0.2222222222222222,\"#7201a8\"],[0.3333333333333333,\"#9c179e\"],[0.4444444444444444,\"#bd3786\"],[0.5555555555555556,\"#d8576b\"],[0.6666666666666666,\"#ed7953\"],[0.7777777777777778,\"#fb9f3a\"],[0.8888888888888888,\"#fdca26\"],[1.0,\"#f0f921\"]]}],\"surface\":[{\"type\":\"surface\",\"colorbar\":{\"outlinewidth\":0,\"ticks\":\"\"},\"colorscale\":[[0.0,\"#0d0887\"],[0.1111111111111111,\"#46039f\"],[0.2222222222222222,\"#7201a8\"],[0.3333333333333333,\"#9c179e\"],[0.4444444444444444,\"#bd3786\"],[0.5555555555555556,\"#d8576b\"],[0.6666666666666666,\"#ed7953\"],[0.7777777777777778,\"#fb9f3a\"],[0.8888888888888888,\"#fdca26\"],[1.0,\"#f0f921\"]]}],\"mesh3d\":[{\"type\":\"mesh3d\",\"colorbar\":{\"outlinewidth\":0,\"ticks\":\"\"}}],\"scatter\":[{\"fillpattern\":{\"fillmode\":\"overlay\",\"size\":10,\"solidity\":0.2},\"type\":\"scatter\"}],\"parcoords\":[{\"type\":\"parcoords\",\"line\":{\"colorbar\":{\"outlinewidth\":0,\"ticks\":\"\"}}}],\"scatterpolargl\":[{\"type\":\"scatterpolargl\",\"marker\":{\"colorbar\":{\"outlinewidth\":0,\"ticks\":\"\"}}}],\"bar\":[{\"error_x\":{\"color\":\"#2a3f5f\"},\"error_y\":{\"color\":\"#2a3f5f\"},\"marker\":{\"line\":{\"color\":\"#E5ECF6\",\"width\":0.5},\"pattern\":{\"fillmode\":\"overlay\",\"size\":10,\"solidity\":0.2}},\"type\":\"bar\"}],\"scattergeo\":[{\"type\":\"scattergeo\",\"marker\":{\"colorbar\":{\"outlinewidth\":0,\"ticks\":\"\"}}}],\"scatterpolar\":[{\"type\":\"scatterpolar\",\"marker\":{\"colorbar\":{\"outlinewidth\":0,\"ticks\":\"\"}}}],\"histogram\":[{\"marker\":{\"pattern\":{\"fillmode\":\"overlay\",\"size\":10,\"solidity\":0.2}},\"type\":\"histogram\"}],\"scattergl\":[{\"type\":\"scattergl\",\"marker\":{\"colorbar\":{\"outlinewidth\":0,\"ticks\":\"\"}}}],\"scatter3d\":[{\"type\":\"scatter3d\",\"line\":{\"colorbar\":{\"outlinewidth\":0,\"ticks\":\"\"}},\"marker\":{\"colorbar\":{\"outlinewidth\":0,\"ticks\":\"\"}}}],\"scattermapbox\":[{\"type\":\"scattermapbox\",\"marker\":{\"colorbar\":{\"outlinewidth\":0,\"ticks\":\"\"}}}],\"scatterternary\":[{\"type\":\"scatterternary\",\"marker\":{\"colorbar\":{\"outlinewidth\":0,\"ticks\":\"\"}}}],\"scattercarpet\":[{\"type\":\"scattercarpet\",\"marker\":{\"colorbar\":{\"outlinewidth\":0,\"ticks\":\"\"}}}],\"carpet\":[{\"aaxis\":{\"endlinecolor\":\"#2a3f5f\",\"gridcolor\":\"white\",\"linecolor\":\"white\",\"minorgridcolor\":\"white\",\"startlinecolor\":\"#2a3f5f\"},\"baxis\":{\"endlinecolor\":\"#2a3f5f\",\"gridcolor\":\"white\",\"linecolor\":\"white\",\"minorgridcolor\":\"white\",\"startlinecolor\":\"#2a3f5f\"},\"type\":\"carpet\"}],\"table\":[{\"cells\":{\"fill\":{\"color\":\"#EBF0F8\"},\"line\":{\"color\":\"white\"}},\"header\":{\"fill\":{\"color\":\"#C8D4E3\"},\"line\":{\"color\":\"white\"}},\"type\":\"table\"}],\"barpolar\":[{\"marker\":{\"line\":{\"color\":\"#E5ECF6\",\"width\":0.5},\"pattern\":{\"fillmode\":\"overlay\",\"size\":10,\"solidity\":0.2}},\"type\":\"barpolar\"}],\"pie\":[{\"automargin\":true,\"type\":\"pie\"}]},\"layout\":{\"autotypenumbers\":\"strict\",\"colorway\":[\"#636efa\",\"#EF553B\",\"#00cc96\",\"#ab63fa\",\"#FFA15A\",\"#19d3f3\",\"#FF6692\",\"#B6E880\",\"#FF97FF\",\"#FECB52\"],\"font\":{\"color\":\"#2a3f5f\"},\"hovermode\":\"closest\",\"hoverlabel\":{\"align\":\"left\"},\"paper_bgcolor\":\"white\",\"plot_bgcolor\":\"#E5ECF6\",\"polar\":{\"bgcolor\":\"#E5ECF6\",\"angularaxis\":{\"gridcolor\":\"white\",\"linecolor\":\"white\",\"ticks\":\"\"},\"radialaxis\":{\"gridcolor\":\"white\",\"linecolor\":\"white\",\"ticks\":\"\"}},\"ternary\":{\"bgcolor\":\"#E5ECF6\",\"aaxis\":{\"gridcolor\":\"white\",\"linecolor\":\"white\",\"ticks\":\"\"},\"baxis\":{\"gridcolor\":\"white\",\"linecolor\":\"white\",\"ticks\":\"\"},\"caxis\":{\"gridcolor\":\"white\",\"linecolor\":\"white\",\"ticks\":\"\"}},\"coloraxis\":{\"colorbar\":{\"outlinewidth\":0,\"ticks\":\"\"}},\"colorscale\":{\"sequential\":[[0.0,\"#0d0887\"],[0.1111111111111111,\"#46039f\"],[0.2222222222222222,\"#7201a8\"],[0.3333333333333333,\"#9c179e\"],[0.4444444444444444,\"#bd3786\"],[0.5555555555555556,\"#d8576b\"],[0.6666666666666666,\"#ed7953\"],[0.7777777777777778,\"#fb9f3a\"],[0.8888888888888888,\"#fdca26\"],[1.0,\"#f0f921\"]],\"sequentialminus\":[[0.0,\"#0d0887\"],[0.1111111111111111,\"#46039f\"],[0.2222222222222222,\"#7201a8\"],[0.3333333333333333,\"#9c179e\"],[0.4444444444444444,\"#bd3786\"],[0.5555555555555556,\"#d8576b\"],[0.6666666666666666,\"#ed7953\"],[0.7777777777777778,\"#fb9f3a\"],[0.8888888888888888,\"#fdca26\"],[1.0,\"#f0f921\"]],\"diverging\":[[0,\"#8e0152\"],[0.1,\"#c51b7d\"],[0.2,\"#de77ae\"],[0.3,\"#f1b6da\"],[0.4,\"#fde0ef\"],[0.5,\"#f7f7f7\"],[0.6,\"#e6f5d0\"],[0.7,\"#b8e186\"],[0.8,\"#7fbc41\"],[0.9,\"#4d9221\"],[1,\"#276419\"]]},\"xaxis\":{\"gridcolor\":\"white\",\"linecolor\":\"white\",\"ticks\":\"\",\"title\":{\"standoff\":15},\"zerolinecolor\":\"white\",\"automargin\":true,\"zerolinewidth\":2},\"yaxis\":{\"gridcolor\":\"white\",\"linecolor\":\"white\",\"ticks\":\"\",\"title\":{\"standoff\":15},\"zerolinecolor\":\"white\",\"automargin\":true,\"zerolinewidth\":2},\"scene\":{\"xaxis\":{\"backgroundcolor\":\"#E5ECF6\",\"gridcolor\":\"white\",\"linecolor\":\"white\",\"showbackground\":true,\"ticks\":\"\",\"zerolinecolor\":\"white\",\"gridwidth\":2},\"yaxis\":{\"backgroundcolor\":\"#E5ECF6\",\"gridcolor\":\"white\",\"linecolor\":\"white\",\"showbackground\":true,\"ticks\":\"\",\"zerolinecolor\":\"white\",\"gridwidth\":2},\"zaxis\":{\"backgroundcolor\":\"#E5ECF6\",\"gridcolor\":\"white\",\"linecolor\":\"white\",\"showbackground\":true,\"ticks\":\"\",\"zerolinecolor\":\"white\",\"gridwidth\":2}},\"shapedefaults\":{\"line\":{\"color\":\"#2a3f5f\"}},\"annotationdefaults\":{\"arrowcolor\":\"#2a3f5f\",\"arrowhead\":0,\"arrowwidth\":1},\"geo\":{\"bgcolor\":\"white\",\"landcolor\":\"#E5ECF6\",\"subunitcolor\":\"white\",\"showland\":true,\"showlakes\":true,\"lakecolor\":\"white\"},\"title\":{\"x\":0.05},\"mapbox\":{\"style\":\"light\"}}},\"xaxis\":{\"anchor\":\"y\",\"domain\":[0.0,1.0],\"title\":{\"text\":\"day_of_the_week\"}},\"yaxis\":{\"anchor\":\"x\",\"domain\":[0.0,1.0],\"title\":{\"text\":\"delivery_time\"}},\"legend\":{\"tracegroupgap\":0},\"title\":{\"text\":\"Day of the week vs Delivery time\",\"x\":0.5},\"boxmode\":\"group\"},                        {\"responsive\": true}                    ).then(function(){\n",
              "                            \n",
              "var gd = document.getElementById('c664021a-24bd-4029-88d0-87ecf3887a95');\n",
              "var x = new MutationObserver(function (mutations, observer) {{\n",
              "        var display = window.getComputedStyle(gd).display;\n",
              "        if (!display || display === 'none') {{\n",
              "            console.log([gd, 'removed!']);\n",
              "            Plotly.purge(gd);\n",
              "            observer.disconnect();\n",
              "        }}\n",
              "}});\n",
              "\n",
              "// Listen for the removal of the full notebook cells\n",
              "var notebookContainer = gd.closest('#notebook-container');\n",
              "if (notebookContainer) {{\n",
              "    x.observe(notebookContainer, {childList: true});\n",
              "}}\n",
              "\n",
              "// Listen for the clearing of the current output cell\n",
              "var outputEl = gd.closest('.output');\n",
              "if (outputEl) {{\n",
              "    x.observe(outputEl, {childList: true});\n",
              "}}\n",
              "\n",
              "                        })                };                            </script>        </div>\n",
              "</body>\n",
              "</html>"
            ]
          },
          "metadata": {}
        }
      ]
    },
    {
      "cell_type": "markdown",
      "metadata": {
        "id": "UnppMp022rdQ"
      },
      "source": [
        "#### Run the below code and write your observations on the revenue generated by the restaurants."
      ]
    },
    {
      "cell_type": "code",
      "execution_count": null,
      "metadata": {
        "id": "LaDfuzIt2rdR",
        "colab": {
          "base_uri": "https://localhost:8080/",
          "height": 554
        },
        "outputId": "4b453590-d20b-4da9-ce0a-0c8a1acfb5fb"
      },
      "outputs": [
        {
          "output_type": "execute_result",
          "data": {
            "text/plain": [
              "restaurant_name\n",
              "Shake Shack                      3579.53\n",
              "The Meatball Shop                2145.21\n",
              "Blue Ribbon Sushi                1903.95\n",
              "Blue Ribbon Fried Chicken        1662.29\n",
              "Parm                             1112.76\n",
              "RedFarm Broadway                  965.13\n",
              "RedFarm Hudson                    921.21\n",
              "TAO                               834.50\n",
              "Han Dynasty                       755.29\n",
              "Blue Ribbon Sushi Bar & Grill     666.62\n",
              "Rubirosa                          660.45\n",
              "Sushi of Gari 46                  640.87\n",
              "Nobu Next Door                    623.67\n",
              "Five Guys Burgers and Fries       506.47\n",
              "Name: cost_of_the_order, dtype: float64"
            ],
            "text/html": [
              "<div>\n",
              "<style scoped>\n",
              "    .dataframe tbody tr th:only-of-type {\n",
              "        vertical-align: middle;\n",
              "    }\n",
              "\n",
              "    .dataframe tbody tr th {\n",
              "        vertical-align: top;\n",
              "    }\n",
              "\n",
              "    .dataframe thead th {\n",
              "        text-align: right;\n",
              "    }\n",
              "</style>\n",
              "<table border=\"1\" class=\"dataframe\">\n",
              "  <thead>\n",
              "    <tr style=\"text-align: right;\">\n",
              "      <th></th>\n",
              "      <th>cost_of_the_order</th>\n",
              "    </tr>\n",
              "    <tr>\n",
              "      <th>restaurant_name</th>\n",
              "      <th></th>\n",
              "    </tr>\n",
              "  </thead>\n",
              "  <tbody>\n",
              "    <tr>\n",
              "      <th>Shake Shack</th>\n",
              "      <td>3579.53</td>\n",
              "    </tr>\n",
              "    <tr>\n",
              "      <th>The Meatball Shop</th>\n",
              "      <td>2145.21</td>\n",
              "    </tr>\n",
              "    <tr>\n",
              "      <th>Blue Ribbon Sushi</th>\n",
              "      <td>1903.95</td>\n",
              "    </tr>\n",
              "    <tr>\n",
              "      <th>Blue Ribbon Fried Chicken</th>\n",
              "      <td>1662.29</td>\n",
              "    </tr>\n",
              "    <tr>\n",
              "      <th>Parm</th>\n",
              "      <td>1112.76</td>\n",
              "    </tr>\n",
              "    <tr>\n",
              "      <th>RedFarm Broadway</th>\n",
              "      <td>965.13</td>\n",
              "    </tr>\n",
              "    <tr>\n",
              "      <th>RedFarm Hudson</th>\n",
              "      <td>921.21</td>\n",
              "    </tr>\n",
              "    <tr>\n",
              "      <th>TAO</th>\n",
              "      <td>834.50</td>\n",
              "    </tr>\n",
              "    <tr>\n",
              "      <th>Han Dynasty</th>\n",
              "      <td>755.29</td>\n",
              "    </tr>\n",
              "    <tr>\n",
              "      <th>Blue Ribbon Sushi Bar &amp; Grill</th>\n",
              "      <td>666.62</td>\n",
              "    </tr>\n",
              "    <tr>\n",
              "      <th>Rubirosa</th>\n",
              "      <td>660.45</td>\n",
              "    </tr>\n",
              "    <tr>\n",
              "      <th>Sushi of Gari 46</th>\n",
              "      <td>640.87</td>\n",
              "    </tr>\n",
              "    <tr>\n",
              "      <th>Nobu Next Door</th>\n",
              "      <td>623.67</td>\n",
              "    </tr>\n",
              "    <tr>\n",
              "      <th>Five Guys Burgers and Fries</th>\n",
              "      <td>506.47</td>\n",
              "    </tr>\n",
              "  </tbody>\n",
              "</table>\n",
              "</div><br><label><b>dtype:</b> float64</label>"
            ]
          },
          "metadata": {},
          "execution_count": 50
        }
      ],
      "source": [
        "df.groupby(['restaurant_name'])['cost_of_the_order'].sum().sort_values(ascending = False).head(14)"
      ]
    },
    {
      "cell_type": "markdown",
      "source": [
        "#### Observations\n",
        "* The top 5 restaurants generated significant portion of the sales."
      ],
      "metadata": {
        "id": "kuTyQo4eS86W"
      }
    },
    {
      "cell_type": "markdown",
      "source": [],
      "metadata": {
        "id": "4ECFbtuXOCQn"
      }
    },
    {
      "cell_type": "code",
      "source": [
        "rating_delivery_time = df.groupby('rating')['delivery_time'].mean().reset_index().copy()\n",
        "fig = px.scatter(data_frame=rating_delivery_time, x='rating', y='delivery_time', title='Rating vs Delivery Time')\n",
        "fig.update_layout(title_x=0.5)\n",
        "fig.update_traces(marker=dict(size=12, symbol='square'))\n",
        "fig.show();\n",
        "\n",
        "fig=px.line(data_frame=rating_delivery_time, x='rating', y='delivery_time',title='Rating vs Delivery Time', markers=True)\n",
        "fig.update_layout(title_x=0.5)\n",
        "fig.update_traces(marker=dict(size=12, symbol='square'))\n",
        "fig.show();"
      ],
      "metadata": {
        "colab": {
          "base_uri": "https://localhost:8080/",
          "height": 1000
        },
        "id": "w94mLgCkPhn-",
        "outputId": "f8f3ae96-75fe-4713-afd7-ba5d4c791e4c"
      },
      "execution_count": null,
      "outputs": [
        {
          "output_type": "display_data",
          "data": {
            "text/html": [
              "<html>\n",
              "<head><meta charset=\"utf-8\" /></head>\n",
              "<body>\n",
              "    <div>            <script src=\"https://cdnjs.cloudflare.com/ajax/libs/mathjax/2.7.5/MathJax.js?config=TeX-AMS-MML_SVG\"></script><script type=\"text/javascript\">if (window.MathJax && window.MathJax.Hub && window.MathJax.Hub.Config) {window.MathJax.Hub.Config({SVG: {font: \"STIX-Web\"}});}</script>                <script type=\"text/javascript\">window.PlotlyConfig = {MathJaxConfig: 'local'};</script>\n",
              "        <script charset=\"utf-8\" src=\"https://cdn.plot.ly/plotly-2.35.2.min.js\"></script>                <div id=\"e521d380-5a24-4a1d-85ae-99df252e3bb1\" class=\"plotly-graph-div\" style=\"height:525px; width:100%;\"></div>            <script type=\"text/javascript\">                                    window.PLOTLYENV=window.PLOTLYENV || {};                                    if (document.getElementById(\"e521d380-5a24-4a1d-85ae-99df252e3bb1\")) {                    Plotly.newPlot(                        \"e521d380-5a24-4a1d-85ae-99df252e3bb1\",                        [{\"hovertemplate\":\"rating=%{x}\\u003cbr\\u003edelivery_time=%{y}\\u003cextra\\u003e\\u003c\\u002fextra\\u003e\",\"legendgroup\":\"\",\"marker\":{\"color\":\"#636efa\",\"symbol\":\"square\",\"size\":12},\"mode\":\"markers\",\"name\":\"\",\"orientation\":\"v\",\"showlegend\":false,\"x\":[\"3\",\"4\",\"5\",\"Not given\"],\"xaxis\":\"x\",\"y\":[24.55851063829787,23.867875647668395,24.212585034013607,24.17391304347826],\"yaxis\":\"y\",\"type\":\"scatter\"}],                        {\"template\":{\"data\":{\"histogram2dcontour\":[{\"type\":\"histogram2dcontour\",\"colorbar\":{\"outlinewidth\":0,\"ticks\":\"\"},\"colorscale\":[[0.0,\"#0d0887\"],[0.1111111111111111,\"#46039f\"],[0.2222222222222222,\"#7201a8\"],[0.3333333333333333,\"#9c179e\"],[0.4444444444444444,\"#bd3786\"],[0.5555555555555556,\"#d8576b\"],[0.6666666666666666,\"#ed7953\"],[0.7777777777777778,\"#fb9f3a\"],[0.8888888888888888,\"#fdca26\"],[1.0,\"#f0f921\"]]}],\"choropleth\":[{\"type\":\"choropleth\",\"colorbar\":{\"outlinewidth\":0,\"ticks\":\"\"}}],\"histogram2d\":[{\"type\":\"histogram2d\",\"colorbar\":{\"outlinewidth\":0,\"ticks\":\"\"},\"colorscale\":[[0.0,\"#0d0887\"],[0.1111111111111111,\"#46039f\"],[0.2222222222222222,\"#7201a8\"],[0.3333333333333333,\"#9c179e\"],[0.4444444444444444,\"#bd3786\"],[0.5555555555555556,\"#d8576b\"],[0.6666666666666666,\"#ed7953\"],[0.7777777777777778,\"#fb9f3a\"],[0.8888888888888888,\"#fdca26\"],[1.0,\"#f0f921\"]]}],\"heatmap\":[{\"type\":\"heatmap\",\"colorbar\":{\"outlinewidth\":0,\"ticks\":\"\"},\"colorscale\":[[0.0,\"#0d0887\"],[0.1111111111111111,\"#46039f\"],[0.2222222222222222,\"#7201a8\"],[0.3333333333333333,\"#9c179e\"],[0.4444444444444444,\"#bd3786\"],[0.5555555555555556,\"#d8576b\"],[0.6666666666666666,\"#ed7953\"],[0.7777777777777778,\"#fb9f3a\"],[0.8888888888888888,\"#fdca26\"],[1.0,\"#f0f921\"]]}],\"heatmapgl\":[{\"type\":\"heatmapgl\",\"colorbar\":{\"outlinewidth\":0,\"ticks\":\"\"},\"colorscale\":[[0.0,\"#0d0887\"],[0.1111111111111111,\"#46039f\"],[0.2222222222222222,\"#7201a8\"],[0.3333333333333333,\"#9c179e\"],[0.4444444444444444,\"#bd3786\"],[0.5555555555555556,\"#d8576b\"],[0.6666666666666666,\"#ed7953\"],[0.7777777777777778,\"#fb9f3a\"],[0.8888888888888888,\"#fdca26\"],[1.0,\"#f0f921\"]]}],\"contourcarpet\":[{\"type\":\"contourcarpet\",\"colorbar\":{\"outlinewidth\":0,\"ticks\":\"\"}}],\"contour\":[{\"type\":\"contour\",\"colorbar\":{\"outlinewidth\":0,\"ticks\":\"\"},\"colorscale\":[[0.0,\"#0d0887\"],[0.1111111111111111,\"#46039f\"],[0.2222222222222222,\"#7201a8\"],[0.3333333333333333,\"#9c179e\"],[0.4444444444444444,\"#bd3786\"],[0.5555555555555556,\"#d8576b\"],[0.6666666666666666,\"#ed7953\"],[0.7777777777777778,\"#fb9f3a\"],[0.8888888888888888,\"#fdca26\"],[1.0,\"#f0f921\"]]}],\"surface\":[{\"type\":\"surface\",\"colorbar\":{\"outlinewidth\":0,\"ticks\":\"\"},\"colorscale\":[[0.0,\"#0d0887\"],[0.1111111111111111,\"#46039f\"],[0.2222222222222222,\"#7201a8\"],[0.3333333333333333,\"#9c179e\"],[0.4444444444444444,\"#bd3786\"],[0.5555555555555556,\"#d8576b\"],[0.6666666666666666,\"#ed7953\"],[0.7777777777777778,\"#fb9f3a\"],[0.8888888888888888,\"#fdca26\"],[1.0,\"#f0f921\"]]}],\"mesh3d\":[{\"type\":\"mesh3d\",\"colorbar\":{\"outlinewidth\":0,\"ticks\":\"\"}}],\"scatter\":[{\"fillpattern\":{\"fillmode\":\"overlay\",\"size\":10,\"solidity\":0.2},\"type\":\"scatter\"}],\"parcoords\":[{\"type\":\"parcoords\",\"line\":{\"colorbar\":{\"outlinewidth\":0,\"ticks\":\"\"}}}],\"scatterpolargl\":[{\"type\":\"scatterpolargl\",\"marker\":{\"colorbar\":{\"outlinewidth\":0,\"ticks\":\"\"}}}],\"bar\":[{\"error_x\":{\"color\":\"#2a3f5f\"},\"error_y\":{\"color\":\"#2a3f5f\"},\"marker\":{\"line\":{\"color\":\"#E5ECF6\",\"width\":0.5},\"pattern\":{\"fillmode\":\"overlay\",\"size\":10,\"solidity\":0.2}},\"type\":\"bar\"}],\"scattergeo\":[{\"type\":\"scattergeo\",\"marker\":{\"colorbar\":{\"outlinewidth\":0,\"ticks\":\"\"}}}],\"scatterpolar\":[{\"type\":\"scatterpolar\",\"marker\":{\"colorbar\":{\"outlinewidth\":0,\"ticks\":\"\"}}}],\"histogram\":[{\"marker\":{\"pattern\":{\"fillmode\":\"overlay\",\"size\":10,\"solidity\":0.2}},\"type\":\"histogram\"}],\"scattergl\":[{\"type\":\"scattergl\",\"marker\":{\"colorbar\":{\"outlinewidth\":0,\"ticks\":\"\"}}}],\"scatter3d\":[{\"type\":\"scatter3d\",\"line\":{\"colorbar\":{\"outlinewidth\":0,\"ticks\":\"\"}},\"marker\":{\"colorbar\":{\"outlinewidth\":0,\"ticks\":\"\"}}}],\"scattermapbox\":[{\"type\":\"scattermapbox\",\"marker\":{\"colorbar\":{\"outlinewidth\":0,\"ticks\":\"\"}}}],\"scatterternary\":[{\"type\":\"scatterternary\",\"marker\":{\"colorbar\":{\"outlinewidth\":0,\"ticks\":\"\"}}}],\"scattercarpet\":[{\"type\":\"scattercarpet\",\"marker\":{\"colorbar\":{\"outlinewidth\":0,\"ticks\":\"\"}}}],\"carpet\":[{\"aaxis\":{\"endlinecolor\":\"#2a3f5f\",\"gridcolor\":\"white\",\"linecolor\":\"white\",\"minorgridcolor\":\"white\",\"startlinecolor\":\"#2a3f5f\"},\"baxis\":{\"endlinecolor\":\"#2a3f5f\",\"gridcolor\":\"white\",\"linecolor\":\"white\",\"minorgridcolor\":\"white\",\"startlinecolor\":\"#2a3f5f\"},\"type\":\"carpet\"}],\"table\":[{\"cells\":{\"fill\":{\"color\":\"#EBF0F8\"},\"line\":{\"color\":\"white\"}},\"header\":{\"fill\":{\"color\":\"#C8D4E3\"},\"line\":{\"color\":\"white\"}},\"type\":\"table\"}],\"barpolar\":[{\"marker\":{\"line\":{\"color\":\"#E5ECF6\",\"width\":0.5},\"pattern\":{\"fillmode\":\"overlay\",\"size\":10,\"solidity\":0.2}},\"type\":\"barpolar\"}],\"pie\":[{\"automargin\":true,\"type\":\"pie\"}]},\"layout\":{\"autotypenumbers\":\"strict\",\"colorway\":[\"#636efa\",\"#EF553B\",\"#00cc96\",\"#ab63fa\",\"#FFA15A\",\"#19d3f3\",\"#FF6692\",\"#B6E880\",\"#FF97FF\",\"#FECB52\"],\"font\":{\"color\":\"#2a3f5f\"},\"hovermode\":\"closest\",\"hoverlabel\":{\"align\":\"left\"},\"paper_bgcolor\":\"white\",\"plot_bgcolor\":\"#E5ECF6\",\"polar\":{\"bgcolor\":\"#E5ECF6\",\"angularaxis\":{\"gridcolor\":\"white\",\"linecolor\":\"white\",\"ticks\":\"\"},\"radialaxis\":{\"gridcolor\":\"white\",\"linecolor\":\"white\",\"ticks\":\"\"}},\"ternary\":{\"bgcolor\":\"#E5ECF6\",\"aaxis\":{\"gridcolor\":\"white\",\"linecolor\":\"white\",\"ticks\":\"\"},\"baxis\":{\"gridcolor\":\"white\",\"linecolor\":\"white\",\"ticks\":\"\"},\"caxis\":{\"gridcolor\":\"white\",\"linecolor\":\"white\",\"ticks\":\"\"}},\"coloraxis\":{\"colorbar\":{\"outlinewidth\":0,\"ticks\":\"\"}},\"colorscale\":{\"sequential\":[[0.0,\"#0d0887\"],[0.1111111111111111,\"#46039f\"],[0.2222222222222222,\"#7201a8\"],[0.3333333333333333,\"#9c179e\"],[0.4444444444444444,\"#bd3786\"],[0.5555555555555556,\"#d8576b\"],[0.6666666666666666,\"#ed7953\"],[0.7777777777777778,\"#fb9f3a\"],[0.8888888888888888,\"#fdca26\"],[1.0,\"#f0f921\"]],\"sequentialminus\":[[0.0,\"#0d0887\"],[0.1111111111111111,\"#46039f\"],[0.2222222222222222,\"#7201a8\"],[0.3333333333333333,\"#9c179e\"],[0.4444444444444444,\"#bd3786\"],[0.5555555555555556,\"#d8576b\"],[0.6666666666666666,\"#ed7953\"],[0.7777777777777778,\"#fb9f3a\"],[0.8888888888888888,\"#fdca26\"],[1.0,\"#f0f921\"]],\"diverging\":[[0,\"#8e0152\"],[0.1,\"#c51b7d\"],[0.2,\"#de77ae\"],[0.3,\"#f1b6da\"],[0.4,\"#fde0ef\"],[0.5,\"#f7f7f7\"],[0.6,\"#e6f5d0\"],[0.7,\"#b8e186\"],[0.8,\"#7fbc41\"],[0.9,\"#4d9221\"],[1,\"#276419\"]]},\"xaxis\":{\"gridcolor\":\"white\",\"linecolor\":\"white\",\"ticks\":\"\",\"title\":{\"standoff\":15},\"zerolinecolor\":\"white\",\"automargin\":true,\"zerolinewidth\":2},\"yaxis\":{\"gridcolor\":\"white\",\"linecolor\":\"white\",\"ticks\":\"\",\"title\":{\"standoff\":15},\"zerolinecolor\":\"white\",\"automargin\":true,\"zerolinewidth\":2},\"scene\":{\"xaxis\":{\"backgroundcolor\":\"#E5ECF6\",\"gridcolor\":\"white\",\"linecolor\":\"white\",\"showbackground\":true,\"ticks\":\"\",\"zerolinecolor\":\"white\",\"gridwidth\":2},\"yaxis\":{\"backgroundcolor\":\"#E5ECF6\",\"gridcolor\":\"white\",\"linecolor\":\"white\",\"showbackground\":true,\"ticks\":\"\",\"zerolinecolor\":\"white\",\"gridwidth\":2},\"zaxis\":{\"backgroundcolor\":\"#E5ECF6\",\"gridcolor\":\"white\",\"linecolor\":\"white\",\"showbackground\":true,\"ticks\":\"\",\"zerolinecolor\":\"white\",\"gridwidth\":2}},\"shapedefaults\":{\"line\":{\"color\":\"#2a3f5f\"}},\"annotationdefaults\":{\"arrowcolor\":\"#2a3f5f\",\"arrowhead\":0,\"arrowwidth\":1},\"geo\":{\"bgcolor\":\"white\",\"landcolor\":\"#E5ECF6\",\"subunitcolor\":\"white\",\"showland\":true,\"showlakes\":true,\"lakecolor\":\"white\"},\"title\":{\"x\":0.05},\"mapbox\":{\"style\":\"light\"}}},\"xaxis\":{\"anchor\":\"y\",\"domain\":[0.0,1.0],\"title\":{\"text\":\"rating\"}},\"yaxis\":{\"anchor\":\"x\",\"domain\":[0.0,1.0],\"title\":{\"text\":\"delivery_time\"}},\"legend\":{\"tracegroupgap\":0},\"title\":{\"text\":\"Rating vs Delivery Time\",\"x\":0.5}},                        {\"responsive\": true}                    ).then(function(){\n",
              "                            \n",
              "var gd = document.getElementById('e521d380-5a24-4a1d-85ae-99df252e3bb1');\n",
              "var x = new MutationObserver(function (mutations, observer) {{\n",
              "        var display = window.getComputedStyle(gd).display;\n",
              "        if (!display || display === 'none') {{\n",
              "            console.log([gd, 'removed!']);\n",
              "            Plotly.purge(gd);\n",
              "            observer.disconnect();\n",
              "        }}\n",
              "}});\n",
              "\n",
              "// Listen for the removal of the full notebook cells\n",
              "var notebookContainer = gd.closest('#notebook-container');\n",
              "if (notebookContainer) {{\n",
              "    x.observe(notebookContainer, {childList: true});\n",
              "}}\n",
              "\n",
              "// Listen for the clearing of the current output cell\n",
              "var outputEl = gd.closest('.output');\n",
              "if (outputEl) {{\n",
              "    x.observe(outputEl, {childList: true});\n",
              "}}\n",
              "\n",
              "                        })                };                            </script>        </div>\n",
              "</body>\n",
              "</html>"
            ]
          },
          "metadata": {}
        },
        {
          "output_type": "display_data",
          "data": {
            "text/html": [
              "<html>\n",
              "<head><meta charset=\"utf-8\" /></head>\n",
              "<body>\n",
              "    <div>            <script src=\"https://cdnjs.cloudflare.com/ajax/libs/mathjax/2.7.5/MathJax.js?config=TeX-AMS-MML_SVG\"></script><script type=\"text/javascript\">if (window.MathJax && window.MathJax.Hub && window.MathJax.Hub.Config) {window.MathJax.Hub.Config({SVG: {font: \"STIX-Web\"}});}</script>                <script type=\"text/javascript\">window.PlotlyConfig = {MathJaxConfig: 'local'};</script>\n",
              "        <script charset=\"utf-8\" src=\"https://cdn.plot.ly/plotly-2.35.2.min.js\"></script>                <div id=\"62d0aeef-8d95-414f-9909-eae2536235b9\" class=\"plotly-graph-div\" style=\"height:525px; width:100%;\"></div>            <script type=\"text/javascript\">                                    window.PLOTLYENV=window.PLOTLYENV || {};                                    if (document.getElementById(\"62d0aeef-8d95-414f-9909-eae2536235b9\")) {                    Plotly.newPlot(                        \"62d0aeef-8d95-414f-9909-eae2536235b9\",                        [{\"hovertemplate\":\"rating=%{x}\\u003cbr\\u003edelivery_time=%{y}\\u003cextra\\u003e\\u003c\\u002fextra\\u003e\",\"legendgroup\":\"\",\"line\":{\"color\":\"#636efa\",\"dash\":\"solid\"},\"marker\":{\"symbol\":\"square\",\"size\":12},\"mode\":\"lines+markers\",\"name\":\"\",\"orientation\":\"v\",\"showlegend\":false,\"x\":[\"3\",\"4\",\"5\",\"Not given\"],\"xaxis\":\"x\",\"y\":[24.55851063829787,23.867875647668395,24.212585034013607,24.17391304347826],\"yaxis\":\"y\",\"type\":\"scatter\"}],                        {\"template\":{\"data\":{\"histogram2dcontour\":[{\"type\":\"histogram2dcontour\",\"colorbar\":{\"outlinewidth\":0,\"ticks\":\"\"},\"colorscale\":[[0.0,\"#0d0887\"],[0.1111111111111111,\"#46039f\"],[0.2222222222222222,\"#7201a8\"],[0.3333333333333333,\"#9c179e\"],[0.4444444444444444,\"#bd3786\"],[0.5555555555555556,\"#d8576b\"],[0.6666666666666666,\"#ed7953\"],[0.7777777777777778,\"#fb9f3a\"],[0.8888888888888888,\"#fdca26\"],[1.0,\"#f0f921\"]]}],\"choropleth\":[{\"type\":\"choropleth\",\"colorbar\":{\"outlinewidth\":0,\"ticks\":\"\"}}],\"histogram2d\":[{\"type\":\"histogram2d\",\"colorbar\":{\"outlinewidth\":0,\"ticks\":\"\"},\"colorscale\":[[0.0,\"#0d0887\"],[0.1111111111111111,\"#46039f\"],[0.2222222222222222,\"#7201a8\"],[0.3333333333333333,\"#9c179e\"],[0.4444444444444444,\"#bd3786\"],[0.5555555555555556,\"#d8576b\"],[0.6666666666666666,\"#ed7953\"],[0.7777777777777778,\"#fb9f3a\"],[0.8888888888888888,\"#fdca26\"],[1.0,\"#f0f921\"]]}],\"heatmap\":[{\"type\":\"heatmap\",\"colorbar\":{\"outlinewidth\":0,\"ticks\":\"\"},\"colorscale\":[[0.0,\"#0d0887\"],[0.1111111111111111,\"#46039f\"],[0.2222222222222222,\"#7201a8\"],[0.3333333333333333,\"#9c179e\"],[0.4444444444444444,\"#bd3786\"],[0.5555555555555556,\"#d8576b\"],[0.6666666666666666,\"#ed7953\"],[0.7777777777777778,\"#fb9f3a\"],[0.8888888888888888,\"#fdca26\"],[1.0,\"#f0f921\"]]}],\"heatmapgl\":[{\"type\":\"heatmapgl\",\"colorbar\":{\"outlinewidth\":0,\"ticks\":\"\"},\"colorscale\":[[0.0,\"#0d0887\"],[0.1111111111111111,\"#46039f\"],[0.2222222222222222,\"#7201a8\"],[0.3333333333333333,\"#9c179e\"],[0.4444444444444444,\"#bd3786\"],[0.5555555555555556,\"#d8576b\"],[0.6666666666666666,\"#ed7953\"],[0.7777777777777778,\"#fb9f3a\"],[0.8888888888888888,\"#fdca26\"],[1.0,\"#f0f921\"]]}],\"contourcarpet\":[{\"type\":\"contourcarpet\",\"colorbar\":{\"outlinewidth\":0,\"ticks\":\"\"}}],\"contour\":[{\"type\":\"contour\",\"colorbar\":{\"outlinewidth\":0,\"ticks\":\"\"},\"colorscale\":[[0.0,\"#0d0887\"],[0.1111111111111111,\"#46039f\"],[0.2222222222222222,\"#7201a8\"],[0.3333333333333333,\"#9c179e\"],[0.4444444444444444,\"#bd3786\"],[0.5555555555555556,\"#d8576b\"],[0.6666666666666666,\"#ed7953\"],[0.7777777777777778,\"#fb9f3a\"],[0.8888888888888888,\"#fdca26\"],[1.0,\"#f0f921\"]]}],\"surface\":[{\"type\":\"surface\",\"colorbar\":{\"outlinewidth\":0,\"ticks\":\"\"},\"colorscale\":[[0.0,\"#0d0887\"],[0.1111111111111111,\"#46039f\"],[0.2222222222222222,\"#7201a8\"],[0.3333333333333333,\"#9c179e\"],[0.4444444444444444,\"#bd3786\"],[0.5555555555555556,\"#d8576b\"],[0.6666666666666666,\"#ed7953\"],[0.7777777777777778,\"#fb9f3a\"],[0.8888888888888888,\"#fdca26\"],[1.0,\"#f0f921\"]]}],\"mesh3d\":[{\"type\":\"mesh3d\",\"colorbar\":{\"outlinewidth\":0,\"ticks\":\"\"}}],\"scatter\":[{\"fillpattern\":{\"fillmode\":\"overlay\",\"size\":10,\"solidity\":0.2},\"type\":\"scatter\"}],\"parcoords\":[{\"type\":\"parcoords\",\"line\":{\"colorbar\":{\"outlinewidth\":0,\"ticks\":\"\"}}}],\"scatterpolargl\":[{\"type\":\"scatterpolargl\",\"marker\":{\"colorbar\":{\"outlinewidth\":0,\"ticks\":\"\"}}}],\"bar\":[{\"error_x\":{\"color\":\"#2a3f5f\"},\"error_y\":{\"color\":\"#2a3f5f\"},\"marker\":{\"line\":{\"color\":\"#E5ECF6\",\"width\":0.5},\"pattern\":{\"fillmode\":\"overlay\",\"size\":10,\"solidity\":0.2}},\"type\":\"bar\"}],\"scattergeo\":[{\"type\":\"scattergeo\",\"marker\":{\"colorbar\":{\"outlinewidth\":0,\"ticks\":\"\"}}}],\"scatterpolar\":[{\"type\":\"scatterpolar\",\"marker\":{\"colorbar\":{\"outlinewidth\":0,\"ticks\":\"\"}}}],\"histogram\":[{\"marker\":{\"pattern\":{\"fillmode\":\"overlay\",\"size\":10,\"solidity\":0.2}},\"type\":\"histogram\"}],\"scattergl\":[{\"type\":\"scattergl\",\"marker\":{\"colorbar\":{\"outlinewidth\":0,\"ticks\":\"\"}}}],\"scatter3d\":[{\"type\":\"scatter3d\",\"line\":{\"colorbar\":{\"outlinewidth\":0,\"ticks\":\"\"}},\"marker\":{\"colorbar\":{\"outlinewidth\":0,\"ticks\":\"\"}}}],\"scattermapbox\":[{\"type\":\"scattermapbox\",\"marker\":{\"colorbar\":{\"outlinewidth\":0,\"ticks\":\"\"}}}],\"scatterternary\":[{\"type\":\"scatterternary\",\"marker\":{\"colorbar\":{\"outlinewidth\":0,\"ticks\":\"\"}}}],\"scattercarpet\":[{\"type\":\"scattercarpet\",\"marker\":{\"colorbar\":{\"outlinewidth\":0,\"ticks\":\"\"}}}],\"carpet\":[{\"aaxis\":{\"endlinecolor\":\"#2a3f5f\",\"gridcolor\":\"white\",\"linecolor\":\"white\",\"minorgridcolor\":\"white\",\"startlinecolor\":\"#2a3f5f\"},\"baxis\":{\"endlinecolor\":\"#2a3f5f\",\"gridcolor\":\"white\",\"linecolor\":\"white\",\"minorgridcolor\":\"white\",\"startlinecolor\":\"#2a3f5f\"},\"type\":\"carpet\"}],\"table\":[{\"cells\":{\"fill\":{\"color\":\"#EBF0F8\"},\"line\":{\"color\":\"white\"}},\"header\":{\"fill\":{\"color\":\"#C8D4E3\"},\"line\":{\"color\":\"white\"}},\"type\":\"table\"}],\"barpolar\":[{\"marker\":{\"line\":{\"color\":\"#E5ECF6\",\"width\":0.5},\"pattern\":{\"fillmode\":\"overlay\",\"size\":10,\"solidity\":0.2}},\"type\":\"barpolar\"}],\"pie\":[{\"automargin\":true,\"type\":\"pie\"}]},\"layout\":{\"autotypenumbers\":\"strict\",\"colorway\":[\"#636efa\",\"#EF553B\",\"#00cc96\",\"#ab63fa\",\"#FFA15A\",\"#19d3f3\",\"#FF6692\",\"#B6E880\",\"#FF97FF\",\"#FECB52\"],\"font\":{\"color\":\"#2a3f5f\"},\"hovermode\":\"closest\",\"hoverlabel\":{\"align\":\"left\"},\"paper_bgcolor\":\"white\",\"plot_bgcolor\":\"#E5ECF6\",\"polar\":{\"bgcolor\":\"#E5ECF6\",\"angularaxis\":{\"gridcolor\":\"white\",\"linecolor\":\"white\",\"ticks\":\"\"},\"radialaxis\":{\"gridcolor\":\"white\",\"linecolor\":\"white\",\"ticks\":\"\"}},\"ternary\":{\"bgcolor\":\"#E5ECF6\",\"aaxis\":{\"gridcolor\":\"white\",\"linecolor\":\"white\",\"ticks\":\"\"},\"baxis\":{\"gridcolor\":\"white\",\"linecolor\":\"white\",\"ticks\":\"\"},\"caxis\":{\"gridcolor\":\"white\",\"linecolor\":\"white\",\"ticks\":\"\"}},\"coloraxis\":{\"colorbar\":{\"outlinewidth\":0,\"ticks\":\"\"}},\"colorscale\":{\"sequential\":[[0.0,\"#0d0887\"],[0.1111111111111111,\"#46039f\"],[0.2222222222222222,\"#7201a8\"],[0.3333333333333333,\"#9c179e\"],[0.4444444444444444,\"#bd3786\"],[0.5555555555555556,\"#d8576b\"],[0.6666666666666666,\"#ed7953\"],[0.7777777777777778,\"#fb9f3a\"],[0.8888888888888888,\"#fdca26\"],[1.0,\"#f0f921\"]],\"sequentialminus\":[[0.0,\"#0d0887\"],[0.1111111111111111,\"#46039f\"],[0.2222222222222222,\"#7201a8\"],[0.3333333333333333,\"#9c179e\"],[0.4444444444444444,\"#bd3786\"],[0.5555555555555556,\"#d8576b\"],[0.6666666666666666,\"#ed7953\"],[0.7777777777777778,\"#fb9f3a\"],[0.8888888888888888,\"#fdca26\"],[1.0,\"#f0f921\"]],\"diverging\":[[0,\"#8e0152\"],[0.1,\"#c51b7d\"],[0.2,\"#de77ae\"],[0.3,\"#f1b6da\"],[0.4,\"#fde0ef\"],[0.5,\"#f7f7f7\"],[0.6,\"#e6f5d0\"],[0.7,\"#b8e186\"],[0.8,\"#7fbc41\"],[0.9,\"#4d9221\"],[1,\"#276419\"]]},\"xaxis\":{\"gridcolor\":\"white\",\"linecolor\":\"white\",\"ticks\":\"\",\"title\":{\"standoff\":15},\"zerolinecolor\":\"white\",\"automargin\":true,\"zerolinewidth\":2},\"yaxis\":{\"gridcolor\":\"white\",\"linecolor\":\"white\",\"ticks\":\"\",\"title\":{\"standoff\":15},\"zerolinecolor\":\"white\",\"automargin\":true,\"zerolinewidth\":2},\"scene\":{\"xaxis\":{\"backgroundcolor\":\"#E5ECF6\",\"gridcolor\":\"white\",\"linecolor\":\"white\",\"showbackground\":true,\"ticks\":\"\",\"zerolinecolor\":\"white\",\"gridwidth\":2},\"yaxis\":{\"backgroundcolor\":\"#E5ECF6\",\"gridcolor\":\"white\",\"linecolor\":\"white\",\"showbackground\":true,\"ticks\":\"\",\"zerolinecolor\":\"white\",\"gridwidth\":2},\"zaxis\":{\"backgroundcolor\":\"#E5ECF6\",\"gridcolor\":\"white\",\"linecolor\":\"white\",\"showbackground\":true,\"ticks\":\"\",\"zerolinecolor\":\"white\",\"gridwidth\":2}},\"shapedefaults\":{\"line\":{\"color\":\"#2a3f5f\"}},\"annotationdefaults\":{\"arrowcolor\":\"#2a3f5f\",\"arrowhead\":0,\"arrowwidth\":1},\"geo\":{\"bgcolor\":\"white\",\"landcolor\":\"#E5ECF6\",\"subunitcolor\":\"white\",\"showland\":true,\"showlakes\":true,\"lakecolor\":\"white\"},\"title\":{\"x\":0.05},\"mapbox\":{\"style\":\"light\"}}},\"xaxis\":{\"anchor\":\"y\",\"domain\":[0.0,1.0],\"title\":{\"text\":\"rating\"}},\"yaxis\":{\"anchor\":\"x\",\"domain\":[0.0,1.0],\"title\":{\"text\":\"delivery_time\"}},\"legend\":{\"tracegroupgap\":0},\"title\":{\"text\":\"Rating vs Delivery Time\",\"x\":0.5}},                        {\"responsive\": true}                    ).then(function(){\n",
              "                            \n",
              "var gd = document.getElementById('62d0aeef-8d95-414f-9909-eae2536235b9');\n",
              "var x = new MutationObserver(function (mutations, observer) {{\n",
              "        var display = window.getComputedStyle(gd).display;\n",
              "        if (!display || display === 'none') {{\n",
              "            console.log([gd, 'removed!']);\n",
              "            Plotly.purge(gd);\n",
              "            observer.disconnect();\n",
              "        }}\n",
              "}});\n",
              "\n",
              "// Listen for the removal of the full notebook cells\n",
              "var notebookContainer = gd.closest('#notebook-container');\n",
              "if (notebookContainer) {{\n",
              "    x.observe(notebookContainer, {childList: true});\n",
              "}}\n",
              "\n",
              "// Listen for the clearing of the current output cell\n",
              "var outputEl = gd.closest('.output');\n",
              "if (outputEl) {{\n",
              "    x.observe(outputEl, {childList: true});\n",
              "}}\n",
              "\n",
              "                        })                };                            </script>        </div>\n",
              "</body>\n",
              "</html>"
            ]
          },
          "metadata": {}
        }
      ]
    },
    {
      "cell_type": "markdown",
      "metadata": {
        "id": "lu0o5GkQ2rdR"
      },
      "source": [
        "#### Rating vs Delivery time"
      ]
    },
    {
      "cell_type": "code",
      "execution_count": null,
      "metadata": {
        "id": "NoBGHlPR2rdR",
        "scrolled": true,
        "colab": {
          "base_uri": "https://localhost:8080/",
          "height": 639
        },
        "outputId": "b588dc83-cf2f-484d-db82-16f35978567f"
      },
      "outputs": [
        {
          "output_type": "display_data",
          "data": {
            "text/plain": [
              "<Figure size 1500x700 with 1 Axes>"
            ],
            "image/png": "[encoded data removed]"
          },
          "metadata": {}
        }
      ],
      "source": [
        "# Relationship between rating and delivery time\n",
        "plt.figure(figsize=(15, 7))\n",
        "sns.pointplot(x = 'rating', y = 'delivery_time', data = df)\n",
        "plt.show()"
      ]
    },
    {
      "cell_type": "markdown",
      "metadata": {
        "id": "EUW_xUEK2rdR"
      },
      "source": [
        "#### Rating vs Food preparation time"
      ]
    },
    {
      "cell_type": "code",
      "execution_count": null,
      "metadata": {
        "id": "d7qzVLdE2rdR",
        "scrolled": true,
        "colab": {
          "base_uri": "https://localhost:8080/",
          "height": 619
        },
        "outputId": "3cb777ac-a12b-404e-dabd-b8e76c8e1033"
      },
      "outputs": [
        {
          "output_type": "display_data",
          "data": {
            "text/plain": [
              "<Figure size 1500x700 with 1 Axes>"
            ],
            "image/png": "[encoded data removed]"
          },
          "metadata": {}
        }
      ],
      "source": [
        "# Relationship between rating and food preparation time\n",
        "plt.figure(figsize=(15, 7))\n",
        "sns.pointplot(data=df, x='rating', y='food_preparation_time')  ## Visualize the relationship between rating and food preparation time using pointplot\n",
        "plt.show()"
      ]
    },
    {
      "cell_type": "code",
      "source": [
        "rating_fp_time = df.groupby('rating')['food_preparation_time'].mean().reset_index().copy()\n",
        "fig = px.scatter(data_frame=rating_fp_time, x='rating', y='food_preparation_time', title='Rating vs Food Preparation Time')\n",
        "fig.update_layout(title_x=0.5)\n",
        "fig.update_traces(marker=dict(size=12, symbol='square'))\n",
        "fig.show();\n",
        "\n",
        "fig=px.line(data_frame=rating_fp_time, x='rating', y='food_preparation_time',title='Rating vs Food Preparation', markers=True)\n",
        "fig.update_layout(title_x=0.5)\n",
        "fig.update_traces(marker=dict(size=12, symbol='square'))\n",
        "fig.show();"
      ],
      "metadata": {
        "colab": {
          "base_uri": "https://localhost:8080/",
          "height": 1000
        },
        "id": "YKqlqe3yR8k9",
        "outputId": "ed40342c-1995-4296-e508-1737bba2e07c"
      },
      "execution_count": null,
      "outputs": [
        {
          "output_type": "display_data",
          "data": {
            "text/html": [
              "<html>\n",
              "<head><meta charset=\"utf-8\" /></head>\n",
              "<body>\n",
              "    <div>            <script src=\"https://cdnjs.cloudflare.com/ajax/libs/mathjax/2.7.5/MathJax.js?config=TeX-AMS-MML_SVG\"></script><script type=\"text/javascript\">if (window.MathJax && window.MathJax.Hub && window.MathJax.Hub.Config) {window.MathJax.Hub.Config({SVG: {font: \"STIX-Web\"}});}</script>                <script type=\"text/javascript\">window.PlotlyConfig = {MathJaxConfig: 'local'};</script>\n",
              "        <script charset=\"utf-8\" src=\"https://cdn.plot.ly/plotly-2.35.2.min.js\"></script>                <div id=\"9eb7544f-2a08-4604-a8bb-47d871468870\" class=\"plotly-graph-div\" style=\"height:525px; width:100%;\"></div>            <script type=\"text/javascript\">                                    window.PLOTLYENV=window.PLOTLYENV || {};                                    if (document.getElementById(\"9eb7544f-2a08-4604-a8bb-47d871468870\")) {                    Plotly.newPlot(                        \"9eb7544f-2a08-4604-a8bb-47d871468870\",                        [{\"hovertemplate\":\"rating=%{x}\\u003cbr\\u003efood_preparation_time=%{y}\\u003cextra\\u003e\\u003c\\u002fextra\\u003e\",\"legendgroup\":\"\",\"marker\":{\"color\":\"#636efa\",\"symbol\":\"square\",\"size\":12},\"mode\":\"markers\",\"name\":\"\",\"orientation\":\"v\",\"showlegend\":false,\"x\":[\"3\",\"4\",\"5\",\"Not given\"],\"xaxis\":\"x\",\"y\":[27.430851063829788,27.39637305699482,27.35544217687075,27.35733695652174],\"yaxis\":\"y\",\"type\":\"scatter\"}],                        {\"template\":{\"data\":{\"histogram2dcontour\":[{\"type\":\"histogram2dcontour\",\"colorbar\":{\"outlinewidth\":0,\"ticks\":\"\"},\"colorscale\":[[0.0,\"#0d0887\"],[0.1111111111111111,\"#46039f\"],[0.2222222222222222,\"#7201a8\"],[0.3333333333333333,\"#9c179e\"],[0.4444444444444444,\"#bd3786\"],[0.5555555555555556,\"#d8576b\"],[0.6666666666666666,\"#ed7953\"],[0.7777777777777778,\"#fb9f3a\"],[0.8888888888888888,\"#fdca26\"],[1.0,\"#f0f921\"]]}],\"choropleth\":[{\"type\":\"choropleth\",\"colorbar\":{\"outlinewidth\":0,\"ticks\":\"\"}}],\"histogram2d\":[{\"type\":\"histogram2d\",\"colorbar\":{\"outlinewidth\":0,\"ticks\":\"\"},\"colorscale\":[[0.0,\"#0d0887\"],[0.1111111111111111,\"#46039f\"],[0.2222222222222222,\"#7201a8\"],[0.3333333333333333,\"#9c179e\"],[0.4444444444444444,\"#bd3786\"],[0.5555555555555556,\"#d8576b\"],[0.6666666666666666,\"#ed7953\"],[0.7777777777777778,\"#fb9f3a\"],[0.8888888888888888,\"#fdca26\"],[1.0,\"#f0f921\"]]}],\"heatmap\":[{\"type\":\"heatmap\",\"colorbar\":{\"outlinewidth\":0,\"ticks\":\"\"},\"colorscale\":[[0.0,\"#0d0887\"],[0.1111111111111111,\"#46039f\"],[0.2222222222222222,\"#7201a8\"],[0.3333333333333333,\"#9c179e\"],[0.4444444444444444,\"#bd3786\"],[0.5555555555555556,\"#d8576b\"],[0.6666666666666666,\"#ed7953\"],[0.7777777777777778,\"#fb9f3a\"],[0.8888888888888888,\"#fdca26\"],[1.0,\"#f0f921\"]]}],\"heatmapgl\":[{\"type\":\"heatmapgl\",\"colorbar\":{\"outlinewidth\":0,\"ticks\":\"\"},\"colorscale\":[[0.0,\"#0d0887\"],[0.1111111111111111,\"#46039f\"],[0.2222222222222222,\"#7201a8\"],[0.3333333333333333,\"#9c179e\"],[0.4444444444444444,\"#bd3786\"],[0.5555555555555556,\"#d8576b\"],[0.6666666666666666,\"#ed7953\"],[0.7777777777777778,\"#fb9f3a\"],[0.8888888888888888,\"#fdca26\"],[1.0,\"#f0f921\"]]}],\"contourcarpet\":[{\"type\":\"contourcarpet\",\"colorbar\":{\"outlinewidth\":0,\"ticks\":\"\"}}],\"contour\":[{\"type\":\"contour\",\"colorbar\":{\"outlinewidth\":0,\"ticks\":\"\"},\"colorscale\":[[0.0,\"#0d0887\"],[0.1111111111111111,\"#46039f\"],[0.2222222222222222,\"#7201a8\"],[0.3333333333333333,\"#9c179e\"],[0.4444444444444444,\"#bd3786\"],[0.5555555555555556,\"#d8576b\"],[0.6666666666666666,\"#ed7953\"],[0.7777777777777778,\"#fb9f3a\"],[0.8888888888888888,\"#fdca26\"],[1.0,\"#f0f921\"]]}],\"surface\":[{\"type\":\"surface\",\"colorbar\":{\"outlinewidth\":0,\"ticks\":\"\"},\"colorscale\":[[0.0,\"#0d0887\"],[0.1111111111111111,\"#46039f\"],[0.2222222222222222,\"#7201a8\"],[0.3333333333333333,\"#9c179e\"],[0.4444444444444444,\"#bd3786\"],[0.5555555555555556,\"#d8576b\"],[0.6666666666666666,\"#ed7953\"],[0.7777777777777778,\"#fb9f3a\"],[0.8888888888888888,\"#fdca26\"],[1.0,\"#f0f921\"]]}],\"mesh3d\":[{\"type\":\"mesh3d\",\"colorbar\":{\"outlinewidth\":0,\"ticks\":\"\"}}],\"scatter\":[{\"fillpattern\":{\"fillmode\":\"overlay\",\"size\":10,\"solidity\":0.2},\"type\":\"scatter\"}],\"parcoords\":[{\"type\":\"parcoords\",\"line\":{\"colorbar\":{\"outlinewidth\":0,\"ticks\":\"\"}}}],\"scatterpolargl\":[{\"type\":\"scatterpolargl\",\"marker\":{\"colorbar\":{\"outlinewidth\":0,\"ticks\":\"\"}}}],\"bar\":[{\"error_x\":{\"color\":\"#2a3f5f\"},\"error_y\":{\"color\":\"#2a3f5f\"},\"marker\":{\"line\":{\"color\":\"#E5ECF6\",\"width\":0.5},\"pattern\":{\"fillmode\":\"overlay\",\"size\":10,\"solidity\":0.2}},\"type\":\"bar\"}],\"scattergeo\":[{\"type\":\"scattergeo\",\"marker\":{\"colorbar\":{\"outlinewidth\":0,\"ticks\":\"\"}}}],\"scatterpolar\":[{\"type\":\"scatterpolar\",\"marker\":{\"colorbar\":{\"outlinewidth\":0,\"ticks\":\"\"}}}],\"histogram\":[{\"marker\":{\"pattern\":{\"fillmode\":\"overlay\",\"size\":10,\"solidity\":0.2}},\"type\":\"histogram\"}],\"scattergl\":[{\"type\":\"scattergl\",\"marker\":{\"colorbar\":{\"outlinewidth\":0,\"ticks\":\"\"}}}],\"scatter3d\":[{\"type\":\"scatter3d\",\"line\":{\"colorbar\":{\"outlinewidth\":0,\"ticks\":\"\"}},\"marker\":{\"colorbar\":{\"outlinewidth\":0,\"ticks\":\"\"}}}],\"scattermapbox\":[{\"type\":\"scattermapbox\",\"marker\":{\"colorbar\":{\"outlinewidth\":0,\"ticks\":\"\"}}}],\"scatterternary\":[{\"type\":\"scatterternary\",\"marker\":{\"colorbar\":{\"outlinewidth\":0,\"ticks\":\"\"}}}],\"scattercarpet\":[{\"type\":\"scattercarpet\",\"marker\":{\"colorbar\":{\"outlinewidth\":0,\"ticks\":\"\"}}}],\"carpet\":[{\"aaxis\":{\"endlinecolor\":\"#2a3f5f\",\"gridcolor\":\"white\",\"linecolor\":\"white\",\"minorgridcolor\":\"white\",\"startlinecolor\":\"#2a3f5f\"},\"baxis\":{\"endlinecolor\":\"#2a3f5f\",\"gridcolor\":\"white\",\"linecolor\":\"white\",\"minorgridcolor\":\"white\",\"startlinecolor\":\"#2a3f5f\"},\"type\":\"carpet\"}],\"table\":[{\"cells\":{\"fill\":{\"color\":\"#EBF0F8\"},\"line\":{\"color\":\"white\"}},\"header\":{\"fill\":{\"color\":\"#C8D4E3\"},\"line\":{\"color\":\"white\"}},\"type\":\"table\"}],\"barpolar\":[{\"marker\":{\"line\":{\"color\":\"#E5ECF6\",\"width\":0.5},\"pattern\":{\"fillmode\":\"overlay\",\"size\":10,\"solidity\":0.2}},\"type\":\"barpolar\"}],\"pie\":[{\"automargin\":true,\"type\":\"pie\"}]},\"layout\":{\"autotypenumbers\":\"strict\",\"colorway\":[\"#636efa\",\"#EF553B\",\"#00cc96\",\"#ab63fa\",\"#FFA15A\",\"#19d3f3\",\"#FF6692\",\"#B6E880\",\"#FF97FF\",\"#FECB52\"],\"font\":{\"color\":\"#2a3f5f\"},\"hovermode\":\"closest\",\"hoverlabel\":{\"align\":\"left\"},\"paper_bgcolor\":\"white\",\"plot_bgcolor\":\"#E5ECF6\",\"polar\":{\"bgcolor\":\"#E5ECF6\",\"angularaxis\":{\"gridcolor\":\"white\",\"linecolor\":\"white\",\"ticks\":\"\"},\"radialaxis\":{\"gridcolor\":\"white\",\"linecolor\":\"white\",\"ticks\":\"\"}},\"ternary\":{\"bgcolor\":\"#E5ECF6\",\"aaxis\":{\"gridcolor\":\"white\",\"linecolor\":\"white\",\"ticks\":\"\"},\"baxis\":{\"gridcolor\":\"white\",\"linecolor\":\"white\",\"ticks\":\"\"},\"caxis\":{\"gridcolor\":\"white\",\"linecolor\":\"white\",\"ticks\":\"\"}},\"coloraxis\":{\"colorbar\":{\"outlinewidth\":0,\"ticks\":\"\"}},\"colorscale\":{\"sequential\":[[0.0,\"#0d0887\"],[0.1111111111111111,\"#46039f\"],[0.2222222222222222,\"#7201a8\"],[0.3333333333333333,\"#9c179e\"],[0.4444444444444444,\"#bd3786\"],[0.5555555555555556,\"#d8576b\"],[0.6666666666666666,\"#ed7953\"],[0.7777777777777778,\"#fb9f3a\"],[0.8888888888888888,\"#fdca26\"],[1.0,\"#f0f921\"]],\"sequentialminus\":[[0.0,\"#0d0887\"],[0.1111111111111111,\"#46039f\"],[0.2222222222222222,\"#7201a8\"],[0.3333333333333333,\"#9c179e\"],[0.4444444444444444,\"#bd3786\"],[0.5555555555555556,\"#d8576b\"],[0.6666666666666666,\"#ed7953\"],[0.7777777777777778,\"#fb9f3a\"],[0.8888888888888888,\"#fdca26\"],[1.0,\"#f0f921\"]],\"diverging\":[[0,\"#8e0152\"],[0.1,\"#c51b7d\"],[0.2,\"#de77ae\"],[0.3,\"#f1b6da\"],[0.4,\"#fde0ef\"],[0.5,\"#f7f7f7\"],[0.6,\"#e6f5d0\"],[0.7,\"#b8e186\"],[0.8,\"#7fbc41\"],[0.9,\"#4d9221\"],[1,\"#276419\"]]},\"xaxis\":{\"gridcolor\":\"white\",\"linecolor\":\"white\",\"ticks\":\"\",\"title\":{\"standoff\":15},\"zerolinecolor\":\"white\",\"automargin\":true,\"zerolinewidth\":2},\"yaxis\":{\"gridcolor\":\"white\",\"linecolor\":\"white\",\"ticks\":\"\",\"title\":{\"standoff\":15},\"zerolinecolor\":\"white\",\"automargin\":true,\"zerolinewidth\":2},\"scene\":{\"xaxis\":{\"backgroundcolor\":\"#E5ECF6\",\"gridcolor\":\"white\",\"linecolor\":\"white\",\"showbackground\":true,\"ticks\":\"\",\"zerolinecolor\":\"white\",\"gridwidth\":2},\"yaxis\":{\"backgroundcolor\":\"#E5ECF6\",\"gridcolor\":\"white\",\"linecolor\":\"white\",\"showbackground\":true,\"ticks\":\"\",\"zerolinecolor\":\"white\",\"gridwidth\":2},\"zaxis\":{\"backgroundcolor\":\"#E5ECF6\",\"gridcolor\":\"white\",\"linecolor\":\"white\",\"showbackground\":true,\"ticks\":\"\",\"zerolinecolor\":\"white\",\"gridwidth\":2}},\"shapedefaults\":{\"line\":{\"color\":\"#2a3f5f\"}},\"annotationdefaults\":{\"arrowcolor\":\"#2a3f5f\",\"arrowhead\":0,\"arrowwidth\":1},\"geo\":{\"bgcolor\":\"white\",\"landcolor\":\"#E5ECF6\",\"subunitcolor\":\"white\",\"showland\":true,\"showlakes\":true,\"lakecolor\":\"white\"},\"title\":{\"x\":0.05},\"mapbox\":{\"style\":\"light\"}}},\"xaxis\":{\"anchor\":\"y\",\"domain\":[0.0,1.0],\"title\":{\"text\":\"rating\"}},\"yaxis\":{\"anchor\":\"x\",\"domain\":[0.0,1.0],\"title\":{\"text\":\"food_preparation_time\"}},\"legend\":{\"tracegroupgap\":0},\"title\":{\"text\":\"Rating vs Food Preparation Time\",\"x\":0.5}},                        {\"responsive\": true}                    ).then(function(){\n",
              "                            \n",
              "var gd = document.getElementById('9eb7544f-2a08-4604-a8bb-47d871468870');\n",
              "var x = new MutationObserver(function (mutations, observer) {{\n",
              "        var display = window.getComputedStyle(gd).display;\n",
              "        if (!display || display === 'none') {{\n",
              "            console.log([gd, 'removed!']);\n",
              "            Plotly.purge(gd);\n",
              "            observer.disconnect();\n",
              "        }}\n",
              "}});\n",
              "\n",
              "// Listen for the removal of the full notebook cells\n",
              "var notebookContainer = gd.closest('#notebook-container');\n",
              "if (notebookContainer) {{\n",
              "    x.observe(notebookContainer, {childList: true});\n",
              "}}\n",
              "\n",
              "// Listen for the clearing of the current output cell\n",
              "var outputEl = gd.closest('.output');\n",
              "if (outputEl) {{\n",
              "    x.observe(outputEl, {childList: true});\n",
              "}}\n",
              "\n",
              "                        })                };                            </script>        </div>\n",
              "</body>\n",
              "</html>"
            ]
          },
          "metadata": {}
        },
        {
          "output_type": "display_data",
          "data": {
            "text/html": [
              "<html>\n",
              "<head><meta charset=\"utf-8\" /></head>\n",
              "<body>\n",
              "    <div>            <script src=\"https://cdnjs.cloudflare.com/ajax/libs/mathjax/2.7.5/MathJax.js?config=TeX-AMS-MML_SVG\"></script><script type=\"text/javascript\">if (window.MathJax && window.MathJax.Hub && window.MathJax.Hub.Config) {window.MathJax.Hub.Config({SVG: {font: \"STIX-Web\"}});}</script>                <script type=\"text/javascript\">window.PlotlyConfig = {MathJaxConfig: 'local'};</script>\n",
              "        <script charset=\"utf-8\" src=\"https://cdn.plot.ly/plotly-2.35.2.min.js\"></script>                <div id=\"caccf65f-bd92-44ea-be8a-f3c89f86f29e\" class=\"plotly-graph-div\" style=\"height:525px; width:100%;\"></div>            <script type=\"text/javascript\">                                    window.PLOTLYENV=window.PLOTLYENV || {};                                    if (document.getElementById(\"caccf65f-bd92-44ea-be8a-f3c89f86f29e\")) {                    Plotly.newPlot(                        \"caccf65f-bd92-44ea-be8a-f3c89f86f29e\",                        [{\"hovertemplate\":\"rating=%{x}\\u003cbr\\u003efood_preparation_time=%{y}\\u003cextra\\u003e\\u003c\\u002fextra\\u003e\",\"legendgroup\":\"\",\"line\":{\"color\":\"#636efa\",\"dash\":\"solid\"},\"marker\":{\"symbol\":\"square\",\"size\":12},\"mode\":\"lines+markers\",\"name\":\"\",\"orientation\":\"v\",\"showlegend\":false,\"x\":[\"3\",\"4\",\"5\",\"Not given\"],\"xaxis\":\"x\",\"y\":[27.430851063829788,27.39637305699482,27.35544217687075,27.35733695652174],\"yaxis\":\"y\",\"type\":\"scatter\"}],                        {\"template\":{\"data\":{\"histogram2dcontour\":[{\"type\":\"histogram2dcontour\",\"colorbar\":{\"outlinewidth\":0,\"ticks\":\"\"},\"colorscale\":[[0.0,\"#0d0887\"],[0.1111111111111111,\"#46039f\"],[0.2222222222222222,\"#7201a8\"],[0.3333333333333333,\"#9c179e\"],[0.4444444444444444,\"#bd3786\"],[0.5555555555555556,\"#d8576b\"],[0.6666666666666666,\"#ed7953\"],[0.7777777777777778,\"#fb9f3a\"],[0.8888888888888888,\"#fdca26\"],[1.0,\"#f0f921\"]]}],\"choropleth\":[{\"type\":\"choropleth\",\"colorbar\":{\"outlinewidth\":0,\"ticks\":\"\"}}],\"histogram2d\":[{\"type\":\"histogram2d\",\"colorbar\":{\"outlinewidth\":0,\"ticks\":\"\"},\"colorscale\":[[0.0,\"#0d0887\"],[0.1111111111111111,\"#46039f\"],[0.2222222222222222,\"#7201a8\"],[0.3333333333333333,\"#9c179e\"],[0.4444444444444444,\"#bd3786\"],[0.5555555555555556,\"#d8576b\"],[0.6666666666666666,\"#ed7953\"],[0.7777777777777778,\"#fb9f3a\"],[0.8888888888888888,\"#fdca26\"],[1.0,\"#f0f921\"]]}],\"heatmap\":[{\"type\":\"heatmap\",\"colorbar\":{\"outlinewidth\":0,\"ticks\":\"\"},\"colorscale\":[[0.0,\"#0d0887\"],[0.1111111111111111,\"#46039f\"],[0.2222222222222222,\"#7201a8\"],[0.3333333333333333,\"#9c179e\"],[0.4444444444444444,\"#bd3786\"],[0.5555555555555556,\"#d8576b\"],[0.6666666666666666,\"#ed7953\"],[0.7777777777777778,\"#fb9f3a\"],[0.8888888888888888,\"#fdca26\"],[1.0,\"#f0f921\"]]}],\"heatmapgl\":[{\"type\":\"heatmapgl\",\"colorbar\":{\"outlinewidth\":0,\"ticks\":\"\"},\"colorscale\":[[0.0,\"#0d0887\"],[0.1111111111111111,\"#46039f\"],[0.2222222222222222,\"#7201a8\"],[0.3333333333333333,\"#9c179e\"],[0.4444444444444444,\"#bd3786\"],[0.5555555555555556,\"#d8576b\"],[0.6666666666666666,\"#ed7953\"],[0.7777777777777778,\"#fb9f3a\"],[0.8888888888888888,\"#fdca26\"],[1.0,\"#f0f921\"]]}],\"contourcarpet\":[{\"type\":\"contourcarpet\",\"colorbar\":{\"outlinewidth\":0,\"ticks\":\"\"}}],\"contour\":[{\"type\":\"contour\",\"colorbar\":{\"outlinewidth\":0,\"ticks\":\"\"},\"colorscale\":[[0.0,\"#0d0887\"],[0.1111111111111111,\"#46039f\"],[0.2222222222222222,\"#7201a8\"],[0.3333333333333333,\"#9c179e\"],[0.4444444444444444,\"#bd3786\"],[0.5555555555555556,\"#d8576b\"],[0.6666666666666666,\"#ed7953\"],[0.7777777777777778,\"#fb9f3a\"],[0.8888888888888888,\"#fdca26\"],[1.0,\"#f0f921\"]]}],\"surface\":[{\"type\":\"surface\",\"colorbar\":{\"outlinewidth\":0,\"ticks\":\"\"},\"colorscale\":[[0.0,\"#0d0887\"],[0.1111111111111111,\"#46039f\"],[0.2222222222222222,\"#7201a8\"],[0.3333333333333333,\"#9c179e\"],[0.4444444444444444,\"#bd3786\"],[0.5555555555555556,\"#d8576b\"],[0.6666666666666666,\"#ed7953\"],[0.7777777777777778,\"#fb9f3a\"],[0.8888888888888888,\"#fdca26\"],[1.0,\"#f0f921\"]]}],\"mesh3d\":[{\"type\":\"mesh3d\",\"colorbar\":{\"outlinewidth\":0,\"ticks\":\"\"}}],\"scatter\":[{\"fillpattern\":{\"fillmode\":\"overlay\",\"size\":10,\"solidity\":0.2},\"type\":\"scatter\"}],\"parcoords\":[{\"type\":\"parcoords\",\"line\":{\"colorbar\":{\"outlinewidth\":0,\"ticks\":\"\"}}}],\"scatterpolargl\":[{\"type\":\"scatterpolargl\",\"marker\":{\"colorbar\":{\"outlinewidth\":0,\"ticks\":\"\"}}}],\"bar\":[{\"error_x\":{\"color\":\"#2a3f5f\"},\"error_y\":{\"color\":\"#2a3f5f\"},\"marker\":{\"line\":{\"color\":\"#E5ECF6\",\"width\":0.5},\"pattern\":{\"fillmode\":\"overlay\",\"size\":10,\"solidity\":0.2}},\"type\":\"bar\"}],\"scattergeo\":[{\"type\":\"scattergeo\",\"marker\":{\"colorbar\":{\"outlinewidth\":0,\"ticks\":\"\"}}}],\"scatterpolar\":[{\"type\":\"scatterpolar\",\"marker\":{\"colorbar\":{\"outlinewidth\":0,\"ticks\":\"\"}}}],\"histogram\":[{\"marker\":{\"pattern\":{\"fillmode\":\"overlay\",\"size\":10,\"solidity\":0.2}},\"type\":\"histogram\"}],\"scattergl\":[{\"type\":\"scattergl\",\"marker\":{\"colorbar\":{\"outlinewidth\":0,\"ticks\":\"\"}}}],\"scatter3d\":[{\"type\":\"scatter3d\",\"line\":{\"colorbar\":{\"outlinewidth\":0,\"ticks\":\"\"}},\"marker\":{\"colorbar\":{\"outlinewidth\":0,\"ticks\":\"\"}}}],\"scattermapbox\":[{\"type\":\"scattermapbox\",\"marker\":{\"colorbar\":{\"outlinewidth\":0,\"ticks\":\"\"}}}],\"scatterternary\":[{\"type\":\"scatterternary\",\"marker\":{\"colorbar\":{\"outlinewidth\":0,\"ticks\":\"\"}}}],\"scattercarpet\":[{\"type\":\"scattercarpet\",\"marker\":{\"colorbar\":{\"outlinewidth\":0,\"ticks\":\"\"}}}],\"carpet\":[{\"aaxis\":{\"endlinecolor\":\"#2a3f5f\",\"gridcolor\":\"white\",\"linecolor\":\"white\",\"minorgridcolor\":\"white\",\"startlinecolor\":\"#2a3f5f\"},\"baxis\":{\"endlinecolor\":\"#2a3f5f\",\"gridcolor\":\"white\",\"linecolor\":\"white\",\"minorgridcolor\":\"white\",\"startlinecolor\":\"#2a3f5f\"},\"type\":\"carpet\"}],\"table\":[{\"cells\":{\"fill\":{\"color\":\"#EBF0F8\"},\"line\":{\"color\":\"white\"}},\"header\":{\"fill\":{\"color\":\"#C8D4E3\"},\"line\":{\"color\":\"white\"}},\"type\":\"table\"}],\"barpolar\":[{\"marker\":{\"line\":{\"color\":\"#E5ECF6\",\"width\":0.5},\"pattern\":{\"fillmode\":\"overlay\",\"size\":10,\"solidity\":0.2}},\"type\":\"barpolar\"}],\"pie\":[{\"automargin\":true,\"type\":\"pie\"}]},\"layout\":{\"autotypenumbers\":\"strict\",\"colorway\":[\"#636efa\",\"#EF553B\",\"#00cc96\",\"#ab63fa\",\"#FFA15A\",\"#19d3f3\",\"#FF6692\",\"#B6E880\",\"#FF97FF\",\"#FECB52\"],\"font\":{\"color\":\"#2a3f5f\"},\"hovermode\":\"closest\",\"hoverlabel\":{\"align\":\"left\"},\"paper_bgcolor\":\"white\",\"plot_bgcolor\":\"#E5ECF6\",\"polar\":{\"bgcolor\":\"#E5ECF6\",\"angularaxis\":{\"gridcolor\":\"white\",\"linecolor\":\"white\",\"ticks\":\"\"},\"radialaxis\":{\"gridcolor\":\"white\",\"linecolor\":\"white\",\"ticks\":\"\"}},\"ternary\":{\"bgcolor\":\"#E5ECF6\",\"aaxis\":{\"gridcolor\":\"white\",\"linecolor\":\"white\",\"ticks\":\"\"},\"baxis\":{\"gridcolor\":\"white\",\"linecolor\":\"white\",\"ticks\":\"\"},\"caxis\":{\"gridcolor\":\"white\",\"linecolor\":\"white\",\"ticks\":\"\"}},\"coloraxis\":{\"colorbar\":{\"outlinewidth\":0,\"ticks\":\"\"}},\"colorscale\":{\"sequential\":[[0.0,\"#0d0887\"],[0.1111111111111111,\"#46039f\"],[0.2222222222222222,\"#7201a8\"],[0.3333333333333333,\"#9c179e\"],[0.4444444444444444,\"#bd3786\"],[0.5555555555555556,\"#d8576b\"],[0.6666666666666666,\"#ed7953\"],[0.7777777777777778,\"#fb9f3a\"],[0.8888888888888888,\"#fdca26\"],[1.0,\"#f0f921\"]],\"sequentialminus\":[[0.0,\"#0d0887\"],[0.1111111111111111,\"#46039f\"],[0.2222222222222222,\"#7201a8\"],[0.3333333333333333,\"#9c179e\"],[0.4444444444444444,\"#bd3786\"],[0.5555555555555556,\"#d8576b\"],[0.6666666666666666,\"#ed7953\"],[0.7777777777777778,\"#fb9f3a\"],[0.8888888888888888,\"#fdca26\"],[1.0,\"#f0f921\"]],\"diverging\":[[0,\"#8e0152\"],[0.1,\"#c51b7d\"],[0.2,\"#de77ae\"],[0.3,\"#f1b6da\"],[0.4,\"#fde0ef\"],[0.5,\"#f7f7f7\"],[0.6,\"#e6f5d0\"],[0.7,\"#b8e186\"],[0.8,\"#7fbc41\"],[0.9,\"#4d9221\"],[1,\"#276419\"]]},\"xaxis\":{\"gridcolor\":\"white\",\"linecolor\":\"white\",\"ticks\":\"\",\"title\":{\"standoff\":15},\"zerolinecolor\":\"white\",\"automargin\":true,\"zerolinewidth\":2},\"yaxis\":{\"gridcolor\":\"white\",\"linecolor\":\"white\",\"ticks\":\"\",\"title\":{\"standoff\":15},\"zerolinecolor\":\"white\",\"automargin\":true,\"zerolinewidth\":2},\"scene\":{\"xaxis\":{\"backgroundcolor\":\"#E5ECF6\",\"gridcolor\":\"white\",\"linecolor\":\"white\",\"showbackground\":true,\"ticks\":\"\",\"zerolinecolor\":\"white\",\"gridwidth\":2},\"yaxis\":{\"backgroundcolor\":\"#E5ECF6\",\"gridcolor\":\"white\",\"linecolor\":\"white\",\"showbackground\":true,\"ticks\":\"\",\"zerolinecolor\":\"white\",\"gridwidth\":2},\"zaxis\":{\"backgroundcolor\":\"#E5ECF6\",\"gridcolor\":\"white\",\"linecolor\":\"white\",\"showbackground\":true,\"ticks\":\"\",\"zerolinecolor\":\"white\",\"gridwidth\":2}},\"shapedefaults\":{\"line\":{\"color\":\"#2a3f5f\"}},\"annotationdefaults\":{\"arrowcolor\":\"#2a3f5f\",\"arrowhead\":0,\"arrowwidth\":1},\"geo\":{\"bgcolor\":\"white\",\"landcolor\":\"#E5ECF6\",\"subunitcolor\":\"white\",\"showland\":true,\"showlakes\":true,\"lakecolor\":\"white\"},\"title\":{\"x\":0.05},\"mapbox\":{\"style\":\"light\"}}},\"xaxis\":{\"anchor\":\"y\",\"domain\":[0.0,1.0],\"title\":{\"text\":\"rating\"}},\"yaxis\":{\"anchor\":\"x\",\"domain\":[0.0,1.0],\"title\":{\"text\":\"food_preparation_time\"}},\"legend\":{\"tracegroupgap\":0},\"title\":{\"text\":\"Rating vs Food Preparation\",\"x\":0.5}},                        {\"responsive\": true}                    ).then(function(){\n",
              "                            \n",
              "var gd = document.getElementById('caccf65f-bd92-44ea-be8a-f3c89f86f29e');\n",
              "var x = new MutationObserver(function (mutations, observer) {{\n",
              "        var display = window.getComputedStyle(gd).display;\n",
              "        if (!display || display === 'none') {{\n",
              "            console.log([gd, 'removed!']);\n",
              "            Plotly.purge(gd);\n",
              "            observer.disconnect();\n",
              "        }}\n",
              "}});\n",
              "\n",
              "// Listen for the removal of the full notebook cells\n",
              "var notebookContainer = gd.closest('#notebook-container');\n",
              "if (notebookContainer) {{\n",
              "    x.observe(notebookContainer, {childList: true});\n",
              "}}\n",
              "\n",
              "// Listen for the clearing of the current output cell\n",
              "var outputEl = gd.closest('.output');\n",
              "if (outputEl) {{\n",
              "    x.observe(outputEl, {childList: true});\n",
              "}}\n",
              "\n",
              "                        })                };                            </script>        </div>\n",
              "</body>\n",
              "</html>"
            ]
          },
          "metadata": {}
        }
      ]
    },
    {
      "cell_type": "markdown",
      "metadata": {
        "id": "x1xcxS6h2rdS"
      },
      "source": [
        "#### Rating vs Cost of the order"
      ]
    },
    {
      "cell_type": "code",
      "execution_count": null,
      "metadata": {
        "id": "QV1lg0_72rdS",
        "colab": {
          "base_uri": "https://localhost:8080/",
          "height": 619
        },
        "outputId": "c83f6add-f0f3-49a1-cfa8-da85b57421a0"
      },
      "outputs": [
        {
          "output_type": "display_data",
          "data": {
            "text/plain": [
              "<Figure size 1500x700 with 1 Axes>"
            ],
            "image/png": "[encoded data removed]"
          },
          "metadata": {}
        }
      ],
      "source": [
        "# Relationship between rating and cost of the order\n",
        "plt.figure(figsize=(15, 7))\n",
        "sns.pointplot(data=df, x='rating', y='cost_of_the_order')   ## Visualize the relationship between rating and cost of the order using pointplot\n",
        "plt.show()"
      ]
    },
    {
      "cell_type": "code",
      "source": [
        "rating_cost = df.groupby('rating')['cost_of_the_order'].mean().reset_index().copy()\n",
        "fig = px.line(data_frame=rating_cost, x='rating', y='cost_of_the_order', title='Rating vs Cost of the Order', markers=True)\n",
        "fig.update_layout(title_x=0.5)\n",
        "fig.update_traces(marker=dict(size=12, symbol='square'))\n",
        "fig.show()"
      ],
      "metadata": {
        "colab": {
          "base_uri": "https://localhost:8080/",
          "height": 542
        },
        "id": "AkAssEhFSoCW",
        "outputId": "a070cc2b-81c9-43a1-d5bd-42b1554006fb"
      },
      "execution_count": null,
      "outputs": [
        {
          "output_type": "display_data",
          "data": {
            "text/html": [
              "<html>\n",
              "<head><meta charset=\"utf-8\" /></head>\n",
              "<body>\n",
              "    <div>            <script src=\"https://cdnjs.cloudflare.com/ajax/libs/mathjax/2.7.5/MathJax.js?config=TeX-AMS-MML_SVG\"></script><script type=\"text/javascript\">if (window.MathJax && window.MathJax.Hub && window.MathJax.Hub.Config) {window.MathJax.Hub.Config({SVG: {font: \"STIX-Web\"}});}</script>                <script type=\"text/javascript\">window.PlotlyConfig = {MathJaxConfig: 'local'};</script>\n",
              "        <script charset=\"utf-8\" src=\"https://cdn.plot.ly/plotly-2.35.2.min.js\"></script>                <div id=\"231b9226-2d4f-4343-9b9c-8de1e936a5ef\" class=\"plotly-graph-div\" style=\"height:525px; width:100%;\"></div>            <script type=\"text/javascript\">                                    window.PLOTLYENV=window.PLOTLYENV || {};                                    if (document.getElementById(\"231b9226-2d4f-4343-9b9c-8de1e936a5ef\")) {                    Plotly.newPlot(                        \"231b9226-2d4f-4343-9b9c-8de1e936a5ef\",                        [{\"hovertemplate\":\"rating=%{x}\\u003cbr\\u003ecost_of_the_order=%{y}\\u003cextra\\u003e\\u003c\\u002fextra\\u003e\",\"legendgroup\":\"\",\"line\":{\"color\":\"#636efa\",\"dash\":\"solid\"},\"marker\":{\"symbol\":\"square\",\"size\":12},\"mode\":\"lines+markers\",\"name\":\"\",\"orientation\":\"v\",\"showlegend\":false,\"x\":[\"3\",\"4\",\"5\",\"Not given\"],\"xaxis\":\"x\",\"y\":[16.223351063829785,16.710336787564767,16.965697278911563,16.085339673913044],\"yaxis\":\"y\",\"type\":\"scatter\"}],                        {\"template\":{\"data\":{\"histogram2dcontour\":[{\"type\":\"histogram2dcontour\",\"colorbar\":{\"outlinewidth\":0,\"ticks\":\"\"},\"colorscale\":[[0.0,\"#0d0887\"],[0.1111111111111111,\"#46039f\"],[0.2222222222222222,\"#7201a8\"],[0.3333333333333333,\"#9c179e\"],[0.4444444444444444,\"#bd3786\"],[0.5555555555555556,\"#d8576b\"],[0.6666666666666666,\"#ed7953\"],[0.7777777777777778,\"#fb9f3a\"],[0.8888888888888888,\"#fdca26\"],[1.0,\"#f0f921\"]]}],\"choropleth\":[{\"type\":\"choropleth\",\"colorbar\":{\"outlinewidth\":0,\"ticks\":\"\"}}],\"histogram2d\":[{\"type\":\"histogram2d\",\"colorbar\":{\"outlinewidth\":0,\"ticks\":\"\"},\"colorscale\":[[0.0,\"#0d0887\"],[0.1111111111111111,\"#46039f\"],[0.2222222222222222,\"#7201a8\"],[0.3333333333333333,\"#9c179e\"],[0.4444444444444444,\"#bd3786\"],[0.5555555555555556,\"#d8576b\"],[0.6666666666666666,\"#ed7953\"],[0.7777777777777778,\"#fb9f3a\"],[0.8888888888888888,\"#fdca26\"],[1.0,\"#f0f921\"]]}],\"heatmap\":[{\"type\":\"heatmap\",\"colorbar\":{\"outlinewidth\":0,\"ticks\":\"\"},\"colorscale\":[[0.0,\"#0d0887\"],[0.1111111111111111,\"#46039f\"],[0.2222222222222222,\"#7201a8\"],[0.3333333333333333,\"#9c179e\"],[0.4444444444444444,\"#bd3786\"],[0.5555555555555556,\"#d8576b\"],[0.6666666666666666,\"#ed7953\"],[0.7777777777777778,\"#fb9f3a\"],[0.8888888888888888,\"#fdca26\"],[1.0,\"#f0f921\"]]}],\"heatmapgl\":[{\"type\":\"heatmapgl\",\"colorbar\":{\"outlinewidth\":0,\"ticks\":\"\"},\"colorscale\":[[0.0,\"#0d0887\"],[0.1111111111111111,\"#46039f\"],[0.2222222222222222,\"#7201a8\"],[0.3333333333333333,\"#9c179e\"],[0.4444444444444444,\"#bd3786\"],[0.5555555555555556,\"#d8576b\"],[0.6666666666666666,\"#ed7953\"],[0.7777777777777778,\"#fb9f3a\"],[0.8888888888888888,\"#fdca26\"],[1.0,\"#f0f921\"]]}],\"contourcarpet\":[{\"type\":\"contourcarpet\",\"colorbar\":{\"outlinewidth\":0,\"ticks\":\"\"}}],\"contour\":[{\"type\":\"contour\",\"colorbar\":{\"outlinewidth\":0,\"ticks\":\"\"},\"colorscale\":[[0.0,\"#0d0887\"],[0.1111111111111111,\"#46039f\"],[0.2222222222222222,\"#7201a8\"],[0.3333333333333333,\"#9c179e\"],[0.4444444444444444,\"#bd3786\"],[0.5555555555555556,\"#d8576b\"],[0.6666666666666666,\"#ed7953\"],[0.7777777777777778,\"#fb9f3a\"],[0.8888888888888888,\"#fdca26\"],[1.0,\"#f0f921\"]]}],\"surface\":[{\"type\":\"surface\",\"colorbar\":{\"outlinewidth\":0,\"ticks\":\"\"},\"colorscale\":[[0.0,\"#0d0887\"],[0.1111111111111111,\"#46039f\"],[0.2222222222222222,\"#7201a8\"],[0.3333333333333333,\"#9c179e\"],[0.4444444444444444,\"#bd3786\"],[0.5555555555555556,\"#d8576b\"],[0.6666666666666666,\"#ed7953\"],[0.7777777777777778,\"#fb9f3a\"],[0.8888888888888888,\"#fdca26\"],[1.0,\"#f0f921\"]]}],\"mesh3d\":[{\"type\":\"mesh3d\",\"colorbar\":{\"outlinewidth\":0,\"ticks\":\"\"}}],\"scatter\":[{\"fillpattern\":{\"fillmode\":\"overlay\",\"size\":10,\"solidity\":0.2},\"type\":\"scatter\"}],\"parcoords\":[{\"type\":\"parcoords\",\"line\":{\"colorbar\":{\"outlinewidth\":0,\"ticks\":\"\"}}}],\"scatterpolargl\":[{\"type\":\"scatterpolargl\",\"marker\":{\"colorbar\":{\"outlinewidth\":0,\"ticks\":\"\"}}}],\"bar\":[{\"error_x\":{\"color\":\"#2a3f5f\"},\"error_y\":{\"color\":\"#2a3f5f\"},\"marker\":{\"line\":{\"color\":\"#E5ECF6\",\"width\":0.5},\"pattern\":{\"fillmode\":\"overlay\",\"size\":10,\"solidity\":0.2}},\"type\":\"bar\"}],\"scattergeo\":[{\"type\":\"scattergeo\",\"marker\":{\"colorbar\":{\"outlinewidth\":0,\"ticks\":\"\"}}}],\"scatterpolar\":[{\"type\":\"scatterpolar\",\"marker\":{\"colorbar\":{\"outlinewidth\":0,\"ticks\":\"\"}}}],\"histogram\":[{\"marker\":{\"pattern\":{\"fillmode\":\"overlay\",\"size\":10,\"solidity\":0.2}},\"type\":\"histogram\"}],\"scattergl\":[{\"type\":\"scattergl\",\"marker\":{\"colorbar\":{\"outlinewidth\":0,\"ticks\":\"\"}}}],\"scatter3d\":[{\"type\":\"scatter3d\",\"line\":{\"colorbar\":{\"outlinewidth\":0,\"ticks\":\"\"}},\"marker\":{\"colorbar\":{\"outlinewidth\":0,\"ticks\":\"\"}}}],\"scattermapbox\":[{\"type\":\"scattermapbox\",\"marker\":{\"colorbar\":{\"outlinewidth\":0,\"ticks\":\"\"}}}],\"scatterternary\":[{\"type\":\"scatterternary\",\"marker\":{\"colorbar\":{\"outlinewidth\":0,\"ticks\":\"\"}}}],\"scattercarpet\":[{\"type\":\"scattercarpet\",\"marker\":{\"colorbar\":{\"outlinewidth\":0,\"ticks\":\"\"}}}],\"carpet\":[{\"aaxis\":{\"endlinecolor\":\"#2a3f5f\",\"gridcolor\":\"white\",\"linecolor\":\"white\",\"minorgridcolor\":\"white\",\"startlinecolor\":\"#2a3f5f\"},\"baxis\":{\"endlinecolor\":\"#2a3f5f\",\"gridcolor\":\"white\",\"linecolor\":\"white\",\"minorgridcolor\":\"white\",\"startlinecolor\":\"#2a3f5f\"},\"type\":\"carpet\"}],\"table\":[{\"cells\":{\"fill\":{\"color\":\"#EBF0F8\"},\"line\":{\"color\":\"white\"}},\"header\":{\"fill\":{\"color\":\"#C8D4E3\"},\"line\":{\"color\":\"white\"}},\"type\":\"table\"}],\"barpolar\":[{\"marker\":{\"line\":{\"color\":\"#E5ECF6\",\"width\":0.5},\"pattern\":{\"fillmode\":\"overlay\",\"size\":10,\"solidity\":0.2}},\"type\":\"barpolar\"}],\"pie\":[{\"automargin\":true,\"type\":\"pie\"}]},\"layout\":{\"autotypenumbers\":\"strict\",\"colorway\":[\"#636efa\",\"#EF553B\",\"#00cc96\",\"#ab63fa\",\"#FFA15A\",\"#19d3f3\",\"#FF6692\",\"#B6E880\",\"#FF97FF\",\"#FECB52\"],\"font\":{\"color\":\"#2a3f5f\"},\"hovermode\":\"closest\",\"hoverlabel\":{\"align\":\"left\"},\"paper_bgcolor\":\"white\",\"plot_bgcolor\":\"#E5ECF6\",\"polar\":{\"bgcolor\":\"#E5ECF6\",\"angularaxis\":{\"gridcolor\":\"white\",\"linecolor\":\"white\",\"ticks\":\"\"},\"radialaxis\":{\"gridcolor\":\"white\",\"linecolor\":\"white\",\"ticks\":\"\"}},\"ternary\":{\"bgcolor\":\"#E5ECF6\",\"aaxis\":{\"gridcolor\":\"white\",\"linecolor\":\"white\",\"ticks\":\"\"},\"baxis\":{\"gridcolor\":\"white\",\"linecolor\":\"white\",\"ticks\":\"\"},\"caxis\":{\"gridcolor\":\"white\",\"linecolor\":\"white\",\"ticks\":\"\"}},\"coloraxis\":{\"colorbar\":{\"outlinewidth\":0,\"ticks\":\"\"}},\"colorscale\":{\"sequential\":[[0.0,\"#0d0887\"],[0.1111111111111111,\"#46039f\"],[0.2222222222222222,\"#7201a8\"],[0.3333333333333333,\"#9c179e\"],[0.4444444444444444,\"#bd3786\"],[0.5555555555555556,\"#d8576b\"],[0.6666666666666666,\"#ed7953\"],[0.7777777777777778,\"#fb9f3a\"],[0.8888888888888888,\"#fdca26\"],[1.0,\"#f0f921\"]],\"sequentialminus\":[[0.0,\"#0d0887\"],[0.1111111111111111,\"#46039f\"],[0.2222222222222222,\"#7201a8\"],[0.3333333333333333,\"#9c179e\"],[0.4444444444444444,\"#bd3786\"],[0.5555555555555556,\"#d8576b\"],[0.6666666666666666,\"#ed7953\"],[0.7777777777777778,\"#fb9f3a\"],[0.8888888888888888,\"#fdca26\"],[1.0,\"#f0f921\"]],\"diverging\":[[0,\"#8e0152\"],[0.1,\"#c51b7d\"],[0.2,\"#de77ae\"],[0.3,\"#f1b6da\"],[0.4,\"#fde0ef\"],[0.5,\"#f7f7f7\"],[0.6,\"#e6f5d0\"],[0.7,\"#b8e186\"],[0.8,\"#7fbc41\"],[0.9,\"#4d9221\"],[1,\"#276419\"]]},\"xaxis\":{\"gridcolor\":\"white\",\"linecolor\":\"white\",\"ticks\":\"\",\"title\":{\"standoff\":15},\"zerolinecolor\":\"white\",\"automargin\":true,\"zerolinewidth\":2},\"yaxis\":{\"gridcolor\":\"white\",\"linecolor\":\"white\",\"ticks\":\"\",\"title\":{\"standoff\":15},\"zerolinecolor\":\"white\",\"automargin\":true,\"zerolinewidth\":2},\"scene\":{\"xaxis\":{\"backgroundcolor\":\"#E5ECF6\",\"gridcolor\":\"white\",\"linecolor\":\"white\",\"showbackground\":true,\"ticks\":\"\",\"zerolinecolor\":\"white\",\"gridwidth\":2},\"yaxis\":{\"backgroundcolor\":\"#E5ECF6\",\"gridcolor\":\"white\",\"linecolor\":\"white\",\"showbackground\":true,\"ticks\":\"\",\"zerolinecolor\":\"white\",\"gridwidth\":2},\"zaxis\":{\"backgroundcolor\":\"#E5ECF6\",\"gridcolor\":\"white\",\"linecolor\":\"white\",\"showbackground\":true,\"ticks\":\"\",\"zerolinecolor\":\"white\",\"gridwidth\":2}},\"shapedefaults\":{\"line\":{\"color\":\"#2a3f5f\"}},\"annotationdefaults\":{\"arrowcolor\":\"#2a3f5f\",\"arrowhead\":0,\"arrowwidth\":1},\"geo\":{\"bgcolor\":\"white\",\"landcolor\":\"#E5ECF6\",\"subunitcolor\":\"white\",\"showland\":true,\"showlakes\":true,\"lakecolor\":\"white\"},\"title\":{\"x\":0.05},\"mapbox\":{\"style\":\"light\"}}},\"xaxis\":{\"anchor\":\"y\",\"domain\":[0.0,1.0],\"title\":{\"text\":\"rating\"}},\"yaxis\":{\"anchor\":\"x\",\"domain\":[0.0,1.0],\"title\":{\"text\":\"cost_of_the_order\"}},\"legend\":{\"tracegroupgap\":0},\"title\":{\"text\":\"Rating vs Cost of the Order\",\"x\":0.5}},                        {\"responsive\": true}                    ).then(function(){\n",
              "                            \n",
              "var gd = document.getElementById('231b9226-2d4f-4343-9b9c-8de1e936a5ef');\n",
              "var x = new MutationObserver(function (mutations, observer) {{\n",
              "        var display = window.getComputedStyle(gd).display;\n",
              "        if (!display || display === 'none') {{\n",
              "            console.log([gd, 'removed!']);\n",
              "            Plotly.purge(gd);\n",
              "            observer.disconnect();\n",
              "        }}\n",
              "}});\n",
              "\n",
              "// Listen for the removal of the full notebook cells\n",
              "var notebookContainer = gd.closest('#notebook-container');\n",
              "if (notebookContainer) {{\n",
              "    x.observe(notebookContainer, {childList: true});\n",
              "}}\n",
              "\n",
              "// Listen for the clearing of the current output cell\n",
              "var outputEl = gd.closest('.output');\n",
              "if (outputEl) {{\n",
              "    x.observe(outputEl, {childList: true});\n",
              "}}\n",
              "\n",
              "                        })                };                            </script>        </div>\n",
              "</body>\n",
              "</html>"
            ]
          },
          "metadata": {}
        }
      ]
    },
    {
      "cell_type": "markdown",
      "metadata": {
        "id": "N1ATzdSX2rdS"
      },
      "source": [
        "#### Correlation among variables"
      ]
    },
    {
      "cell_type": "code",
      "execution_count": null,
      "metadata": {
        "id": "I4yA0y032rdS",
        "scrolled": true,
        "colab": {
          "base_uri": "https://localhost:8080/",
          "height": 605
        },
        "outputId": "ce8b664e-0adb-4961-823c-22ae80bbf3a1"
      },
      "outputs": [
        {
          "output_type": "display_data",
          "data": {
            "text/plain": [
              "<Figure size 1500x700 with 2 Axes>"
            ],
            "image/png": "[encoded data removed]"
          },
          "metadata": {}
        }
      ],
      "source": [
        "# Plot the heatmap\n",
        "col_list = ['cost_of_the_order', 'food_preparation_time', 'delivery_time']\n",
        "plt.figure(figsize=(15, 7))\n",
        "sns.heatmap(df[col_list].corr(), annot=True, vmin=-1, vmax=1, fmt=\".2f\", cmap=\"Spectral\")\n",
        "plt.show()"
      ]
    },
    {
      "cell_type": "markdown",
      "metadata": {
        "id": "zwBb5dAq2rdS"
      },
      "source": [
        "### **Question 13:** The company wants to provide a promotional offer in the advertisement of the restaurants. The condition to get the offer is that the restaurants must have a rating count of more than 50 and the average rating should be greater than 4. Find the restaurants fulfilling the criteria to get the promotional offer. [3 marks]"
      ]
    },
    {
      "cell_type": "code",
      "execution_count": null,
      "metadata": {
        "id": "4jQUoQ812rdS",
        "scrolled": true,
        "colab": {
          "base_uri": "https://localhost:8080/",
          "height": 206
        },
        "outputId": "d2828545-be3a-46f2-eb3f-4e826ad85e25"
      },
      "outputs": [
        {
          "output_type": "execute_result",
          "data": {
            "text/plain": [
              "             restaurant_name  rating\n",
              "0                Shake Shack     133\n",
              "1          The Meatball Shop      84\n",
              "2          Blue Ribbon Sushi      73\n",
              "3  Blue Ribbon Fried Chicken      64\n",
              "4           RedFarm Broadway      41"
            ],
            "text/html": [
              "\n",
              "  <div id=\"df-78d9ac88-a343-4a9c-b807-f302c719133e\" class=\"colab-df-container\">\n",
              "    <div>\n",
              "<style scoped>\n",
              "    .dataframe tbody tr th:only-of-type {\n",
              "        vertical-align: middle;\n",
              "    }\n",
              "\n",
              "    .dataframe tbody tr th {\n",
              "        vertical-align: top;\n",
              "    }\n",
              "\n",
              "    .dataframe thead th {\n",
              "        text-align: right;\n",
              "    }\n",
              "</style>\n",
              "<table border=\"1\" class=\"dataframe\">\n",
              "  <thead>\n",
              "    <tr style=\"text-align: right;\">\n",
              "      <th></th>\n",
              "      <th>restaurant_name</th>\n",
              "      <th>rating</th>\n",
              "    </tr>\n",
              "  </thead>\n",
              "  <tbody>\n",
              "    <tr>\n",
              "      <th>0</th>\n",
              "      <td>Shake Shack</td>\n",
              "      <td>133</td>\n",
              "    </tr>\n",
              "    <tr>\n",
              "      <th>1</th>\n",
              "      <td>The Meatball Shop</td>\n",
              "      <td>84</td>\n",
              "    </tr>\n",
              "    <tr>\n",
              "      <th>2</th>\n",
              "      <td>Blue Ribbon Sushi</td>\n",
              "      <td>73</td>\n",
              "    </tr>\n",
              "    <tr>\n",
              "      <th>3</th>\n",
              "      <td>Blue Ribbon Fried Chicken</td>\n",
              "      <td>64</td>\n",
              "    </tr>\n",
              "    <tr>\n",
              "      <th>4</th>\n",
              "      <td>RedFarm Broadway</td>\n",
              "      <td>41</td>\n",
              "    </tr>\n",
              "  </tbody>\n",
              "</table>\n",
              "</div>\n",
              "    <div class=\"colab-df-buttons\">\n",
              "\n",
              "  <div class=\"colab-df-container\">\n",
              "    <button class=\"colab-df-convert\" onclick=\"convertToInteractive('df-78d9ac88-a343-4a9c-b807-f302c719133e')\"\n",
              "            title=\"Convert this dataframe to an interactive table.\"\n",
              "            style=\"display:none;\">\n",
              "\n",
              "  <svg xmlns=\"http://www.w3.org/2000/svg\" height=\"24px\" viewBox=\"0 -960 960 960\">\n",
              "    <path d=\"M120-120v-720h720v720H120Zm60-500h600v-160H180v160Zm220 220h160v-160H400v160Zm0 220h160v-160H400v160ZM180-400h160v-160H180v160Zm440 0h160v-160H620v160ZM180-180h160v-160H180v160Zm440 0h160v-160H620v160Z\"/>\n",
              "  </svg>\n",
              "    </button>\n",
              "\n",
              "  <style>\n",
              "    .colab-df-container {\n",
              "      display:flex;\n",
              "      gap: 12px;\n",
              "    }\n",
              "\n",
              "    .colab-df-convert {\n",
              "      background-color: #E8F0FE;\n",
              "      border: none;\n",
              "      border-radius: 50%;\n",
              "      cursor: pointer;\n",
              "      display: none;\n",
              "      fill: #1967D2;\n",
              "      height: 32px;\n",
              "      padding: 0 0 0 0;\n",
              "      width: 32px;\n",
              "    }\n",
              "\n",
              "    .colab-df-convert:hover {\n",
              "      background-color: #E2EBFA;\n",
              "      box-shadow: 0px 1px 2px rgba(60, 64, 67, 0.3), 0px 1px 3px 1px rgba(60, 64, 67, 0.15);\n",
              "      fill: #174EA6;\n",
              "    }\n",
              "\n",
              "    .colab-df-buttons div {\n",
              "      margin-bottom: 4px;\n",
              "    }\n",
              "\n",
              "    [theme=dark] .colab-df-convert {\n",
              "      background-color: #3B4455;\n",
              "      fill: #D2E3FC;\n",
              "    }\n",
              "\n",
              "    [theme=dark] .colab-df-convert:hover {\n",
              "      background-color: #434B5C;\n",
              "      box-shadow: 0px 1px 3px 1px rgba(0, 0, 0, 0.15);\n",
              "      filter: drop-shadow(0px 1px 2px rgba(0, 0, 0, 0.3));\n",
              "      fill: #FFFFFF;\n",
              "    }\n",
              "  </style>\n",
              "\n",
              "    <script>\n",
              "      const buttonEl =\n",
              "        document.querySelector('#df-78d9ac88-a343-4a9c-b807-f302c719133e button.colab-df-convert');\n",
              "      buttonEl.style.display =\n",
              "        google.colab.kernel.accessAllowed ? 'block' : 'none';\n",
              "\n",
              "      async function convertToInteractive(key) {\n",
              "        const element = document.querySelector('#df-78d9ac88-a343-4a9c-b807-f302c719133e');\n",
              "        const dataTable =\n",
              "          await google.colab.kernel.invokeFunction('convertToInteractive',\n",
              "                                                    [key], {});\n",
              "        if (!dataTable) return;\n",
              "\n",
              "        const docLinkHtml = 'Like what you see? Visit the ' +\n",
              "          '<a target=\"_blank\" href=https://colab.research.google.com/notebooks/data_table.ipynb>data table notebook</a>'\n",
              "          + ' to learn more about interactive tables.';\n",
              "        element.innerHTML = '';\n",
              "        dataTable['output_type'] = 'display_data';\n",
              "        await google.colab.output.renderOutput(dataTable, element);\n",
              "        const docLink = document.createElement('div');\n",
              "        docLink.innerHTML = docLinkHtml;\n",
              "        element.appendChild(docLink);\n",
              "      }\n",
              "    </script>\n",
              "  </div>\n",
              "\n",
              "\n",
              "    <div id=\"df-4203785a-0d8a-491a-82cf-ea464fd48a83\">\n",
              "      <button class=\"colab-df-quickchart\" onclick=\"quickchart('df-4203785a-0d8a-491a-82cf-ea464fd48a83')\"\n",
              "                title=\"Suggest charts\"\n",
              "                style=\"display:none;\">\n",
              "\n",
              "<svg xmlns=\"http://www.w3.org/2000/svg\" height=\"24px\"viewBox=\"0 0 24 24\"\n",
              "     width=\"24px\">\n",
              "    <g>\n",
              "        <path d=\"M19 3H5c-1.1 0-2 .9-2 2v14c0 1.1.9 2 2 2h14c1.1 0 2-.9 2-2V5c0-1.1-.9-2-2-2zM9 17H7v-7h2v7zm4 0h-2V7h2v10zm4 0h-2v-4h2v4z\"/>\n",
              "    </g>\n",
              "</svg>\n",
              "      </button>\n",
              "\n",
              "<style>\n",
              "  .colab-df-quickchart {\n",
              "      --bg-color: #E8F0FE;\n",
              "      --fill-color: #1967D2;\n",
              "      --hover-bg-color: #E2EBFA;\n",
              "      --hover-fill-color: #174EA6;\n",
              "      --disabled-fill-color: #AAA;\n",
              "      --disabled-bg-color: #DDD;\n",
              "  }\n",
              "\n",
              "  [theme=dark] .colab-df-quickchart {\n",
              "      --bg-color: #3B4455;\n",
              "      --fill-color: #D2E3FC;\n",
              "      --hover-bg-color: #434B5C;\n",
              "      --hover-fill-color: #FFFFFF;\n",
              "      --disabled-bg-color: #3B4455;\n",
              "      --disabled-fill-color: #666;\n",
              "  }\n",
              "\n",
              "  .colab-df-quickchart {\n",
              "    background-color: var(--bg-color);\n",
              "    border: none;\n",
              "    border-radius: 50%;\n",
              "    cursor: pointer;\n",
              "    display: none;\n",
              "    fill: var(--fill-color);\n",
              "    height: 32px;\n",
              "    padding: 0;\n",
              "    width: 32px;\n",
              "  }\n",
              "\n",
              "  .colab-df-quickchart:hover {\n",
              "    background-color: var(--hover-bg-color);\n",
              "    box-shadow: 0 1px 2px rgba(60, 64, 67, 0.3), 0 1px 3px 1px rgba(60, 64, 67, 0.15);\n",
              "    fill: var(--button-hover-fill-color);\n",
              "  }\n",
              "\n",
              "  .colab-df-quickchart-complete:disabled,\n",
              "  .colab-df-quickchart-complete:disabled:hover {\n",
              "    background-color: var(--disabled-bg-color);\n",
              "    fill: var(--disabled-fill-color);\n",
              "    box-shadow: none;\n",
              "  }\n",
              "\n",
              "  .colab-df-spinner {\n",
              "    border: 2px solid var(--fill-color);\n",
              "    border-color: transparent;\n",
              "    border-bottom-color: var(--fill-color);\n",
              "    animation:\n",
              "      spin 1s steps(1) infinite;\n",
              "  }\n",
              "\n",
              "  @keyframes spin {\n",
              "    0% {\n",
              "      border-color: transparent;\n",
              "      border-bottom-color: var(--fill-color);\n",
              "      border-left-color: var(--fill-color);\n",
              "    }\n",
              "    20% {\n",
              "      border-color: transparent;\n",
              "      border-left-color: var(--fill-color);\n",
              "      border-top-color: var(--fill-color);\n",
              "    }\n",
              "    30% {\n",
              "      border-color: transparent;\n",
              "      border-left-color: var(--fill-color);\n",
              "      border-top-color: var(--fill-color);\n",
              "      border-right-color: var(--fill-color);\n",
              "    }\n",
              "    40% {\n",
              "      border-color: transparent;\n",
              "      border-right-color: var(--fill-color);\n",
              "      border-top-color: var(--fill-color);\n",
              "    }\n",
              "    60% {\n",
              "      border-color: transparent;\n",
              "      border-right-color: var(--fill-color);\n",
              "    }\n",
              "    80% {\n",
              "      border-color: transparent;\n",
              "      border-right-color: var(--fill-color);\n",
              "      border-bottom-color: var(--fill-color);\n",
              "    }\n",
              "    90% {\n",
              "      border-color: transparent;\n",
              "      border-bottom-color: var(--fill-color);\n",
              "    }\n",
              "  }\n",
              "</style>\n",
              "\n",
              "      <script>\n",
              "        async function quickchart(key) {\n",
              "          const quickchartButtonEl =\n",
              "            document.querySelector('#' + key + ' button');\n",
              "          quickchartButtonEl.disabled = true;  // To prevent multiple clicks.\n",
              "          quickchartButtonEl.classList.add('colab-df-spinner');\n",
              "          try {\n",
              "            const charts = await google.colab.kernel.invokeFunction(\n",
              "                'suggestCharts', [key], {});\n",
              "          } catch (error) {\n",
              "            console.error('Error during call to suggestCharts:', error);\n",
              "          }\n",
              "          quickchartButtonEl.classList.remove('colab-df-spinner');\n",
              "          quickchartButtonEl.classList.add('colab-df-quickchart-complete');\n",
              "        }\n",
              "        (() => {\n",
              "          let quickchartButtonEl =\n",
              "            document.querySelector('#df-4203785a-0d8a-491a-82cf-ea464fd48a83 button');\n",
              "          quickchartButtonEl.style.display =\n",
              "            google.colab.kernel.accessAllowed ? 'block' : 'none';\n",
              "        })();\n",
              "      </script>\n",
              "    </div>\n",
              "\n",
              "    </div>\n",
              "  </div>\n"
            ],
            "application/vnd.google.colaboratory.intrinsic+json": {
              "type": "dataframe",
              "variable_name": "df_rating_count",
              "summary": "{\n  \"name\": \"df_rating_count\",\n  \"rows\": 156,\n  \"fields\": [\n    {\n      \"column\": \"restaurant_name\",\n      \"properties\": {\n        \"dtype\": \"string\",\n        \"num_unique_values\": 156,\n        \"samples\": [\n          \"Tres Carnes\",\n          \"The Loop\",\n          \"The Odeon\"\n        ],\n        \"semantic_type\": \"\",\n        \"description\": \"\"\n      }\n    },\n    {\n      \"column\": \"rating\",\n      \"properties\": {\n        \"dtype\": \"number\",\n        \"std\": 15,\n        \"min\": 1,\n        \"max\": 133,\n        \"num_unique_values\": 29,\n        \"samples\": [\n          2,\n          13,\n          19\n        ],\n        \"semantic_type\": \"\",\n        \"description\": \"\"\n      }\n    }\n  ]\n}"
            }
          },
          "metadata": {},
          "execution_count": 59
        }
      ],
      "source": [
        "# Filter the rated restaurants\n",
        "df_rated = df[df['rating'] != 'Not given'].copy()\n",
        "\n",
        "# Convert rating column from object to integer\n",
        "df_rated['rating'] = df_rated['rating'].astype('int')\n",
        "\n",
        "# Create a dataframe that contains the restaurant names with their rating counts\n",
        "df_rating_count = df_rated.groupby(['restaurant_name'])['rating'].count().sort_values(ascending = False).reset_index()\n",
        "df_rating_count.head()"
      ]
    },
    {
      "cell_type": "code",
      "execution_count": null,
      "metadata": {
        "id": "VLdgfwoL2rdT",
        "colab": {
          "base_uri": "https://localhost:8080/",
          "height": 175
        },
        "outputId": "5d05ebee-822f-4d5e-e79e-e4de0665660d"
      },
      "outputs": [
        {
          "output_type": "execute_result",
          "data": {
            "text/plain": [
              "             restaurant_name    rating\n",
              "0          The Meatball Shop  4.511905\n",
              "1  Blue Ribbon Fried Chicken  4.328125\n",
              "2                Shake Shack  4.278195\n",
              "3          Blue Ribbon Sushi  4.219178"
            ],
            "text/html": [
              "\n",
              "  <div id=\"df-4aafbceb-1c07-4a7f-9b8e-d198c8a294f0\" class=\"colab-df-container\">\n",
              "    <div>\n",
              "<style scoped>\n",
              "    .dataframe tbody tr th:only-of-type {\n",
              "        vertical-align: middle;\n",
              "    }\n",
              "\n",
              "    .dataframe tbody tr th {\n",
              "        vertical-align: top;\n",
              "    }\n",
              "\n",
              "    .dataframe thead th {\n",
              "        text-align: right;\n",
              "    }\n",
              "</style>\n",
              "<table border=\"1\" class=\"dataframe\">\n",
              "  <thead>\n",
              "    <tr style=\"text-align: right;\">\n",
              "      <th></th>\n",
              "      <th>restaurant_name</th>\n",
              "      <th>rating</th>\n",
              "    </tr>\n",
              "  </thead>\n",
              "  <tbody>\n",
              "    <tr>\n",
              "      <th>0</th>\n",
              "      <td>The Meatball Shop</td>\n",
              "      <td>4.511905</td>\n",
              "    </tr>\n",
              "    <tr>\n",
              "      <th>1</th>\n",
              "      <td>Blue Ribbon Fried Chicken</td>\n",
              "      <td>4.328125</td>\n",
              "    </tr>\n",
              "    <tr>\n",
              "      <th>2</th>\n",
              "      <td>Shake Shack</td>\n",
              "      <td>4.278195</td>\n",
              "    </tr>\n",
              "    <tr>\n",
              "      <th>3</th>\n",
              "      <td>Blue Ribbon Sushi</td>\n",
              "      <td>4.219178</td>\n",
              "    </tr>\n",
              "  </tbody>\n",
              "</table>\n",
              "</div>\n",
              "    <div class=\"colab-df-buttons\">\n",
              "\n",
              "  <div class=\"colab-df-container\">\n",
              "    <button class=\"colab-df-convert\" onclick=\"convertToInteractive('df-4aafbceb-1c07-4a7f-9b8e-d198c8a294f0')\"\n",
              "            title=\"Convert this dataframe to an interactive table.\"\n",
              "            style=\"display:none;\">\n",
              "\n",
              "  <svg xmlns=\"http://www.w3.org/2000/svg\" height=\"24px\" viewBox=\"0 -960 960 960\">\n",
              "    <path d=\"M120-120v-720h720v720H120Zm60-500h600v-160H180v160Zm220 220h160v-160H400v160Zm0 220h160v-160H400v160ZM180-400h160v-160H180v160Zm440 0h160v-160H620v160ZM180-180h160v-160H180v160Zm440 0h160v-160H620v160Z\"/>\n",
              "  </svg>\n",
              "    </button>\n",
              "\n",
              "  <style>\n",
              "    .colab-df-container {\n",
              "      display:flex;\n",
              "      gap: 12px;\n",
              "    }\n",
              "\n",
              "    .colab-df-convert {\n",
              "      background-color: #E8F0FE;\n",
              "      border: none;\n",
              "      border-radius: 50%;\n",
              "      cursor: pointer;\n",
              "      display: none;\n",
              "      fill: #1967D2;\n",
              "      height: 32px;\n",
              "      padding: 0 0 0 0;\n",
              "      width: 32px;\n",
              "    }\n",
              "\n",
              "    .colab-df-convert:hover {\n",
              "      background-color: #E2EBFA;\n",
              "      box-shadow: 0px 1px 2px rgba(60, 64, 67, 0.3), 0px 1px 3px 1px rgba(60, 64, 67, 0.15);\n",
              "      fill: #174EA6;\n",
              "    }\n",
              "\n",
              "    .colab-df-buttons div {\n",
              "      margin-bottom: 4px;\n",
              "    }\n",
              "\n",
              "    [theme=dark] .colab-df-convert {\n",
              "      background-color: #3B4455;\n",
              "      fill: #D2E3FC;\n",
              "    }\n",
              "\n",
              "    [theme=dark] .colab-df-convert:hover {\n",
              "      background-color: #434B5C;\n",
              "      box-shadow: 0px 1px 3px 1px rgba(0, 0, 0, 0.15);\n",
              "      filter: drop-shadow(0px 1px 2px rgba(0, 0, 0, 0.3));\n",
              "      fill: #FFFFFF;\n",
              "    }\n",
              "  </style>\n",
              "\n",
              "    <script>\n",
              "      const buttonEl =\n",
              "        document.querySelector('#df-4aafbceb-1c07-4a7f-9b8e-d198c8a294f0 button.colab-df-convert');\n",
              "      buttonEl.style.display =\n",
              "        google.colab.kernel.accessAllowed ? 'block' : 'none';\n",
              "\n",
              "      async function convertToInteractive(key) {\n",
              "        const element = document.querySelector('#df-4aafbceb-1c07-4a7f-9b8e-d198c8a294f0');\n",
              "        const dataTable =\n",
              "          await google.colab.kernel.invokeFunction('convertToInteractive',\n",
              "                                                    [key], {});\n",
              "        if (!dataTable) return;\n",
              "\n",
              "        const docLinkHtml = 'Like what you see? Visit the ' +\n",
              "          '<a target=\"_blank\" href=https://colab.research.google.com/notebooks/data_table.ipynb>data table notebook</a>'\n",
              "          + ' to learn more about interactive tables.';\n",
              "        element.innerHTML = '';\n",
              "        dataTable['output_type'] = 'display_data';\n",
              "        await google.colab.output.renderOutput(dataTable, element);\n",
              "        const docLink = document.createElement('div');\n",
              "        docLink.innerHTML = docLinkHtml;\n",
              "        element.appendChild(docLink);\n",
              "      }\n",
              "    </script>\n",
              "  </div>\n",
              "\n",
              "\n",
              "    <div id=\"df-a90d13a1-436b-4b48-947b-cc58b9e61cbb\">\n",
              "      <button class=\"colab-df-quickchart\" onclick=\"quickchart('df-a90d13a1-436b-4b48-947b-cc58b9e61cbb')\"\n",
              "                title=\"Suggest charts\"\n",
              "                style=\"display:none;\">\n",
              "\n",
              "<svg xmlns=\"http://www.w3.org/2000/svg\" height=\"24px\"viewBox=\"0 0 24 24\"\n",
              "     width=\"24px\">\n",
              "    <g>\n",
              "        <path d=\"M19 3H5c-1.1 0-2 .9-2 2v14c0 1.1.9 2 2 2h14c1.1 0 2-.9 2-2V5c0-1.1-.9-2-2-2zM9 17H7v-7h2v7zm4 0h-2V7h2v10zm4 0h-2v-4h2v4z\"/>\n",
              "    </g>\n",
              "</svg>\n",
              "      </button>\n",
              "\n",
              "<style>\n",
              "  .colab-df-quickchart {\n",
              "      --bg-color: #E8F0FE;\n",
              "      --fill-color: #1967D2;\n",
              "      --hover-bg-color: #E2EBFA;\n",
              "      --hover-fill-color: #174EA6;\n",
              "      --disabled-fill-color: #AAA;\n",
              "      --disabled-bg-color: #DDD;\n",
              "  }\n",
              "\n",
              "  [theme=dark] .colab-df-quickchart {\n",
              "      --bg-color: #3B4455;\n",
              "      --fill-color: #D2E3FC;\n",
              "      --hover-bg-color: #434B5C;\n",
              "      --hover-fill-color: #FFFFFF;\n",
              "      --disabled-bg-color: #3B4455;\n",
              "      --disabled-fill-color: #666;\n",
              "  }\n",
              "\n",
              "  .colab-df-quickchart {\n",
              "    background-color: var(--bg-color);\n",
              "    border: none;\n",
              "    border-radius: 50%;\n",
              "    cursor: pointer;\n",
              "    display: none;\n",
              "    fill: var(--fill-color);\n",
              "    height: 32px;\n",
              "    padding: 0;\n",
              "    width: 32px;\n",
              "  }\n",
              "\n",
              "  .colab-df-quickchart:hover {\n",
              "    background-color: var(--hover-bg-color);\n",
              "    box-shadow: 0 1px 2px rgba(60, 64, 67, 0.3), 0 1px 3px 1px rgba(60, 64, 67, 0.15);\n",
              "    fill: var(--button-hover-fill-color);\n",
              "  }\n",
              "\n",
              "  .colab-df-quickchart-complete:disabled,\n",
              "  .colab-df-quickchart-complete:disabled:hover {\n",
              "    background-color: var(--disabled-bg-color);\n",
              "    fill: var(--disabled-fill-color);\n",
              "    box-shadow: none;\n",
              "  }\n",
              "\n",
              "  .colab-df-spinner {\n",
              "    border: 2px solid var(--fill-color);\n",
              "    border-color: transparent;\n",
              "    border-bottom-color: var(--fill-color);\n",
              "    animation:\n",
              "      spin 1s steps(1) infinite;\n",
              "  }\n",
              "\n",
              "  @keyframes spin {\n",
              "    0% {\n",
              "      border-color: transparent;\n",
              "      border-bottom-color: var(--fill-color);\n",
              "      border-left-color: var(--fill-color);\n",
              "    }\n",
              "    20% {\n",
              "      border-color: transparent;\n",
              "      border-left-color: var(--fill-color);\n",
              "      border-top-color: var(--fill-color);\n",
              "    }\n",
              "    30% {\n",
              "      border-color: transparent;\n",
              "      border-left-color: var(--fill-color);\n",
              "      border-top-color: var(--fill-color);\n",
              "      border-right-color: var(--fill-color);\n",
              "    }\n",
              "    40% {\n",
              "      border-color: transparent;\n",
              "      border-right-color: var(--fill-color);\n",
              "      border-top-color: var(--fill-color);\n",
              "    }\n",
              "    60% {\n",
              "      border-color: transparent;\n",
              "      border-right-color: var(--fill-color);\n",
              "    }\n",
              "    80% {\n",
              "      border-color: transparent;\n",
              "      border-right-color: var(--fill-color);\n",
              "      border-bottom-color: var(--fill-color);\n",
              "    }\n",
              "    90% {\n",
              "      border-color: transparent;\n",
              "      border-bottom-color: var(--fill-color);\n",
              "    }\n",
              "  }\n",
              "</style>\n",
              "\n",
              "      <script>\n",
              "        async function quickchart(key) {\n",
              "          const quickchartButtonEl =\n",
              "            document.querySelector('#' + key + ' button');\n",
              "          quickchartButtonEl.disabled = true;  // To prevent multiple clicks.\n",
              "          quickchartButtonEl.classList.add('colab-df-spinner');\n",
              "          try {\n",
              "            const charts = await google.colab.kernel.invokeFunction(\n",
              "                'suggestCharts', [key], {});\n",
              "          } catch (error) {\n",
              "            console.error('Error during call to suggestCharts:', error);\n",
              "          }\n",
              "          quickchartButtonEl.classList.remove('colab-df-spinner');\n",
              "          quickchartButtonEl.classList.add('colab-df-quickchart-complete');\n",
              "        }\n",
              "        (() => {\n",
              "          let quickchartButtonEl =\n",
              "            document.querySelector('#df-a90d13a1-436b-4b48-947b-cc58b9e61cbb button');\n",
              "          quickchartButtonEl.style.display =\n",
              "            google.colab.kernel.accessAllowed ? 'block' : 'none';\n",
              "        })();\n",
              "      </script>\n",
              "    </div>\n",
              "\n",
              "  <div id=\"id_11aedc26-3ee3-42b3-bedd-6c90865428a2\">\n",
              "    <style>\n",
              "      .colab-df-generate {\n",
              "        background-color: #E8F0FE;\n",
              "        border: none;\n",
              "        border-radius: 50%;\n",
              "        cursor: pointer;\n",
              "        display: none;\n",
              "        fill: #1967D2;\n",
              "        height: 32px;\n",
              "        padding: 0 0 0 0;\n",
              "        width: 32px;\n",
              "      }\n",
              "\n",
              "      .colab-df-generate:hover {\n",
              "        background-color: #E2EBFA;\n",
              "        box-shadow: 0px 1px 2px rgba(60, 64, 67, 0.3), 0px 1px 3px 1px rgba(60, 64, 67, 0.15);\n",
              "        fill: #174EA6;\n",
              "      }\n",
              "\n",
              "      [theme=dark] .colab-df-generate {\n",
              "        background-color: #3B4455;\n",
              "        fill: #D2E3FC;\n",
              "      }\n",
              "\n",
              "      [theme=dark] .colab-df-generate:hover {\n",
              "        background-color: #434B5C;\n",
              "        box-shadow: 0px 1px 3px 1px rgba(0, 0, 0, 0.15);\n",
              "        filter: drop-shadow(0px 1px 2px rgba(0, 0, 0, 0.3));\n",
              "        fill: #FFFFFF;\n",
              "      }\n",
              "    </style>\n",
              "    <button class=\"colab-df-generate\" onclick=\"generateWithVariable('df_avg_rating_greater_than_4')\"\n",
              "            title=\"Generate code using this dataframe.\"\n",
              "            style=\"display:none;\">\n",
              "\n",
              "  <svg xmlns=\"http://www.w3.org/2000/svg\" height=\"24px\"viewBox=\"0 0 24 24\"\n",
              "       width=\"24px\">\n",
              "    <path d=\"M7,19H8.4L18.45,9,17,7.55,7,17.6ZM5,21V16.75L18.45,3.32a2,2,0,0,1,2.83,0l1.4,1.43a1.91,1.91,0,0,1,.58,1.4,1.91,1.91,0,0,1-.58,1.4L9.25,21ZM18.45,9,17,7.55Zm-12,3A5.31,5.31,0,0,0,4.9,8.1,5.31,5.31,0,0,0,1,6.5,5.31,5.31,0,0,0,4.9,4.9,5.31,5.31,0,0,0,6.5,1,5.31,5.31,0,0,0,8.1,4.9,5.31,5.31,0,0,0,12,6.5,5.46,5.46,0,0,0,6.5,12Z\"/>\n",
              "  </svg>\n",
              "    </button>\n",
              "    <script>\n",
              "      (() => {\n",
              "      const buttonEl =\n",
              "        document.querySelector('#id_11aedc26-3ee3-42b3-bedd-6c90865428a2 button.colab-df-generate');\n",
              "      buttonEl.style.display =\n",
              "        google.colab.kernel.accessAllowed ? 'block' : 'none';\n",
              "\n",
              "      buttonEl.onclick = () => {\n",
              "        google.colab.notebook.generateWithVariable('df_avg_rating_greater_than_4');\n",
              "      }\n",
              "      })();\n",
              "    </script>\n",
              "  </div>\n",
              "\n",
              "    </div>\n",
              "  </div>\n"
            ],
            "application/vnd.google.colaboratory.intrinsic+json": {
              "type": "dataframe",
              "variable_name": "df_avg_rating_greater_than_4",
              "summary": "{\n  \"name\": \"df_avg_rating_greater_than_4\",\n  \"rows\": 4,\n  \"fields\": [\n    {\n      \"column\": \"restaurant_name\",\n      \"properties\": {\n        \"dtype\": \"string\",\n        \"num_unique_values\": 4,\n        \"samples\": [\n          \"Blue Ribbon Fried Chicken\",\n          \"Blue Ribbon Sushi\",\n          \"The Meatball Shop\"\n        ],\n        \"semantic_type\": \"\",\n        \"description\": \"\"\n      }\n    },\n    {\n      \"column\": \"rating\",\n      \"properties\": {\n        \"dtype\": \"number\",\n        \"std\": 0.1264678402938812,\n        \"min\": 4.219178082191781,\n        \"max\": 4.511904761904762,\n        \"num_unique_values\": 4,\n        \"samples\": [\n          4.328125,\n          4.219178082191781,\n          4.511904761904762\n        ],\n        \"semantic_type\": \"\",\n        \"description\": \"\"\n      }\n    }\n  ]\n}"
            }
          },
          "metadata": {},
          "execution_count": 60
        }
      ],
      "source": [
        "# Get the restaurant names that have rating count more than 50\n",
        "rest_names = df_rating_count[df_rating_count['rating']>50]['restaurant_name']\n",
        "\n",
        "# Filter to get the data of restaurants that have rating count more than 50\n",
        "df_mean_4 = df_rated[df_rated['restaurant_name'].isin(rest_names)].copy()\n",
        "\n",
        "# Group the restaurant names with their ratings and find the mean rating of each restaurant\n",
        "df_mean_4_rating = df_mean_4.groupby(['restaurant_name'])['rating'].mean().sort_values(ascending = False).reset_index().dropna()\n",
        "\n",
        "# filter for average rating greater than 4\n",
        "df_avg_rating_greater_than_4 = df_mean_4_rating[df_mean_4_rating['rating'] > 4].sort_values(by='rating', ascending=False).reset_index(drop=True)\n",
        "\n",
        "df_avg_rating_greater_than_4"
      ]
    },
    {
      "cell_type": "markdown",
      "metadata": {
        "id": "UYq_xMk72rdT"
      },
      "source": [
        "### **Question 14:** The company charges the restaurant 25% on the orders having cost greater than 20 dollars and 15% on the orders having cost greater than 5 dollars. Find the net revenue generated by the company across all orders. [3 marks]"
      ]
    },
    {
      "cell_type": "code",
      "execution_count": null,
      "metadata": {
        "id": "We7SLKbr2rdT",
        "colab": {
          "base_uri": "https://localhost:8080/",
          "height": 258
        },
        "outputId": "318e3742-5769-4052-8fb9-db79e83ed8b5"
      },
      "outputs": [
        {
          "output_type": "execute_result",
          "data": {
            "text/plain": [
              "   order_id  customer_id            restaurant_name cuisine_type  \\\n",
              "0   1477147       337525                    Hangawi       Korean   \n",
              "1   1477685       358141  Blue Ribbon Sushi Izakaya     Japanese   \n",
              "2   1477070        66393                Cafe Habana      Mexican   \n",
              "3   1477334       106968  Blue Ribbon Fried Chicken     American   \n",
              "4   1478249        76942           Dirty Bird to Go     American   \n",
              "\n",
              "   cost_of_the_order day_of_the_week     rating  food_preparation_time  \\\n",
              "0              30.75         Weekend  Not given                     25   \n",
              "1              12.08         Weekend  Not given                     25   \n",
              "2              12.23         Weekday          5                     23   \n",
              "3              29.20         Weekend          3                     25   \n",
              "4              11.59         Weekday          4                     25   \n",
              "\n",
              "   delivery_time  Revenue  \n",
              "0             20   7.6875  \n",
              "1             23   1.8120  \n",
              "2             28   1.8345  \n",
              "3             15   7.3000  \n",
              "4             24   1.7385  "
            ],
            "text/html": [
              "\n",
              "  <div id=\"df-53d7eaf1-8913-42b0-a012-92cd1b255e07\" class=\"colab-df-container\">\n",
              "    <div>\n",
              "<style scoped>\n",
              "    .dataframe tbody tr th:only-of-type {\n",
              "        vertical-align: middle;\n",
              "    }\n",
              "\n",
              "    .dataframe tbody tr th {\n",
              "        vertical-align: top;\n",
              "    }\n",
              "\n",
              "    .dataframe thead th {\n",
              "        text-align: right;\n",
              "    }\n",
              "</style>\n",
              "<table border=\"1\" class=\"dataframe\">\n",
              "  <thead>\n",
              "    <tr style=\"text-align: right;\">\n",
              "      <th></th>\n",
              "      <th>order_id</th>\n",
              "      <th>customer_id</th>\n",
              "      <th>restaurant_name</th>\n",
              "      <th>cuisine_type</th>\n",
              "      <th>cost_of_the_order</th>\n",
              "      <th>day_of_the_week</th>\n",
              "      <th>rating</th>\n",
              "      <th>food_preparation_time</th>\n",
              "      <th>delivery_time</th>\n",
              "      <th>Revenue</th>\n",
              "    </tr>\n",
              "  </thead>\n",
              "  <tbody>\n",
              "    <tr>\n",
              "      <th>0</th>\n",
              "      <td>1477147</td>\n",
              "      <td>337525</td>\n",
              "      <td>Hangawi</td>\n",
              "      <td>Korean</td>\n",
              "      <td>30.75</td>\n",
              "      <td>Weekend</td>\n",
              "      <td>Not given</td>\n",
              "      <td>25</td>\n",
              "      <td>20</td>\n",
              "      <td>7.6875</td>\n",
              "    </tr>\n",
              "    <tr>\n",
              "      <th>1</th>\n",
              "      <td>1477685</td>\n",
              "      <td>358141</td>\n",
              "      <td>Blue Ribbon Sushi Izakaya</td>\n",
              "      <td>Japanese</td>\n",
              "      <td>12.08</td>\n",
              "      <td>Weekend</td>\n",
              "      <td>Not given</td>\n",
              "      <td>25</td>\n",
              "      <td>23</td>\n",
              "      <td>1.8120</td>\n",
              "    </tr>\n",
              "    <tr>\n",
              "      <th>2</th>\n",
              "      <td>1477070</td>\n",
              "      <td>66393</td>\n",
              "      <td>Cafe Habana</td>\n",
              "      <td>Mexican</td>\n",
              "      <td>12.23</td>\n",
              "      <td>Weekday</td>\n",
              "      <td>5</td>\n",
              "      <td>23</td>\n",
              "      <td>28</td>\n",
              "      <td>1.8345</td>\n",
              "    </tr>\n",
              "    <tr>\n",
              "      <th>3</th>\n",
              "      <td>1477334</td>\n",
              "      <td>106968</td>\n",
              "      <td>Blue Ribbon Fried Chicken</td>\n",
              "      <td>American</td>\n",
              "      <td>29.20</td>\n",
              "      <td>Weekend</td>\n",
              "      <td>3</td>\n",
              "      <td>25</td>\n",
              "      <td>15</td>\n",
              "      <td>7.3000</td>\n",
              "    </tr>\n",
              "    <tr>\n",
              "      <th>4</th>\n",
              "      <td>1478249</td>\n",
              "      <td>76942</td>\n",
              "      <td>Dirty Bird to Go</td>\n",
              "      <td>American</td>\n",
              "      <td>11.59</td>\n",
              "      <td>Weekday</td>\n",
              "      <td>4</td>\n",
              "      <td>25</td>\n",
              "      <td>24</td>\n",
              "      <td>1.7385</td>\n",
              "    </tr>\n",
              "  </tbody>\n",
              "</table>\n",
              "</div>\n",
              "    <div class=\"colab-df-buttons\">\n",
              "\n",
              "  <div class=\"colab-df-container\">\n",
              "    <button class=\"colab-df-convert\" onclick=\"convertToInteractive('df-53d7eaf1-8913-42b0-a012-92cd1b255e07')\"\n",
              "            title=\"Convert this dataframe to an interactive table.\"\n",
              "            style=\"display:none;\">\n",
              "\n",
              "  <svg xmlns=\"http://www.w3.org/2000/svg\" height=\"24px\" viewBox=\"0 -960 960 960\">\n",
              "    <path d=\"M120-120v-720h720v720H120Zm60-500h600v-160H180v160Zm220 220h160v-160H400v160Zm0 220h160v-160H400v160ZM180-400h160v-160H180v160Zm440 0h160v-160H620v160ZM180-180h160v-160H180v160Zm440 0h160v-160H620v160Z\"/>\n",
              "  </svg>\n",
              "    </button>\n",
              "\n",
              "  <style>\n",
              "    .colab-df-container {\n",
              "      display:flex;\n",
              "      gap: 12px;\n",
              "    }\n",
              "\n",
              "    .colab-df-convert {\n",
              "      background-color: #E8F0FE;\n",
              "      border: none;\n",
              "      border-radius: 50%;\n",
              "      cursor: pointer;\n",
              "      display: none;\n",
              "      fill: #1967D2;\n",
              "      height: 32px;\n",
              "      padding: 0 0 0 0;\n",
              "      width: 32px;\n",
              "    }\n",
              "\n",
              "    .colab-df-convert:hover {\n",
              "      background-color: #E2EBFA;\n",
              "      box-shadow: 0px 1px 2px rgba(60, 64, 67, 0.3), 0px 1px 3px 1px rgba(60, 64, 67, 0.15);\n",
              "      fill: #174EA6;\n",
              "    }\n",
              "\n",
              "    .colab-df-buttons div {\n",
              "      margin-bottom: 4px;\n",
              "    }\n",
              "\n",
              "    [theme=dark] .colab-df-convert {\n",
              "      background-color: #3B4455;\n",
              "      fill: #D2E3FC;\n",
              "    }\n",
              "\n",
              "    [theme=dark] .colab-df-convert:hover {\n",
              "      background-color: #434B5C;\n",
              "      box-shadow: 0px 1px 3px 1px rgba(0, 0, 0, 0.15);\n",
              "      filter: drop-shadow(0px 1px 2px rgba(0, 0, 0, 0.3));\n",
              "      fill: #FFFFFF;\n",
              "    }\n",
              "  </style>\n",
              "\n",
              "    <script>\n",
              "      const buttonEl =\n",
              "        document.querySelector('#df-53d7eaf1-8913-42b0-a012-92cd1b255e07 button.colab-df-convert');\n",
              "      buttonEl.style.display =\n",
              "        google.colab.kernel.accessAllowed ? 'block' : 'none';\n",
              "\n",
              "      async function convertToInteractive(key) {\n",
              "        const element = document.querySelector('#df-53d7eaf1-8913-42b0-a012-92cd1b255e07');\n",
              "        const dataTable =\n",
              "          await google.colab.kernel.invokeFunction('convertToInteractive',\n",
              "                                                    [key], {});\n",
              "        if (!dataTable) return;\n",
              "\n",
              "        const docLinkHtml = 'Like what you see? Visit the ' +\n",
              "          '<a target=\"_blank\" href=https://colab.research.google.com/notebooks/data_table.ipynb>data table notebook</a>'\n",
              "          + ' to learn more about interactive tables.';\n",
              "        element.innerHTML = '';\n",
              "        dataTable['output_type'] = 'display_data';\n",
              "        await google.colab.output.renderOutput(dataTable, element);\n",
              "        const docLink = document.createElement('div');\n",
              "        docLink.innerHTML = docLinkHtml;\n",
              "        element.appendChild(docLink);\n",
              "      }\n",
              "    </script>\n",
              "  </div>\n",
              "\n",
              "\n",
              "    <div id=\"df-492143ba-b0f2-4ba9-ba10-24734e61f8b2\">\n",
              "      <button class=\"colab-df-quickchart\" onclick=\"quickchart('df-492143ba-b0f2-4ba9-ba10-24734e61f8b2')\"\n",
              "                title=\"Suggest charts\"\n",
              "                style=\"display:none;\">\n",
              "\n",
              "<svg xmlns=\"http://www.w3.org/2000/svg\" height=\"24px\"viewBox=\"0 0 24 24\"\n",
              "     width=\"24px\">\n",
              "    <g>\n",
              "        <path d=\"M19 3H5c-1.1 0-2 .9-2 2v14c0 1.1.9 2 2 2h14c1.1 0 2-.9 2-2V5c0-1.1-.9-2-2-2zM9 17H7v-7h2v7zm4 0h-2V7h2v10zm4 0h-2v-4h2v4z\"/>\n",
              "    </g>\n",
              "</svg>\n",
              "      </button>\n",
              "\n",
              "<style>\n",
              "  .colab-df-quickchart {\n",
              "      --bg-color: #E8F0FE;\n",
              "      --fill-color: #1967D2;\n",
              "      --hover-bg-color: #E2EBFA;\n",
              "      --hover-fill-color: #174EA6;\n",
              "      --disabled-fill-color: #AAA;\n",
              "      --disabled-bg-color: #DDD;\n",
              "  }\n",
              "\n",
              "  [theme=dark] .colab-df-quickchart {\n",
              "      --bg-color: #3B4455;\n",
              "      --fill-color: #D2E3FC;\n",
              "      --hover-bg-color: #434B5C;\n",
              "      --hover-fill-color: #FFFFFF;\n",
              "      --disabled-bg-color: #3B4455;\n",
              "      --disabled-fill-color: #666;\n",
              "  }\n",
              "\n",
              "  .colab-df-quickchart {\n",
              "    background-color: var(--bg-color);\n",
              "    border: none;\n",
              "    border-radius: 50%;\n",
              "    cursor: pointer;\n",
              "    display: none;\n",
              "    fill: var(--fill-color);\n",
              "    height: 32px;\n",
              "    padding: 0;\n",
              "    width: 32px;\n",
              "  }\n",
              "\n",
              "  .colab-df-quickchart:hover {\n",
              "    background-color: var(--hover-bg-color);\n",
              "    box-shadow: 0 1px 2px rgba(60, 64, 67, 0.3), 0 1px 3px 1px rgba(60, 64, 67, 0.15);\n",
              "    fill: var(--button-hover-fill-color);\n",
              "  }\n",
              "\n",
              "  .colab-df-quickchart-complete:disabled,\n",
              "  .colab-df-quickchart-complete:disabled:hover {\n",
              "    background-color: var(--disabled-bg-color);\n",
              "    fill: var(--disabled-fill-color);\n",
              "    box-shadow: none;\n",
              "  }\n",
              "\n",
              "  .colab-df-spinner {\n",
              "    border: 2px solid var(--fill-color);\n",
              "    border-color: transparent;\n",
              "    border-bottom-color: var(--fill-color);\n",
              "    animation:\n",
              "      spin 1s steps(1) infinite;\n",
              "  }\n",
              "\n",
              "  @keyframes spin {\n",
              "    0% {\n",
              "      border-color: transparent;\n",
              "      border-bottom-color: var(--fill-color);\n",
              "      border-left-color: var(--fill-color);\n",
              "    }\n",
              "    20% {\n",
              "      border-color: transparent;\n",
              "      border-left-color: var(--fill-color);\n",
              "      border-top-color: var(--fill-color);\n",
              "    }\n",
              "    30% {\n",
              "      border-color: transparent;\n",
              "      border-left-color: var(--fill-color);\n",
              "      border-top-color: var(--fill-color);\n",
              "      border-right-color: var(--fill-color);\n",
              "    }\n",
              "    40% {\n",
              "      border-color: transparent;\n",
              "      border-right-color: var(--fill-color);\n",
              "      border-top-color: var(--fill-color);\n",
              "    }\n",
              "    60% {\n",
              "      border-color: transparent;\n",
              "      border-right-color: var(--fill-color);\n",
              "    }\n",
              "    80% {\n",
              "      border-color: transparent;\n",
              "      border-right-color: var(--fill-color);\n",
              "      border-bottom-color: var(--fill-color);\n",
              "    }\n",
              "    90% {\n",
              "      border-color: transparent;\n",
              "      border-bottom-color: var(--fill-color);\n",
              "    }\n",
              "  }\n",
              "</style>\n",
              "\n",
              "      <script>\n",
              "        async function quickchart(key) {\n",
              "          const quickchartButtonEl =\n",
              "            document.querySelector('#' + key + ' button');\n",
              "          quickchartButtonEl.disabled = true;  // To prevent multiple clicks.\n",
              "          quickchartButtonEl.classList.add('colab-df-spinner');\n",
              "          try {\n",
              "            const charts = await google.colab.kernel.invokeFunction(\n",
              "                'suggestCharts', [key], {});\n",
              "          } catch (error) {\n",
              "            console.error('Error during call to suggestCharts:', error);\n",
              "          }\n",
              "          quickchartButtonEl.classList.remove('colab-df-spinner');\n",
              "          quickchartButtonEl.classList.add('colab-df-quickchart-complete');\n",
              "        }\n",
              "        (() => {\n",
              "          let quickchartButtonEl =\n",
              "            document.querySelector('#df-492143ba-b0f2-4ba9-ba10-24734e61f8b2 button');\n",
              "          quickchartButtonEl.style.display =\n",
              "            google.colab.kernel.accessAllowed ? 'block' : 'none';\n",
              "        })();\n",
              "      </script>\n",
              "    </div>\n",
              "\n",
              "    </div>\n",
              "  </div>\n"
            ],
            "application/vnd.google.colaboratory.intrinsic+json": {
              "type": "dataframe",
              "variable_name": "df",
              "summary": "{\n  \"name\": \"df\",\n  \"rows\": 1898,\n  \"fields\": [\n    {\n      \"column\": \"order_id\",\n      \"properties\": {\n        \"dtype\": \"number\",\n        \"std\": 548,\n        \"min\": 1476547,\n        \"max\": 1478444,\n        \"num_unique_values\": 1898,\n        \"samples\": [\n          1477722,\n          1478319,\n          1477650\n        ],\n        \"semantic_type\": \"\",\n        \"description\": \"\"\n      }\n    },\n    {\n      \"column\": \"customer_id\",\n      \"properties\": {\n        \"dtype\": \"number\",\n        \"std\": 113698,\n        \"min\": 1311,\n        \"max\": 405334,\n        \"num_unique_values\": 1200,\n        \"samples\": [\n          351329,\n          49987,\n          345899\n        ],\n        \"semantic_type\": \"\",\n        \"description\": \"\"\n      }\n    },\n    {\n      \"column\": \"restaurant_name\",\n      \"properties\": {\n        \"dtype\": \"category\",\n        \"num_unique_values\": 178,\n        \"samples\": [\n          \"Tortaria\",\n          \"Osteria Morini\",\n          \"Philippe Chow\"\n        ],\n        \"semantic_type\": \"\",\n        \"description\": \"\"\n      }\n    },\n    {\n      \"column\": \"cuisine_type\",\n      \"properties\": {\n        \"dtype\": \"category\",\n        \"num_unique_values\": 14,\n        \"samples\": [\n          \"Thai\",\n          \"French\",\n          \"Korean\"\n        ],\n        \"semantic_type\": \"\",\n        \"description\": \"\"\n      }\n    },\n    {\n      \"column\": \"cost_of_the_order\",\n      \"properties\": {\n        \"dtype\": \"number\",\n        \"std\": 7.483812110049553,\n        \"min\": 4.47,\n        \"max\": 35.41,\n        \"num_unique_values\": 312,\n        \"samples\": [\n          21.29,\n          7.18,\n          13.34\n        ],\n        \"semantic_type\": \"\",\n        \"description\": \"\"\n      }\n    },\n    {\n      \"column\": \"day_of_the_week\",\n      \"properties\": {\n        \"dtype\": \"category\",\n        \"num_unique_values\": 2,\n        \"samples\": [\n          \"Weekday\",\n          \"Weekend\"\n        ],\n        \"semantic_type\": \"\",\n        \"description\": \"\"\n      }\n    },\n    {\n      \"column\": \"rating\",\n      \"properties\": {\n        \"dtype\": \"category\",\n        \"num_unique_values\": 4,\n        \"samples\": [\n          \"5\",\n          \"4\"\n        ],\n        \"semantic_type\": \"\",\n        \"description\": \"\"\n      }\n    },\n    {\n      \"column\": \"food_preparation_time\",\n      \"properties\": {\n        \"dtype\": \"number\",\n        \"std\": 4,\n        \"min\": 20,\n        \"max\": 35,\n        \"num_unique_values\": 16,\n        \"samples\": [\n          25,\n          23\n        ],\n        \"semantic_type\": \"\",\n        \"description\": \"\"\n      }\n    },\n    {\n      \"column\": \"delivery_time\",\n      \"properties\": {\n        \"dtype\": \"number\",\n        \"std\": 4,\n        \"min\": 15,\n        \"max\": 33,\n        \"num_unique_values\": 19,\n        \"samples\": [\n          20,\n          21\n        ],\n        \"semantic_type\": \"\",\n        \"description\": \"\"\n      }\n    },\n    {\n      \"column\": \"Revenue\",\n      \"properties\": {\n        \"dtype\": \"number\",\n        \"std\": 2.295598285490868,\n        \"min\": 0.0,\n        \"max\": 8.8525,\n        \"num_unique_values\": 306,\n        \"samples\": [\n          1.1415,\n          2.3355\n        ],\n        \"semantic_type\": \"\",\n        \"description\": \"\"\n      }\n    }\n  ]\n}"
            }
          },
          "metadata": {},
          "execution_count": 108
        }
      ],
      "source": [
        "#function to determine the revenue\n",
        "def compute_rev(x):\n",
        "    if x > 20:\n",
        "        return x*0.25\n",
        "    elif x > 5:\n",
        "        return x*0.15\n",
        "    else:\n",
        "        return x*0\n",
        "\n",
        "df['Revenue'] = df['cost_of_the_order'].apply(compute_rev) ## Write the apprpriate column name to compute the revenue\n",
        "df.head()"
      ]
    },
    {
      "cell_type": "code",
      "execution_count": null,
      "metadata": {
        "id": "Ab_UW6kRIAk3",
        "colab": {
          "base_uri": "https://localhost:8080/"
        },
        "outputId": "196f4877-507f-46be-ff22-deee45c2d615"
      },
      "outputs": [
        {
          "output_type": "stream",
          "name": "stdout",
          "text": [
            "The net revenue is around 6166.3 dollars\n"
          ]
        }
      ],
      "source": [
        "# get the total revenue and print it\n",
        "total_rev = df['Revenue'].sum()\n",
        "print('The net revenue is around', round(total_rev, 2), 'dollars')"
      ]
    },
    {
      "cell_type": "markdown",
      "metadata": {
        "id": "LZy7Tky82rdT"
      },
      "source": [
        "### **Question 15:** The company wants to analyze the total time required to deliver the food. What percentage of orders take more than 60 minutes to get delivered from the time the order is placed? (The food has to be prepared and then delivered.)[2 marks]\n"
      ]
    },
    {
      "cell_type": "code",
      "execution_count": null,
      "metadata": {
        "id": "Ati2ZEEE2rdT",
        "colab": {
          "base_uri": "https://localhost:8080/"
        },
        "outputId": "b36ad5d5-6c83-45c4-c955-81da06265cf0"
      },
      "outputs": [
        {
          "output_type": "execute_result",
          "data": {
            "text/plain": [
              "np.float64(10.54)"
            ]
          },
          "metadata": {},
          "execution_count": 112
        }
      ],
      "source": [
        "# Calculate total delivery time and add a new column to the dataframe df to store the total delivery time\n",
        "df['total_time'] = df['food_preparation_time'] + df['delivery_time']\n",
        "\n",
        "\n",
        "## Find the percentage of orders that have more than 60 minutes of total delivery time (see Question 9 for reference)\n",
        "(df[df['total_time'] > 60].count()['order_id']*100/df.shape[0]).round(2)\n",
        "\n",
        "\n",
        "\n"
      ]
    },
    {
      "cell_type": "markdown",
      "metadata": {
        "id": "SYOKcqNF2rdU"
      },
      "source": [
        "### **Question 16:** The company wants to analyze the delivery time of the orders on weekdays and weekends. How does the mean delivery time vary during weekdays and weekends? [2 marks]"
      ]
    },
    {
      "cell_type": "code",
      "execution_count": null,
      "metadata": {
        "id": "A2eovxKR2rdU",
        "colab": {
          "base_uri": "https://localhost:8080/"
        },
        "outputId": "28a96d0b-5eb7-4ae0-da40-d2bbec501a0b"
      },
      "outputs": [
        {
          "output_type": "stream",
          "name": "stdout",
          "text": [
            "The mean delivery time on weekdays is around 28 minutes\n",
            "The mean delivery time on weekend is around 22 minutes\n"
          ]
        }
      ],
      "source": [
        "# Get the mean delivery time on weekdays and print it\n",
        "print('The mean delivery time on weekdays is around',\n",
        "      round(df[df['day_of_the_week'] == 'Weekday']['delivery_time'].mean()),\n",
        "     'minutes')\n",
        "\n",
        "\n",
        "## Get the mean delivery time on weekends and print it\n",
        "print('The mean delivery time on weekend is around', round(df[df['day_of_the_week'] == 'Weekend']['delivery_time'].mean()), 'minutes')\n",
        "\n",
        "\n",
        "\n",
        "\n"
      ]
    },
    {
      "cell_type": "markdown",
      "metadata": {
        "id": "2nE3pq472rdU"
      },
      "source": [
        "### Conclusion and Recommendations"
      ]
    },
    {
      "cell_type": "markdown",
      "metadata": {
        "id": "DL1sNndy2rdU"
      },
      "source": [
        "\n",
        "### **Question 17:** What are your conclusions from the analysis? What recommendations would you like to share to help improve the business? (You can use cuisine type and feedback ratings to drive your business recommendations.) [6 marks]"
      ]
    },
    {
      "cell_type": "markdown",
      "metadata": {
        "id": "VTugVsL4Ddz-"
      },
      "source": [
        "### Conclusions:\n",
        "* Most popular cuisines are American, Japanese, Italian, Chinese, Mexican.\n",
        "* Weekend orders are significantly higher than Weekday orders.\n",
        "* Based on the rating pattern, customers seem to be willing to pay the cost for a good service.\n",
        "* Data showed no correlation between the rating and average food preparation and delivery times. It suggests the factors other than delivery times affect the ratings.\n",
        "* Limitations\n",
        "   - Data has no ratings lower than 3, indicating disssatisfied customers are not providing feedback.\n",
        "   - Demographic information will help to anlayze the food preferences.\n",
        "   - Weather conditions will help to analyze its affect on orders and delivery times.\n",
        "\n"
      ]
    },
    {
      "cell_type": "markdown",
      "metadata": {
        "id": "PWnsI0i_guWJ"
      },
      "source": [
        "### Recommendations:\n",
        "\n",
        "* Order demand:  Given the strong demand, optimize the resource  allocation and supplies to handle the order volume effectively on weekends. Find ways to attract more customers during the week, for example offering Weekday only deals or promotions..\n",
        "* Restaurant Options: Given the strong demand for American, Japanese, Italian and Chinese, add more restaurants that serve these cuisines. Also, customers gave high rating for Spanish, Thai, Indian, and Mexican, add restaurants serving these cuisines.\n",
        "* Customers: Give special discounts or offers to loyal customers to keep them coming back. Attract new customers to try the service with new customer only deals.  Encourage and incentivize the customers who provide genuine feedback.\n",
        "* Service Quality: Customer satisfaction largely driven by food quality and delivery time. Explore opportunities with restaurants to improve the food preparation and delivery times. When loyal customers order, suggest them to try out other cuisines.\n",
        "\n"
      ]
    },
    {
      "cell_type": "markdown",
      "metadata": {
        "id": "Kvk0Fh6WhMjU"
      },
      "source": [
        "---"
      ]
    }
  ],
  "metadata": {
    "colab": {
      "collapsed_sections": [
        "LUh8hTiW2rdH",
        "2Dl2aL1W2rdI",
        "4ceeYAVy2rdO",
        "lu0o5GkQ2rdR",
        "2nE3pq472rdU",
        "DL1sNndy2rdU"
      ],
      "provenance": []
    },
    "kernelspec": {
      "display_name": "Python 3 (ipykernel)",
      "language": "python",
      "name": "python3"
    },
    "language_info": {
      "codemirror_mode": {
        "name": "ipython",
        "version": 3
      },
      "file_extension": ".py",
      "mimetype": "text/x-python",
      "name": "python",
      "nbconvert_exporter": "python",
      "pygments_lexer": "ipython3",
      "version": "3.11.7"
    }
  },
  "nbformat": 4,
  "nbformat_minor": 0
}