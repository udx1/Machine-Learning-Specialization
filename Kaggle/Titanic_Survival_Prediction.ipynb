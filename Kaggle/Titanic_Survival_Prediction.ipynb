{
  "metadata": {
    "kernelspec": {
      "language": "python",
      "display_name": "Python 3",
      "name": "python3"
    },
    "language_info": {
      "name": "python",
      "version": "3.11.13",
      "mimetype": "text/x-python",
      "codemirror_mode": {
        "name": "ipython",
        "version": 3
      },
      "pygments_lexer": "ipython3",
      "nbconvert_exporter": "python",
      "file_extension": ".py"
    },
    "kaggle": {
      "accelerator": "none",
      "dataSources": [
        {
          "sourceId": 3136,
          "databundleVersionId": 26502,
          "sourceType": "competition"
        }
      ],
      "dockerImageVersionId": 31153,
      "isInternetEnabled": true,
      "language": "python",
      "sourceType": "notebook",
      "isGpuEnabled": false
    },
    "colab": {
      "name": "notebook2c6225c0a4",
      "provenance": [],
      "include_colab_link": true
    }
  },
  "nbformat_minor": 0,
  "nbformat": 4,
  "cells": [
    {
      "cell_type": "markdown",
      "metadata": {
        "id": "view-in-github",
        "colab_type": "text"
      },
      "source": [
        "<a href=\"https://colab.research.google.com/github/udx1/Machine-Learning-Specialization/blob/main/Kaggle/Titanic_Survival_Prediction.ipynb\" target=\"_parent\"><img src=\"https://colab.research.google.com/assets/colab-badge.svg\" alt=\"Open In Colab\"/></a>"
      ]
    },
    {
      "source": [
        "# IMPORTANT: SOME KAGGLE DATA SOURCES ARE PRIVATE\n",
        "# RUN THIS CELL IN ORDER TO IMPORT YOUR KAGGLE DATA SOURCES.\n",
        "import kagglehub\n",
        "kagglehub.login()\n"
      ],
      "metadata": {
        "id": "01sR1kMrxs9L"
      },
      "cell_type": "code",
      "outputs": [],
      "execution_count": null
    },
    {
      "source": [
        "# IMPORTANT: RUN THIS CELL IN ORDER TO IMPORT YOUR KAGGLE DATA SOURCES,\n",
        "# THEN FEEL FREE TO DELETE THIS CELL.\n",
        "# NOTE: THIS NOTEBOOK ENVIRONMENT DIFFERS FROM KAGGLE'S PYTHON\n",
        "# ENVIRONMENT SO THERE MAY BE MISSING LIBRARIES USED BY YOUR\n",
        "# NOTEBOOK.\n",
        "\n",
        "titanic_path = kagglehub.competition_download('titanic')\n",
        "\n",
        "print('Data source import complete.')\n"
      ],
      "metadata": {
        "id": "DlnoSvqFxs9N"
      },
      "cell_type": "code",
      "outputs": [],
      "execution_count": null
    },
    {
      "cell_type": "markdown",
      "source": [
        "# *Problem Statement*"
      ],
      "metadata": {
        "id": "Js8ftjodxs9O"
      }
    },
    {
      "cell_type": "markdown",
      "source": [
        "### **Context**\n",
        "\n",
        "The sinking of the Titanic is one of the most infamous shipwrecks in history.\n",
        "\n",
        "On April 15, 1912, during her maiden voyage, the widely considered “unsinkable” RMS Titanic sank after colliding with an iceberg. Unfortunately, there weren’t enough lifeboats for everyone onboard, resulting in the death of 1502 out of 2224 passengers and crew.\n",
        "\n",
        "While there was some element of luck involved in surviving, it seems some groups of people were more likely to survive than others."
      ],
      "metadata": {
        "id": "7VA4nuUOxs9P"
      }
    },
    {
      "cell_type": "markdown",
      "source": [
        "### Objective\n",
        "To predict if a passenger survived the sinking of the Titanic or not.\n"
      ],
      "metadata": {
        "id": "8nHUwQKXxs9Q"
      }
    },
    {
      "cell_type": "markdown",
      "source": [
        "### Data Dictionary\n",
        "\n",
        "\n",
        "* survival : Survivied yes or no (0 = No, 1 = Yes)\n",
        "* pclass   : Ticket class\t(1 = 1st, 2 = 2nd, 3 = 3rd)\n",
        "* sex      : Male or Female\n",
        "* Age\t   : Age in years\n",
        "* sibsp\t   : # of siblings / spouses aboard the Titanic\n",
        "* parch\t   : # of parents / children aboard the Titanic\n",
        "* ticket   : Ticket number\n",
        "* fare\t   : Passenger fare\n",
        "* cabin\t   : Cabin number\n",
        "* embarked : Port of Embarkation (C = Cherbourg, Q = Queenstown, S = Southampton)"
      ],
      "metadata": {
        "id": "yLY-0Yjuxs9Q"
      }
    },
    {
      "cell_type": "code",
      "source": [
        "# This Python 3 environment comes with many helpful analytics libraries installed\n",
        "# It is defined by the kaggle/python Docker image: https://github.com/kaggle/docker-python\n",
        "# For example, here's several helpful packages to load\n",
        "\n",
        "import numpy as np # linear algebra\n",
        "import pandas as pd # data processing, CSV file I/O (e.g. pd.read_csv)\n",
        "\n",
        "# Input data files are available in the read-only \"../input/\" directory\n",
        "# For example, running this (by clicking run or pressing Shift+Enter) will list all files under the input directory\n",
        "\n",
        "import os\n",
        "for dirname, _, filenames in os.walk('/kaggle/input'):\n",
        "    for filename in filenames:\n",
        "        print(os.path.join(dirname, filename))\n",
        "\n",
        "# You can write up to 20GB to the current directory (/kaggle/working/) that gets preserved as output when you create a version using \"Save & Run All\"\n",
        "# You can also write temporary files to /kaggle/temp/, but they won't be saved outside of the current session"
      ],
      "metadata": {
        "_uuid": "8f2839f25d086af736a60e9eeb907d3b93b6e0e5",
        "_cell_guid": "b1076dfc-b9ad-4769-8c92-a6c4dae69d19",
        "trusted": true,
        "execution": {
          "iopub.status.busy": "2025-10-26T04:16:31.718269Z",
          "iopub.execute_input": "2025-10-26T04:16:31.718638Z",
          "iopub.status.idle": "2025-10-26T04:16:31.730781Z",
          "shell.execute_reply.started": "2025-10-26T04:16:31.718617Z",
          "shell.execute_reply": "2025-10-26T04:16:31.729773Z"
        },
        "id": "hNBgDrxGxs9R"
      },
      "outputs": [],
      "execution_count": null
    },
    {
      "cell_type": "markdown",
      "source": [
        "### Import the python libraries"
      ],
      "metadata": {
        "id": "gYrgv-Q7xs9S"
      }
    },
    {
      "cell_type": "code",
      "source": [
        "# Libraries required to do data visualization.\n",
        "import matplotlib.pyplot as plt\n",
        "import seaborn as sns\n",
        "\n",
        "import plotly.express as px\n",
        "\n",
        "# To train decision tree model\n",
        "from sklearn.tree import DecisionTreeClassifier\n",
        "from sklearn.tree import plot_tree\n",
        "\n",
        "# To evaluate model performance\n",
        "from sklearn.metrics import accuracy_score, f1_score\n",
        "\n",
        "# To tune different models.\n",
        "from sklearn.model_selection import GridSearchCV\n",
        "\n",
        "# import warnings and filter them\n",
        "import warnings\n",
        "warnings.filterwarnings(\"ignore\")\n"
      ],
      "metadata": {
        "trusted": true,
        "execution": {
          "iopub.status.busy": "2025-10-26T03:27:45.431132Z",
          "iopub.execute_input": "2025-10-26T03:27:45.431486Z",
          "iopub.status.idle": "2025-10-26T03:27:45.43718Z",
          "shell.execute_reply.started": "2025-10-26T03:27:45.431461Z",
          "shell.execute_reply": "2025-10-26T03:27:45.435989Z"
        },
        "id": "alCnGkUHxs9T"
      },
      "outputs": [],
      "execution_count": null
    },
    {
      "cell_type": "markdown",
      "source": [
        "### Load Data\n",
        "Files\n",
        "* /kaggle/input/titanic/train.csv\n",
        "* /kaggle/input/titanic/test.csv\n",
        "* /kaggle/input/titanic/gender_submission.csv"
      ],
      "metadata": {
        "id": "axupuBqTxs9U"
      }
    },
    {
      "cell_type": "code",
      "source": [
        "train_data = pd.read_csv(\"/kaggle/input/titanic/train.csv\")\n",
        "\n",
        "df = train_data.copy()\n",
        "\n"
      ],
      "metadata": {
        "trusted": true,
        "execution": {
          "iopub.status.busy": "2025-10-26T04:00:54.577852Z",
          "iopub.execute_input": "2025-10-26T04:00:54.578183Z",
          "iopub.status.idle": "2025-10-26T04:00:54.592078Z",
          "shell.execute_reply.started": "2025-10-26T04:00:54.578159Z",
          "shell.execute_reply": "2025-10-26T04:00:54.59108Z"
        },
        "id": "e3hGeB4zxs9U"
      },
      "outputs": [],
      "execution_count": null
    },
    {
      "cell_type": "code",
      "source": [
        "test_data = pd.read_csv(\"/kaggle/input/titanic/test.csv\")\n"
      ],
      "metadata": {
        "trusted": true,
        "execution": {
          "iopub.status.busy": "2025-10-26T04:03:25.949818Z",
          "iopub.execute_input": "2025-10-26T04:03:25.950146Z",
          "iopub.status.idle": "2025-10-26T04:03:25.961134Z",
          "shell.execute_reply.started": "2025-10-26T04:03:25.950123Z",
          "shell.execute_reply": "2025-10-26T04:03:25.960141Z"
        },
        "id": "GowD5hn-xs9V"
      },
      "outputs": [],
      "execution_count": null
    },
    {
      "cell_type": "markdown",
      "source": [
        "# Data Overview"
      ],
      "metadata": {
        "id": "EU15fC_fxs9V"
      }
    },
    {
      "cell_type": "code",
      "source": [
        "# Check the attributes and data types\n",
        "df.info()"
      ],
      "metadata": {
        "trusted": true,
        "execution": {
          "iopub.status.busy": "2025-10-26T03:27:53.32631Z",
          "iopub.execute_input": "2025-10-26T03:27:53.326685Z",
          "iopub.status.idle": "2025-10-26T03:27:53.339015Z",
          "shell.execute_reply.started": "2025-10-26T03:27:53.326659Z",
          "shell.execute_reply": "2025-10-26T03:27:53.337944Z"
        },
        "id": "LkOnFz5Gxs9V"
      },
      "outputs": [],
      "execution_count": null
    },
    {
      "cell_type": "markdown",
      "source": [
        "**Observations**\n",
        "\n",
        "* Data has 7 numeric and 5 categorical features.\n",
        "* Some data is missing in Age, Cabin and Embarked features.\n"
      ],
      "metadata": {
        "id": "L0u7qHrsxs9W"
      }
    },
    {
      "cell_type": "code",
      "source": [
        "# Check the shape of the data\n",
        "df.shape"
      ],
      "metadata": {
        "trusted": true,
        "execution": {
          "iopub.status.busy": "2025-10-26T03:27:59.481127Z",
          "iopub.execute_input": "2025-10-26T03:27:59.481452Z",
          "iopub.status.idle": "2025-10-26T03:27:59.487217Z",
          "shell.execute_reply.started": "2025-10-26T03:27:59.481432Z",
          "shell.execute_reply": "2025-10-26T03:27:59.486266Z"
        },
        "id": "52LLauOJxs9W"
      },
      "outputs": [],
      "execution_count": null
    },
    {
      "cell_type": "markdown",
      "source": [
        "* There are 891 rows and 12 columns in the data"
      ],
      "metadata": {
        "id": "-kOc1Slvxs9W"
      }
    },
    {
      "cell_type": "code",
      "source": [
        "# Check the top 5 rows of the data\n",
        "df.head()"
      ],
      "metadata": {
        "trusted": true,
        "execution": {
          "iopub.status.busy": "2025-10-26T03:28:06.757212Z",
          "iopub.execute_input": "2025-10-26T03:28:06.757516Z",
          "iopub.status.idle": "2025-10-26T03:28:06.771711Z",
          "shell.execute_reply.started": "2025-10-26T03:28:06.757494Z",
          "shell.execute_reply": "2025-10-26T03:28:06.770763Z"
        },
        "id": "KjlLqxNsxs9W"
      },
      "outputs": [],
      "execution_count": null
    },
    {
      "cell_type": "code",
      "source": [
        "# Check the statistical summary of the numeric features.\n",
        "\n",
        "numeric_features = df.select_dtypes(include=\"number\").columns.to_list()\n",
        "\n",
        "df[numeric_features].describe().T"
      ],
      "metadata": {
        "trusted": true,
        "execution": {
          "iopub.status.busy": "2025-10-26T03:28:15.215354Z",
          "iopub.execute_input": "2025-10-26T03:28:15.215727Z",
          "iopub.status.idle": "2025-10-26T03:28:15.244381Z",
          "shell.execute_reply.started": "2025-10-26T03:28:15.215701Z",
          "shell.execute_reply": "2025-10-26T03:28:15.243324Z"
        },
        "id": "kRfNGbg5xs9X"
      },
      "outputs": [],
      "execution_count": null
    },
    {
      "cell_type": "markdown",
      "source": [
        "* The youngest passenger is 14years, while the oldest is 80 years. The average age of the passengers is 30years.\n",
        "* The passenger fare ranges from 0 to 512"
      ],
      "metadata": {
        "id": "GOmP1qXgxs9X"
      }
    },
    {
      "cell_type": "code",
      "source": [
        "# Check for missing values\n",
        "df.isna().sum()"
      ],
      "metadata": {
        "trusted": true,
        "execution": {
          "iopub.status.busy": "2025-10-26T03:28:20.108102Z",
          "iopub.execute_input": "2025-10-26T03:28:20.108565Z",
          "iopub.status.idle": "2025-10-26T03:28:20.116483Z",
          "shell.execute_reply.started": "2025-10-26T03:28:20.108531Z",
          "shell.execute_reply": "2025-10-26T03:28:20.115601Z"
        },
        "id": "QoLCbsJuxs9X"
      },
      "outputs": [],
      "execution_count": null
    },
    {
      "cell_type": "markdown",
      "source": [
        "* Age and Cabin are missing lot of values.\n",
        "* Embarked is missing 2 values."
      ],
      "metadata": {
        "id": "ou6DA-q8xs9X"
      }
    },
    {
      "cell_type": "code",
      "source": [
        "# Check for duplicate records\n",
        "df.duplicated().sum()"
      ],
      "metadata": {
        "trusted": true,
        "execution": {
          "iopub.status.busy": "2025-10-26T03:28:28.104245Z",
          "iopub.execute_input": "2025-10-26T03:28:28.105127Z",
          "iopub.status.idle": "2025-10-26T03:28:28.113442Z",
          "shell.execute_reply.started": "2025-10-26T03:28:28.105084Z",
          "shell.execute_reply": "2025-10-26T03:28:28.112455Z"
        },
        "id": "7HpeMfGuxs9Y"
      },
      "outputs": [],
      "execution_count": null
    },
    {
      "cell_type": "markdown",
      "source": [
        "* There are no duplicate records in the data"
      ],
      "metadata": {
        "id": "BaB-kg5Exs9Y"
      }
    },
    {
      "cell_type": "markdown",
      "source": [
        "# *Exploratory Data Analysis*"
      ],
      "metadata": {
        "id": "0SWy984Yxs9Y"
      }
    },
    {
      "cell_type": "markdown",
      "source": [
        "# *Univariate Analysis*"
      ],
      "metadata": {
        "id": "wtwZcyZWxs9Y"
      }
    },
    {
      "cell_type": "code",
      "source": [
        "# Check the distribution of numeric features\n",
        "\n",
        "plt.figure(figsize=(12,8))\n",
        "\n",
        "for i,feature in enumerate(numeric_features):\n",
        "    plt.subplot(3,3,i+1)\n",
        "    sns.histplot(data=df, x=feature, kde=True)\n",
        "\n",
        "plt.tight_layout()\n",
        "plt.show()\n",
        "\n"
      ],
      "metadata": {
        "trusted": true,
        "execution": {
          "iopub.status.busy": "2025-10-26T03:28:32.75054Z",
          "iopub.execute_input": "2025-10-26T03:28:32.75094Z",
          "iopub.status.idle": "2025-10-26T03:28:34.215503Z",
          "shell.execute_reply.started": "2025-10-26T03:28:32.75091Z",
          "shell.execute_reply": "2025-10-26T03:28:34.214438Z"
        },
        "id": "wCKxSvJNxs9Y"
      },
      "outputs": [],
      "execution_count": null
    },
    {
      "cell_type": "markdown",
      "source": [
        "* Age exhibits right skewness in the data.\n",
        "* Fare exhibits right skewness."
      ],
      "metadata": {
        "id": "CvQUdq3hxs9Z"
      }
    },
    {
      "cell_type": "code",
      "source": [
        "# Check for Outliers\n",
        "\n",
        "plt.figure(figsize=(12,15))\n",
        "\n",
        "for i, feature in enumerate(numeric_features):\n",
        "    plt.subplot(3,3,i+1)\n",
        "    sns.boxplot(data=df, y=feature)\n",
        "\n",
        "plt.tight_layout()\n",
        "plt.show()\n",
        ""
      ],
      "metadata": {
        "trusted": true,
        "execution": {
          "iopub.status.busy": "2025-10-26T03:28:34.867338Z",
          "iopub.execute_input": "2025-10-26T03:28:34.867685Z",
          "iopub.status.idle": "2025-10-26T03:28:35.663981Z",
          "shell.execute_reply.started": "2025-10-26T03:28:34.867663Z",
          "shell.execute_reply": "2025-10-26T03:28:35.662772Z"
        },
        "id": "H1RNB_kUxs9Z"
      },
      "outputs": [],
      "execution_count": null
    },
    {
      "cell_type": "markdown",
      "source": [
        "* Age and Fare data has some outliers"
      ],
      "metadata": {
        "id": "uIOzxRMixs9Z"
      }
    },
    {
      "cell_type": "code",
      "source": [
        "# Check for Unique and count of Survived feature\n",
        "\n",
        "print(\"Unique values and count of Survivied feature: \\n\", df['Survived'].value_counts())\n",
        "print(\"Unique values and percentage of Survivied feature: \\n\", round(df['Survived'].value_counts()*100/df.shape[0],2))\n",
        "\n",
        "sns.countplot(data=df, x='Survived')\n",
        "plt.show()"
      ],
      "metadata": {
        "trusted": true,
        "execution": {
          "iopub.status.busy": "2025-10-26T03:28:41.214417Z",
          "iopub.execute_input": "2025-10-26T03:28:41.21477Z",
          "iopub.status.idle": "2025-10-26T03:28:41.340522Z",
          "shell.execute_reply.started": "2025-10-26T03:28:41.214748Z",
          "shell.execute_reply": "2025-10-26T03:28:41.339538Z"
        },
        "id": "2W9ePnxSxs9Z"
      },
      "outputs": [],
      "execution_count": null
    },
    {
      "cell_type": "markdown",
      "source": [
        "* Out of 891 passengers, 341 passengers survived and 549 didn't survive.\n",
        "* Nearly 62% of the passengers didn't survive, indicating significant loss of life."
      ],
      "metadata": {
        "id": "PwueHmEAxs9a"
      }
    },
    {
      "cell_type": "code",
      "source": [
        "# Check for Unique and count of Sex feature\n",
        "\n",
        "print(\"Unique values and count of Sex feature: \\n\", df['Sex'].value_counts())\n",
        "print(\"Unique values and percentage of Sex feature: \\n\", round(df['Sex'].value_counts()*100/df.shape[0],2))\n",
        "\n",
        "sns.countplot(data=df, x='Sex')\n",
        "plt.show()"
      ],
      "metadata": {
        "trusted": true,
        "execution": {
          "iopub.status.busy": "2025-10-26T03:28:46.916709Z",
          "iopub.execute_input": "2025-10-26T03:28:46.917156Z",
          "iopub.status.idle": "2025-10-26T03:28:47.043106Z",
          "shell.execute_reply.started": "2025-10-26T03:28:46.917124Z",
          "shell.execute_reply": "2025-10-26T03:28:47.042054Z"
        },
        "id": "zv4fzSLrxs9a"
      },
      "outputs": [],
      "execution_count": null
    },
    {
      "cell_type": "markdown",
      "source": [
        "* Out of 891 passengers, 577 are male and 314 are female passengers.\n",
        "* Nearly 65% of the passengers are male"
      ],
      "metadata": {
        "id": "Bi7Wrxluxs9a"
      }
    },
    {
      "cell_type": "markdown",
      "source": [
        "# *Bivariate Analysis*"
      ],
      "metadata": {
        "id": "-cIHxbcsxs9a"
      }
    },
    {
      "cell_type": "code",
      "source": [
        "# Check the correlation between the numeric variables\n",
        "\n",
        "sns.heatmap(data=df[numeric_features].corr(), annot=True, cmap=\"Spectral\", fmt=\"0.2f\")\n",
        "plt.show()"
      ],
      "metadata": {
        "trusted": true,
        "execution": {
          "iopub.status.busy": "2025-10-26T03:28:51.700266Z",
          "iopub.execute_input": "2025-10-26T03:28:51.700606Z",
          "iopub.status.idle": "2025-10-26T03:28:52.020616Z",
          "shell.execute_reply.started": "2025-10-26T03:28:51.700567Z",
          "shell.execute_reply": "2025-10-26T03:28:52.019548Z"
        },
        "id": "3VnTewu_xs9b"
      },
      "outputs": [],
      "execution_count": null
    },
    {
      "cell_type": "markdown",
      "source": [
        "* Survived has a positive correlation with Fare, but its a weak one.\n",
        "* Survived has a negative correlation with Pclass\n",
        "* PClass has a negative correlation with Fare and Age."
      ],
      "metadata": {
        "id": "H6G-kFdWxs9b"
      }
    },
    {
      "cell_type": "code",
      "source": [
        "# Survived vs Male/Female\n",
        "\n",
        "sns.countplot(data=df, x=\"Survived\", hue=\"Sex\")\n",
        "plt.show()"
      ],
      "metadata": {
        "trusted": true,
        "execution": {
          "iopub.status.busy": "2025-10-26T03:28:56.554176Z",
          "iopub.execute_input": "2025-10-26T03:28:56.554544Z",
          "iopub.status.idle": "2025-10-26T03:28:57.068282Z",
          "shell.execute_reply.started": "2025-10-26T03:28:56.554519Z",
          "shell.execute_reply": "2025-10-26T03:28:57.067314Z"
        },
        "id": "1M9E-m6fxs9b"
      },
      "outputs": [],
      "execution_count": null
    },
    {
      "cell_type": "markdown",
      "source": [
        "* Female passengers are survived more compared to male.\n",
        "* Gender is an important factor to consider for modeling."
      ],
      "metadata": {
        "id": "w6YDBlsRxs9b"
      }
    },
    {
      "cell_type": "code",
      "source": [
        "# Survived vs PClass\n",
        "\n",
        "sns.countplot(data=df, x=\"Survived\", hue=\"Pclass\")\n",
        "plt.show()"
      ],
      "metadata": {
        "trusted": true,
        "execution": {
          "iopub.status.busy": "2025-10-26T03:29:01.034136Z",
          "iopub.execute_input": "2025-10-26T03:29:01.034452Z",
          "iopub.status.idle": "2025-10-26T03:29:01.188918Z",
          "shell.execute_reply.started": "2025-10-26T03:29:01.034429Z",
          "shell.execute_reply": "2025-10-26T03:29:01.187939Z"
        },
        "id": "QvLaq8MYxs9i"
      },
      "outputs": [],
      "execution_count": null
    },
    {
      "cell_type": "markdown",
      "source": [
        "* Class 1 Passengers survived the most, while Class 2 are lowest survived.\n",
        "* Significant number of Class 3 passengers didn't survive.\n",
        "* Pclass might be an important factor for modeling."
      ],
      "metadata": {
        "id": "u1pqxMF4xs9i"
      }
    },
    {
      "cell_type": "code",
      "source": [
        "# Survivied vs Cabin\n",
        "\n",
        "sns.countplot(data=df, x='Survived', hue='Cabin')\n",
        "plt.show()"
      ],
      "metadata": {
        "trusted": true,
        "execution": {
          "iopub.status.busy": "2025-10-26T03:26:20.481481Z",
          "iopub.execute_input": "2025-10-26T03:26:20.481824Z",
          "iopub.status.idle": "2025-10-26T03:26:22.242507Z",
          "shell.execute_reply.started": "2025-10-26T03:26:20.481797Z",
          "shell.execute_reply": "2025-10-26T03:26:22.241458Z"
        },
        "id": "L4wNyQdXxs9j"
      },
      "outputs": [],
      "execution_count": null
    },
    {
      "cell_type": "markdown",
      "source": [
        "* There are too many cabins to derive any insight."
      ],
      "metadata": {
        "id": "7iaYr8UGxs9j"
      }
    },
    {
      "cell_type": "code",
      "source": [
        "# Survivied vs Age\n",
        "\n",
        "sns.scatterplot(data=df, y='Survived', x='Age')\n",
        "plt.show()"
      ],
      "metadata": {
        "trusted": true,
        "execution": {
          "iopub.status.busy": "2025-10-26T03:29:09.390439Z",
          "iopub.execute_input": "2025-10-26T03:29:09.390843Z",
          "iopub.status.idle": "2025-10-26T03:29:09.558674Z",
          "shell.execute_reply.started": "2025-10-26T03:29:09.390818Z",
          "shell.execute_reply": "2025-10-26T03:29:09.557647Z"
        },
        "id": "c92K0aNHxs9k"
      },
      "outputs": [],
      "execution_count": null
    },
    {
      "cell_type": "markdown",
      "source": [
        "* No particular pattern exists between Age and Survived passengers."
      ],
      "metadata": {
        "id": "K8MyhXpwxs9k"
      }
    },
    {
      "cell_type": "code",
      "source": [
        "# Survived vs Embarked\n",
        "\n",
        "print(\"Passengers by Port of Embarkation\")\n",
        "print(round(df.groupby('Embarked')['PassengerId'].count()*100/df.shape[0],2))\n",
        "\n",
        "\n",
        "print(\"Survived by Port of Embarkation\")\n",
        "print(round(df.groupby('Embarked')['Survived'].value_counts(normalize=True)*100,2))\n",
        "\n",
        "sns.countplot(data=df, x=\"Survived\", hue=\"Embarked\")\n",
        "plt.show()"
      ],
      "metadata": {
        "trusted": true,
        "execution": {
          "iopub.status.busy": "2025-10-26T03:29:14.095843Z",
          "iopub.execute_input": "2025-10-26T03:29:14.09617Z",
          "iopub.status.idle": "2025-10-26T03:29:14.271106Z",
          "shell.execute_reply.started": "2025-10-26T03:29:14.096146Z",
          "shell.execute_reply": "2025-10-26T03:29:14.270058Z"
        },
        "id": "nnfSCqFlxs9k"
      },
      "outputs": [],
      "execution_count": null
    },
    {
      "cell_type": "markdown",
      "source": [
        "* 72% of the passengers embarked Titanic ship from Southampton port, and a significant number of those did not survive. Only 33% of passengers survived.\n",
        "* Passengers from the Port of Cherbourg survived the most, with 55% of them surviving.\n",
        "* 38% passengers who embarked at Port of Queenstown survived.\n"
      ],
      "metadata": {
        "id": "Gie6ROXzxs9l"
      }
    },
    {
      "cell_type": "code",
      "source": [
        "# Paitplot of numeric variables\n",
        "sns.pairplot(data=df[numeric_features])\n",
        "plt.show()"
      ],
      "metadata": {
        "trusted": true,
        "execution": {
          "iopub.status.busy": "2025-10-26T03:29:30.89618Z",
          "iopub.execute_input": "2025-10-26T03:29:30.897598Z",
          "iopub.status.idle": "2025-10-26T03:29:42.798084Z",
          "shell.execute_reply.started": "2025-10-26T03:29:30.897542Z",
          "shell.execute_reply": "2025-10-26T03:29:42.796945Z"
        },
        "id": "3D0jZXNuxs9l"
      },
      "outputs": [],
      "execution_count": null
    },
    {
      "cell_type": "markdown",
      "source": [
        "**Observations**\n",
        "\n",
        "* There is a correlation between the Sex, Pclass, Port of Embarkation and Survived features."
      ],
      "metadata": {
        "id": "OQOeUMCkxs9l"
      }
    },
    {
      "cell_type": "markdown",
      "source": [
        "# **Data Preparation for Modeling**"
      ],
      "metadata": {
        "id": "OM5KvL-Txs9l"
      }
    },
    {
      "cell_type": "code",
      "source": [
        "df.info()"
      ],
      "metadata": {
        "trusted": true,
        "execution": {
          "iopub.status.busy": "2025-10-26T04:01:19.509735Z",
          "iopub.execute_input": "2025-10-26T04:01:19.510067Z",
          "iopub.status.idle": "2025-10-26T04:01:19.521887Z",
          "shell.execute_reply.started": "2025-10-26T04:01:19.510043Z",
          "shell.execute_reply": "2025-10-26T04:01:19.521046Z"
        },
        "id": "bB0B_LQrxs9m"
      },
      "outputs": [],
      "execution_count": null
    },
    {
      "cell_type": "code",
      "source": [
        "# Check the missing Embarked records.\n",
        "\n",
        "df[df['Embarked'].isna()]"
      ],
      "metadata": {
        "trusted": true,
        "execution": {
          "iopub.status.busy": "2025-10-26T04:01:24.823379Z",
          "iopub.execute_input": "2025-10-26T04:01:24.823707Z",
          "iopub.status.idle": "2025-10-26T04:01:24.837495Z",
          "shell.execute_reply.started": "2025-10-26T04:01:24.823684Z",
          "shell.execute_reply": "2025-10-26T04:01:24.836184Z"
        },
        "id": "rUEVeiBDxs9m"
      },
      "outputs": [],
      "execution_count": null
    },
    {
      "cell_type": "code",
      "source": [
        "# Are there any other passengers in the Cabin B28 or with Ticket 113572\n",
        "\n",
        "df[(df['Cabin'] == 'B28') | (df['Ticket'] == '113572')]\n"
      ],
      "metadata": {
        "trusted": true,
        "execution": {
          "iopub.status.busy": "2025-10-26T04:01:29.391325Z",
          "iopub.execute_input": "2025-10-26T04:01:29.391659Z",
          "iopub.status.idle": "2025-10-26T04:01:29.406894Z",
          "shell.execute_reply.started": "2025-10-26T04:01:29.39163Z",
          "shell.execute_reply": "2025-10-26T04:01:29.405828Z"
        },
        "id": "JUpE6Ss9xs9m"
      },
      "outputs": [],
      "execution_count": null
    },
    {
      "cell_type": "markdown",
      "source": [
        "* Since these 2 passengers are survivied, removing them from data could result in loosing important information.\n",
        "* Instead, I will impute them with the mode of the Cabin"
      ],
      "metadata": {
        "id": "GLVOOFDOxs9m"
      }
    },
    {
      "cell_type": "code",
      "source": [
        "print(df['Embarked'].mode()[0])\n",
        "df['Embarked'].fillna(df['Embarked'].mode()[0], inplace=True)\n",
        "df[df['Embarked'].isna()]\n"
      ],
      "metadata": {
        "trusted": true,
        "execution": {
          "iopub.status.busy": "2025-10-26T04:01:38.893178Z",
          "iopub.execute_input": "2025-10-26T04:01:38.8935Z",
          "iopub.status.idle": "2025-10-26T04:01:38.905882Z",
          "shell.execute_reply.started": "2025-10-26T04:01:38.893474Z",
          "shell.execute_reply": "2025-10-26T04:01:38.904973Z"
        },
        "id": "Ssocp6hUxs9n"
      },
      "outputs": [],
      "execution_count": null
    },
    {
      "cell_type": "code",
      "source": [
        "# Check for missing values.\n",
        "df.isna().sum()"
      ],
      "metadata": {
        "trusted": true,
        "execution": {
          "iopub.status.busy": "2025-10-26T04:01:41.059388Z",
          "iopub.execute_input": "2025-10-26T04:01:41.059732Z",
          "iopub.status.idle": "2025-10-26T04:01:41.067399Z",
          "shell.execute_reply.started": "2025-10-26T04:01:41.059705Z",
          "shell.execute_reply": "2025-10-26T04:01:41.066473Z"
        },
        "id": "6zeApYirxs9n"
      },
      "outputs": [],
      "execution_count": null
    },
    {
      "cell_type": "markdown",
      "source": [
        "* Age and Cabin have significant missing data, but they seem to have no effect on the Survival, so ignoring those missing values for now."
      ],
      "metadata": {
        "id": "s9wyqksuxs9n"
      }
    },
    {
      "cell_type": "code",
      "source": [
        "y_train = df['Survived']\n",
        "X_train = df.drop('Survived', axis=1)"
      ],
      "metadata": {
        "trusted": true,
        "execution": {
          "iopub.status.busy": "2025-10-26T04:01:51.456614Z",
          "iopub.execute_input": "2025-10-26T04:01:51.456962Z",
          "iopub.status.idle": "2025-10-26T04:01:51.462631Z",
          "shell.execute_reply.started": "2025-10-26T04:01:51.456935Z",
          "shell.execute_reply": "2025-10-26T04:01:51.461654Z"
        },
        "id": "kRFkCmyRxs9n"
      },
      "outputs": [],
      "execution_count": null
    },
    {
      "cell_type": "code",
      "source": [
        "# Dropping some of the input features that do not affect the Survival.\n",
        "\n",
        "#X_train.drop('PassengerId', axis=1, inplace=True)\n",
        "X_train.drop('Name', axis=1, inplace=True)\n",
        "X_train.drop('Age', axis=1, inplace=True)\n",
        "X_train.drop('Cabin', axis=1, inplace=True)\n",
        "X_train.drop('Ticket', axis=1, inplace=True)\n",
        "\n",
        "\n"
      ],
      "metadata": {
        "trusted": true,
        "execution": {
          "iopub.status.busy": "2025-10-26T04:02:07.315203Z",
          "iopub.execute_input": "2025-10-26T04:02:07.315549Z",
          "iopub.status.idle": "2025-10-26T04:02:07.324128Z",
          "shell.execute_reply.started": "2025-10-26T04:02:07.315524Z",
          "shell.execute_reply": "2025-10-26T04:02:07.323165Z"
        },
        "id": "gSuu849hxs9o"
      },
      "outputs": [],
      "execution_count": null
    },
    {
      "cell_type": "code",
      "source": [
        "# Convert the categorical variables into numeric values.\n",
        "\n",
        "X_train = pd.get_dummies(data=X_train, columns=['Sex', 'Embarked'], dtype=float, drop_first=True)\n"
      ],
      "metadata": {
        "trusted": true,
        "execution": {
          "iopub.status.busy": "2025-10-26T04:02:17.072668Z",
          "iopub.execute_input": "2025-10-26T04:02:17.073031Z",
          "iopub.status.idle": "2025-10-26T04:02:17.082877Z",
          "shell.execute_reply.started": "2025-10-26T04:02:17.073006Z",
          "shell.execute_reply": "2025-10-26T04:02:17.081907Z"
        },
        "id": "HH2NW02Ixs9o"
      },
      "outputs": [],
      "execution_count": null
    },
    {
      "cell_type": "code",
      "source": [
        "X_train.info()"
      ],
      "metadata": {
        "trusted": true,
        "execution": {
          "iopub.status.busy": "2025-10-26T04:02:19.07123Z",
          "iopub.execute_input": "2025-10-26T04:02:19.071574Z",
          "iopub.status.idle": "2025-10-26T04:02:19.082635Z",
          "shell.execute_reply.started": "2025-10-26T04:02:19.07155Z",
          "shell.execute_reply": "2025-10-26T04:02:19.081521Z"
        },
        "id": "uebUyLTbxs9o"
      },
      "outputs": [],
      "execution_count": null
    },
    {
      "cell_type": "markdown",
      "source": [
        "# **Model Building**"
      ],
      "metadata": {
        "id": "S78NGLqkxs9p"
      }
    },
    {
      "cell_type": "code",
      "source": [
        "# Model build using DecisionTreeClassifier and GridSearchCV Hyperparameter tuning.\n",
        "\n",
        "# Instantiate the DecisionTreeClassifier model.\n",
        "dtree = DecisionTreeClassifier(random_state=42)\n",
        "\n",
        "# Define the hyper parameters\n",
        "param_grid = {\n",
        "    \"max_depth\": np.arange(2,11,2),\n",
        "    \"max_leaf_nodes\": np.arange(10,51,10),\n",
        "    \"min_samples_split\" : np.arange(10,51,10)\n",
        "}\n",
        "\n",
        "grid_search = GridSearchCV(\n",
        "    estimator=dtree,\n",
        "    param_grid=param_grid,\n",
        "    cv=5,\n",
        "    scoring='accuracy'\n",
        ")\n",
        "\n",
        "# Fit the training data.\n",
        "grid_search.fit(X_train, y_train)\n",
        "\n",
        "# Best fit model\n",
        "best_dtree_model = grid_search.best_estimator_\n",
        "\n",
        "# Compute the accuracy scores on training data.\n",
        "training_score = accuracy_score(y_train, best_dtree_model.predict(X_train))\n",
        "print(\"Accuracy score with best parameters = {:.2f}\".format(training_score))"
      ],
      "metadata": {
        "trusted": true,
        "execution": {
          "iopub.status.busy": "2025-10-26T04:02:29.099804Z",
          "iopub.execute_input": "2025-10-26T04:02:29.100174Z",
          "iopub.status.idle": "2025-10-26T04:02:32.420694Z",
          "shell.execute_reply.started": "2025-10-26T04:02:29.100148Z",
          "shell.execute_reply": "2025-10-26T04:02:32.419824Z"
        },
        "id": "f0_MCRMLxs9p"
      },
      "outputs": [],
      "execution_count": null
    },
    {
      "cell_type": "code",
      "source": [
        "# Check the accuracy score on test data\n",
        "# Prepare the test data for modeling.\n",
        "X_test = test_data.copy()\n",
        "\n",
        "#X_train.drop('PassengerId', axis=1, inplace=True)\n",
        "X_test.drop('Name', axis=1, inplace=True)\n",
        "X_test.drop('Age', axis=1, inplace=True)\n",
        "X_test.drop('Cabin', axis=1, inplace=True)\n",
        "X_test.drop('Ticket', axis=1, inplace=True)\n"
      ],
      "metadata": {
        "trusted": true,
        "execution": {
          "iopub.status.busy": "2025-10-26T04:09:03.900709Z",
          "iopub.execute_input": "2025-10-26T04:09:03.901089Z",
          "iopub.status.idle": "2025-10-26T04:09:03.910741Z",
          "shell.execute_reply.started": "2025-10-26T04:09:03.901064Z",
          "shell.execute_reply": "2025-10-26T04:09:03.909507Z"
        },
        "id": "2-lkLn60xs9p"
      },
      "outputs": [],
      "execution_count": null
    },
    {
      "cell_type": "code",
      "source": [
        "print(X_test['Embarked'].mode()[0])\n",
        "X_test['Embarked'].fillna(X_test['Embarked'].mode()[0], inplace=True)\n",
        "X_test[X_test['Embarked'].isna()]"
      ],
      "metadata": {
        "trusted": true,
        "execution": {
          "iopub.status.busy": "2025-10-26T04:09:35.808704Z",
          "iopub.execute_input": "2025-10-26T04:09:35.809051Z",
          "iopub.status.idle": "2025-10-26T04:09:35.82037Z",
          "shell.execute_reply.started": "2025-10-26T04:09:35.809025Z",
          "shell.execute_reply": "2025-10-26T04:09:35.819352Z"
        },
        "id": "GWxaeO12xs9p"
      },
      "outputs": [],
      "execution_count": null
    },
    {
      "cell_type": "code",
      "source": [
        "X_test = pd.get_dummies(\n",
        "    data=X_test,\n",
        "    columns=['Sex', 'Embarked'],\n",
        "    dtype=float,\n",
        "    drop_first=True\n",
        ")"
      ],
      "metadata": {
        "trusted": true,
        "execution": {
          "iopub.status.busy": "2025-10-26T04:09:42.091606Z",
          "iopub.execute_input": "2025-10-26T04:09:42.091947Z",
          "iopub.status.idle": "2025-10-26T04:09:42.101814Z",
          "shell.execute_reply.started": "2025-10-26T04:09:42.091921Z",
          "shell.execute_reply": "2025-10-26T04:09:42.100798Z"
        },
        "id": "6Hf1U9f_xs9q"
      },
      "outputs": [],
      "execution_count": null
    },
    {
      "cell_type": "code",
      "source": [
        "# Populate the missing Fare value with its mean.\n",
        "\n",
        "print(X_test['Fare'].mean())\n",
        "X_test['Fare'].fillna(X_test['Fare'].mean(), inplace=True)\n",
        "X_test[X_test['Fare'].isna()]"
      ],
      "metadata": {
        "trusted": true,
        "execution": {
          "iopub.status.busy": "2025-10-26T04:11:38.892229Z",
          "iopub.execute_input": "2025-10-26T04:11:38.892937Z",
          "iopub.status.idle": "2025-10-26T04:11:38.903524Z",
          "shell.execute_reply.started": "2025-10-26T04:11:38.892908Z",
          "shell.execute_reply": "2025-10-26T04:11:38.902791Z"
        },
        "id": "uxcc7xvgxs9q"
      },
      "outputs": [],
      "execution_count": null
    },
    {
      "cell_type": "code",
      "source": [
        "X_test.info()"
      ],
      "metadata": {
        "trusted": true,
        "execution": {
          "iopub.status.busy": "2025-10-26T04:11:45.372123Z",
          "iopub.execute_input": "2025-10-26T04:11:45.372445Z",
          "iopub.status.idle": "2025-10-26T04:11:45.382898Z",
          "shell.execute_reply.started": "2025-10-26T04:11:45.372424Z",
          "shell.execute_reply": "2025-10-26T04:11:45.381693Z"
        },
        "id": "6QQpy1Ppxs9q"
      },
      "outputs": [],
      "execution_count": null
    },
    {
      "cell_type": "code",
      "source": [
        "# Check for missing values in test data\n",
        "X_test.isna().sum()"
      ],
      "metadata": {
        "trusted": true,
        "execution": {
          "iopub.status.busy": "2025-10-26T04:11:52.322514Z",
          "iopub.execute_input": "2025-10-26T04:11:52.322878Z",
          "iopub.status.idle": "2025-10-26T04:11:52.330728Z",
          "shell.execute_reply.started": "2025-10-26T04:11:52.322855Z",
          "shell.execute_reply": "2025-10-26T04:11:52.329772Z"
        },
        "id": "_dy5Ewcpxs9r"
      },
      "outputs": [],
      "execution_count": null
    },
    {
      "cell_type": "code",
      "source": [
        "# Predict the Survival on test data.\n",
        "\n",
        "y_test = best_dtree_model.predict(X_test)"
      ],
      "metadata": {
        "trusted": true,
        "execution": {
          "iopub.status.busy": "2025-10-26T04:11:56.979205Z",
          "iopub.execute_input": "2025-10-26T04:11:56.979564Z",
          "iopub.status.idle": "2025-10-26T04:11:56.986359Z",
          "shell.execute_reply.started": "2025-10-26T04:11:56.979541Z",
          "shell.execute_reply": "2025-10-26T04:11:56.985449Z"
        },
        "id": "ftDUmveBxs9r"
      },
      "outputs": [],
      "execution_count": null
    },
    {
      "cell_type": "code",
      "source": [
        "# Create output file for submission.\n",
        "\n",
        "output_dict = {\n",
        "    \"PassengerId\" : X_test[\"PassengerId\"],\n",
        "    \"Survived\" : y_test\n",
        "}\n",
        "\n",
        "output_df = pd.DataFrame(output_dict)\n",
        "output_df[1:10]\n",
        "\n"
      ],
      "metadata": {
        "trusted": true,
        "execution": {
          "iopub.status.busy": "2025-10-26T04:20:46.896702Z",
          "iopub.execute_input": "2025-10-26T04:20:46.897011Z",
          "iopub.status.idle": "2025-10-26T04:20:46.906435Z",
          "shell.execute_reply.started": "2025-10-26T04:20:46.896989Z",
          "shell.execute_reply": "2025-10-26T04:20:46.905661Z"
        },
        "id": "nYWrrbLqxs9r"
      },
      "outputs": [],
      "execution_count": null
    },
    {
      "cell_type": "code",
      "source": [
        "# Generate the submission file\n",
        "output_df.to_csv(\"submission.csv\", index=False)"
      ],
      "metadata": {
        "trusted": true,
        "id": "qMoZ_Ykyxs9r"
      },
      "outputs": [],
      "execution_count": null
    }
  ]
}